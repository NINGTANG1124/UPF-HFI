{
  "nbformat": 4,
  "nbformat_minor": 0,
  "metadata": {
    "colab": {
      "provenance": [],
      "authorship_tag": "ABX9TyOEs83mb0nb0p4AvaMkCWG1",
      "include_colab_link": true
    },
    "kernelspec": {
      "name": "python3",
      "display_name": "Python 3"
    },
    "language_info": {
      "name": "python"
    }
  },
  "cells": [
    {
      "cell_type": "markdown",
      "metadata": {
        "id": "view-in-github",
        "colab_type": "text"
      },
      "source": [
        "<a href=\"https://colab.research.google.com/github/NINGTANG1124/UPF-HFI/blob/main/Untitled17.ipynb\" target=\"_parent\"><img src=\"https://colab.research.google.com/assets/colab-badge.svg\" alt=\"Open In Colab\"/></a>"
      ]
    },
    {
      "cell_type": "code",
      "source": [
        "from google.colab import drive\n",
        "drive.mount('/content/drive')"
      ],
      "metadata": {
        "colab": {
          "base_uri": "https://localhost:8080/"
        },
        "id": "bSC4IlFMj62B",
        "outputId": "e87380ad-75c9-4991-9040-496c6b125443"
      },
      "execution_count": 1,
      "outputs": [
        {
          "output_type": "stream",
          "name": "stdout",
          "text": [
            "Drive already mounted at /content/drive; to attempt to forcibly remount, call drive.mount(\"/content/drive\", force_remount=True).\n"
          ]
        }
      ]
    },
    {
      "cell_type": "code",
      "execution_count": 2,
      "metadata": {
        "id": "2U2VyYRnj04h"
      },
      "outputs": [],
      "source": [
        "# Read intake data (including Descriptionen and FoodGroupen)\n",
        "import pandas as pd\n",
        "import re\n",
        "\n",
        "file_path = \"/content/drive/MyDrive/UPF-HFI/Bradford_original data/1. Dietmasterfile_foodlevel_clean.xls\"\n",
        "intake_df = pd.read_excel(file_path)\n",
        "\n",
        "# Define text cleaning function\n",
        "def clean_text(col):\n",
        "    return col.astype(str).str.lower().str.strip().str.replace(r\"\\s+\", \" \", regex=True)\n",
        "\n",
        "# Apply to key fields\n",
        "intake_df[\"Foodgroupen_clean\"] = clean_text(intake_df[\"Foodgroupen\"])\n",
        "intake_df[\"Descriptionen_clean\"] = clean_text(intake_df[\"Descriptionen\"])\n"
      ]
    },
    {
      "cell_type": "code",
      "source": [
        "# 设置 att3 文件路径\n",
        "att3_path = \"/content/drive/MyDrive/UPF-HFI/nova matching files/att3-excel.xlsx\"\n",
        "\n",
        "# 读取 att3 文件\n",
        "att3 = pd.read_excel(att3_path)\n",
        "\n",
        "# 清洗 Subsidiary food group name 列\n",
        "att3[\"desc_clean\"] = att3[\"Subsidiary food group name\"]\\\n",
        "    .astype(str).str.lower().str.strip().str.replace(r\"\\s+\", \" \", regex=True)\n",
        "\n",
        "# 筛选出非 \"*\" 的匹配项\n",
        "att3_no_star = att3[att3[\"NOVA food group\"] != \"*\"].copy()\n"
      ],
      "metadata": {
        "id": "FV5KfW34qT9M"
      },
      "execution_count": 3,
      "outputs": []
    },
    {
      "cell_type": "markdown",
      "source": [
        "# Matching"
      ],
      "metadata": {
        "id": "xWbDm9OtrksL"
      }
    },
    {
      "cell_type": "markdown",
      "source": [
        "## NDNS 1-8"
      ],
      "metadata": {
        "id": "RGlZWGB7roTg"
      }
    },
    {
      "cell_type": "code",
      "source": [
        "# 合并匹配\n",
        "merged = intake_df.merge(\n",
        "    att3_no_star[[\"desc_clean\", \"NOVA food group\", \"Subsidiary food group name\"]],\n",
        "    how=\"left\",\n",
        "    left_on=\"Foodgroupen_clean\",\n",
        "    right_on=\"desc_clean\"\n",
        ")\n",
        "\n",
        "# 添加新列\n",
        "merged[\"NOVA_step1\"] = merged[\"NOVA food group\"]\n",
        "merged[\"match_reason\"] = merged[\"NOVA_step1\"].apply(lambda x: \"att3_group_match\" if pd.notna(x) else None)\n",
        "merged[\"matched_att3_group\"] = merged[\"Subsidiary food group name\"]\n"
      ],
      "metadata": {
        "id": "qJg_aTWnrj4G"
      },
      "execution_count": 4,
      "outputs": []
    },
    {
      "cell_type": "code",
      "source": [
        "# 保留关键字段用于输出\n",
        "output_step1 = merged[\n",
        "    [\"Descriptionen\", \"Foodgroupen\", \"Descriptionen_clean\", \"Foodgroupen_clean\",\n",
        "     \"NOVA_step1\", \"match_reason\", \"matched_att3_group\"]\n",
        "]\n",
        "\n",
        "# 保存到 Excel（或 CSV 也可以）\n",
        "output_step1.to_excel(\"/content/drive/MyDrive/UPF-HFI/0723 outcome/step1_match.xlsx\", index=False)\n"
      ],
      "metadata": {
        "id": "ZTxK39dIs46U"
      },
      "execution_count": 5,
      "outputs": []
    },
    {
      "cell_type": "code",
      "source": [
        "matched_count = merged[\"NOVA_step1\"].notna().sum()\n",
        "total_count = len(merged)\n",
        "match_rate = matched_count / total_count\n",
        "\n",
        "print(f\"Step 1 匹配成功数量：{matched_count}\")\n",
        "print(f\"总样本数量：{total_count}\")\n",
        "print(f\"匹配率：{match_rate:.2%}\")\n"
      ],
      "metadata": {
        "colab": {
          "base_uri": "https://localhost:8080/"
        },
        "id": "qGQNSDT1tcQx",
        "outputId": "2d7bbb6b-28ac-482f-ec06-7cac8d9f2c74"
      },
      "execution_count": 6,
      "outputs": [
        {
          "output_type": "stream",
          "name": "stdout",
          "text": [
            "Step 1 匹配成功数量：411\n",
            "总样本数量：22217\n",
            "匹配率：1.85%\n"
          ]
        }
      ]
    },
    {
      "cell_type": "code",
      "source": [
        "# 导出匹配成功的部分（方便人工检查）\n",
        "matched_only = merged[merged[\"NOVA_step1\"].notna()].copy()\n",
        "\n",
        "# 保存匹配成功部分到单独文件\n",
        "matched_only.to_excel(\"/content/drive/MyDrive/UPF-HFI/0723 outcome/step1_matched_only.xlsx\", index=False)\n"
      ],
      "metadata": {
        "id": "akc8s_C3uf6g"
      },
      "execution_count": 7,
      "outputs": []
    },
    {
      "cell_type": "code",
      "source": [
        "print(intake_df.columns.tolist())\n"
      ],
      "metadata": {
        "colab": {
          "base_uri": "https://localhost:8080/"
        },
        "id": "p-FaszOpHuJg",
        "outputId": "d9215c76-3a18-48f5-f8ed-0ebc673a3f03"
      },
      "execution_count": 37,
      "outputs": [
        {
          "output_type": "stream",
          "name": "stdout",
          "text": [
            "['SurveyID', 'UserID', 'Source', 'Starttime', 'Submissiontime', 'Timetocomplete', 'Cookingoilused', 'Diet', 'Foodamount', 'Reasonforunusualfoodamount', 'Proxy', 'ProxyIssues', 'MealIndex', 'MealID', 'Mealname', 'Mealtime', 'Foodsource', 'FoodIndex', 'Searchterm', 'FoodID', 'Intake24foodcode', 'Descriptionen', 'Descriptionlocal', 'Nutrienttablename', 'Nutrienttablecode', 'Foodgroupcode', 'Foodgroupen', 'Foodgrouplocal', 'Readymeal', 'Brand', 'Asservedweightfactor', 'Servingsizegml', 'Servingimage', 'Leftoversgml', 'Leftoversimage', 'Portionsizegml', 'Reasonableamount', 'MissingfoodID', 'Missingfooddescription', 'Missingfoodportionsize', 'Missingfoodleftovers', 'Subgroupcode', 'Water', 'Totalnitrogen', 'Nitrogenconversionfactor', 'Protein', 'Fat', 'Carbohydrate', 'Energykcal', 'EnergykJ', 'Alcohol', 'Englystfibre', 'Starch', 'Totalsugars', 'AOAC', 'Nonmilkextrinsicsugars', 'Intrinsicandmilksugars', 'Glucose', 'Fructose', 'Maltose', 'Lactose', 'Sucrose', 'OthersugarsUK', 'FSTablesugar', 'FSOtherAddedSugar', 'FSHoney', 'FSFruitJuice', 'FSDriedFruit', 'FSFruitPuree', 'FSStewedFruit', 'FSVegetablePuree', 'SatdFA', 'CisMonFA', 'Cisn3FA', 'Cisn6FA', 'TransFA', 'Cholesterol', 'Retinol', 'Totalcarotene', 'Alphacarotene', 'Betacarotene', 'Betacryptoxanthin', 'VitaminA', 'VitaminD', 'Thiamin', 'Riboflavin', 'Niacin', 'Tryptophan60', 'Niacinequivalent', 'VitaminC', 'VitaminE', 'VitaminB6', 'VitaminB12', 'Folate', 'Pantothenicacid', 'Biotin', 'Sodium', 'Potassium', 'Calcium', 'Magnesium', 'Phosphorus', 'Iron', 'Haemiron', 'Nonhaemiron', 'Copper', 'Zinc', 'Chloride', 'Iodine', 'Manganese', 'Selenium', 'TotalFS', 'Fruit', 'Driedfruit', 'Fruitjuice', 'Smoothiefruit', 'Tomatoes', 'Tomatopuree', 'Brassicaceae', 'YellowRedGreen', 'Beans', 'Nuts', 'OtherVegetables', 'Beef', 'Lamb', 'Pork', 'ProcessedRedMeat', 'OtherRedMeat', 'Burgers', 'Sausages', 'Offal', 'Poultry', 'ProcessedPoultry', 'GameBirds', 'WhiteFish', 'OilyFish', 'CannedTuna', 'Shellfish', 'CottageCheese', 'CheddarCheese', 'OtherCheese', 'NEWFoodGroupCode', 'DUPLICATE', 'ORPHAN', 'MISSING', 'OTHER', 'ADDITION_1', 'ADDITION_2', 'DAYCHANGE', 'DISCONTINUED', 'Checkedinitials', 'IDENTIFIERB2N2S2T2', 'Date', 'DAY', 'Original_Edited', 'AdditionReplacement', 'ModificationReason', 'ModificationDecisionTree', 'Researcher_Intake24', 'Modification_Identification', 'discontinued', 'NDNS_Checks', 'UserID_specific', 'Day', 'weekday', 'ratio', 'UserID_clean', 'Foodgroupen_clean', 'Descriptionen_clean', 'NOVA_step2', 'match_reason_step2']\n"
          ]
        }
      ]
    },
    {
      "cell_type": "markdown",
      "source": [
        "## Media keyword"
      ],
      "metadata": {
        "id": "TiZjG9n6vRSn"
      }
    },
    {
      "cell_type": "code",
      "source": [
        "import pandas as pd\n",
        "\n",
        "# 构建规则表（仅包含来自 media 的示例）\n",
        "nova_example_rules_strict = [\n",
        "\n",
        "    # --- NOVA 1: Minimally Processed Foods ---\n",
        "    {\"keyword\": \"fresh apple\", \"nova\": 1, \"reason\": \"MPF: fresh fruit\"},\n",
        "    {\"keyword\": \"dried apple\", \"nova\": 1, \"reason\": \"MPF: dried fruit\"},\n",
        "    {\"keyword\": \"banana\",\"apple\",\"\" \"nova\": 1, \"reason\": \"MPF: fresh fruit\"},\n",
        "    {\"keyword\": \"frozen peas\", \"nova\": 1, \"reason\": \"MPF: frozen vegetable\"},\n",
        "    {\"keyword\": \"fresh spinach\", \"nova\": 1, \"reason\": \"MPF: fresh vegetable\"},\n",
        "    {\"keyword\": \"frozen spinach\", \"nova\": 1, \"reason\": \"MPF: frozen vegetable\"},\n",
        "    {\"keyword\": \"boiled potato\", \"nova\": 1, \"reason\": \"MPF: boiled vegetable\"},\n",
        "    {\"keyword\": \"milk\", \"nova\": 1, \"reason\": \"MPF: milk\"},\n",
        "    {\"keyword\": \"plain yoghurt\", \"nova\": 1, \"reason\": \"MPF: plain yoghurt\"},\n",
        "    {\"keyword\": \"tea\", \"nova\": 1, \"reason\": \"MPF: tea\"},\n",
        "    {\"keyword\": \"coffee\", \"nova\": 1, \"reason\": \"MPF: coffee\"},\n",
        "    {\"keyword\": \"water\", \"nova\": 1, \"reason\": \"MPF: water\"},\n",
        "    {\"keyword\": \"fruit juice\", \"nova\": 1, \"reason\": \"MPF: fresh juice\"},\n",
        "    {\"keyword\": \"vegetable juice\", \"nova\": 1, \"reason\": \"MPF: fresh juice\"},\n",
        "    {\"keyword\": \"oat flakes\", \"nova\": 1, \"reason\": \"MPF: cereal grain\"},\n",
        "    {\"keyword\": \"wheat flour\", \"nova\": 1, \"reason\": \"MPF: ground grain\"},\n",
        "    {\"keyword\": \"corn flour\", \"nova\": 1, \"reason\": \"MPF: ground grain\"},\n",
        "    {\"keyword\": \"cassava flour\", \"nova\": 1, \"reason\": \"MPF: ground root\"},\n",
        "    {\"keyword\": \"herbs\", \"nova\": 1, \"reason\": \"MPF: herb\"},\n",
        "    {\"keyword\": \"spices\", \"nova\": 1, \"reason\": \"MPF: spice\"},\n",
        "    {\"keyword\": \"egg\", \"nova\": 1, \"reason\": \"MPF: egg\"},\n",
        "    {\"keyword\": \"fresh chicken\", \"nova\": 1, \"reason\": \"MPF: fresh poultry\"},\n",
        "    {\"keyword\": \"fresh beef\", \"nova\": 1, \"reason\": \"MPF: fresh meat\"},\n",
        "    {\"keyword\": \"fresh fish\", \"nova\": 1, \"reason\": \"MPF: fresh fish\"},\n",
        "    {\"keyword\": \"legumes\", \"nova\": 1, \"reason\": \"MPF: legumes\"},\n",
        "    {\"keyword\": \"uncooked\", \"nova\": 1, \"reason\": \"MPF: raw/uncooked ingredient\"},\n",
        "\n",
        "    # --- NOVA 2: Processed Culinary Ingredients ---\n",
        "    {\"keyword\": \"vegetable oil\", \"nova\": 2, \"reason\": \"PCI: extracted oil\"},\n",
        "    {\"keyword\": \"olive oil\", \"nova\": 2, \"reason\": \"PCI: extracted oil\"},\n",
        "    {\"keyword\": \"sunflower oil\", \"nova\": 2, \"reason\": \"PCI: extracted oil\"},\n",
        "    {\"keyword\": \"butter\", \"nova\": 2, \"reason\": \"PCI: dairy fat\"},\n",
        "    {\"keyword\": \"lard\", \"nova\": 2, \"reason\": \"PCI: animal fat\"},\n",
        "    {\"keyword\": \"sugar\", \"nova\": 2, \"reason\": \"PCI: extracted sugar\"},\n",
        "    {\"keyword\": \"molasses\", \"nova\": 2, \"reason\": \"PCI: extracted sugar\"},\n",
        "    {\"keyword\": \"honey\", \"nova\": 2, \"reason\": \"PCI: natural sugar\"},\n",
        "    {\"keyword\": \"starch\", \"nova\": 2, \"reason\": \"PCI: extracted starch\"},\n",
        "    {\"keyword\": \"salt\", \"nova\": 2, \"reason\": \"PCI: salt\"},\n",
        "\n",
        "    # --- NOVA 3: Processed Foods ---\n",
        "    {\"keyword\": \"canned peas\", \"nova\": 3, \"reason\": \"PF: canned vegetable\"},\n",
        "    {\"keyword\": \"canned beans\", \"nova\": 3, \"reason\": \"PF: canned legumes\"},\n",
        "    {\"keyword\": \"salted peanuts\", \"nova\": 3, \"reason\": \"PF: salted nuts\"},\n",
        "    {\"keyword\": \"salted cashews\", \"nova\": 3, \"reason\": \"PF: salted nuts\"},\n",
        "    {\"keyword\": \"salted sunflower seeds\", \"nova\": 3, \"reason\": \"PF: salted seeds\"},\n",
        "    {\"keyword\": \"smoked salmon\", \"nova\": 3, \"reason\": \"PF: smoked fish\"},\n",
        "    {\"keyword\": \"canned tuna\", \"nova\": 3, \"reason\": \"PF: canned fish\"},\n",
        "    {\"keyword\": \"ham\", \"nova\": 3, \"reason\": \"PF: cured meat\"},\n",
        "    {\"keyword\": \"bacon\", \"nova\": 3, \"reason\": \"PF: cured meat\"},\n",
        "    {\"keyword\": \"cheddar cheese\", \"nova\": 3, \"reason\": \"PF: cheese\"},\n",
        "    {\"keyword\": \"white bread\", \"nova\": 3, \"reason\": \"PF: unpackaged bread\"},\n",
        "    {\"keyword\": \"wholemeal bread\", \"nova\": 3, \"reason\": \"PF: unpackaged bread\"},\n",
        "    {\"keyword\": \"fruit in syrup\", \"nova\": 3, \"reason\": \"PF: sweetened fruit\"},\n",
        "\n",
        "    # --- NOVA 4: Ultra-Processed Foods ---\n",
        "    {\"keyword\": \"instant noodles\", \"nova\": 4, \"reason\": \"UPF: instant noodles\"},\n",
        "    {\"keyword\": \"instant soup\", \"nova\": 4, \"reason\": \"UPF: instant soup\"},\n",
        "    {\"keyword\": \"carbonated drink\", \"nova\": 4, \"reason\": \"UPF: soft drink\"},\n",
        "    {\"keyword\": \"cola\", \"nova\": 4, \"reason\": \"UPF: soft drink\"},\n",
        "    {\"keyword\": \"fruit drink\", \"nova\": 4, \"reason\": \"UPF: fruit flavoured drink\"},\n",
        "    {\"keyword\": \"energy drink\", \"nova\": 4, \"reason\": \"UPF: energy drink\"},\n",
        "    {\"keyword\": \"chocolate\", \"nova\": 4, \"reason\": \"UPF: confectionery\"},\n",
        "    {\"keyword\": \"ice cream\", \"nova\": 4, \"reason\": \"UPF: ice cream\"},\n",
        "    {\"keyword\": \"margarine\", \"nova\": 4, \"reason\": \"UPF: spread\"},\n",
        "    {\"keyword\": \"packaged bread\", \"nova\": 4, \"reason\": \"UPF: mass-produced bread\"},\n",
        "    {\"keyword\": \"burger\", \"nova\": 4, \"reason\": \"UPF: reconstituted meat\"},\n",
        "    {\"keyword\": \"hot dog\", \"nova\": 4, \"reason\": \"UPF: reconstituted meat\"},\n",
        "    {\"keyword\": \"fish fingers\", \"nova\": 4, \"reason\": \"UPF: reconstituted fish\"},\n",
        "    {\"keyword\": \"pizza\", \"nova\": 4, \"reason\": \"UPF: ready to heat\"},\n",
        "    {\"keyword\": \"lasagna\", \"nova\": 4, \"reason\": \"UPF: ready to heat\"},\n",
        "    {\"keyword\": \"breakfast cereal\", \"nova\": 4, \"reason\": \"UPF: breakfast cereal\"},\n",
        "    {\"keyword\": \"cereal bar\", \"nova\": 4, \"reason\": \"UPF: cereal bar\"},\n",
        "    {\"keyword\": \"cake\", \"nova\": 4, \"reason\": \"UPF: packaged cake\"},\n",
        "    {\"keyword\": \"biscuit\", \"nova\": 4, \"reason\": \"UPF: sweet snack\"},\n",
        "    {\"keyword\": \"pastry\", \"nova\": 4, \"reason\": \"UPF: sweet snack\"},\n",
        "    {\"keyword\": \"fruit yoghurt\", \"nova\": 4, \"reason\": \"UPF: flavoured yoghurt\"},\n",
        "    {\"keyword\": \"cocoa drink\", \"nova\": 4, \"reason\": \"UPF: cocoa drink\"},\n",
        "    {\"keyword\": \"meal replacement\", \"nova\": 4, \"reason\": \"UPF: meal substitute\"},\n",
        "    {\"keyword\": \"protein powder\", \"nova\": 4, \"reason\": \"UPF: protein supplement\"},\n",
        "\n",
        "]\n"
      ],
      "metadata": {
        "id": "Gn8YBp2jl8PT"
      },
      "execution_count": 45,
      "outputs": []
    },
    {
      "cell_type": "code",
      "source": [
        "# --- 2. 构建规则 DataFrame ---\n",
        "nova_rules_df = pd.DataFrame(nova_example_rules_strict)\n",
        "\n",
        "# --- 3. 匹配函数（含优先级选择） ---\n",
        "def match_nova_with_conflict_handling(row, nova_rules_df):\n",
        "    matches = []\n",
        "    for _, rule in nova_rules_df.iterrows():\n",
        "        if rule[\"keyword\"] in row[\"Descriptionen_clean\"] or rule[\"keyword\"] in row[\"Foodgroupen_clean\"]:\n",
        "            matches.append(rule)\n",
        "    if not matches:\n",
        "        return pd.Series([None, None])\n",
        "    best_match = sorted(matches, key=lambda x: x[\"nova\"], reverse=True)[0]\n",
        "    return pd.Series([best_match[\"nova\"], best_match[\"reason\"]])\n",
        "\n",
        "# --- 4. 若无 Step1，初始化空列 ---\n",
        "if \"NOVA_step1\" not in intake_df.columns:\n",
        "    intake_df[\"NOVA_step1\"] = None\n",
        "    intake_df[\"match_reason_step1\"] = None\n",
        "\n",
        "# --- 5. Step2 匹配：只对 Step1 没命中的样本 ---\n",
        "step2_target_df = intake_df[intake_df[\"NOVA_step1\"].isna()].copy()\n",
        "step2_target_df[[\"NOVA_step2\", \"match_reason_step2\"]] = step2_target_df.apply(\n",
        "    lambda row: match_nova_with_conflict_handling(row, nova_rules_df),\n",
        "    axis=1\n",
        ")\n",
        "intake_df.update(step2_target_df[[\"NOVA_step2\", \"match_reason_step2\"]])\n",
        "\n",
        "# --- 6. 生成 NOVA_final 结果 ---\n",
        "def select_nova_final(row):\n",
        "    if pd.notna(row[\"NOVA_step1\"]):\n",
        "        return pd.Series([row[\"NOVA_step1\"], row[\"match_reason_step1\"]])\n",
        "    elif pd.notna(row[\"NOVA_step2\"]):\n",
        "        return pd.Series([row[\"NOVA_step2\"], row[\"match_reason_step2\"]])\n",
        "    else:\n",
        "        return pd.Series([None, None])\n",
        "\n",
        "intake_df[[\"NOVA_step2_output\", \"match_reason_step2_output\"]] = intake_df.apply(select_nova_final, axis=1)"
      ],
      "metadata": {
        "id": "yHHxaKosmCi1"
      },
      "execution_count": 41,
      "outputs": []
    },
    {
      "cell_type": "code",
      "source": [
        "# 导出 Step2 匹配结果（只包含关键字段）\n",
        "cols_to_export = [\"Descriptionen\", \"Foodgroupen\", \"Descriptionen_clean\", \"Foodgroupen_clean\", \"NOVA_step2\", \"match_reason_step2\"]\n",
        "intake_df[cols_to_export].to_csv(\"/content/drive/MyDrive/UPF-HFI/0723 outcome/step2_match.csv\", index=False)\n"
      ],
      "metadata": {
        "id": "YsSXYQMYJqvr"
      },
      "execution_count": 44,
      "outputs": []
    },
    {
      "cell_type": "markdown",
      "source": [
        "🧠 那「优先级」到底是什么意思？\n",
        "简单说就是：\n",
        "\n",
        "遇到多个关键词时，先匹配优先级高的。\n",
        "我们人为规定 NOVA 的级别中：\n",
        "\n",
        "NOVA 4（超加工食品）最“激进”最重要，优先级最高\n",
        "其次是 NOVA 3\n",
        "然后是 NOVA 2\n",
        "最后才是 NOVA 1（原型食品）\n",
        "\n",
        "优先级规则会让程序这样判断：\n",
        "看描述里有没有 NOVA 4 的关键词（比如：instant, flakes, chocolate）\n",
        "没有再看有没有 NOVA 3 的关键词（比如：salted, smoked）\n",
        "没有再看 NOVA 2 的关键词（比如：butter, oil）\n",
        "最后才看 NOVA 1 的词（比如：milk, water）"
      ],
      "metadata": {
        "id": "8_vX_hgalyaw"
      }
    },
    {
      "cell_type": "code",
      "source": [
        "# 1. 设置关键词字典（含优先级逻辑）\n",
        "# 第1步：构建关键词字典（含Foodgroup线索）\n",
        "nova_text_keywords = {\n",
        "    4: [  # Ultra-processed 优先级最高\n",
        "        \"soft drinks\", \"packaged snacks\", \"chocolate\", \"confectionery\", \"ice-cream\",\n",
        "        \"mass-produced\", \"biscuits\", \"pastries\", \"cakes\", \"cake mixes\", \"cereal bars\",\n",
        "        \"energy bars\", \"milk drinks\", \"fruit yoghurt\", \"fruit drinks\", \"cocoa drinks\",\n",
        "        \"instant sauces\", \"meal replacement\", \"nuggets\", \"sticks\", \"sausages\",\n",
        "        \"burgers\", \"hot dogs\", \"reconstituted\", \"instant soups\", \"instant noodles\",\n",
        "        \"instant desserts\"\n",
        "    ],\n",
        "    3: [  # Processed\n",
        "        \"canned\", \"bottled\", \"in brine\", \"salted\", \"sugared\", \"dried\", \"cured\",\n",
        "        \"smoked\", \"meats\", \"cheeses\", \"fruits in syrup\", \"unpackaged breads\"\n",
        "    ],\n",
        "    2: [  # Processed culinary ingredients\n",
        "        \"vegetable oils\", \"butter\", \"lard\", \"sugar\", \"molasses\", \"honey\",\n",
        "        \"starches\", \"salt\"\n",
        "    ],\n",
        "    1: [  # Minimally processed\n",
        "        \"fresh\", \"squeezed\", \"chilled\", \"frozen\", \"grains\", \"legumes\",\n",
        "        \"meat\", \"poultry\", \"fish\", \"eggs\", \"milk\", \"fruit juice\", \"vegetable juice\",\n",
        "        \"flakes\", \"flour\", \"corn\", \"wheat\", \"oats\", \"cassava\", \"seeds\", \"herbs\",\n",
        "        \"spices\", \"plain yoghurt\", \"tea\", \"coffee\", \"drinking water\"\n",
        "    ]\n",
        "}\n"
      ],
      "metadata": {
        "id": "TkKOd5HDkcau"
      },
      "execution_count": null,
      "outputs": []
    },
    {
      "cell_type": "code",
      "source": [
        "# 第二步：写初筛函数（关键词+Foodgroup条件判断）\n",
        "import numpy as np\n",
        "\n",
        "def classify_step1_with_group(row):\n",
        "    desc = row[\"Descriptionen_clean\"]\n",
        "    group = row[\"Foodgroupen_clean\"]\n",
        "\n",
        "    for nova in sorted(nova_text_keywords.keys(), reverse=True):  # 从NOVA4优先开始\n",
        "        for kw in nova_text_keywords[nova]:\n",
        "            if kw in desc:\n",
        "                # 举例：特殊条件限制\n",
        "                if kw == \"milk\" and \"milk drinks\" in group:\n",
        "                    return pd.Series([4, f\"text_match: milk + group={group}\"])\n",
        "                if kw == \"fruit yoghurt\" and \"dairy\" in group:\n",
        "                    return pd.Series([4, f\"text_match: fruit yoghurt + dairy group\"])\n",
        "                # 一般匹配\n",
        "                return pd.Series([nova, f\"text_match: {kw}\"])\n",
        "\n",
        "    return pd.Series([np.nan, np.nan])\n"
      ],
      "metadata": {
        "id": "pJuHAw9Aki8p"
      },
      "execution_count": null,
      "outputs": []
    },
    {
      "cell_type": "code",
      "source": [
        "#  第三步：应用匹配函数，生成 Step1 结果\n",
        "intake_df[[\"NOVA_step1\", \"match_reason1\"]] = intake_df.apply(classify_step1_with_group, axis=1)\n"
      ],
      "metadata": {
        "id": "Q0ZtUFS3klzv"
      },
      "execution_count": null,
      "outputs": []
    },
    {
      "cell_type": "code",
      "source": [
        "# 第四步（可选）：导出匹配结果看看效果\n",
        "matched_df = intake_df[intake_df[\"NOVA_step1\"].notna()].copy()\n",
        "\n",
        "output_cols = [\n",
        "    \"Descriptionen\", \"Foodgroupen\", \"NOVA_step1\", \"match_reason1\"\n",
        "]\n",
        "matched_df[output_cols].to_csv(\"/content/drive/MyDrive/UPF-HFI/0723 outcome/NOVA_step1_textmatch.csv\", index=False)\n"
      ],
      "metadata": {
        "id": "DRUFgRxckpAI"
      },
      "execution_count": null,
      "outputs": []
    }
  ]
}