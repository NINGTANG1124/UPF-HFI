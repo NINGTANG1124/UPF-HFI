{
  "nbformat": 4,
  "nbformat_minor": 0,
  "metadata": {
    "colab": {
      "provenance": [],
      "authorship_tag": "ABX9TyNWIV/5owG/5wCOTcg6Offo",
      "include_colab_link": true
    },
    "kernelspec": {
      "name": "python3",
      "display_name": "Python 3"
    },
    "language_info": {
      "name": "python"
    }
  },
  "cells": [
    {
      "cell_type": "markdown",
      "metadata": {
        "id": "view-in-github",
        "colab_type": "text"
      },
      "source": [
        "<a href=\"https://colab.research.google.com/github/NINGTANG1124/UPF-HFI/blob/main/notebooks/HFI.ipynb\" target=\"_parent\"><img src=\"https://colab.research.google.com/assets/colab-badge.svg\" alt=\"Open In Colab\"/></a>"
      ]
    },
    {
      "cell_type": "code",
      "execution_count": 1,
      "metadata": {
        "colab": {
          "base_uri": "https://localhost:8080/"
        },
        "id": "InGXJWSglWuR",
        "outputId": "78c15f21-6298-4022-cf3e-6cf72543a70a"
      },
      "outputs": [
        {
          "output_type": "stream",
          "name": "stdout",
          "text": [
            "Mounted at /content/drive\n"
          ]
        }
      ],
      "source": [
        "# connect to googledrive\n",
        "from google.colab import drive\n",
        "drive.mount('/content/drive')"
      ]
    },
    {
      "cell_type": "code",
      "source": [
        "import pandas as pd\n",
        "\n",
        "# survey data\n",
        "survey_path = \"/content/drive/MyDrive/UPF-HFI/Bradford_original data/4. SurveyMasterfile_clean.xlsx\"\n",
        "df = pd.read_excel(survey_path)"
      ],
      "metadata": {
        "id": "rSbdDdvKlgdn"
      },
      "execution_count": 2,
      "outputs": []
    },
    {
      "cell_type": "code",
      "source": [
        "# Step 1 — Input validation and type standardization\n",
        "import numpy as np\n",
        "\n",
        "# Required columns\n",
        "REQ = [\"UserID_clean\",\"insecurity1\",\"insecurity2\",\"insecurity3\",\"insecurity3a\",\"insecurity4\",\"insecurity5\"]\n",
        "missing = [c for c in REQ if c not in df.columns]\n",
        "assert not missing, f\"Missing required columns:{missing}\"\n",
        "\n",
        "# Type unification (preserving NaN)\n",
        "hfi_cols = [\"insecurity1\",\"insecurity2\",\"insecurity3\",\"insecurity3a\",\"insecurity4\",\"insecurity5\"]\n",
        "df[hfi_cols] = df[hfi_cols].apply(pd.to_numeric, errors=\"coerce\").astype(\"Int64\")\n",
        "\n",
        "# Encoding range check\n",
        "valid_vals = {\n",
        "    \"insecurity1\": {1,2,3,4,5},   # HH3\n",
        "    \"insecurity2\": {1,2,3,4,5},   # HH4\n",
        "    \"insecurity3\": {1,2,3},       # AD1\n",
        "    \"insecurity3a\":{1,2,3,4},     # AD1a\n",
        "    \"insecurity4\": {1,2,3},       # AD2\n",
        "    \"insecurity5\": {1,2,3},       # AD3\n",
        "}\n",
        "viol = {}\n",
        "for c, ok in valid_vals.items():\n",
        "    bad_mask = df[c].notna() & ~df[c].isin(ok)\n",
        "    if bad_mask.any():\n",
        "        viol[c] = sorted(df.loc[bad_mask, c].unique().tolist())\n",
        "\n",
        "print(\"Out of range encoding:\", viol if viol else \"{}\")\n",
        "\n",
        "# Quickly view the distribution of values in each column (including NaN)\n",
        "for c in hfi_cols:\n",
        "    print(f\"\\n== {c} ==\")\n",
        "    print(df[c].value_counts(dropna=False))"
      ],
      "metadata": {
        "colab": {
          "base_uri": "https://localhost:8080/"
        },
        "id": "20TTq4x7logN",
        "outputId": "230d0acf-0e5d-49aa-8841-5820854fb061"
      },
      "execution_count": 3,
      "outputs": [
        {
          "output_type": "stream",
          "name": "stdout",
          "text": [
            "Out of range encoding: {}\n",
            "\n",
            "== insecurity1 ==\n",
            "insecurity1\n",
            "3       201\n",
            "2        97\n",
            "1        13\n",
            "5         8\n",
            "4         5\n",
            "<NA>      2\n",
            "Name: count, dtype: Int64\n",
            "\n",
            "== insecurity2 ==\n",
            "insecurity2\n",
            "3       203\n",
            "2        90\n",
            "1        18\n",
            "5         8\n",
            "<NA>      4\n",
            "4         3\n",
            "Name: count, dtype: Int64\n",
            "\n",
            "== insecurity3 ==\n",
            "insecurity3\n",
            "2       244\n",
            "1        71\n",
            "3         9\n",
            "<NA>      2\n",
            "Name: count, dtype: Int64\n",
            "\n",
            "== insecurity3a ==\n",
            "insecurity3a\n",
            "4       146\n",
            "<NA>     83\n",
            "2        40\n",
            "3        32\n",
            "1        25\n",
            "Name: count, dtype: Int64\n",
            "\n",
            "== insecurity4 ==\n",
            "insecurity4\n",
            "2       231\n",
            "1        78\n",
            "3        14\n",
            "<NA>      3\n",
            "Name: count, dtype: Int64\n",
            "\n",
            "== insecurity5 ==\n",
            "insecurity5\n",
            "2       273\n",
            "1        39\n",
            "3        10\n",
            "<NA>      4\n",
            "Name: count, dtype: Int64\n"
          ]
        }
      ]
    },
    {
      "cell_type": "code",
      "source": [
        "# Step 2 - Map each question into a score (1/0/NaN)\n",
        "# Mapping rules\n",
        "map_hh_often_sometimes = {1:1, 2:1, 3:0, 4:np.nan, 5:np.nan}  # HH3/HH4\n",
        "map_yes_no              = {1:1, 2:0, 3:np.nan}                 # AD1/AD2/AD3\n",
        "map_ad1a                = {1:1, 2:1, 3:0, 4:np.nan}            # AD1a\n",
        "\n",
        "# HH3/HH4\n",
        "df[\"hh3_score\"] = df[\"insecurity1\"].map(map_hh_often_sometimes)\n",
        "df[\"hh4_score\"] = df[\"insecurity2\"].map(map_hh_often_sometimes)\n",
        "\n",
        "# AD1/AD2/AD3\n",
        "df[\"ad1_score\"] = df[\"insecurity3\"].map(map_yes_no)\n",
        "df[\"ad2_score\"] = df[\"insecurity4\"].map(map_yes_no)\n",
        "df[\"ad3_score\"] = df[\"insecurity5\"].map(map_yes_no)\n",
        "\n",
        "# AD1a: only AD1=Yes(1) is mapped; AD1=No(0) → 0; AD1 missing → NaN\n",
        "df[\"ad1a_score\"] = np.where(\n",
        "    df[\"ad1_score\"].eq(1),\n",
        "    df[\"insecurity3a\"].map(map_ad1a),\n",
        "    np.where(df[\"ad1_score\"].eq(0), 0, np.nan)\n",
        ").astype(float)\n",
        "\n",
        "# Check the value after mapping\n",
        "score_cols = [\"hh3_score\",\"hh4_score\",\"ad1_score\",\"ad1a_score\",\"ad2_score\",\"ad3_score\"]\n",
        "for c in score_cols:\n",
        "    print(f\"\\n{c} Value distribution:\")\n",
        "    print(df[c].value_counts(dropna=False))"
      ],
      "metadata": {
        "colab": {
          "base_uri": "https://localhost:8080/"
        },
        "id": "ci2j9Hfmlx7t",
        "outputId": "511c8c9a-7570-4807-c159-72d9d2bbdf94"
      },
      "execution_count": 4,
      "outputs": [
        {
          "output_type": "stream",
          "name": "stdout",
          "text": [
            "\n",
            "hh3_score Value distribution:\n",
            "hh3_score\n",
            "0.0    201\n",
            "1.0    110\n",
            "NaN     15\n",
            "Name: count, dtype: int64\n",
            "\n",
            "hh4_score Value distribution:\n",
            "hh4_score\n",
            "0.0    203\n",
            "1.0    108\n",
            "NaN     15\n",
            "Name: count, dtype: int64\n",
            "\n",
            "ad1_score Value distribution:\n",
            "ad1_score\n",
            "0.0    244\n",
            "1.0     71\n",
            "NaN     11\n",
            "Name: count, dtype: int64\n",
            "\n",
            "ad1a_score Value distribution:\n",
            "ad1a_score\n",
            "0.0    264\n",
            "1.0     49\n",
            "NaN     13\n",
            "Name: count, dtype: int64\n",
            "\n",
            "ad2_score Value distribution:\n",
            "ad2_score\n",
            "0.0    231\n",
            "1.0     78\n",
            "NaN     17\n",
            "Name: count, dtype: int64\n",
            "\n",
            "ad3_score Value distribution:\n",
            "ad3_score\n",
            "0.0    273\n",
            "1.0     39\n",
            "NaN     14\n",
            "Name: count, dtype: int64\n"
          ]
        }
      ]
    },
    {
      "cell_type": "code",
      "source": [
        "# Step 3 — Raw Total Score + “Minimum Valid Answer” Rule\n",
        "score_cols = [\"hh3_score\",\"hh4_score\",\"ad1_score\",\"ad1a_score\",\"ad2_score\",\"ad3_score\"]\n",
        "\n",
        "# 1) Number of valid answers\n",
        "df[\"HFI_valid_items\"] = df[score_cols].notna().sum(axis=1)\n",
        "\n",
        "# 2) Total score (returns NaN if less than 5 items)\n",
        "df[\"HFI_raw_score\"] = df[score_cols].sum(axis=1, min_count=5)\n",
        "\n",
        "# 3) Validity: integers from 0..6 (or NaN)\n",
        "mask = df[\"HFI_raw_score\"].notna()\n",
        "assert df.loc[mask, \"HFI_raw_score\"].between(0,6).all(), \"HFI_raw_score 越界\"\n",
        "df.loc[mask, \"HFI_raw_score\"] = df.loc[mask, \"HFI_raw_score\"].round().astype(int)\n",
        "\n",
        "# 4) Quick View\n",
        "print(\"Number of people with valid answers <5/percentage:\",\n",
        "      int((df['HFI_valid_items']<5).sum()),\n",
        "      (df['HFI_valid_items']<5).mean().round(3))\n",
        "print(df[\"HFI_valid_items\"].value_counts().sort_index())\n",
        "print(df[\"HFI_raw_score\"].describe())\n",
        "print(df[\"HFI_raw_score\"].value_counts(dropna=False).sort_index())"
      ],
      "metadata": {
        "colab": {
          "base_uri": "https://localhost:8080/"
        },
        "id": "cOZOPbqLl3cG",
        "outputId": "f2e356af-aeda-4a4b-b48e-beb107dfd4dc"
      },
      "execution_count": 5,
      "outputs": [
        {
          "output_type": "stream",
          "name": "stdout",
          "text": [
            "Number of people with valid answers <5/percentage: 18 0.055\n",
            "HFI_valid_items\n",
            "0      2\n",
            "1      2\n",
            "2      4\n",
            "3      3\n",
            "4      7\n",
            "5     24\n",
            "6    284\n",
            "Name: count, dtype: int64\n",
            "count    308.000000\n",
            "mean       1.415584\n",
            "std        2.069481\n",
            "min        0.000000\n",
            "25%        0.000000\n",
            "50%        0.000000\n",
            "75%        2.000000\n",
            "max        6.000000\n",
            "Name: HFI_raw_score, dtype: float64\n",
            "HFI_raw_score\n",
            "0.0    177\n",
            "1.0     34\n",
            "2.0     24\n",
            "3.0     12\n",
            "4.0     13\n",
            "5.0     22\n",
            "6.0     26\n",
            "NaN     18\n",
            "Name: count, dtype: int64\n"
          ]
        }
      ]
    },
    {
      "cell_type": "code",
      "source": [
        "# Step 4: Categorical variables\n",
        "\n",
        "# Three classification functions\n",
        "def classify_hfi(score):\n",
        "    if pd.isna(score):\n",
        "        return None\n",
        "    if score <= 1:\n",
        "        return \"Food secure\"\n",
        "    elif 2 <= score <= 4:\n",
        "        return \"Low food security\"\n",
        "    else:\n",
        "        return \"Very low food security\"\n",
        "\n",
        "df[\"HFI_category\"] = df[\"HFI_raw_score\"].apply(classify_hfi)\n",
        "\n",
        "# Set ordered categories\n",
        "cat_dtype = pd.api.types.CategoricalDtype(\n",
        "    categories=[\"Food secure\",\"Low food security\",\"Very low food security\"],\n",
        "    ordered=True\n",
        ")\n",
        "df[\"HFI_category\"] = df[\"HFI_category\"].astype(cat_dtype)\n",
        "\n",
        "# Binary classification (0/1/NaN)\n",
        "df[\"HFI_binary\"] = df[\"HFI_raw_score\"].apply(\n",
        "    lambda x: (1 if (pd.notna(x) and x>=2) else (0 if (pd.notna(x) and x<=1) else np.nan))\n",
        ").astype(\"Int64\")\n",
        "\n",
        "# Check the distribution\n",
        "print(\"Three-category distribution:\\n\", df[\"HFI_category\"].value_counts(dropna=False))\n",
        "print(\"\\nBinary distribution:\\n\", df[\"HFI_binary\"].value_counts(dropna=False))"
      ],
      "metadata": {
        "colab": {
          "base_uri": "https://localhost:8080/"
        },
        "id": "3mDArkXXl85P",
        "outputId": "b5319698-a375-4160-81bd-141097f776e8"
      },
      "execution_count": 7,
      "outputs": [
        {
          "output_type": "stream",
          "name": "stdout",
          "text": [
            "Three-category distribution:\n",
            " HFI_category\n",
            "Food secure               211\n",
            "Low food security          49\n",
            "Very low food security     48\n",
            "NaN                        18\n",
            "Name: count, dtype: int64\n",
            "\n",
            "Binary distribution:\n",
            " HFI_binary\n",
            "0       211\n",
            "1        97\n",
            "<NA>     18\n",
            "Name: count, dtype: Int64\n"
          ]
        }
      ]
    },
    {
      "cell_type": "code",
      "source": [
        "# save\n",
        "output_path = \"/content/drive/MyDrive/UPF-HFI/Model/outcome/survey_with_HFI.xlsx\"\n",
        "df.to_excel(output_path, index=False)\n",
        "print(f\"Saved to:{output_path}\")"
      ],
      "metadata": {
        "colab": {
          "base_uri": "https://localhost:8080/"
        },
        "id": "jQt_EzeTmFSl",
        "outputId": "1332f122-b967-4ebc-d0e9-00a5dfab3a02"
      },
      "execution_count": 8,
      "outputs": [
        {
          "output_type": "stream",
          "name": "stdout",
          "text": [
            "Saved to:/content/drive/MyDrive/UPF-HFI/Model/outcome/survey_with_HFI.xlsx\n"
          ]
        }
      ]
    }
  ]
}