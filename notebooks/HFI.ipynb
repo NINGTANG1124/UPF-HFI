{
  "nbformat": 4,
  "nbformat_minor": 0,
  "metadata": {
    "colab": {
      "provenance": [],
      "authorship_tag": "ABX9TyNZN96JeE+JjTCPwd0AbITV",
      "include_colab_link": true
    },
    "kernelspec": {
      "name": "python3",
      "display_name": "Python 3"
    },
    "language_info": {
      "name": "python"
    }
  },
  "cells": [
    {
      "cell_type": "markdown",
      "metadata": {
        "id": "view-in-github",
        "colab_type": "text"
      },
      "source": [
        "<a href=\"https://colab.research.google.com/github/NINGTANG1124/UPF-HFI/blob/main/notebooks/HFI.ipynb\" target=\"_parent\"><img src=\"https://colab.research.google.com/assets/colab-badge.svg\" alt=\"Open In Colab\"/></a>"
      ]
    },
    {
      "cell_type": "code",
      "execution_count": 1,
      "metadata": {
        "colab": {
          "base_uri": "https://localhost:8080/"
        },
        "id": "InGXJWSglWuR",
        "outputId": "d03f43a3-23e4-4e46-ae43-26f53e90d55a"
      },
      "outputs": [
        {
          "output_type": "stream",
          "name": "stdout",
          "text": [
            "Mounted at /content/drive\n"
          ]
        }
      ],
      "source": [
        "# connect to googledrive\n",
        "from google.colab import drive\n",
        "drive.mount('/content/drive')"
      ]
    },
    {
      "cell_type": "code",
      "source": [
        "import pandas as pd\n",
        "\n",
        "# === 读取 survey 数据 ===\n",
        "survey_path = \"/content/drive/MyDrive/UPF-HFI/Bradford_original data/4. SurveyMasterfile_clean.xlsx\"\n",
        "df = pd.read_excel(survey_path)"
      ],
      "metadata": {
        "id": "rSbdDdvKlgdn"
      },
      "execution_count": 2,
      "outputs": []
    },
    {
      "cell_type": "markdown",
      "source": [
        "# 1. HFI定义"
      ],
      "metadata": {
        "id": "_tp-XAjSlmkr"
      }
    },
    {
      "cell_type": "code",
      "source": [
        "# Step 1 —— 输入校验与类型标准化\n",
        "import numpy as np\n",
        "\n",
        "# 必要列\n",
        "REQ = [\"UserID_clean\",\"insecurity1\",\"insecurity2\",\"insecurity3\",\"insecurity3a\",\"insecurity4\",\"insecurity5\"]\n",
        "missing = [c for c in REQ if c not in df.columns]\n",
        "assert not missing, f\"缺少必要列: {missing}\"\n",
        "\n",
        "# 类型统一（保留 NaN）\n",
        "hfi_cols = [\"insecurity1\",\"insecurity2\",\"insecurity3\",\"insecurity3a\",\"insecurity4\",\"insecurity5\"]\n",
        "df[hfi_cols] = df[hfi_cols].apply(pd.to_numeric, errors=\"coerce\").astype(\"Int64\")\n",
        "\n",
        "# 编码范围校验\n",
        "valid_vals = {\n",
        "    \"insecurity1\": {1,2,3,4,5},   # HH3\n",
        "    \"insecurity2\": {1,2,3,4,5},   # HH4\n",
        "    \"insecurity3\": {1,2,3},       # AD1\n",
        "    \"insecurity3a\":{1,2,3,4},     # AD1a\n",
        "    \"insecurity4\": {1,2,3},       # AD2\n",
        "    \"insecurity5\": {1,2,3},       # AD3\n",
        "}\n",
        "viol = {}\n",
        "for c, ok in valid_vals.items():\n",
        "    bad_mask = df[c].notna() & ~df[c].isin(ok)\n",
        "    if bad_mask.any():\n",
        "        viol[c] = sorted(df.loc[bad_mask, c].unique().tolist())\n",
        "\n",
        "print(\"超范围编码：\", viol if viol else \"{}\")\n",
        "\n",
        "# 快速查看每列取值分布（含 NaN）\n",
        "for c in hfi_cols:\n",
        "    print(f\"\\n== {c} ==\")\n",
        "    print(df[c].value_counts(dropna=False))"
      ],
      "metadata": {
        "colab": {
          "base_uri": "https://localhost:8080/"
        },
        "id": "20TTq4x7logN",
        "outputId": "ffd10f7b-d31c-4ca5-e065-6d2a2e4d8626"
      },
      "execution_count": 3,
      "outputs": [
        {
          "output_type": "stream",
          "name": "stdout",
          "text": [
            "超范围编码： {}\n",
            "\n",
            "== insecurity1 ==\n",
            "insecurity1\n",
            "3       201\n",
            "2        97\n",
            "1        13\n",
            "5         8\n",
            "4         5\n",
            "<NA>      2\n",
            "Name: count, dtype: Int64\n",
            "\n",
            "== insecurity2 ==\n",
            "insecurity2\n",
            "3       203\n",
            "2        90\n",
            "1        18\n",
            "5         8\n",
            "<NA>      4\n",
            "4         3\n",
            "Name: count, dtype: Int64\n",
            "\n",
            "== insecurity3 ==\n",
            "insecurity3\n",
            "2       244\n",
            "1        71\n",
            "3         9\n",
            "<NA>      2\n",
            "Name: count, dtype: Int64\n",
            "\n",
            "== insecurity3a ==\n",
            "insecurity3a\n",
            "4       146\n",
            "<NA>     83\n",
            "2        40\n",
            "3        32\n",
            "1        25\n",
            "Name: count, dtype: Int64\n",
            "\n",
            "== insecurity4 ==\n",
            "insecurity4\n",
            "2       231\n",
            "1        78\n",
            "3        14\n",
            "<NA>      3\n",
            "Name: count, dtype: Int64\n",
            "\n",
            "== insecurity5 ==\n",
            "insecurity5\n",
            "2       273\n",
            "1        39\n",
            "3        10\n",
            "<NA>      4\n",
            "Name: count, dtype: Int64\n"
          ]
        }
      ]
    },
    {
      "cell_type": "code",
      "source": [
        "# Step 2 —— 逐题映射成得分（1/0/NaN）\n",
        "# 映射规则\n",
        "map_hh_often_sometimes = {1:1, 2:1, 3:0, 4:np.nan, 5:np.nan}  # HH3/HH4\n",
        "map_yes_no              = {1:1, 2:0, 3:np.nan}                 # AD1/AD2/AD3\n",
        "map_ad1a                = {1:1, 2:1, 3:0, 4:np.nan}            # AD1a\n",
        "\n",
        "# HH3/HH4\n",
        "df[\"hh3_score\"] = df[\"insecurity1\"].map(map_hh_often_sometimes)\n",
        "df[\"hh4_score\"] = df[\"insecurity2\"].map(map_hh_often_sometimes)\n",
        "\n",
        "# AD1/AD2/AD3\n",
        "df[\"ad1_score\"] = df[\"insecurity3\"].map(map_yes_no)\n",
        "df[\"ad2_score\"] = df[\"insecurity4\"].map(map_yes_no)\n",
        "df[\"ad3_score\"] = df[\"insecurity5\"].map(map_yes_no)\n",
        "\n",
        "# AD1a：只有 AD1=Yes(1) 才映射；AD1=No(0) → 0；AD1缺失 → NaN\n",
        "df[\"ad1a_score\"] = np.where(\n",
        "    df[\"ad1_score\"].eq(1),\n",
        "    df[\"insecurity3a\"].map(map_ad1a),\n",
        "    np.where(df[\"ad1_score\"].eq(0), 0, np.nan)\n",
        ").astype(float)\n",
        "\n",
        "# 检查映射后的取值\n",
        "score_cols = [\"hh3_score\",\"hh4_score\",\"ad1_score\",\"ad1a_score\",\"ad2_score\",\"ad3_score\"]\n",
        "for c in score_cols:\n",
        "    print(f\"\\n{c} 取值分布：\")\n",
        "    print(df[c].value_counts(dropna=False))"
      ],
      "metadata": {
        "colab": {
          "base_uri": "https://localhost:8080/"
        },
        "id": "ci2j9Hfmlx7t",
        "outputId": "fe41cb26-63de-4c24-8af5-cd95e85b7dc5"
      },
      "execution_count": 4,
      "outputs": [
        {
          "output_type": "stream",
          "name": "stdout",
          "text": [
            "\n",
            "hh3_score 取值分布：\n",
            "hh3_score\n",
            "0.0    201\n",
            "1.0    110\n",
            "NaN     15\n",
            "Name: count, dtype: int64\n",
            "\n",
            "hh4_score 取值分布：\n",
            "hh4_score\n",
            "0.0    203\n",
            "1.0    108\n",
            "NaN     15\n",
            "Name: count, dtype: int64\n",
            "\n",
            "ad1_score 取值分布：\n",
            "ad1_score\n",
            "0.0    244\n",
            "1.0     71\n",
            "NaN     11\n",
            "Name: count, dtype: int64\n",
            "\n",
            "ad1a_score 取值分布：\n",
            "ad1a_score\n",
            "0.0    264\n",
            "1.0     49\n",
            "NaN     13\n",
            "Name: count, dtype: int64\n",
            "\n",
            "ad2_score 取值分布：\n",
            "ad2_score\n",
            "0.0    231\n",
            "1.0     78\n",
            "NaN     17\n",
            "Name: count, dtype: int64\n",
            "\n",
            "ad3_score 取值分布：\n",
            "ad3_score\n",
            "0.0    273\n",
            "1.0     39\n",
            "NaN     14\n",
            "Name: count, dtype: int64\n"
          ]
        }
      ]
    },
    {
      "cell_type": "code",
      "source": [
        "# Step 3 —— 原始总分 + “最少有效作答”规则\n",
        "score_cols = [\"hh3_score\",\"hh4_score\",\"ad1_score\",\"ad1a_score\",\"ad2_score\",\"ad3_score\"]\n",
        "\n",
        "# 1) 有效作答数\n",
        "df[\"HFI_valid_items\"] = df[score_cols].notna().sum(axis=1)\n",
        "\n",
        "# 2) 总分（少于5项则返回 NaN）\n",
        "df[\"HFI_raw_score\"] = df[score_cols].sum(axis=1, min_count=5)\n",
        "\n",
        "# 3) 合法性：0..6 的整数（或 NaN）\n",
        "mask = df[\"HFI_raw_score\"].notna()\n",
        "assert df.loc[mask, \"HFI_raw_score\"].between(0,6).all(), \"HFI_raw_score 越界\"\n",
        "df.loc[mask, \"HFI_raw_score\"] = df.loc[mask, \"HFI_raw_score\"].round().astype(int)\n",
        "\n",
        "# 4) 快速查看\n",
        "print(\"有效作答<5 的人数/占比：\",\n",
        "      int((df['HFI_valid_items']<5).sum()),\n",
        "      (df['HFI_valid_items']<5).mean().round(3))\n",
        "print(df[\"HFI_valid_items\"].value_counts().sort_index())\n",
        "print(df[\"HFI_raw_score\"].describe())\n",
        "print(df[\"HFI_raw_score\"].value_counts(dropna=False).sort_index())"
      ],
      "metadata": {
        "colab": {
          "base_uri": "https://localhost:8080/"
        },
        "id": "cOZOPbqLl3cG",
        "outputId": "5ee805c5-6165-4c91-d5d2-cfeafd764941"
      },
      "execution_count": 5,
      "outputs": [
        {
          "output_type": "stream",
          "name": "stdout",
          "text": [
            "有效作答<5 的人数/占比： 18 0.055\n",
            "HFI_valid_items\n",
            "0      2\n",
            "1      2\n",
            "2      4\n",
            "3      3\n",
            "4      7\n",
            "5     24\n",
            "6    284\n",
            "Name: count, dtype: int64\n",
            "count    308.000000\n",
            "mean       1.415584\n",
            "std        2.069481\n",
            "min        0.000000\n",
            "25%        0.000000\n",
            "50%        0.000000\n",
            "75%        2.000000\n",
            "max        6.000000\n",
            "Name: HFI_raw_score, dtype: float64\n",
            "HFI_raw_score\n",
            "0.0    177\n",
            "1.0     34\n",
            "2.0     24\n",
            "3.0     12\n",
            "4.0     13\n",
            "5.0     22\n",
            "6.0     26\n",
            "NaN     18\n",
            "Name: count, dtype: int64\n"
          ]
        }
      ]
    },
    {
      "cell_type": "code",
      "source": [
        "# Step 4 —— 三分类（有序）+ 二分类\n",
        "# Step 4: 分类变量\n",
        "\n",
        "# 三分类函数\n",
        "def classify_hfi(score):\n",
        "    if pd.isna(score):\n",
        "        return None\n",
        "    if score <= 1:\n",
        "        return \"Food secure\"\n",
        "    elif 2 <= score <= 4:\n",
        "        return \"Low food security\"\n",
        "    else:\n",
        "        return \"Very low food security\"\n",
        "\n",
        "df[\"HFI_category\"] = df[\"HFI_raw_score\"].apply(classify_hfi)\n",
        "\n",
        "# 设置有序类别\n",
        "cat_dtype = pd.api.types.CategoricalDtype(\n",
        "    categories=[\"Food secure\",\"Low food security\",\"Very low food security\"],\n",
        "    ordered=True\n",
        ")\n",
        "df[\"HFI_category\"] = df[\"HFI_category\"].astype(cat_dtype)\n",
        "\n",
        "# 二分类（0/1/NaN）\n",
        "df[\"HFI_binary\"] = df[\"HFI_raw_score\"].apply(\n",
        "    lambda x: (1 if (pd.notna(x) and x>=2) else (0 if (pd.notna(x) and x<=1) else np.nan))\n",
        ").astype(\"Int64\")\n",
        "\n",
        "# 检查分布\n",
        "print(\"三分类分布：\\n\", df[\"HFI_category\"].value_counts(dropna=False))\n",
        "print(\"\\n二分类分布：\\n\", df[\"HFI_binary\"].value_counts(dropna=False))"
      ],
      "metadata": {
        "colab": {
          "base_uri": "https://localhost:8080/"
        },
        "id": "3mDArkXXl85P",
        "outputId": "819cdf05-274c-4c11-d516-c5cb6ff30710"
      },
      "execution_count": 6,
      "outputs": [
        {
          "output_type": "stream",
          "name": "stdout",
          "text": [
            "三分类分布：\n",
            " HFI_category\n",
            "Food secure               211\n",
            "Low food security          49\n",
            "Very low food security     48\n",
            "NaN                        18\n",
            "Name: count, dtype: int64\n",
            "\n",
            "二分类分布：\n",
            " HFI_binary\n",
            "0       211\n",
            "1        97\n",
            "<NA>     18\n",
            "Name: count, dtype: Int64\n"
          ]
        }
      ]
    },
    {
      "cell_type": "code",
      "source": [
        "# 保存带 HFI 变量的 survey 数据\n",
        "output_path = \"/content/drive/MyDrive/UPF-HFI/Model/outcome/survey_with_HFI.xlsx\"\n",
        "df.to_excel(output_path, index=False)\n",
        "print(f\"已保存到: {output_path}\")"
      ],
      "metadata": {
        "colab": {
          "base_uri": "https://localhost:8080/"
        },
        "id": "jQt_EzeTmFSl",
        "outputId": "6798e811-d0aa-41bb-9218-0a6d0c4703a0"
      },
      "execution_count": 8,
      "outputs": [
        {
          "output_type": "stream",
          "name": "stdout",
          "text": [
            "已保存到: /content/drive/MyDrive/UPF-HFI/Model/outcome/survey_with_HFI.xlsx\n"
          ]
        }
      ]
    }
  ]
}