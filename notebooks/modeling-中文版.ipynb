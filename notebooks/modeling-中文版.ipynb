{
  "nbformat": 4,
  "nbformat_minor": 0,
  "metadata": {
    "colab": {
      "provenance": [],
      "authorship_tag": "ABX9TyNWlIyUZUY6CRDRswIvHfH9",
      "include_colab_link": true
    },
    "kernelspec": {
      "name": "python3",
      "display_name": "Python 3"
    },
    "language_info": {
      "name": "python"
    }
  },
  "cells": [
    {
      "cell_type": "markdown",
      "metadata": {
        "id": "view-in-github",
        "colab_type": "text"
      },
      "source": [
        "<a href=\"https://colab.research.google.com/github/NINGTANG1124/UPF-HFI/blob/main/notebooks/modeling-%E4%B8%AD%E6%96%87%E7%89%88.ipynb\" target=\"_parent\"><img src=\"https://colab.research.google.com/assets/colab-badge.svg\" alt=\"Open In Colab\"/></a>"
      ]
    },
    {
      "cell_type": "code",
      "execution_count": 1,
      "metadata": {
        "colab": {
          "base_uri": "https://localhost:8080/"
        },
        "id": "-rIlUETZvW7r",
        "outputId": "2654c50e-1ea2-4c74-d8df-4e696f616826"
      },
      "outputs": [
        {
          "output_type": "stream",
          "name": "stdout",
          "text": [
            "Drive already mounted at /content/drive; to attempt to forcibly remount, call drive.mount(\"/content/drive\", force_remount=True).\n"
          ]
        }
      ],
      "source": [
        "# connect to googledrive\n",
        "from google.colab import drive\n",
        "drive.mount('/content/drive')"
      ]
    },
    {
      "cell_type": "markdown",
      "source": [
        "## 合并 HFI 到建模数据表"
      ],
      "metadata": {
        "id": "Beh74pfNxqqE"
      }
    },
    {
      "cell_type": "code",
      "source": [
        "import pandas as pd\n",
        "import numpy as np\n",
        "import statsmodels.api as sm\n",
        "import statsmodels.formula.api as smf\n",
        "import matplotlib.pyplot as plt\n",
        "pd.set_option('display.max_columns', 120)\n",
        "\n",
        "# 读取\n",
        "survey_df = pd.read_excel( \"/content/drive/MyDrive/UPF-HFI/Model/outcome/survey_with_HFI.xlsx\")\n",
        "df_upf    = pd.read_excel(\"/content/drive/MyDrive/UPF-HFI/Model/outcome/weighted_upf_percent.xlsx\")"
      ],
      "metadata": {
        "id": "PYUA_Sgyxrys"
      },
      "execution_count": 2,
      "outputs": []
    },
    {
      "cell_type": "code",
      "source": [
        "# ==== 2. 先检查 ====\n",
        "issues = []\n",
        "\n",
        "# 检查关键列\n",
        "for col in [\"UserID_clean\", \"HFI_binary\", \"HFI_raw_score\"]:\n",
        "    if col not in survey_df.columns:\n",
        "        issues.append(f\"survey 缺少 {col}\")\n",
        "\n",
        "for col in [\"UserID_clean\", \"weighted_upf_percent\"]:\n",
        "    if col not in df_upf.columns:\n",
        "        issues.append(f\"upf 缺少 {col}\")\n",
        "\n",
        "# 检查 ID 是否有缺失/重复\n",
        "for name, df in [(\"survey\", survey_df), (\"upf\", df_upf)]:\n",
        "    n_na = df[\"UserID_clean\"].isna().sum()\n",
        "    n_dup = df[\"UserID_clean\"].duplicated().sum()\n",
        "    if n_na:  issues.append(f\"{name} 的 UserID_clean 有 {n_na} 个缺失\")\n",
        "    if n_dup: issues.append(f\"{name} 的 UserID_clean 有 {n_dup} 个重复\")\n",
        "\n",
        "# 检查 upf_percent 是否数值\n",
        "bad_upf = pd.to_numeric(df_upf[\"weighted_upf_percent\"], errors=\"coerce\").isna().sum()\n",
        "if bad_upf:\n",
        "    issues.append(f\"weighted_upf_percent 有 {bad_upf} 个非数值/缺失\")\n",
        "\n",
        "# 打印检查结果\n",
        "if issues:\n",
        "    print(\"检查发现以下问题：\")\n",
        "    for i, msg in enumerate(issues, 1):\n",
        "        print(f\"{i}. {msg}\")\n",
        "else:\n",
        "    print(\"没有发现问题，可以直接处理\")\n"
      ],
      "metadata": {
        "colab": {
          "base_uri": "https://localhost:8080/"
        },
        "id": "jFCI1EwNGGzj",
        "outputId": "03b1013e-7245-402e-cdd0-4a846c663422"
      },
      "execution_count": 3,
      "outputs": [
        {
          "output_type": "stream",
          "name": "stdout",
          "text": [
            "没有发现问题，可以直接处理\n"
          ]
        }
      ]
    },
    {
      "cell_type": "code",
      "source": [
        "# ==== 检查关键变量缺失情况 ====\n",
        "check_cols = [\"HFI_binary\", \"weighted_upf_percent\"]\n",
        "missing_info = {}\n",
        "\n",
        "for col in check_cols:\n",
        "    if col not in survey_df.columns and col not in df_upf.columns:\n",
        "        print(f\"数据中找不到列: {col}\")\n",
        "        continue\n",
        "\n",
        "    if col in survey_df.columns:\n",
        "        n_miss = survey_df[col].isna().sum()\n",
        "        missing_info[col] = n_miss\n",
        "        print(f\"{col} 在 survey_df 中缺失 {n_miss} 行\")\n",
        "\n",
        "    if col in df_upf.columns:\n",
        "        n_miss = df_upf[col].isna().sum()\n",
        "        missing_info[col] = n_miss\n",
        "        print(f\"{col} 在 upf_df 中缺失 {n_miss} 行\")\n",
        "\n",
        "# ==== 判断是否需要处理 ====\n",
        "if all(v == 0 for v in missing_info.values()):\n",
        "    print(\"两列都没有缺失，可以直接进入合并/建模\")\n",
        "else:\n",
        "    print(\"存在缺失，需要处理后再合并\")\n"
      ],
      "metadata": {
        "colab": {
          "base_uri": "https://localhost:8080/"
        },
        "id": "nm3Gm5sFdXK7",
        "outputId": "13162bf3-621b-485a-dfb0-c7e81b365c56"
      },
      "execution_count": 4,
      "outputs": [
        {
          "output_type": "stream",
          "name": "stdout",
          "text": [
            "HFI_binary 在 survey_df 中缺失 18 行\n",
            "weighted_upf_percent 在 upf_df 中缺失 0 行\n",
            "存在缺失，需要处理后再合并\n"
          ]
        }
      ]
    },
    {
      "cell_type": "code",
      "source": [
        "# 1. 合并 survey 和 upf\n",
        "df_model = pd.merge(survey_df, df_upf, on=\"UserID_clean\", how=\"inner\")\n",
        "\n",
        "# 2. 删掉 HFI_binary 缺失的\n",
        "df_model = df_model.dropna(subset=[\"HFI_binary\"])\n",
        "\n",
        "print(\"合并后样本量：\", len(df_model))\n"
      ],
      "metadata": {
        "colab": {
          "base_uri": "https://localhost:8080/"
        },
        "id": "y-qMkowPd9R1",
        "outputId": "a1a47cf1-bf0f-46cc-d7b6-d5c7013aa94d"
      },
      "execution_count": 5,
      "outputs": [
        {
          "output_type": "stream",
          "name": "stdout",
          "text": [
            "合并后样本量： 308\n"
          ]
        }
      ]
    },
    {
      "cell_type": "code",
      "source": [
        "# 导出合并后的数据\n",
        "df_model.to_excel(\"/content/drive/MyDrive/UPF-HFI/Model/outcome/merged_model.xlsx\", index=False)\n",
        "\n",
        "print(\"已导出到 /content/drive/MyDrive/UPF-HFI/Model/outcome/merged_model.xlsx\")\n"
      ],
      "metadata": {
        "colab": {
          "base_uri": "https://localhost:8080/"
        },
        "id": "efX_yQqEZYia",
        "outputId": "77746f99-9b77-4658-9c27-0fd20e5b8fbc"
      },
      "execution_count": 6,
      "outputs": [
        {
          "output_type": "stream",
          "name": "stdout",
          "text": [
            "已导出到 /content/drive/MyDrive/UPF-HFI/Model/outcome/merged_model.xlsx\n"
          ]
        }
      ]
    },
    {
      "cell_type": "markdown",
      "source": [
        "# 建模部分"
      ],
      "metadata": {
        "id": "w15M8JodpAVU"
      }
    },
    {
      "cell_type": "markdown",
      "source": [
        "## 步骤 0：一次性 dropna（主分析用的完整案例集）"
      ],
      "metadata": {
        "id": "nMQyilUapDwR"
      }
    },
    {
      "cell_type": "code",
      "source": [
        "# 1) 统一主分析变量清单（一次性 dropna）\n",
        "all_vars = [\n",
        "    \"weighted_upf_percent\",\"HFI_binary\",\"income\",\n",
        "    \"gender_participant\",\"ethn_participant\",\"age_participant\",\n",
        "    \"child_numbers\", \"employ\"\n",
        "]\n",
        "df_all = df_model[all_vars].apply(pd.to_numeric, errors=\"ignore\").dropna().copy()\n",
        "print(\"主分析样本量:\", len(df_all))\n",
        "\n",
        "# 这次是对所有 all_vars 里的变量做 完全案例（complete case）筛选，也就是任何一个变量缺失都会被剔除。因为 income、age_participant 等变量里可能有缺失，所以样本量从 308 → 305。"
      ],
      "metadata": {
        "colab": {
          "base_uri": "https://localhost:8080/"
        },
        "id": "NZifIhgMolGg",
        "outputId": "a097359f-7c7b-427d-c8ec-922465591e73"
      },
      "execution_count": 17,
      "outputs": [
        {
          "output_type": "stream",
          "name": "stdout",
          "text": [
            "主分析样本量: 299\n"
          ]
        },
        {
          "output_type": "stream",
          "name": "stderr",
          "text": [
            "/tmp/ipython-input-2805321717.py:7: FutureWarning: errors='ignore' is deprecated and will raise in a future version. Use to_numeric without passing `errors` and catch exceptions explicitly instead\n",
            "  df_all = df_model[all_vars].apply(pd.to_numeric, errors=\"ignore\").dropna().copy()\n"
          ]
        }
      ]
    },
    {
      "cell_type": "code",
      "source": [
        "import pandas as pd\n",
        "\n",
        "all_vars = [\"weighted_upf_percent\",\"HFI_binary\",\"income\",\n",
        "    \"gender_participant\",\"ethn_participant\",\"age_participant\",\n",
        "    \"child_numbers\", \"employ\"]\n",
        "\n",
        "# 哪些列在 df_model 里缺失了多少？\n",
        "print(\"每列缺失数：\")\n",
        "print(df_model[all_vars].isna().sum())\n",
        "\n",
        "# 标出完全案例掩码\n",
        "mask_complete = df_model[all_vars].notna().all(axis=1)\n",
        "\n",
        "# 被 drop 的行 + 缺失列\n",
        "dropped = df_model.loc[~mask_complete, [\"UserID_clean\"] + all_vars].copy()\n",
        "dropped[\"missing_cols\"] = dropped.apply(\n",
        "    lambda r: [c for c in all_vars if pd.isna(r[c])], axis=1\n",
        ")\n",
        "print(\"\\n被剔除的样本（以及缺失了哪些列）：\")\n",
        "print(dropped[[\"UserID_clean\",\"missing_cols\"]])\n"
      ],
      "metadata": {
        "colab": {
          "base_uri": "https://localhost:8080/"
        },
        "id": "Tp_83gRZpj13",
        "outputId": "392bf2b1-1fea-4bda-983b-8153fc1e028b"
      },
      "execution_count": 18,
      "outputs": [
        {
          "output_type": "stream",
          "name": "stdout",
          "text": [
            "每列缺失数：\n",
            "weighted_upf_percent    0\n",
            "HFI_binary              0\n",
            "income                  3\n",
            "gender_participant      0\n",
            "ethn_participant        0\n",
            "age_participant         0\n",
            "child_numbers           4\n",
            "employ                  2\n",
            "dtype: int64\n",
            "\n",
            "被剔除的样本（以及缺失了哪些列）：\n",
            "    UserID_clean     missing_cols\n",
            "21        BFD041         [income]\n",
            "38        BFD061         [employ]\n",
            "95        BFD124  [child_numbers]\n",
            "115       BFD151         [employ]\n",
            "173       BFD220  [child_numbers]\n",
            "189       BFD243         [income]\n",
            "230       BFD295         [income]\n",
            "272       BFD353  [child_numbers]\n",
            "285       BFD371  [child_numbers]\n"
          ]
        }
      ]
    },
    {
      "cell_type": "markdown",
      "source": [
        "## 步骤 1：检查“内部捣乱”变量（多重共线性 / VIF）"
      ],
      "metadata": {
        "id": "IDYcuXlq2Xuu"
      }
    },
    {
      "cell_type": "code",
      "source": [
        "from statsmodels.stats.outliers_influence import variance_inflation_factor\n",
        "import pandas as pd\n",
        "\n",
        "# One-hot 分类变量（drop_first避免虚拟变量陷阱）\n",
        "vif_df = pd.get_dummies(df_all.drop(columns=[\"weighted_upf_percent\"]), drop_first=True)\n",
        "\n",
        "vif_results = pd.DataFrame({\n",
        "    \"Variable\": vif_df.columns,\n",
        "    \"VIF\": [variance_inflation_factor(vif_df.values, i) for i in range(vif_df.shape[1])]\n",
        "}).sort_values(\"VIF\", ascending=False)\n",
        "\n",
        "print(vif_results)\n"
      ],
      "metadata": {
        "colab": {
          "base_uri": "https://localhost:8080/"
        },
        "id": "nvWAnfsGp24k",
        "outputId": "b368dd23-81d0-45f0-d4ac-5b4f544b5d91"
      },
      "execution_count": 19,
      "outputs": [
        {
          "output_type": "stream",
          "name": "stdout",
          "text": [
            "             Variable       VIF\n",
            "2  gender_participant  6.819030\n",
            "4     age_participant  6.167936\n",
            "5       child_numbers  5.821079\n",
            "1              income  5.279584\n",
            "3    ethn_participant  2.635621\n",
            "6              employ  2.376755\n",
            "0          HFI_binary  1.742598\n"
          ]
        }
      ]
    },
    {
      "cell_type": "markdown",
      "source": [
        "你现在跑 VIF 检查的就是主分析用的那几个变量（df_all 里的），这样做是对的，因为 BMJ 主分析也是保证同一批自变量在五个模型里样本一致、可比性强。\n",
        "如果你把所有可能变量都放进去跑 VIF，\n",
        "\n",
        "一方面会混进不参与主分析的变量，\n",
        "另一方面会因为缺失值多导致样本量骤减，不符合主分析的可比性原则。\n",
        "所以VIF 检查只需要针对你要进 M1–M5 模型的自变量就可以，不用所有变量都跑。"
      ],
      "metadata": {
        "id": "vA4PKE5rqhRi"
      }
    },
    {
      "cell_type": "markdown",
      "source": [
        "所以你这个结果意味着：\n",
        "没有达到“强共线性”的红线（10），可以保留全部变量\n",
        "但 gender、age、income 三个变量有一定共线性，如果你做敏感性分析，可以尝试单独去掉其中一个，看结果是否稳定\n",
        "换句话说，现在是安全可用的，直接进入 M1–M5 分析没问题。"
      ],
      "metadata": {
        "id": "CdWewyVM49c0"
      }
    },
    {
      "cell_type": "markdown",
      "source": [
        "## 步骤 2：主分析"
      ],
      "metadata": {
        "id": "i2su1QEvc1Cv"
      }
    },
    {
      "cell_type": "code",
      "source": [
        "print(df_all.columns.tolist())   # 应该包含 HFI_binary, income, gender_participant, ethn_participant, age_participant, child_numbers, employ, weighted_upf_percent\n"
      ],
      "metadata": {
        "colab": {
          "base_uri": "https://localhost:8080/"
        },
        "id": "w7fVvLsn2OwB",
        "outputId": "3825a271-83fe-41b6-9326-5b895a2423eb"
      },
      "execution_count": 27,
      "outputs": [
        {
          "output_type": "stream",
          "name": "stdout",
          "text": [
            "['weighted_upf_percent', 'HFI_binary', 'income', 'gender_participant', 'ethn_participant', 'age_participant', 'child_numbers', 'employ']\n"
          ]
        }
      ]
    },
    {
      "cell_type": "code",
      "source": [
        "import numpy as np\n",
        "import pandas as pd\n",
        "import statsmodels.formula.api as smf\n",
        "\n",
        "# 一眼确认下列名是否都在\n",
        "# print(df_all.columns.tolist())\n",
        "\n",
        "forms_main = {\n",
        "    \"M1\": \"weighted_upf_percent ~ HFI_binary\",\n",
        "    \"M2\": \"weighted_upf_percent ~ HFI_binary + income\",\n",
        "    \"M3\": \"weighted_upf_percent ~ HFI_binary + income + C(gender_participant) + C(ethn_participant, Treatment(reference=1))\",\n",
        "    \"M4\": \"weighted_upf_percent ~ HFI_binary + income + C(gender_participant) + C(ethn_participant, Treatment(reference=1)) + age_participant\",\n",
        "    \"M5\": \"weighted_upf_percent ~ HFI_binary + income + C(gender_participant) + C(ethn_participant, Treatment(reference=1)) + age_participant + child_numbers\",\n",
        "    \"M6\": \"weighted_upf_percent ~ HFI_binary + income + C(gender_participant) + C(ethn_participant, Treatment(reference=1)) + age_participant + child_numbers + C(employ)\"\n",
        "}\n",
        "\n",
        "res = {k: smf.ols(v, data=df_all).fit(cov_type=\"HC3\") for k,v in forms_main.items()}\n",
        "\n",
        "print(\"Ns:\", {k:int(m.nobs) for k,m in res.items()})  # 应该都一致\n"
      ],
      "metadata": {
        "colab": {
          "base_uri": "https://localhost:8080/"
        },
        "id": "O1mN1jRfc3Md",
        "outputId": "2fdff86a-a2f8-4ebb-aebb-6370ece42efd"
      },
      "execution_count": 28,
      "outputs": [
        {
          "output_type": "stream",
          "name": "stdout",
          "text": [
            "Ns: {'M1': 299, 'M2': 299, 'M3': 299, 'M4': 299, 'M5': 299, 'M6': 299}\n"
          ]
        }
      ]
    },
    {
      "cell_type": "code",
      "source": [
        "rows=[]\n",
        "for k in [\"M1\",\"M2\",\"M3\",\"M4\",\"M5\",\"M6\"]:\n",
        "    m = res[k]\n",
        "    b  = m.params[\"HFI_binary\"]\n",
        "    lo, hi = m.conf_int().loc[\"HFI_binary\"]\n",
        "    p  = m.pvalues[\"HFI_binary\"]\n",
        "    rows.append([k, b, lo, hi, p, int(m.nobs), m.rsquared])\n",
        "\n",
        "main_tbl = (pd.DataFrame(rows, columns=[\"Model\",\"HFI_coef_pp\",\"CI_low\",\"CI_high\",\"p\",\"N\",\"R2\"])\n",
        "              .round({\"HFI_coef_pp\":2,\"CI_low\":2,\"CI_high\":2,\"p\":4,\"R2\":3}))\n",
        "print(main_tbl)\n",
        "# main_tbl.to_excel(\"out_main_M1_M6.xlsx\", index=False)\n"
      ],
      "metadata": {
        "colab": {
          "base_uri": "https://localhost:8080/"
        },
        "id": "L0MwozIX2AHj",
        "outputId": "717ffd49-e9a9-48a8-98ce-10f06ac19a00"
      },
      "execution_count": 29,
      "outputs": [
        {
          "output_type": "stream",
          "name": "stdout",
          "text": [
            "  Model  HFI_coef_pp  CI_low  CI_high       p    N     R2\n",
            "0    M1         2.27   -0.67     5.20  0.1299  299  0.008\n",
            "1    M2         2.57   -0.64     5.79  0.1168  299  0.008\n",
            "2    M3         3.37    0.15     6.60  0.0403  299  0.077\n",
            "3    M4         3.25    0.03     6.47  0.0478  299  0.090\n",
            "4    M5         3.06   -0.23     6.34  0.0681  299  0.094\n",
            "5    M6         3.32   -0.00     6.64  0.0503  299  0.123\n"
          ]
        }
      ]
    },
    {
      "cell_type": "markdown",
      "source": [
        "## M7：交互（换成可读标签，便于解释与作图）"
      ],
      "metadata": {
        "id": "onHAvrfU6sUo"
      }
    },
    {
      "cell_type": "code",
      "source": [
        "import re\n",
        "import numpy as np\n",
        "import pandas as pd\n",
        "\n",
        "# 你的映射表\n",
        "ethn_map = {\n",
        "  1:\"White British\", 2:\"Other white group\", 3:\"Pakistani\", 4:\"Indian\",\n",
        "  5:\"Bangladeshi\", 6:\"Other Asian group\", 7:\"Mixed/multiple ethnicity\",\n",
        "  8:\"Black / Black British / Black Caribbean / Black African\",\n",
        "  9:\"Other ethnic group\"\n",
        "}\n",
        "\n",
        "effects = []\n",
        "b0  = m7.params[\"HFI_binary\"]\n",
        "v00 = m7.cov_params().loc[\"HFI_binary\",\"HFI_binary\"]\n",
        "se0 = float(np.sqrt(v00))\n",
        "effects.append(dict(eth_group=\"White British (ref)\", effect=b0, lo=b0-1.96*se0, hi=b0+1.96*se0))\n",
        "\n",
        "for term in m7.params.index:\n",
        "    # 既兼容 ethn_name 也兼容数值编码\n",
        "    if term.startswith(\"HFI_binary:C(\"):\n",
        "        # 抓出 T.后面的内容\n",
        "        m = re.search(r\"T\\.(.+)\\]$\", term)\n",
        "        if not m:\n",
        "            continue\n",
        "        raw = m.group(1)  # 可能是 'Pakistani' 或 '2'\n",
        "\n",
        "        # 如果是数字就映射成中文名/英文名，否则直接用标签\n",
        "        try:\n",
        "            label = ethn_map[int(raw)]\n",
        "        except ValueError:\n",
        "            label = raw\n",
        "\n",
        "        b  = b0 + m7.params[term]\n",
        "        v  = v00 + m7.cov_params().loc[term,term] + 2*m7.cov_params().loc[\"HFI_binary\", term]\n",
        "        se = float(np.sqrt(v))\n",
        "        effects.append(dict(eth_group=label, effect=b, lo=b-1.96*se, hi=b+1.96*se))\n",
        "\n",
        "effects_df = pd.DataFrame(effects).round(2)\n",
        "print(effects_df)\n",
        "# effects_df.to_excel(\"out_M7_eth_effects.xlsx\", index=False)\n"
      ],
      "metadata": {
        "colab": {
          "base_uri": "https://localhost:8080/"
        },
        "id": "3scHvPR02DMD",
        "outputId": "512ac690-9dab-4e56-88f2-c690b8861cc1"
      },
      "execution_count": 34,
      "outputs": [
        {
          "output_type": "stream",
          "name": "stdout",
          "text": [
            "                                           eth_group  effect      lo      hi\n",
            "0                                White British (ref)    1.73   -2.95    6.41\n",
            "1                                        Bangladeshi   -1.73  -18.24   14.77\n",
            "2  Black / Black British / Black Caribbean / Blac...    9.53    4.87   14.19\n",
            "3                                             Indian   10.95  -11.86   33.76\n",
            "4                           Mixed/multiple ethnicity   10.46    0.66   20.25\n",
            "5                                  Other Asian group    6.33    0.35   12.31\n",
            "6                                 Other ethnic group   18.34 -228.06  264.73\n",
            "7                                  Other white group   11.65  -72.34   95.65\n",
            "8                                          Pakistani    1.44   -4.87    7.75\n"
          ]
        }
      ]
    },
    {
      "cell_type": "markdown",
      "source": [
        "# 敏感性分析"
      ],
      "metadata": {
        "id": "yN1nS5vV9JAz"
      }
    },
    {
      "cell_type": "code",
      "source": [],
      "metadata": {
        "id": "yG85yrtW9OOE"
      },
      "execution_count": null,
      "outputs": []
    },
    {
      "cell_type": "code",
      "source": [
        "import numpy as np, pandas as pd\n",
        "\n",
        "rows = []\n",
        "for name, m in results.items():\n",
        "    b = m.params.get(\"HFI_binary\", np.nan)\n",
        "    ci_l, ci_h = m.conf_int().loc[\"HFI_binary\"]\n",
        "    p = m.pvalues[\"HFI_binary\"]\n",
        "    rows.append([name, b, ci_l, ci_h, p, int(m.nobs), m.rsquared])\n",
        "\n",
        "main_tbl = pd.DataFrame(rows, columns=[\"Model\",\"coef\",\"CI_low\",\"CI_high\",\"p\",\"N\",\"R2\"]) \\\n",
        "             .round({\"coef\":2,\"CI_low\":2,\"CI_high\":2,\"p\":4,\"R2\":3})\n",
        "print(main_tbl)\n",
        "# main_tbl.to_excel(\"main_results_M1_M5.xlsx\", index=False)\n"
      ],
      "metadata": {
        "colab": {
          "base_uri": "https://localhost:8080/"
        },
        "id": "Dr8EFWolv-Hi",
        "outputId": "72ca97e8-c4cf-4237-9415-dbaf8d03983a"
      },
      "execution_count": 22,
      "outputs": [
        {
          "output_type": "stream",
          "name": "stdout",
          "text": [
            "  Model  coef  CI_low  CI_high       p    N     R2\n",
            "0    M1  2.27   -0.67     5.20  0.1299  299  0.008\n",
            "1    M2  2.57   -0.64     5.79  0.1168  299  0.008\n",
            "2    M3  2.99   -0.27     6.24  0.0723  299  0.028\n",
            "3    M4  2.81   -0.44     6.06  0.0900  299  0.042\n",
            "4    M5  3.18   -0.16     6.51  0.0617  299  0.069\n"
          ]
        }
      ]
    },
    {
      "cell_type": "markdown",
      "source": [
        "# 可视化"
      ],
      "metadata": {
        "id": "-C1a8M2j2RA9"
      }
    }
  ]
}