{
  "nbformat": 4,
  "nbformat_minor": 0,
  "metadata": {
    "colab": {
      "provenance": [],
      "authorship_tag": "ABX9TyOQ8Pbwnou9ol5r7nWBolil",
      "include_colab_link": true
    },
    "kernelspec": {
      "name": "python3",
      "display_name": "Python 3"
    },
    "language_info": {
      "name": "python"
    }
  },
  "cells": [
    {
      "cell_type": "markdown",
      "metadata": {
        "id": "view-in-github",
        "colab_type": "text"
      },
      "source": [
        "<a href=\"https://colab.research.google.com/github/NINGTANG1124/UPF-HFI/blob/main/notebooks/NDNS-NOVA-intake24.ipynb\" target=\"_parent\"><img src=\"https://colab.research.google.com/assets/colab-badge.svg\" alt=\"Open In Colab\"/></a>"
      ]
    },
    {
      "cell_type": "code",
      "source": [
        "from google.colab import drive\n",
        "drive.mount('/content/drive')"
      ],
      "metadata": {
        "colab": {
          "base_uri": "https://localhost:8080/"
        },
        "id": "bSC4IlFMj62B",
        "outputId": "7398b6f0-dae1-4a6a-d306-c6a53780b92a"
      },
      "execution_count": 1,
      "outputs": [
        {
          "output_type": "stream",
          "name": "stdout",
          "text": [
            "Mounted at /content/drive\n"
          ]
        }
      ]
    },
    {
      "cell_type": "code",
      "execution_count": 2,
      "metadata": {
        "id": "2U2VyYRnj04h"
      },
      "outputs": [],
      "source": [
        "# Read intake data (including Descriptionen and FoodGroupen)\n",
        "import pandas as pd\n",
        "import re\n",
        "\n",
        "file_path = \"/content/drive/MyDrive/UPF-HFI/Bradford_original data/1. Dietmasterfile_foodlevel_clean.xls\"\n",
        "intake_df = pd.read_excel(file_path)\n",
        "\n",
        "# Define text cleaning function\n",
        "def clean_text(col):\n",
        "    return col.astype(str).str.lower().str.strip().str.replace(r\"\\s+\", \" \", regex=True)\n",
        "\n",
        "# Apply to key fields\n",
        "intake_df[\"Foodgroupen_clean\"] = clean_text(intake_df[\"Foodgroupen\"])\n",
        "intake_df[\"Descriptionen_clean\"] = clean_text(intake_df[\"Descriptionen\"])\n"
      ]
    },
    {
      "cell_type": "code",
      "source": [
        "# 设置 att3 文件路径\n",
        "att3_path = \"/content/drive/MyDrive/UPF-HFI/nova matching files/att3-excel.xlsx\"\n",
        "\n",
        "# 读取 att3 文件\n",
        "att3 = pd.read_excel(att3_path)\n",
        "\n",
        "# 清洗 Subsidiary food group name 列\n",
        "att3[\"desc_clean\"] = att3[\"Subsidiary food group name\"]\\\n",
        "    .astype(str).str.lower().str.strip().str.replace(r\"\\s+\", \" \", regex=True)\n",
        "\n",
        "# 筛选出非 \"*\" 的匹配项\n",
        "att3_no_star = att3[att3[\"NOVA food group\"] != \"*\"].copy()\n"
      ],
      "metadata": {
        "id": "FV5KfW34qT9M"
      },
      "execution_count": 3,
      "outputs": []
    },
    {
      "cell_type": "markdown",
      "source": [
        "# Matching"
      ],
      "metadata": {
        "id": "xWbDm9OtrksL"
      }
    },
    {
      "cell_type": "markdown",
      "source": [
        "## NDNS 1-8"
      ],
      "metadata": {
        "id": "RGlZWGB7roTg"
      }
    },
    {
      "cell_type": "code",
      "source": [
        "# 合并匹配\n",
        "merged = intake_df.merge(\n",
        "    att3_no_star[[\"desc_clean\", \"NOVA food group\", \"Subsidiary food group name\"]],\n",
        "    how=\"left\",\n",
        "    left_on=\"Foodgroupen_clean\",\n",
        "    right_on=\"desc_clean\"\n",
        ")\n",
        "\n",
        "# 添加新列\n",
        "merged[\"NOVA_step1\"] = merged[\"NOVA food group\"]\n",
        "merged[\"match_reason\"] = merged[\"NOVA_step1\"].apply(lambda x: \"att3_group_match\" if pd.notna(x) else None)\n",
        "merged[\"matched_att3_group\"] = merged[\"Subsidiary food group name\"]\n"
      ],
      "metadata": {
        "id": "qJg_aTWnrj4G"
      },
      "execution_count": 4,
      "outputs": []
    },
    {
      "cell_type": "code",
      "source": [
        "# 保留关键字段用于输出\n",
        "output_step1 = merged[\n",
        "    [\"Descriptionen\", \"Foodgroupen\", \"Descriptionen_clean\", \"Foodgroupen_clean\",\n",
        "     \"NOVA_step1\", \"match_reason\", \"matched_att3_group\"]\n",
        "]\n",
        "\n",
        "# 保存到 Excel（或 CSV 也可以）\n",
        "output_step1.to_excel(\"/content/drive/MyDrive/UPF-HFI/0723 outcome/step1_match.xlsx\", index=False)\n"
      ],
      "metadata": {
        "id": "ZTxK39dIs46U"
      },
      "execution_count": 5,
      "outputs": []
    },
    {
      "cell_type": "code",
      "source": [
        "matched_count = merged[\"NOVA_step1\"].notna().sum()\n",
        "total_count = len(merged)\n",
        "match_rate = matched_count / total_count\n",
        "\n",
        "print(f\"Step 1 Number of successful matches：{matched_count}\")\n",
        "print(f\"Total sample size：{total_count}\")\n",
        "print(f\"Match Rate：{match_rate:.2%}\")\n"
      ],
      "metadata": {
        "colab": {
          "base_uri": "https://localhost:8080/"
        },
        "id": "qGQNSDT1tcQx",
        "outputId": "49e1da14-9577-47fc-b46c-fc79622bbf7a"
      },
      "execution_count": 7,
      "outputs": [
        {
          "output_type": "stream",
          "name": "stdout",
          "text": [
            "Step 1 Number of successful matches：411\n",
            "Total sample size：22217\n",
            "Match Rate：1.85%\n"
          ]
        }
      ]
    },
    {
      "cell_type": "code",
      "source": [
        "# 导出匹配成功的部分（方便人工检查）\n",
        "matched_only = merged[merged[\"NOVA_step1\"].notna()].copy()\n",
        "\n",
        "# 保存匹配成功部分到单独文件\n",
        "matched_only.to_excel(\"/content/drive/MyDrive/UPF-HFI/0723 outcome/step1_matched_only.xlsx\", index=False)\n"
      ],
      "metadata": {
        "id": "akc8s_C3uf6g"
      },
      "execution_count": 8,
      "outputs": []
    },
    {
      "cell_type": "markdown",
      "source": [
        "## Media keyword"
      ],
      "metadata": {
        "id": "TiZjG9n6vRSn"
      }
    },
    {
      "cell_type": "code",
      "source": [
        "import pandas as pd\n",
        "\n",
        "# 构建规则表（仅包含来自 media 的示例）\n",
        "nova_example_rules_strict = [\n",
        "\n",
        "    # --- NOVA 1: Minimally Processed Foods ---\n",
        "    {\"keyword\": \"uncooked oats\", \"nova\": 1, \"reason\": \"MPF\"},\n",
        "    {\"keyword\": \"fresh apple\", \"nova\": 1, \"reason\": \"MPF\"},\n",
        "    {\"keyword\": \"dried apple\", \"nova\": 1, \"reason\": \"MPF\"},\n",
        "    {\"keyword\": \"banana\", \"nova\": 1, \"reason\": \"MPF\"},\n",
        "    {\"keyword\": \"orange\", \"nova\": 1, \"reason\": \"MPF\"},\n",
        "    {\"keyword\": \"pear\", \"nova\": 1, \"reason\": \"MPF\"},\n",
        "    {\"keyword\": \"plum\", \"nova\": 1, \"reason\": \"MPF\"},\n",
        "    {\"keyword\": \"grapes\", \"nova\": 1, \"reason\": \"MPF\"},\n",
        "    {\"keyword\": \"frozen peas\", \"nova\": 1, \"reason\": \"MPF\"},\n",
        "    {\"keyword\": \"fresh spinach\", \"nova\": 1, \"reason\": \"MPF\"},\n",
        "    {\"keyword\": \"frozen spinach\", \"nova\": 1, \"reason\": \"MPF\"},\n",
        "    {\"keyword\": \"boiled potato\", \"nova\": 1, \"reason\": \"MPF\"},\n",
        "    {\"keyword\": \"milk\", \"nova\": 1, \"reason\": \"MPF\"},\n",
        "    {\"keyword\": \"plain yoghurt\", \"nova\": 1, \"reason\": \"MPF\"},\n",
        "    {\"keyword\": \"tea\", \"nova\": 1, \"reason\": \"MPF\"},\n",
        "    {\"keyword\": \"coffee\", \"nova\": 1, \"reason\": \"MPF\"},\n",
        "    {\"keyword\": \"water\", \"nova\": 1, \"reason\": \"MPF\"},\n",
        "    {\"keyword\": \"fruit juice\", \"nova\": 1, \"reason\": \"MPF\"},\n",
        "    {\"keyword\": \"vegetable juice\", \"nova\": 1, \"reason\": \"MPF\"},\n",
        "    {\"keyword\": \"oats\", \"nova\": 1, \"reason\": \"MPF\"},\n",
        "    {\"keyword\": \"wheat flour\", \"nova\": 1, \"reason\": \"MPF\"},\n",
        "    {\"keyword\": \"corn flour\", \"nova\": 1, \"reason\": \"MPF\"},\n",
        "    {\"keyword\": \"cassava flour\", \"nova\": 1, \"reason\": \"MPF\"},\n",
        "    {\"keyword\": \"herbs\", \"nova\": 1, \"reason\": \"MPF\"},\n",
        "    {\"keyword\": \"spices\", \"nova\": 1, \"reason\": \"MPF\"},\n",
        "    {\"keyword\": \"egg\", \"nova\": 1, \"reason\": \"MPF\"},\n",
        "    {\"keyword\": \"fresh chicken\", \"nova\": 1, \"reason\": \"MPF\"},\n",
        "    {\"keyword\": \"fresh beef\", \"nova\": 1, \"reason\": \"MPF\"},\n",
        "    {\"keyword\": \"fresh fish\", \"nova\": 1, \"reason\": \"MPFh\"},\n",
        "    {\"keyword\": \"legumes\", \"nova\": 1, \"reason\": \"MPF\"},\n",
        "\n",
        "    # --- NOVA 2: Processed Culinary Ingredients ---\n",
        "    {\"keyword\": \"vegetable oil\", \"nova\": 2, \"reason\": \"PCI\"},\n",
        "    {\"keyword\": \"olive oil\", \"nova\": 2, \"reason\": \"PCI\"},\n",
        "    {\"keyword\": \"sunflower oil\", \"nova\": 2, \"reason\": \"PCI\"},\n",
        "    {\"keyword\": \"butter\", \"nova\": 2, \"reason\": \"PCI\"},\n",
        "    {\"keyword\": \"lard\", \"nova\": 2, \"reason\": \"PCI\"},\n",
        "    {\"keyword\": \"sugar\", \"nova\": 2, \"reason\": \"PCI\"},\n",
        "    {\"keyword\": \"molasses\", \"nova\": 2, \"reason\": \"PCI\"},\n",
        "    {\"keyword\": \"honey\", \"nova\": 2, \"reason\": \"PCI\"},\n",
        "    {\"keyword\": \"starch\", \"nova\": 2, \"reason\": \"PCI\"},\n",
        "    {\"keyword\": \"salt\", \"nova\": 2, \"reason\": \"PCI\"},\n",
        "\n",
        "    # --- NOVA 3: Processed Foods ---\n",
        "    {\"keyword\": \"canned peas\", \"nova\": 3, \"reason\": \"PF\"},\n",
        "    {\"keyword\": \"canned beans\", \"nova\": 3, \"reason\": \"PF\"},\n",
        "    {\"keyword\": \"salted peanuts\", \"nova\": 3, \"reason\": \"PF\"},\n",
        "    {\"keyword\": \"salted cashews\", \"nova\": 3, \"reason\": \"PF\"},\n",
        "    {\"keyword\": \"salted sunflower seeds\", \"nova\": 3, \"reason\": \"PF\"},\n",
        "    {\"keyword\": \"smoked salmon\", \"nova\": 3, \"reason\": \"PF\"},\n",
        "    {\"keyword\": \"canned tuna\", \"nova\": 3, \"reason\": \"PF\"},\n",
        "    {\"keyword\": \"ham\", \"nova\": 3, \"reason\": \"PF\"},\n",
        "    {\"keyword\": \"bacon\", \"nova\": 3, \"reason\": \"PF\"},\n",
        "    {\"keyword\": \"cheddar cheese\", \"nova\": 3, \"reason\": \"PF\"},\n",
        "    {\"keyword\": \"fruits in syrup\", \"nova\": 3, \"reason\": \"PF\"},\n",
        "\n",
        "    # --- NOVA 4: Ultra-Processed Foods ---\n",
        "    {\"keyword\": \"instant noodles\", \"nova\": 4, \"reason\": \"UPF\"},\n",
        "    {\"keyword\": \"instant soup\", \"nova\": 4, \"reason\": \"UPF\"},\n",
        "    {\"keyword\": \"carbonated drink\", \"nova\": 4, \"reason\": \"UPF\"},\n",
        "    {\"keyword\": \"cola\", \"nova\": 4, \"reason\": \"UPF\"},\n",
        "    {\"keyword\": \"fruit drink\", \"nova\": 4, \"reason\": \"UPF\"},\n",
        "    {\"keyword\": \"energy drink\", \"nova\": 4, \"reason\": \"UPF\"},\n",
        "    {\"keyword\": \"chocolate\", \"nova\": 4, \"reason\": \"UPF\"},\n",
        "    {\"keyword\": \"ice cream\", \"nova\": 4, \"reason\": \"UPF\"},\n",
        "    {\"keyword\": \"margarine\", \"nova\": 4, \"reason\": \"UPF\"},\n",
        "    {\"keyword\": \"packaged bread\", \"nova\": 4, \"reason\": \"UPF\"},\n",
        "    {\"keyword\": \"burger\", \"nova\": 4, \"reason\": \"UPF\"},\n",
        "    {\"keyword\": \"hot dog\", \"nova\": 4, \"reason\": \"UPF\"},\n",
        "    {\"keyword\": \"fish fingers\", \"nova\": 4, \"reason\": \"UPF\"},\n",
        "    {\"keyword\": \"pizza\", \"nova\": 4, \"reason\": \"UPF\"},\n",
        "    {\"keyword\": \"lasagna\", \"nova\": 4, \"reason\": \"UPF\"},\n",
        "    {\"keyword\": \"breakfast cereal\", \"nova\": 4, \"reason\": \"UPF\"},\n",
        "    {\"keyword\": \"cereal bar\", \"nova\": 4, \"reason\": \"UPF\"},\n",
        "    {\"keyword\": \"cake\", \"nova\": 4, \"reason\": \"UPF\"},\n",
        "    {\"keyword\": \"biscuit\", \"nova\": 4, \"reason\": \"UPF\"},\n",
        "    {\"keyword\": \"pastry\", \"nova\": 4, \"reason\": \"UPF\"},\n",
        "    {\"keyword\": \"fruit yoghurt\", \"nova\": 4, \"reason\": \"UPF\"},\n",
        "    {\"keyword\": \"cocoa drink\", \"nova\": 4, \"reason\": \"UPF\"},\n",
        "    {\"keyword\": \"meal replacement\", \"nova\": 4, \"reason\": \"UPF\"},\n",
        "    {\"keyword\": \"protein powder\", \"nova\": 4, \"reason\": \"UPF\"},\n",
        "\n",
        "]\n"
      ],
      "metadata": {
        "id": "Gn8YBp2jl8PT"
      },
      "execution_count": 23,
      "outputs": []
    },
    {
      "cell_type": "code",
      "source": [
        "# --- 2. 构建规则 DataFrame ---\n",
        "nova_rules_df = pd.DataFrame(nova_example_rules_strict)\n",
        "\n",
        "# --- 3. 匹配函数（含优先级选择） ---\n",
        "def match_nova_with_conflict_handling(row, nova_rules_df):\n",
        "    matches = []\n",
        "    for _, rule in nova_rules_df.iterrows():\n",
        "        if rule[\"keyword\"] in row[\"Descriptionen_clean\"] or rule[\"keyword\"] in row[\"Foodgroupen_clean\"]:\n",
        "            matches.append(rule)\n",
        "    if not matches:\n",
        "        return pd.Series([None, None])\n",
        "    best_match = sorted(matches, key=lambda x: x[\"nova\"], reverse=True)[0]\n",
        "    return pd.Series([best_match[\"nova\"], best_match[\"reason\"]])\n",
        "\n",
        "# --- 4. 若无 Step1，初始化空列 ---\n",
        "if \"NOVA_step1\" not in intake_df.columns:\n",
        "    intake_df[\"NOVA_step1\"] = None\n",
        "    intake_df[\"match_reason_step1\"] = None\n",
        "\n",
        "# --- 5. Step2 匹配：只对 Step1 没命中的样本 ---\n",
        "# 提取需要 Step2 匹配的记录\n",
        "step2_target_df = intake_df[intake_df[\"NOVA_step1\"].isna()].copy()\n",
        "\n",
        "# 应用关键词规则匹配\n",
        "step2_target_df[[\"NOVA_step2\", \"match_reason_step2\"]] = step2_target_df.apply(\n",
        "    lambda row: match_nova_with_conflict_handling(row, nova_rules_df),\n",
        "    axis=1\n",
        ")\n",
        "\n",
        "# 把结果合并更新回 intake_df\n",
        "intake_df.update(step2_target_df[[\"NOVA_step2\", \"match_reason_step2\"]])"
      ],
      "metadata": {
        "id": "yHHxaKosmCi1"
      },
      "execution_count": 24,
      "outputs": []
    },
    {
      "cell_type": "code",
      "source": [
        "# 标记 Step2 应更新的行（NOVA_step1 是空的）\n",
        "step2_mask = intake_df[\"NOVA_step1\"].isna()\n",
        "\n",
        "# 执行 Step2 匹配逻辑\n",
        "step2_target_df = intake_df[step2_mask].copy()\n",
        "step2_target_df[[\"NOVA_step2\", \"match_reason_step2\"]] = step2_target_df.apply(\n",
        "    lambda row: match_nova_with_conflict_handling(row, nova_rules_df),\n",
        "    axis=1\n",
        ")\n",
        "\n",
        "# 直接赋值，确保新列写入 intake_df（而非 update）\n",
        "intake_df.loc[step2_mask, \"NOVA_step2\"] = step2_target_df[\"NOVA_step2\"]\n",
        "intake_df.loc[step2_mask, \"match_reason_step2\"] = step2_target_df[\"match_reason_step2\"]\n"
      ],
      "metadata": {
        "id": "26VQXR3unw_g"
      },
      "execution_count": 25,
      "outputs": []
    },
    {
      "cell_type": "code",
      "source": [
        "print(intake_df.columns)\n"
      ],
      "metadata": {
        "id": "ddA6bnoXoUVQ",
        "outputId": "0bdd0374-fc4c-4270-891d-684cf125fcfa",
        "colab": {
          "base_uri": "https://localhost:8080/"
        }
      },
      "execution_count": 26,
      "outputs": [
        {
          "output_type": "stream",
          "name": "stdout",
          "text": [
            "Index(['SurveyID', 'UserID', 'Source', 'Starttime', 'Submissiontime',\n",
            "       'Timetocomplete', 'Cookingoilused', 'Diet', 'Foodamount',\n",
            "       'Reasonforunusualfoodamount',\n",
            "       ...\n",
            "       'Day', 'weekday', 'ratio', 'UserID_clean', 'Foodgroupen_clean',\n",
            "       'Descriptionen_clean', 'NOVA_step1', 'match_reason_step1', 'NOVA_step2',\n",
            "       'match_reason_step2'],\n",
            "      dtype='object', length=172)\n"
          ]
        }
      ]
    },
    {
      "cell_type": "code",
      "source": [
        "# 只导出关键列，推荐保存到独立文件\n",
        "step2_output_cols = [\n",
        "    \"Descriptionen\", \"Foodgroupen\", \"Descriptionen_clean\", \"Foodgroupen_clean\",\n",
        "    \"NOVA_step2\", \"match_reason_step2\"\n",
        "]\n",
        "\n",
        "intake_df[step2_output_cols].dropna(subset=[\"NOVA_step2\"]).to_csv(\n",
        "    \"/content/drive/MyDrive/UPF-HFI/0723 outcome/step2_matched_only.csv\", index=False\n",
        ")"
      ],
      "metadata": {
        "id": "0XY_9c31nB6S"
      },
      "execution_count": 27,
      "outputs": []
    },
    {
      "cell_type": "code",
      "source": [
        "# 合并 step1 和 step2 成 final（可选）\n",
        "def select_nova_partial_final(row):\n",
        "    if pd.notna(row[\"NOVA_step1\"]):\n",
        "        return pd.Series([row[\"NOVA_step1\"], row[\"match_reason_step1\"]])\n",
        "    elif pd.notna(row[\"NOVA_step2\"]):\n",
        "        return pd.Series([row[\"NOVA_step2\"], row[\"match_reason_step2\"]])\n",
        "    else:\n",
        "        return pd.Series([None, None])\n",
        "\n",
        "intake_df[[\"NOVA_partial_final\", \"match_reason_partial_final\"]] = intake_df.apply(\n",
        "    select_nova_partial_final, axis=1\n",
        ")"
      ],
      "metadata": {
        "id": "ONtfhxt8nGJa"
      },
      "execution_count": 28,
      "outputs": []
    },
    {
      "cell_type": "code",
      "source": [
        "matched_count = intake_df[\"NOVA_step2\"].notna().sum()\n",
        "total_count = len(intake_df)\n",
        "print(f\"Step 2 匹配数量: {matched_count} / {total_count} （{matched_count / total_count:.2%}）\")\n"
      ],
      "metadata": {
        "id": "-dVXS99ysTYo",
        "outputId": "e5661fe9-4112-4a16-8c13-440a2cc77c48",
        "colab": {
          "base_uri": "https://localhost:8080/"
        }
      },
      "execution_count": 30,
      "outputs": [
        {
          "output_type": "stream",
          "name": "stdout",
          "text": [
            "Step 2 匹配数量: 13931 / 22217 （62.70%）\n"
          ]
        }
      ]
    }
  ]
}