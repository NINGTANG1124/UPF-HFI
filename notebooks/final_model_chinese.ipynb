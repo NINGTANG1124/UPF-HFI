{
  "nbformat": 4,
  "nbformat_minor": 0,
  "metadata": {
    "colab": {
      "provenance": [],
      "authorship_tag": "ABX9TyMH1PBhzgWxrwF8cZ7mFbf2",
      "include_colab_link": true
    },
    "kernelspec": {
      "name": "python3",
      "display_name": "Python 3"
    },
    "language_info": {
      "name": "python"
    }
  },
  "cells": [
    {
      "cell_type": "markdown",
      "metadata": {
        "id": "view-in-github",
        "colab_type": "text"
      },
      "source": [
        "<a href=\"https://colab.research.google.com/github/NINGTANG1124/UPF-HFI/blob/main/notebooks/final_model_chinese.ipynb\" target=\"_parent\"><img src=\"https://colab.research.google.com/assets/colab-badge.svg\" alt=\"Open In Colab\"/></a>"
      ]
    },
    {
      "cell_type": "code",
      "execution_count": 1,
      "metadata": {
        "colab": {
          "base_uri": "https://localhost:8080/"
        },
        "id": "qbMsdZWD0fg-",
        "outputId": "2ab49729-66ec-4b59-d5e5-822c645fff9a"
      },
      "outputs": [
        {
          "output_type": "stream",
          "name": "stdout",
          "text": [
            "Mounted at /content/drive\n"
          ]
        }
      ],
      "source": [
        "# connect to googledrive\n",
        "from google.colab import drive\n",
        "drive.mount('/content/drive')"
      ]
    },
    {
      "cell_type": "markdown",
      "source": [
        "## 合并 HFI 到建模数据表"
      ],
      "metadata": {
        "id": "KbTbpDQ10l0F"
      }
    },
    {
      "cell_type": "code",
      "source": [
        "import pandas as pd\n",
        "import numpy as np\n",
        "import statsmodels.api as sm\n",
        "import statsmodels.formula.api as smf\n",
        "import matplotlib.pyplot as plt\n",
        "pd.set_option('display.max_columns', 120)\n",
        "\n",
        "# 读取\n",
        "survey_df = pd.read_excel( \"/content/drive/MyDrive/UPF-HFI/Model/outcome/survey_with_HFI.xlsx\")\n",
        "df_upf    = pd.read_excel(\"/content/drive/MyDrive/UPF-HFI/Model/outcome/weighted_upf_percent.xlsx\")"
      ],
      "metadata": {
        "id": "b220Df6e0lSE"
      },
      "execution_count": 2,
      "outputs": []
    },
    {
      "cell_type": "code",
      "source": [
        "# ==== 2. 先检查 ====\n",
        "issues = []\n",
        "\n",
        "# 检查关键列\n",
        "for col in [\"UserID_clean\", \"HFI_binary\", \"HFI_raw_score\"]:\n",
        "    if col not in survey_df.columns:\n",
        "        issues.append(f\"survey 缺少 {col}\")\n",
        "\n",
        "for col in [\"UserID_clean\", \"weighted_upf_percent\"]:\n",
        "    if col not in df_upf.columns:\n",
        "        issues.append(f\"upf 缺少 {col}\")\n",
        "\n",
        "# 检查 ID 是否有缺失/重复\n",
        "for name, df in [(\"survey\", survey_df), (\"upf\", df_upf)]:\n",
        "    n_na = df[\"UserID_clean\"].isna().sum()\n",
        "    n_dup = df[\"UserID_clean\"].duplicated().sum()\n",
        "    if n_na:  issues.append(f\"{name} 的 UserID_clean 有 {n_na} 个缺失\")\n",
        "    if n_dup: issues.append(f\"{name} 的 UserID_clean 有 {n_dup} 个重复\")\n",
        "\n",
        "# 检查 upf_percent 是否数值\n",
        "bad_upf = pd.to_numeric(df_upf[\"weighted_upf_percent\"], errors=\"coerce\").isna().sum()\n",
        "if bad_upf:\n",
        "    issues.append(f\"weighted_upf_percent 有 {bad_upf} 个非数值/缺失\")\n",
        "\n",
        "# 打印检查结果\n",
        "if issues:\n",
        "    print(\"检查发现以下问题：\")\n",
        "    for i, msg in enumerate(issues, 1):\n",
        "        print(f\"{i}. {msg}\")\n",
        "else:\n",
        "    print(\"没有发现问题，可以直接处理\")\n"
      ],
      "metadata": {
        "colab": {
          "base_uri": "https://localhost:8080/"
        },
        "id": "kcnClRzt0pDk",
        "outputId": "dd2e14a0-b966-43cb-afa1-660b2f6808dc"
      },
      "execution_count": 3,
      "outputs": [
        {
          "output_type": "stream",
          "name": "stdout",
          "text": [
            "没有发现问题，可以直接处理\n"
          ]
        }
      ]
    },
    {
      "cell_type": "code",
      "source": [
        "# ==== 检查关键变量缺失情况 ====\n",
        "check_cols = [\"HFI_binary\", \"weighted_upf_percent\"]\n",
        "missing_info = {}\n",
        "\n",
        "for col in check_cols:\n",
        "    if col not in survey_df.columns and col not in df_upf.columns:\n",
        "        print(f\"数据中找不到列: {col}\")\n",
        "        continue\n",
        "\n",
        "    if col in survey_df.columns:\n",
        "        n_miss = survey_df[col].isna().sum()\n",
        "        missing_info[col] = n_miss\n",
        "        print(f\"{col} 在 survey_df 中缺失 {n_miss} 行\")\n",
        "\n",
        "    if col in df_upf.columns:\n",
        "        n_miss = df_upf[col].isna().sum()\n",
        "        missing_info[col] = n_miss\n",
        "        print(f\"{col} 在 upf_df 中缺失 {n_miss} 行\")\n",
        "\n",
        "# ==== 判断是否需要处理 ====\n",
        "if all(v == 0 for v in missing_info.values()):\n",
        "    print(\"两列都没有缺失，可以直接进入合并/建模\")\n",
        "else:\n",
        "    print(\"存在缺失，需要处理后再合并\")\n"
      ],
      "metadata": {
        "colab": {
          "base_uri": "https://localhost:8080/"
        },
        "id": "UiHsSv6y0q3_",
        "outputId": "180354b5-2955-4006-b3ce-f61de5d4132b"
      },
      "execution_count": 4,
      "outputs": [
        {
          "output_type": "stream",
          "name": "stdout",
          "text": [
            "HFI_binary 在 survey_df 中缺失 18 行\n",
            "weighted_upf_percent 在 upf_df 中缺失 0 行\n",
            "存在缺失，需要处理后再合并\n"
          ]
        }
      ]
    },
    {
      "cell_type": "code",
      "source": [
        "# 1. 合并 survey 和 upf\n",
        "df_model = pd.merge(survey_df, df_upf, on=\"UserID_clean\", how=\"inner\")\n",
        "\n",
        "# 2. 删掉 HFI_binary 缺失的\n",
        "df_model = df_model.dropna(subset=[\"HFI_binary\"])\n",
        "\n",
        "print(\"合并后样本量：\", len(df_model))\n"
      ],
      "metadata": {
        "colab": {
          "base_uri": "https://localhost:8080/"
        },
        "id": "pVgGrl7c0syV",
        "outputId": "4bfd710b-398a-4da7-ac25-e468b22466e3"
      },
      "execution_count": 5,
      "outputs": [
        {
          "output_type": "stream",
          "name": "stdout",
          "text": [
            "合并后样本量： 308\n"
          ]
        }
      ]
    },
    {
      "cell_type": "code",
      "source": [
        "# 导出合并后的数据\n",
        "df_model.to_excel(\"/content/drive/MyDrive/UPF-HFI/Model/outcome/merged_model.xlsx\", index=False)\n",
        "\n",
        "print(\"已导出到 /content/drive/MyDrive/UPF-HFI/Model/outcome/merged_model.xlsx\")\n"
      ],
      "metadata": {
        "colab": {
          "base_uri": "https://localhost:8080/"
        },
        "id": "VmEpluWC2aUe",
        "outputId": "e402564a-f700-440c-a3ed-0fb94d7f9d17"
      },
      "execution_count": 6,
      "outputs": [
        {
          "output_type": "stream",
          "name": "stdout",
          "text": [
            "已导出到 /content/drive/MyDrive/UPF-HFI/Model/outcome/merged_model.xlsx\n"
          ]
        }
      ]
    },
    {
      "cell_type": "markdown",
      "source": [
        "# 0. 准备：工具函数"
      ],
      "metadata": {
        "id": "RqK9gry95qmY"
      }
    },
    {
      "cell_type": "code",
      "source": [
        "# =============================================\n",
        "# ============  Imports & Settings  ============\n",
        "# =============================================\n",
        "import numpy as np\n",
        "import pandas as pd\n",
        "import statsmodels.formula.api as smf\n",
        "import statsmodels.api as sm\n",
        "import matplotlib.pyplot as plt\n",
        "\n",
        "pd.set_option(\"display.max_columns\", 120)\n",
        "\n",
        "# ------------------------------------------------\n",
        "# ----- 正态分位工具（SciPy优先，内置做后备） -----\n",
        "# ------------------------------------------------\n",
        "try:\n",
        "    from scipy.stats import norm as _norm\n",
        "    def _zcrit(alpha=0.05):   # 双侧 alpha -> z*\n",
        "        return _norm.ppf(1 - alpha/2)\n",
        "    def _cdf(x):\n",
        "        return _norm.cdf(x)\n",
        "except Exception:\n",
        "    from statistics import NormalDist\n",
        "    _nd = NormalDist()\n",
        "    def _zcrit(alpha=0.05):\n",
        "        return _nd.inv_cdf(1 - alpha/2)\n",
        "    def _cdf(x):\n",
        "        return _nd.cdf(x)\n",
        "\n",
        "# --------------------------------\n",
        "# ----- OLS 拟合（稳健方差） -----\n",
        "# --------------------------------\n",
        "def fit_ols(formula, data, cov_type=\"HC3\"):\n",
        "    \"\"\"\n",
        "    OLS 拟合 + 稳健标准误（默认 HC3）\n",
        "    返回：robust 结果对象\n",
        "    \"\"\"\n",
        "    model = smf.ols(formula, data=data).fit()\n",
        "    if cov_type:\n",
        "        model = model.get_robustcov_results(cov_type=cov_type)\n",
        "    return model\n",
        "\n",
        "# ----------------------------------------------------------\n",
        "# ----- 统一结果取值（兼容 ndarray / pandas.Series） -----\n",
        "# ----------------------------------------------------------\n",
        "def _names_params_bse_p(res):\n",
        "    \"\"\"\n",
        "    统一把 params/bse/pvalues 取成 Series，并带上模型列名。\n",
        "    无论 statsmodels 返回 ndarray 还是 Series 都能兼容。\n",
        "    \"\"\"\n",
        "    names   = list(res.model.exog_names)\n",
        "    params  = pd.Series(np.asarray(res.params).ravel(),  index=names)\n",
        "    bse     = pd.Series(np.asarray(res.bse).ravel(),     index=names)\n",
        "    pvalues = pd.Series(np.asarray(res.pvalues).ravel(), index=names)\n",
        "    return names, params, bse, pvalues\n",
        "\n",
        "def get_term(result, term, default=np.nan):\n",
        "    \"\"\"安全获取某个项的系数（不存在则给默认值）。\"\"\"\n",
        "    _, params, _, _ = _names_params_bse_p(result)\n",
        "    return params.get(term, default)\n",
        "\n",
        "# ------------------------------------------------------------\n",
        "# ----- 置信区间 / 线性组合（边际效应）/ 交互整体检验 -----\n",
        "# ------------------------------------------------------------\n",
        "def coef_ci(result, term, alpha=0.05):\n",
        "    \"\"\"\n",
        "    取指定项的点估计、95%CI 和 p 值；若项不存在返回 None\n",
        "    \"\"\"\n",
        "    names, params, bse, pvalues = _names_params_bse_p(result)\n",
        "    if term not in params.index:\n",
        "        return None\n",
        "    est = params[term]\n",
        "    se  = bse[term]\n",
        "    z   = _zcrit(alpha)\n",
        "    ci  = (est - z*se, est + z*se)\n",
        "    return est, ci, pvalues[term]\n",
        "\n",
        "def linear_combo(result, combo):\n",
        "    \"\"\"\n",
        "    线性组合估计（用于交互项下的 HFI 边际效应等）\n",
        "    combo 例子：\n",
        "      {'HFI_binary':1,\n",
        "       \"HFI_binary:C(ethn_participant, Treatment(reference='White'))[T.Asian]\":1}\n",
        "    返回：(点估计, 95%CI, p 值)\n",
        "    \"\"\"\n",
        "    names, params, _, _ = _names_params_bse_p(result)\n",
        "    cov = np.asarray(result.cov_params())\n",
        "    w = np.zeros(len(names))\n",
        "    for k, v in combo.items():\n",
        "        if k in names:\n",
        "            w[names.index(k)] = v\n",
        "    est = float(np.dot(w, params.values))\n",
        "    var = float(np.dot(w, np.dot(cov, w)))\n",
        "    se  = np.sqrt(var)\n",
        "    if se > 0:\n",
        "        zval = est / se\n",
        "        ci   = (est - _zcrit(0.05)*se, est + _zcrit(0.05)*se)\n",
        "        p    = 2 * (1 - _cdf(abs(zval)))\n",
        "    else:\n",
        "        ci, p = (np.nan, np.nan), np.nan\n",
        "    return est, ci, p\n",
        "\n",
        "def joint_test_interaction(result, prefix):\n",
        "    \"\"\"\n",
        "    交互整体检验：检验所有以 prefix 开头的系数为 0\n",
        "    例如 prefix = \"HFI_binary:C(ethn_participant, Treatment(reference='White'))\"\n",
        "    \"\"\"\n",
        "    names, params, _, _ = _names_params_bse_p(result)\n",
        "    terms = [nm for nm in names if nm.startswith(prefix)]\n",
        "    if not terms:\n",
        "        return np.nan\n",
        "    R = np.zeros((len(terms), len(names)))\n",
        "    for i, t in enumerate(terms):\n",
        "        R[i, names.index(t)] = 1.0\n",
        "    ft = result.f_test(R)\n",
        "    return float(np.asarray(ft.pvalue))\n",
        "\n",
        "# -------------------------\n",
        "# ----- 绘图（coefplot） -----\n",
        "# -------------------------\n",
        "def coefplot(ax, labels, est, lo, hi, title, xlabel=\"Coefficient (pp)\"):\n",
        "    \"\"\"\n",
        "    系数图（点 + 95%CI）\n",
        "    labels: y 轴标签列表\n",
        "    est/lo/hi: 对应点估计与置信区间上下界的等长列表\n",
        "    \"\"\"\n",
        "    y = np.arange(len(labels))\n",
        "    ax.errorbar(est, y, xerr=[est-lo, hi-est], fmt='o', capsize=4)\n",
        "    ax.set_yticks(y)\n",
        "    ax.set_yticklabels(labels)\n",
        "    ax.axvline(0, linestyle='--', linewidth=1)\n",
        "    ax.set_xlabel(xlabel)\n",
        "    ax.set_title(title)\n",
        "    ax.invert_yaxis()\n"
      ],
      "metadata": {
        "id": "BsLbysJJ5r1m"
      },
      "execution_count": 7,
      "outputs": []
    },
    {
      "cell_type": "markdown",
      "source": [
        "# 1. 族裔合并"
      ],
      "metadata": {
        "id": "uGbMOddw5xdb"
      }
    },
    {
      "cell_type": "code",
      "source": [
        "assert \"ethn_participant\" in df_model.columns, \"未找到 ethn_participant 列（应为1–9编码）。\"\n",
        "\n",
        "# 备份原始九类编码\n",
        "df_model = df_model.copy()\n",
        "df_model.rename(columns={\"ethn_participant\": \"ethn_participant_raw\"}, inplace=True)\n",
        "\n",
        "# 强制转换为整数编码，兼容缺失\n",
        "codes = pd.to_numeric(df_model[\"ethn_participant_raw\"], errors=\"coerce\").astype(\"Int64\")\n",
        "\n",
        "# 映射到三大类\n",
        "code_to_ethn3 = {\n",
        "    1: \"White\", 2: \"White\",\n",
        "    3: \"Asian\", 4: \"Asian\", 5: \"Asian\", 6: \"Asian\",\n",
        "    7: \"All other ethnicities\", 8: \"All other ethnicities\", 9: \"All other ethnicities\"\n",
        "}\n",
        "df_model[\"ethn_participant\"] = codes.map(code_to_ethn3)\n",
        "\n",
        "# 设定为分类变量并固定顺序（参考组=White）\n",
        "df_model[\"ethn_participant\"] = pd.Categorical(\n",
        "    df_model[\"ethn_participant\"],\n",
        "    categories=[\"White\", \"Asian\", \"All other ethnicities\"],\n",
        "    ordered=False\n",
        ")\n",
        "\n",
        "# 健诊：展示原始九类分布与三类分布\n",
        "print(\"原始九类（1–9）计数：\")\n",
        "print(codes.value_counts(dropna=False).sort_index())\n",
        "print(\"\\n合并后三类计数（含缺失）：\")\n",
        "print(df_model[\"ethn_participant\"].value_counts(dropna=False))\n",
        "\n",
        "# 若存在异常编码（非1–9），提示但不报错\n",
        "invalid = codes[~codes.isin(list(range(1,10))) & codes.notna()].unique()\n",
        "if len(invalid) > 0:\n",
        "    print(f\"\\n[提示] 发现非常规族裔编码：{list(invalid)}；已在合并后记为缺失。\")"
      ],
      "metadata": {
        "colab": {
          "base_uri": "https://localhost:8080/"
        },
        "id": "sGJQurQt5vFt",
        "outputId": "a298e568-e907-486f-83f0-a401e769fe64"
      },
      "execution_count": 8,
      "outputs": [
        {
          "output_type": "stream",
          "name": "stdout",
          "text": [
            "原始九类（1–9）计数：\n",
            "ethn_participant_raw\n",
            "1    156\n",
            "2     13\n",
            "3     76\n",
            "4     10\n",
            "5      8\n",
            "6      6\n",
            "7     33\n",
            "8      4\n",
            "9      2\n",
            "Name: count, dtype: Int64\n",
            "\n",
            "合并后三类计数（含缺失）：\n",
            "ethn_participant\n",
            "White                    169\n",
            "Asian                    100\n",
            "All other ethnicities     39\n",
            "Name: count, dtype: int64\n"
          ]
        }
      ]
    },
    {
      "cell_type": "markdown",
      "source": [
        "# 2. Core-A 主模型（不含 SES）"
      ],
      "metadata": {
        "id": "By9VfVzq6c5G"
      }
    },
    {
      "cell_type": "code",
      "source": [
        "y = \"weighted_upf_percent\"\n",
        "coreA_cols = [y, \"HFI_binary\", \"age_participant\", \"gender_participant\", \"ethn_participant\", \"child_numbers\"]\n",
        "\n",
        "dat_coreA = df_model[coreA_cols].dropna().copy()\n",
        "print(f\"\\nCore-A 样本量: {len(dat_coreA)}\")\n",
        "\n",
        "form_coreA = (\n",
        "    f\"{y} ~ HFI_binary\"\n",
        "    \" + age_participant\"\n",
        "    \" + C(gender_participant)\"\n",
        "    \" + C(ethn_participant, Treatment(reference='White'))\"\n",
        "    \" + child_numbers\"\n",
        ")\n",
        "\n",
        "res_coreA = fit_ols(form_coreA, dat_coreA, cov_type=\"HC3\")\n",
        "hfi_core = coef_ci(res_coreA, \"HFI_binary\")\n",
        "if hfi_core:\n",
        "    est, ci, p = hfi_core\n",
        "    print(f\"Core-A: HFI vs secure 的差异 = {est:.2f} pp (95%CI {ci[0]:.2f}, {ci[1]:.2f}), p={p:.3f}\")\n"
      ],
      "metadata": {
        "colab": {
          "base_uri": "https://localhost:8080/"
        },
        "id": "YxyQxiyn6gw5",
        "outputId": "561676a7-9cba-4b34-da62-731b42af8d59"
      },
      "execution_count": 9,
      "outputs": [
        {
          "output_type": "stream",
          "name": "stdout",
          "text": [
            "\n",
            "Core-A 样本量: 304\n",
            "Core-A: HFI vs secure 的差异 = 2.32 pp (95%CI -0.72, 5.37), p=0.136\n"
          ]
        }
      ]
    },
    {
      "cell_type": "code",
      "source": [
        "need_cols = coreA_cols  # 与 Core-A 一致\n",
        "mask_keep = df_model[need_cols].notna().all(axis=1)\n",
        "kept_coreA     = df_model.loc[mask_keep].copy()\n",
        "dropped_coreA  = df_model.loc[~mask_keep].copy()\n",
        "\n",
        "print(f\"Core-A 保留样本: {len(kept_coreA)}\")\n",
        "print(f\"Core-A 剔除样本: {len(dropped_coreA)}\")\n",
        "\n",
        "# 识别一个ID列（若没有就用行号）\n",
        "id_candidates = [\"UserID_clean\",\"UserID\",\"participant_id\",\"id\",\"ID\",\"BiB_ID\"]\n",
        "id_col = next((c for c in id_candidates if c in df_model.columns), None)\n",
        "\n",
        "# 标注每行缺失了哪些变量\n",
        "def _missing_vars(row):\n",
        "    return [c for c in need_cols if pd.isna(row[c])]\n",
        "\n",
        "dropped_coreA[\"missing_vars\"] = dropped_coreA.apply(_missing_vars, axis=1)\n",
        "dropped_coreA[\"missing_vars_str\"] = dropped_coreA[\"missing_vars\"].apply(lambda xs: \", \".join(xs))\n",
        "\n",
        "# ----- 1) 每个变量导致剔除的计数 -----\n",
        "print(\"\\n每个变量的缺失计数（降序）：\")\n",
        "print(df_model[need_cols].isna().sum().sort_values(ascending=False))"
      ],
      "metadata": {
        "colab": {
          "base_uri": "https://localhost:8080/"
        },
        "id": "GpEltl5q76nk",
        "outputId": "2f021a40-3e96-480d-dfc1-55cf09b3b770"
      },
      "execution_count": 10,
      "outputs": [
        {
          "output_type": "stream",
          "name": "stdout",
          "text": [
            "Core-A 保留样本: 304\n",
            "Core-A 剔除样本: 4\n",
            "\n",
            "每个变量的缺失计数（降序）：\n",
            "child_numbers           4\n",
            "weighted_upf_percent    0\n",
            "HFI_binary              0\n",
            "age_participant         0\n",
            "gender_participant      0\n",
            "ethn_participant        0\n",
            "dtype: int64\n"
          ]
        }
      ]
    },
    {
      "cell_type": "code",
      "source": [
        "# ===== Figure 1: Core-A 的 HFI 系数（pp）— 简洁标题版 =====\n",
        "est, ci, p = coef_ci(res_coreA, \"HFI_binary\")  # 取系数与CI\n",
        "lo, hi = ci\n",
        "\n",
        "fig, ax = plt.subplots(figsize=(5,3))\n",
        "coefplot(\n",
        "    ax,\n",
        "    labels=[\"HFI (Core-A)\"],\n",
        "    est=est, lo=lo, hi=hi,\n",
        "    title=\"Figure 1. Effect of HFI on UPF% (Core-A)\",   # ← 无数值\n",
        "    xlabel=\"Coefficient (pp)\"\n",
        ")\n",
        "\n",
        "# 让 0 在中间：对称设置 x 轴范围\n",
        "half = max(abs(lo), abs(hi)) * 1.15\n",
        "ax.set_xlim(-half, half)\n",
        "\n",
        "plt.tight_layout()\n",
        "plt.show()\n"
      ],
      "metadata": {
        "colab": {
          "base_uri": "https://localhost:8080/",
          "height": 307
        },
        "id": "NFyW-7Yb8a32",
        "outputId": "97b0c984-0789-4099-bf6a-8a2d82ab1611"
      },
      "execution_count": 32,
      "outputs": [
        {
          "output_type": "display_data",
          "data": {
            "text/plain": [
              "<Figure size 500x300 with 1 Axes>"
            ],
            "image/png": "[encoded data removed]"
          },
          "metadata": {}
        }
      ]
    },
    {
      "cell_type": "markdown",
      "source": [
        "# 3. Core-B 交互（HFI × 族裔三类；参考White）"
      ],
      "metadata": {
        "id": "v4u2cjeQ9zLT"
      }
    },
    {
      "cell_type": "code",
      "source": [
        "# # 输出：各族裔下HFI边际效应 + 交互整体检验p值\n",
        "form_coreB = (\n",
        "    f\"{y} ~ HFI_binary\"\n",
        "    \" + age_participant\"\n",
        "    \" + C(gender_participant)\"\n",
        "    \" + C(ethn_participant, Treatment(reference='White'))\"\n",
        "    \" + child_numbers\"\n",
        "    \" + HFI_binary:C(ethn_participant, Treatment(reference='White'))\"\n",
        ")\n",
        "\n",
        "# 为避免样本不同导致的差异，这里用“交互模型所需完整样本”\n",
        "need_cols_B = coreA_cols  # 交互不增加额外主效应列\n",
        "dat_coreB = df_model[need_cols_B].dropna().copy()\n",
        "print(f\"\\nCore-B 样本量: {len(dat_coreB)}\")\n",
        "res_coreB = fit_ols(form_coreB, dat_coreB, cov_type=\"HC3\")\n",
        "\n",
        "# 计算各族裔下 HFI 的边际效应\n",
        "groups = [\"White\", \"Asian\", \"All other ethnicities\"]\n",
        "effects = []\n",
        "for g in groups:\n",
        "    if g == \"White\":\n",
        "        combo = {\"HFI_binary\":1.0}  # 参考组无交互项\n",
        "    else:\n",
        "        combo = {\"HFI_binary\":1.0, f\"HFI_binary:C(ethn_participant, Treatment(reference='White'))[T.{g}]\":1.0}\n",
        "    e, ci_g, p_g = linear_combo(res_coreB, combo)\n",
        "    effects.append((g, e, ci_g, p_g))\n",
        "    print(f\"{g}: ΔUPF = {e:.2f} pp (95%CI {ci_g[0]:.2f}, {ci_g[1]:.2f}), p={p_g:.3f}\")\n",
        "\n",
        "p_inter = joint_test_interaction(res_coreB, \"HFI_binary:C(ethn_participant, Treatment(reference='White'))\")\n",
        "print(f\"交互整体检验 p-value = {p_inter:.3f}\")"
      ],
      "metadata": {
        "colab": {
          "base_uri": "https://localhost:8080/"
        },
        "id": "yFYlVSou93Yo",
        "outputId": "815fa8f9-f763-4eaf-b7b3-916d75005607"
      },
      "execution_count": 12,
      "outputs": [
        {
          "output_type": "stream",
          "name": "stdout",
          "text": [
            "\n",
            "Core-B 样本量: 304\n",
            "White: ΔUPF = 0.99 pp (95%CI -3.23, 5.22), p=0.644\n",
            "Asian: ΔUPF = 2.16 pp (95%CI -2.92, 7.25), p=0.404\n",
            "All other ethnicities: ΔUPF = 7.48 pp (95%CI -0.94, 15.90), p=0.082\n",
            "交互整体检验 p-value = 0.405\n"
          ]
        }
      ]
    },
    {
      "cell_type": "code",
      "source": [
        "# Figure 2: 三族裔并列的边际效应图\n",
        "fig2, ax2 = plt.subplots(figsize=(6,3.5))\n",
        "labs = [g for g,_,_,_ in effects]\n",
        "ests = [e for _,e,_,_ in effects]\n",
        "los  = [ci[0] for _,_,ci,_ in effects]\n",
        "his  = [ci[1] for _,_,ci,_ in effects]\n",
        "coefplot(ax2, labs, ests, los, his, title=f\"Figure 2. HFI effect by ethnicity (p-int={p_inter:.3f})\")\n",
        "plt.show()"
      ],
      "metadata": {
        "colab": {
          "base_uri": "https://localhost:8080/",
          "height": 372
        },
        "id": "G-7pvsCN9_Kx",
        "outputId": "f97d776b-2a46-425a-9e5b-b7d61f45ea71"
      },
      "execution_count": 13,
      "outputs": [
        {
          "output_type": "display_data",
          "data": {
            "text/plain": [
              "<Figure size 600x350 with 1 Axes>"
            ],
            "image/png": "[encoded data removed]"
          },
          "metadata": {}
        }
      ]
    },
    {
      "cell_type": "markdown",
      "source": [
        "# 4. Robustness（结构性混杂）：一次性加入 SES（income, employ）"
      ],
      "metadata": {
        "id": "rYscG3p3-CTT"
      }
    },
    {
      "cell_type": "code",
      "source": [
        "# 报告：HFI 系数衰减百分比\n",
        "# 同一样本比较 + 衰减百分比\n",
        "# =========================================\n",
        "ses_cols = coreA_cols + [\"income\", \"employ\"]\n",
        "dat_R = df_model[ses_cols].dropna().copy()\n",
        "print(f\"\\nRobustness(+SES) 样本量（统一样本）: {len(dat_R)}\")\n",
        "\n",
        "res_coreA_sameN = fit_ols(form_coreA, dat_R, cov_type=\"HC3\")\n",
        "res_ses         = fit_ols(form_coreA + \" + income + C(employ)\", dat_R, cov_type=\"HC3\")\n",
        "\n",
        "# --- 关键：用 get_term 取系数，兼容 ndarray/Series ---\n",
        "b_core = get_term(res_coreA_sameN, \"HFI_binary\", np.nan)\n",
        "b_ses  = get_term(res_ses,         \"HFI_binary\", np.nan)\n",
        "\n",
        "ci_core_t = coef_ci(res_coreA_sameN, \"HFI_binary\")\n",
        "ci_ses_t  = coef_ci(res_ses,         \"HFI_binary\")\n",
        "ci_core = ci_core_t[1] if ci_core_t else (np.nan, np.nan)\n",
        "ci_ses  = ci_ses_t[1]  if ci_ses_t  else (np.nan, np.nan)\n",
        "\n",
        "atten = np.nan\n",
        "if pd.notna(b_core) and not np.isclose(b_core, 0.0):\n",
        "    atten = 100.0 * (b_core - b_ses) / abs(b_core)\n",
        "\n",
        "print(f\"HFI 系数：Core-A = {b_core:.2f} pp  →  +SES = {b_ses:.2f} pp；衰减 {atten:.1f}%\")\n"
      ],
      "metadata": {
        "colab": {
          "base_uri": "https://localhost:8080/"
        },
        "id": "Vs0j5Jff-EFT",
        "outputId": "4df45eae-ea9b-4a08-d467-56cac91484d5"
      },
      "execution_count": 14,
      "outputs": [
        {
          "output_type": "stream",
          "name": "stdout",
          "text": [
            "\n",
            "Robustness(+SES) 样本量（统一样本）: 299\n",
            "HFI 系数：Core-A = 2.75 pp  →  +SES = 3.34 pp；衰减 -21.3%\n"
          ]
        }
      ]
    },
    {
      "cell_type": "code",
      "source": [
        "# ----- 绘图（Figure 3）-----\n",
        "fig3, ax3 = plt.subplots(figsize=(5.5, 3.2))\n",
        "coefplot(\n",
        "    ax3,\n",
        "    [\"Core-A\", \"+SES\"],\n",
        "    [b_core, b_ses],\n",
        "    [ci_core[0], ci_ses[0]],\n",
        "    [ci_core[1], ci_ses[1]],\n",
        "    title=f\"Figure 3. HFI coefficient: Core-A vs +SES (atten={atten:.1f}%)\"\n",
        ")\n",
        "plt.show()"
      ],
      "metadata": {
        "colab": {
          "base_uri": "https://localhost:8080/",
          "height": 349
        },
        "id": "_g_pE27U-rSP",
        "outputId": "e793d7a3-6d60-46fe-d737-19ae4be64a31"
      },
      "execution_count": 15,
      "outputs": [
        {
          "output_type": "display_data",
          "data": {
            "text/plain": [
              "<Figure size 550x320 with 1 Axes>"
            ],
            "image/png": "[encoded data removed]"
          },
          "metadata": {}
        }
      ]
    },
    {
      "cell_type": "markdown",
      "source": [
        "# 5. Sensitivity（关键假设变化）"
      ],
      "metadata": {
        "id": "1ZWmcPBk-zzX"
      }
    },
    {
      "cell_type": "markdown",
      "source": [
        "## 5.1 HFI 三分类(有序) + 趋势检验"
      ],
      "metadata": {
        "id": "1dc9xLPg-11O"
      }
    },
    {
      "cell_type": "code",
      "source": [
        "# 期望已有列：HFI_category ∈ [\"Food secure\",\"Low food security\",\"Very low food security\"]\n",
        "if \"HFI_category\" in df_model.columns:\n",
        "    # 统一类型与顺序\n",
        "    ord_dtype = pd.api.types.CategoricalDtype(\n",
        "        categories=[\"Food secure\",\"Low food security\",\"Very low food security\"], ordered=True\n",
        "    )\n",
        "    df_model[\"HFI_category\"] = df_model[\"HFI_category\"].astype(ord_dtype)\n",
        "\n",
        "    sens_cols = coreA_cols + [\"HFI_category\"]\n",
        "    dat_sens  = df_model[sens_cols].dropna().copy()\n",
        "    print(f\"\\nSensitivity-有序三分类 样本量: {len(dat_sens)}\")\n",
        "\n",
        "    # (a) 类别模型（相对食品安全组）\n",
        "    form_cat = (\n",
        "        f\"{y} ~ C(HFI_category, Treatment(reference='Food secure'))\"\n",
        "        \" + age_participant + C(gender_participant)\"\n",
        "        \" + C(ethn_participant, Treatment(reference='White'))\"\n",
        "        \" + child_numbers\"\n",
        "    )\n",
        "    res_cat = fit_ols(form_cat, dat_sens, cov_type=\"HC3\")\n",
        "    for lev in [\"Low food security\",\"Very low food security\"]:\n",
        "        term = f\"C(HFI_category, Treatment(reference='Food secure'))[T.{lev}]\"\n",
        "        est, ci, p = coef_ci(res_cat, term)\n",
        "        print(f\"{lev}: {est:.2f} pp (95%CI {ci[0]:.2f}, {ci[1]:.2f}), p={p:.3f}\")\n",
        "\n",
        "    # (b) 趋势检验（0,1,2 连续）\n",
        "    tr_map = {\"Food secure\":0, \"Low food security\":1, \"Very low food security\":2}\n",
        "    dat_sens[\"HFI_trend\"] = dat_sens[\"HFI_category\"].map(tr_map).astype(float)\n",
        "    form_trend = (\n",
        "        f\"{y} ~ HFI_trend\"\n",
        "        \" + age_participant + C(gender_participant)\"\n",
        "        \" + C(ethn_participant, Treatment(reference='White'))\"\n",
        "        \" + child_numbers\"\n",
        "    )\n",
        "    res_trend = fit_ols(form_trend, dat_sens, cov_type=\"HC3\")\n",
        "    est, ci, p = coef_ci(res_trend, \"HFI_trend\")\n",
        "    print(f\"p-trend: 每增加一档HFI，UPF% 变化 {est:.2f} pp (95%CI {ci[0]:.2f}, {ci[1]:.2f}), p={p:.3f}\")\n",
        "else:\n",
        "    print(\"\\n[跳过] 未找到 HFI_category（三分类）列，已跳过敏感性-三分类与趋势检验。\")\n"
      ],
      "metadata": {
        "colab": {
          "base_uri": "https://localhost:8080/"
        },
        "id": "3_9p82Xw-0e5",
        "outputId": "d4c8bda5-98e3-4505-cf4f-84609004268f"
      },
      "execution_count": 16,
      "outputs": [
        {
          "output_type": "stream",
          "name": "stdout",
          "text": [
            "\n",
            "Sensitivity-有序三分类 样本量: 304\n",
            "Low food security: 0.87 pp (95%CI -3.11, 4.85), p=0.668\n",
            "Very low food security: 3.80 pp (95%CI -0.06, 7.65), p=0.055\n",
            "p-trend: 每增加一档HFI，UPF% 变化 1.75 pp (95%CI -0.11, 3.60), p=0.066\n"
          ]
        }
      ]
    },
    {
      "cell_type": "markdown",
      "source": [
        "## 5.2 探索性交互：HFI × I(child_numbers≥3) （附录）"
      ],
      "metadata": {
        "id": "qoVD_os9_Bya"
      }
    },
    {
      "cell_type": "code",
      "source": [
        "df_model[\"many_children\"] = (df_model[\"child_numbers\"] >= 3).astype(\"int\")\n",
        "cols_c3 = coreA_cols + [\"many_children\"]\n",
        "dat_c3  = df_model[cols_c3].dropna().copy()\n",
        "form_c3 = (\n",
        "    f\"{y} ~ HFI_binary + many_children + HFI_binary:many_children\"\n",
        "    \" + age_participant + C(gender_participant)\"\n",
        "    \" + C(ethn_participant, Treatment(reference='White'))\"\n",
        "    \" + child_numbers\"\n",
        ")\n",
        "res_c3 = fit_ols(form_c3, dat_c3, cov_type=\"HC3\")\n",
        "e, ci, p = coef_ci(res_c3, \"HFI_binary:many_children\")\n",
        "print(f\"[探索] HFI×(≥3个孩子) 交互 = {e:.2f} pp (95%CI {ci[0]:.2f}, {ci[1]:.2f}), p={p:.3f}\")\n"
      ],
      "metadata": {
        "colab": {
          "base_uri": "https://localhost:8080/"
        },
        "id": "fIr0BbV9_Diz",
        "outputId": "7683b1fc-1a9e-40d8-f94d-e0ec7cc28037"
      },
      "execution_count": 17,
      "outputs": [
        {
          "output_type": "stream",
          "name": "stdout",
          "text": [
            "[探索] HFI×(≥3个孩子) 交互 = 0.37 pp (95%CI -6.06, 6.79), p=0.911\n"
          ]
        }
      ]
    },
    {
      "cell_type": "markdown",
      "source": [
        "## 5.3 族裔复核交互方向（附录）"
      ],
      "metadata": {
        "id": "IsSf7-9I_O6D"
      }
    },
    {
      "cell_type": "code",
      "source": [
        "# ============ 附录：族裔交互方向复核（仅三类） ============\n",
        "# 目标：核对各组 HFI 边际效应方向 & 成对比较\n",
        "# ============================================================\n",
        "\n",
        "# ----- 保证与 Core-B 同样本 -----\n",
        "need_cols_B = [y, \"HFI_binary\", \"age_participant\", \"gender_participant\",\n",
        "               \"ethn_participant\", \"child_numbers\"]\n",
        "dat_coreB = df_model[need_cols_B].dropna().copy()\n",
        "print(f\"[Appendix] 样本量（与Core-B一致）: {len(dat_coreB)}\")\n",
        "\n",
        "# ----- 重新拟合交互模型（参考组=White） -----\n",
        "form_coreB = (\n",
        "    f\"{y} ~ HFI_binary\"\n",
        "    \" + age_participant\"\n",
        "    \" + C(gender_participant)\"\n",
        "    \" + C(ethn_participant, Treatment(reference='White'))\"\n",
        "    \" + child_numbers\"\n",
        "    \" + HFI_binary:C(ethn_participant, Treatment(reference='White'))\"\n",
        ")\n",
        "res_coreB = fit_ols(form_coreB, dat_coreB, cov_type=\"HC3\")\n",
        "\n",
        "# ----- 各组 HFI 边际效应（pp） -----\n",
        "groups = [\"White\", \"Asian\", \"All other ethnicities\"]\n",
        "appendix_eff = []\n",
        "for g in groups:\n",
        "    if g == \"White\":\n",
        "        combo = {\"HFI_binary\": 1.0}\n",
        "    else:\n",
        "        combo = {\n",
        "            \"HFI_binary\": 1.0,\n",
        "            f\"HFI_binary:C(ethn_participant, Treatment(reference='White'))[T.{g}]\": 1.0\n",
        "        }\n",
        "    est_g, ci_g, p_g = linear_combo(res_coreB, combo)\n",
        "    appendix_eff.append((g, est_g, ci_g[0], ci_g[1], p_g))\n",
        "\n",
        "print(\"\\n[各族裔组 HFI 边际效应]（pp）\")\n",
        "for g, e, lo, hi, p in appendix_eff:\n",
        "    print(f\"- {g:>22}: {e:.2f}  (95%CI {lo:.2f}, {hi:.2f}), p={p:.3f}\")\n",
        "\n",
        "# ----- 交互整体检验 -----\n",
        "p_inter = joint_test_interaction(res_coreB, \"HFI_binary:C(ethn_participant, Treatment(reference='White'))\")\n",
        "print(f\"\\n[交互整体检验] p-int = {p_inter:.3f}\")\n",
        "\n",
        "# ----- 成对比较：效应差（组A - 组B） -----\n",
        "def pair_diff(result, A, B):\n",
        "    \"\"\"差值 = Effect_A - Effect_B\"\"\"\n",
        "    # White 的效应是 b_HFI；其他组是在此基础上 + 各自交互项\n",
        "    termA = f\"HFI_binary:C(ethn_participant, Treatment(reference='White'))[T.{A}]\"\n",
        "    termB = f\"HFI_binary:C(ethn_participant, Treatment(reference='White'))[T.{B}]\"\n",
        "    combo = {}\n",
        "    if A != \"White\": combo[termA] = 1.0\n",
        "    if B != \"White\": combo[termB] = -1.0\n",
        "    # White 的主效应在差分中抵消，无需显式加入 HFI_binary\n",
        "    # （若 A/B 含 White，则只保留另一个组的交互项）\n",
        "    return linear_combo(result, combo if combo else {\"HFI_binary\":0.0})\n",
        "\n",
        "pairs = [(\"Asian\",\"White\"), (\"All other ethnicities\",\"White\"), (\"Asian\",\"All other ethnicities\")]\n",
        "pair_rows = []\n",
        "print(\"\\n[成对比较：效应差（组A - 组B）]  单位：pp\")\n",
        "for A,B in pairs:\n",
        "    est_d, ci_d, p_d = pair_diff(res_coreB, A, B)\n",
        "    print(f\"- {A:>22}  -  {B:<22}:  {est_d:.2f}  (95%CI {ci_d[0]:.2f}, {ci_d[1]:.2f}), p={p_d:.3f}\")\n",
        "    pair_rows.append((A, B, est_d, ci_d[0], ci_d[1], p_d))"
      ],
      "metadata": {
        "colab": {
          "base_uri": "https://localhost:8080/"
        },
        "id": "2zbfGFiA_UhC",
        "outputId": "a49491c6-27bf-4bb4-9e9e-41ba0877b6c9"
      },
      "execution_count": 18,
      "outputs": [
        {
          "output_type": "stream",
          "name": "stdout",
          "text": [
            "[Appendix] 样本量（与Core-B一致）: 304\n",
            "\n",
            "[各族裔组 HFI 边际效应]（pp）\n",
            "-                  White: 0.99  (95%CI -3.23, 5.22), p=0.644\n",
            "-                  Asian: 2.16  (95%CI -2.92, 7.25), p=0.404\n",
            "-  All other ethnicities: 7.48  (95%CI -0.94, 15.90), p=0.082\n",
            "\n",
            "[交互整体检验] p-int = 0.405\n",
            "\n",
            "[成对比较：效应差（组A - 组B）]  单位：pp\n",
            "-                  Asian  -  White                 :  1.17  (95%CI -5.33, 7.67), p=0.725\n",
            "-  All other ethnicities  -  White                 :  6.49  (95%CI -2.96, 15.94), p=0.178\n",
            "-                  Asian  -  All other ethnicities :  -5.32  (95%CI -15.22, 4.58), p=0.292\n"
          ]
        }
      ]
    },
    {
      "cell_type": "code",
      "source": [
        "# ----- 附录图：三组边际效应并列 -----\n",
        "labs_e = [r[0] for r in appendix_eff]\n",
        "ests_e = [r[1] for r in appendix_eff]\n",
        "los_e  = [r[2] for r in appendix_eff]\n",
        "his_e  = [r[3] for r in appendix_eff]\n",
        "\n",
        "figA, axA = plt.subplots(figsize=(6.2, 3.6))\n",
        "coefplot(axA, labs_e, ests_e, los_e, his_e,\n",
        "         title=f\"Appendix Figure. HFI effect by ethnicity (p-int={p_inter:.3f})\")\n",
        "plt.show()"
      ],
      "metadata": {
        "colab": {
          "base_uri": "https://localhost:8080/",
          "height": 379
        },
        "id": "rNfh2h0xASJi",
        "outputId": "fb2eb851-00a2-4912-89e7-87deb212942c"
      },
      "execution_count": 19,
      "outputs": [
        {
          "output_type": "display_data",
          "data": {
            "text/plain": [
              "<Figure size 620x360 with 1 Axes>"
            ],
            "image/png": "[encoded data removed]"
          },
          "metadata": {}
        }
      ]
    },
    {
      "cell_type": "markdown",
      "source": [
        "## 5.4 年龄每 +1SD 的效应"
      ],
      "metadata": {
        "id": "n0KhU1gSaH3l"
      }
    },
    {
      "cell_type": "code",
      "source": [
        "# =====================================================\n",
        "# ========== Sensitivity：年龄每 +1SD 的效应 ==========\n",
        "# （与 Core-A 同样本；系数即“每 +1SD 年龄，UPF% 的变化（pp）”）\n",
        "# =====================================================\n",
        "dat_ageSD = dat_coreA.copy()  # 保持与 Core-A 同样本\n",
        "sd_age    = dat_ageSD[\"age_participant\"].std()\n",
        "dat_ageSD[\"z_age\"] = (dat_ageSD[\"age_participant\"] - dat_ageSD[\"age_participant\"].mean()) / sd_age\n",
        "\n",
        "form_ageSD = (\n",
        "    f\"{y} ~ HFI_binary + z_age + C(gender_participant)\"\n",
        "    \" + C(ethn_participant, Treatment(reference='White')) + child_numbers\"\n",
        ")\n",
        "res_ageSD = fit_ols(form_ageSD, dat_ageSD, cov_type=\"HC3\")\n",
        "age_sd_est, age_sd_ci, age_sd_p = coef_ci(res_ageSD, \"z_age\")\n",
        "\n",
        "print(\n",
        "    f\"年龄每 +1SD（SD={sd_age:.2f} 岁）UPF% 变化 = {age_sd_est:.2f} pp \"\n",
        "    f\"(95%CI {age_sd_ci[0]:.2f}, {age_sd_ci[1]:.2f}), p={age_sd_p:.3f}; N={len(dat_ageSD)}\"\n",
        ")\n"
      ],
      "metadata": {
        "colab": {
          "base_uri": "https://localhost:8080/"
        },
        "id": "4VLTtbN-aHNg",
        "outputId": "5afa0dad-a86f-4890-ba39-3ddf7ca7b9c4"
      },
      "execution_count": 20,
      "outputs": [
        {
          "output_type": "stream",
          "name": "stdout",
          "text": [
            "年龄每 +1SD（SD=2.59 岁）UPF% 变化 = 1.28 pp (95%CI -0.04, 2.61), p=0.059; N=304\n"
          ]
        }
      ]
    },
    {
      "cell_type": "markdown",
      "source": [
        "# 6. Table 1（描述性摘要）"
      ],
      "metadata": {
        "id": "ngQpjr4LA7Bf"
      }
    },
    {
      "cell_type": "code",
      "source": [
        "def table1(df):\n",
        "    out = {}\n",
        "    # 年龄\n",
        "    out[\"Age (years), mean ± SD\"] = f\"{df['age_participant'].mean():.2f} ± {df['age_participant'].std():.2f}\"\n",
        "    # 性别分布\n",
        "    gdist = df[\"gender_participant\"].value_counts(dropna=False, normalize=True).rename(lambda x: f\"Gender: {x}\")\n",
        "    for k, v in gdist.items():\n",
        "        out[k] = f\"{v*100:.1f}%\"\n",
        "    # 族裔三类分布\n",
        "    edist = df[\"ethn_participant\"].value_counts(dropna=False, normalize=True)\n",
        "    for k, v in edist.items():\n",
        "        label = \"Missing\" if pd.isna(k) else k\n",
        "        out[f\"Ethnicity ({label})\"] = f\"{v*100:.1f}%\"\n",
        "    # HFI 流行率\n",
        "    if \"HFI_binary\" in df.columns:\n",
        "        hfi_prev = df[\"HFI_binary\"].mean()*100\n",
        "        out[\"HFI prevalence\"] = f\"{hfi_prev:.1f}%\"\n",
        "    # 各族裔UPF原始均值（简版）\n",
        "    m = df.groupby(\"ethn_participant\")[y].mean().round(2)\n",
        "    for k, v in m.items():\n",
        "        out[f\"UPF% mean - {k}\"] = f\"{v:.2f}\"\n",
        "    # 汇总为一列表\n",
        "    return pd.DataFrame({\"Value\": pd.Series(out)})\n",
        "\n",
        "t1_df = table1(df_model[coreA_cols])\n",
        "print(\"\\nTable 1（主样本，含三类族裔）:\")\n",
        "display(t1_df)"
      ],
      "metadata": {
        "colab": {
          "base_uri": "https://localhost:8080/",
          "height": 452
        },
        "id": "mHty4vuLA7qo",
        "outputId": "4eb5962a-f315-48e2-8663-8447b724e080"
      },
      "execution_count": 21,
      "outputs": [
        {
          "output_type": "stream",
          "name": "stdout",
          "text": [
            "\n",
            "Table 1（主样本，含三类族裔）:\n"
          ]
        },
        {
          "output_type": "stream",
          "name": "stderr",
          "text": [
            "/tmp/ipython-input-1411111733.py:19: FutureWarning: The default of observed=False is deprecated and will be changed to True in a future version of pandas. Pass observed=False to retain current behavior or observed=True to adopt the future default and silence this warning.\n",
            "  m = df.groupby(\"ethn_participant\")[y].mean().round(2)\n"
          ]
        },
        {
          "output_type": "display_data",
          "data": {
            "text/plain": [
              "                                         Value\n",
              "Age (years), mean ± SD             6.90 ± 2.59\n",
              "Gender: 1                                51.0%\n",
              "Gender: 2                                49.0%\n",
              "Ethnicity (White)                        54.9%\n",
              "Ethnicity (Asian)                        32.5%\n",
              "Ethnicity (All other ethnicities)        12.7%\n",
              "HFI prevalence                           31.5%\n",
              "UPF% mean - White                        71.80\n",
              "UPF% mean - Asian                        66.12\n",
              "UPF% mean - All other ethnicities        67.55"
            ],
            "text/html": [
              "\n",
              "  <div id=\"df-9121942e-77ec-4d50-be3e-132609c5d309\" class=\"colab-df-container\">\n",
              "    <div>\n",
              "<style scoped>\n",
              "    .dataframe tbody tr th:only-of-type {\n",
              "        vertical-align: middle;\n",
              "    }\n",
              "\n",
              "    .dataframe tbody tr th {\n",
              "        vertical-align: top;\n",
              "    }\n",
              "\n",
              "    .dataframe thead th {\n",
              "        text-align: right;\n",
              "    }\n",
              "</style>\n",
              "<table border=\"1\" class=\"dataframe\">\n",
              "  <thead>\n",
              "    <tr style=\"text-align: right;\">\n",
              "      <th></th>\n",
              "      <th>Value</th>\n",
              "    </tr>\n",
              "  </thead>\n",
              "  <tbody>\n",
              "    <tr>\n",
              "      <th>Age (years), mean ± SD</th>\n",
              "      <td>6.90 ± 2.59</td>\n",
              "    </tr>\n",
              "    <tr>\n",
              "      <th>Gender: 1</th>\n",
              "      <td>51.0%</td>\n",
              "    </tr>\n",
              "    <tr>\n",
              "      <th>Gender: 2</th>\n",
              "      <td>49.0%</td>\n",
              "    </tr>\n",
              "    <tr>\n",
              "      <th>Ethnicity (White)</th>\n",
              "      <td>54.9%</td>\n",
              "    </tr>\n",
              "    <tr>\n",
              "      <th>Ethnicity (Asian)</th>\n",
              "      <td>32.5%</td>\n",
              "    </tr>\n",
              "    <tr>\n",
              "      <th>Ethnicity (All other ethnicities)</th>\n",
              "      <td>12.7%</td>\n",
              "    </tr>\n",
              "    <tr>\n",
              "      <th>HFI prevalence</th>\n",
              "      <td>31.5%</td>\n",
              "    </tr>\n",
              "    <tr>\n",
              "      <th>UPF% mean - White</th>\n",
              "      <td>71.80</td>\n",
              "    </tr>\n",
              "    <tr>\n",
              "      <th>UPF% mean - Asian</th>\n",
              "      <td>66.12</td>\n",
              "    </tr>\n",
              "    <tr>\n",
              "      <th>UPF% mean - All other ethnicities</th>\n",
              "      <td>67.55</td>\n",
              "    </tr>\n",
              "  </tbody>\n",
              "</table>\n",
              "</div>\n",
              "    <div class=\"colab-df-buttons\">\n",
              "\n",
              "  <div class=\"colab-df-container\">\n",
              "    <button class=\"colab-df-convert\" onclick=\"convertToInteractive('df-9121942e-77ec-4d50-be3e-132609c5d309')\"\n",
              "            title=\"Convert this dataframe to an interactive table.\"\n",
              "            style=\"display:none;\">\n",
              "\n",
              "  <svg xmlns=\"http://www.w3.org/2000/svg\" height=\"24px\" viewBox=\"0 -960 960 960\">\n",
              "    <path d=\"M120-120v-720h720v720H120Zm60-500h600v-160H180v160Zm220 220h160v-160H400v160Zm0 220h160v-160H400v160ZM180-400h160v-160H180v160Zm440 0h160v-160H620v160ZM180-180h160v-160H180v160Zm440 0h160v-160H620v160Z\"/>\n",
              "  </svg>\n",
              "    </button>\n",
              "\n",
              "  <style>\n",
              "    .colab-df-container {\n",
              "      display:flex;\n",
              "      gap: 12px;\n",
              "    }\n",
              "\n",
              "    .colab-df-convert {\n",
              "      background-color: #E8F0FE;\n",
              "      border: none;\n",
              "      border-radius: 50%;\n",
              "      cursor: pointer;\n",
              "      display: none;\n",
              "      fill: #1967D2;\n",
              "      height: 32px;\n",
              "      padding: 0 0 0 0;\n",
              "      width: 32px;\n",
              "    }\n",
              "\n",
              "    .colab-df-convert:hover {\n",
              "      background-color: #E2EBFA;\n",
              "      box-shadow: 0px 1px 2px rgba(60, 64, 67, 0.3), 0px 1px 3px 1px rgba(60, 64, 67, 0.15);\n",
              "      fill: #174EA6;\n",
              "    }\n",
              "\n",
              "    .colab-df-buttons div {\n",
              "      margin-bottom: 4px;\n",
              "    }\n",
              "\n",
              "    [theme=dark] .colab-df-convert {\n",
              "      background-color: #3B4455;\n",
              "      fill: #D2E3FC;\n",
              "    }\n",
              "\n",
              "    [theme=dark] .colab-df-convert:hover {\n",
              "      background-color: #434B5C;\n",
              "      box-shadow: 0px 1px 3px 1px rgba(0, 0, 0, 0.15);\n",
              "      filter: drop-shadow(0px 1px 2px rgba(0, 0, 0, 0.3));\n",
              "      fill: #FFFFFF;\n",
              "    }\n",
              "  </style>\n",
              "\n",
              "    <script>\n",
              "      const buttonEl =\n",
              "        document.querySelector('#df-9121942e-77ec-4d50-be3e-132609c5d309 button.colab-df-convert');\n",
              "      buttonEl.style.display =\n",
              "        google.colab.kernel.accessAllowed ? 'block' : 'none';\n",
              "\n",
              "      async function convertToInteractive(key) {\n",
              "        const element = document.querySelector('#df-9121942e-77ec-4d50-be3e-132609c5d309');\n",
              "        const dataTable =\n",
              "          await google.colab.kernel.invokeFunction('convertToInteractive',\n",
              "                                                    [key], {});\n",
              "        if (!dataTable) return;\n",
              "\n",
              "        const docLinkHtml = 'Like what you see? Visit the ' +\n",
              "          '<a target=\"_blank\" href=https://colab.research.google.com/notebooks/data_table.ipynb>data table notebook</a>'\n",
              "          + ' to learn more about interactive tables.';\n",
              "        element.innerHTML = '';\n",
              "        dataTable['output_type'] = 'display_data';\n",
              "        await google.colab.output.renderOutput(dataTable, element);\n",
              "        const docLink = document.createElement('div');\n",
              "        docLink.innerHTML = docLinkHtml;\n",
              "        element.appendChild(docLink);\n",
              "      }\n",
              "    </script>\n",
              "  </div>\n",
              "\n",
              "\n",
              "    <div id=\"df-fa65d82c-5987-4d8a-8c75-a51fda761968\">\n",
              "      <button class=\"colab-df-quickchart\" onclick=\"quickchart('df-fa65d82c-5987-4d8a-8c75-a51fda761968')\"\n",
              "                title=\"Suggest charts\"\n",
              "                style=\"display:none;\">\n",
              "\n",
              "<svg xmlns=\"http://www.w3.org/2000/svg\" height=\"24px\"viewBox=\"0 0 24 24\"\n",
              "     width=\"24px\">\n",
              "    <g>\n",
              "        <path d=\"M19 3H5c-1.1 0-2 .9-2 2v14c0 1.1.9 2 2 2h14c1.1 0 2-.9 2-2V5c0-1.1-.9-2-2-2zM9 17H7v-7h2v7zm4 0h-2V7h2v10zm4 0h-2v-4h2v4z\"/>\n",
              "    </g>\n",
              "</svg>\n",
              "      </button>\n",
              "\n",
              "<style>\n",
              "  .colab-df-quickchart {\n",
              "      --bg-color: #E8F0FE;\n",
              "      --fill-color: #1967D2;\n",
              "      --hover-bg-color: #E2EBFA;\n",
              "      --hover-fill-color: #174EA6;\n",
              "      --disabled-fill-color: #AAA;\n",
              "      --disabled-bg-color: #DDD;\n",
              "  }\n",
              "\n",
              "  [theme=dark] .colab-df-quickchart {\n",
              "      --bg-color: #3B4455;\n",
              "      --fill-color: #D2E3FC;\n",
              "      --hover-bg-color: #434B5C;\n",
              "      --hover-fill-color: #FFFFFF;\n",
              "      --disabled-bg-color: #3B4455;\n",
              "      --disabled-fill-color: #666;\n",
              "  }\n",
              "\n",
              "  .colab-df-quickchart {\n",
              "    background-color: var(--bg-color);\n",
              "    border: none;\n",
              "    border-radius: 50%;\n",
              "    cursor: pointer;\n",
              "    display: none;\n",
              "    fill: var(--fill-color);\n",
              "    height: 32px;\n",
              "    padding: 0;\n",
              "    width: 32px;\n",
              "  }\n",
              "\n",
              "  .colab-df-quickchart:hover {\n",
              "    background-color: var(--hover-bg-color);\n",
              "    box-shadow: 0 1px 2px rgba(60, 64, 67, 0.3), 0 1px 3px 1px rgba(60, 64, 67, 0.15);\n",
              "    fill: var(--button-hover-fill-color);\n",
              "  }\n",
              "\n",
              "  .colab-df-quickchart-complete:disabled,\n",
              "  .colab-df-quickchart-complete:disabled:hover {\n",
              "    background-color: var(--disabled-bg-color);\n",
              "    fill: var(--disabled-fill-color);\n",
              "    box-shadow: none;\n",
              "  }\n",
              "\n",
              "  .colab-df-spinner {\n",
              "    border: 2px solid var(--fill-color);\n",
              "    border-color: transparent;\n",
              "    border-bottom-color: var(--fill-color);\n",
              "    animation:\n",
              "      spin 1s steps(1) infinite;\n",
              "  }\n",
              "\n",
              "  @keyframes spin {\n",
              "    0% {\n",
              "      border-color: transparent;\n",
              "      border-bottom-color: var(--fill-color);\n",
              "      border-left-color: var(--fill-color);\n",
              "    }\n",
              "    20% {\n",
              "      border-color: transparent;\n",
              "      border-left-color: var(--fill-color);\n",
              "      border-top-color: var(--fill-color);\n",
              "    }\n",
              "    30% {\n",
              "      border-color: transparent;\n",
              "      border-left-color: var(--fill-color);\n",
              "      border-top-color: var(--fill-color);\n",
              "      border-right-color: var(--fill-color);\n",
              "    }\n",
              "    40% {\n",
              "      border-color: transparent;\n",
              "      border-right-color: var(--fill-color);\n",
              "      border-top-color: var(--fill-color);\n",
              "    }\n",
              "    60% {\n",
              "      border-color: transparent;\n",
              "      border-right-color: var(--fill-color);\n",
              "    }\n",
              "    80% {\n",
              "      border-color: transparent;\n",
              "      border-right-color: var(--fill-color);\n",
              "      border-bottom-color: var(--fill-color);\n",
              "    }\n",
              "    90% {\n",
              "      border-color: transparent;\n",
              "      border-bottom-color: var(--fill-color);\n",
              "    }\n",
              "  }\n",
              "</style>\n",
              "\n",
              "      <script>\n",
              "        async function quickchart(key) {\n",
              "          const quickchartButtonEl =\n",
              "            document.querySelector('#' + key + ' button');\n",
              "          quickchartButtonEl.disabled = true;  // To prevent multiple clicks.\n",
              "          quickchartButtonEl.classList.add('colab-df-spinner');\n",
              "          try {\n",
              "            const charts = await google.colab.kernel.invokeFunction(\n",
              "                'suggestCharts', [key], {});\n",
              "          } catch (error) {\n",
              "            console.error('Error during call to suggestCharts:', error);\n",
              "          }\n",
              "          quickchartButtonEl.classList.remove('colab-df-spinner');\n",
              "          quickchartButtonEl.classList.add('colab-df-quickchart-complete');\n",
              "        }\n",
              "        (() => {\n",
              "          let quickchartButtonEl =\n",
              "            document.querySelector('#df-fa65d82c-5987-4d8a-8c75-a51fda761968 button');\n",
              "          quickchartButtonEl.style.display =\n",
              "            google.colab.kernel.accessAllowed ? 'block' : 'none';\n",
              "        })();\n",
              "      </script>\n",
              "    </div>\n",
              "\n",
              "  <div id=\"id_aabc73e0-2c3f-4bad-8dba-af5259244847\">\n",
              "    <style>\n",
              "      .colab-df-generate {\n",
              "        background-color: #E8F0FE;\n",
              "        border: none;\n",
              "        border-radius: 50%;\n",
              "        cursor: pointer;\n",
              "        display: none;\n",
              "        fill: #1967D2;\n",
              "        height: 32px;\n",
              "        padding: 0 0 0 0;\n",
              "        width: 32px;\n",
              "      }\n",
              "\n",
              "      .colab-df-generate:hover {\n",
              "        background-color: #E2EBFA;\n",
              "        box-shadow: 0px 1px 2px rgba(60, 64, 67, 0.3), 0px 1px 3px 1px rgba(60, 64, 67, 0.15);\n",
              "        fill: #174EA6;\n",
              "      }\n",
              "\n",
              "      [theme=dark] .colab-df-generate {\n",
              "        background-color: #3B4455;\n",
              "        fill: #D2E3FC;\n",
              "      }\n",
              "\n",
              "      [theme=dark] .colab-df-generate:hover {\n",
              "        background-color: #434B5C;\n",
              "        box-shadow: 0px 1px 3px 1px rgba(0, 0, 0, 0.15);\n",
              "        filter: drop-shadow(0px 1px 2px rgba(0, 0, 0, 0.3));\n",
              "        fill: #FFFFFF;\n",
              "      }\n",
              "    </style>\n",
              "    <button class=\"colab-df-generate\" onclick=\"generateWithVariable('t1_df')\"\n",
              "            title=\"Generate code using this dataframe.\"\n",
              "            style=\"display:none;\">\n",
              "\n",
              "  <svg xmlns=\"http://www.w3.org/2000/svg\" height=\"24px\"viewBox=\"0 0 24 24\"\n",
              "       width=\"24px\">\n",
              "    <path d=\"M7,19H8.4L18.45,9,17,7.55,7,17.6ZM5,21V16.75L18.45,3.32a2,2,0,0,1,2.83,0l1.4,1.43a1.91,1.91,0,0,1,.58,1.4,1.91,1.91,0,0,1-.58,1.4L9.25,21ZM18.45,9,17,7.55Zm-12,3A5.31,5.31,0,0,0,4.9,8.1,5.31,5.31,0,0,0,1,6.5,5.31,5.31,0,0,0,4.9,4.9,5.31,5.31,0,0,0,6.5,1,5.31,5.31,0,0,0,8.1,4.9,5.31,5.31,0,0,0,12,6.5,5.46,5.46,0,0,0,6.5,12Z\"/>\n",
              "  </svg>\n",
              "    </button>\n",
              "    <script>\n",
              "      (() => {\n",
              "      const buttonEl =\n",
              "        document.querySelector('#id_aabc73e0-2c3f-4bad-8dba-af5259244847 button.colab-df-generate');\n",
              "      buttonEl.style.display =\n",
              "        google.colab.kernel.accessAllowed ? 'block' : 'none';\n",
              "\n",
              "      buttonEl.onclick = () => {\n",
              "        google.colab.notebook.generateWithVariable('t1_df');\n",
              "      }\n",
              "      })();\n",
              "    </script>\n",
              "  </div>\n",
              "\n",
              "    </div>\n",
              "  </div>\n"
            ],
            "application/vnd.google.colaboratory.intrinsic+json": {
              "type": "dataframe",
              "variable_name": "t1_df",
              "summary": "{\n  \"name\": \"t1_df\",\n  \"rows\": 10,\n  \"fields\": [\n    {\n      \"column\": \"Value\",\n      \"properties\": {\n        \"dtype\": \"string\",\n        \"num_unique_values\": 10,\n        \"samples\": [\n          \"66.12\",\n          \"51.0%\",\n          \"12.7%\"\n        ],\n        \"semantic_type\": \"\",\n        \"description\": \"\"\n      }\n    }\n  ]\n}"
            }
          },
          "metadata": {}
        }
      ]
    },
    {
      "cell_type": "markdown",
      "source": [
        "# 可视化"
      ],
      "metadata": {
        "id": "IH4Tj1yCBDrK"
      }
    },
    {
      "cell_type": "code",
      "source": [
        "# =========================================================\n",
        "# ============ 美化版 Forest Plot — Core-A (HC3) ==========\n",
        "# =========================================================\n",
        "import re, textwrap\n",
        "import numpy as np\n",
        "import matplotlib.pyplot as plt\n",
        "\n",
        "show_age_per_sd = True     # ← 若想显示“每 +1SD”，置 True；否则按每年\n",
        "gender_map = {1:\"Male\", 2:\"Female\", 3:\"Other\"}  # 你给定的性别口径\n",
        "\n",
        "# ---------- 1) 取系数并（可选）把年龄换算为 +1SD ----------\n",
        "names, params, bse, pvals = _names_params_bse_p(res_coreA)\n",
        "z = _zcrit(0.05)\n",
        "ci_lo = params - z*bse\n",
        "ci_hi = params + z*bse\n",
        "df = pd.DataFrame({\n",
        "    \"term\": names, \"b\": params.values, \"se\": bse.values,\n",
        "    \"lo\": ci_lo.values, \"hi\": ci_hi.values, \"p\": pvals.values\n",
        "})\n",
        "\n",
        "# 仅保留关心的项\n",
        "keep = (\n",
        "    (df.term==\"HFI_binary\") |\n",
        "    (df.term==\"age_participant\") |\n",
        "    (df.term==\"child_numbers\") |\n",
        "    (df.term.str.startswith(\"C(gender_participant\")) |\n",
        "    (df.term.str.startswith(\"C(ethn_participant\"))\n",
        ")\n",
        "df = df.loc[keep].copy()\n",
        "\n",
        "# 年龄换算为 +1SD\n",
        "if show_age_per_sd and \"age_participant\" in df.term.values:\n",
        "    sd_age = dat_coreA[\"age_participant\"].std()\n",
        "    idx = df.term==\"age_participant\"\n",
        "    df.loc[idx, [\"b\",\"lo\",\"hi\",\"se\"]] = df.loc[idx, [\"b\",\"lo\",\"hi\",\"se\"]].values * sd_age\n",
        "    age_label = f\"Age (+1 SD = {sd_age:.2f}y)\"\n",
        "else:\n",
        "    age_label = \"Age (per year)\"\n",
        "\n",
        "# ---------- 2) 生成可读标签 ----------\n",
        "def nice_label(term: str) -> str:\n",
        "    if term==\"HFI_binary\": return \"HFI: Insecure vs Secure\"\n",
        "    if term==\"age_participant\": return age_label\n",
        "    if term==\"child_numbers\": return \"Children in household (per child)\"\n",
        "    mg = re.match(r\"C\\(gender_participant.*\\)\\[T\\.(.+)\\]\", term)\n",
        "    if mg:\n",
        "        v = mg.group(1).strip()\n",
        "        try: v = gender_map.get(int(v), str(v))\n",
        "        except: v = gender_map.get(v, v)\n",
        "        return f\"Gender: {v} (vs Male)\"\n",
        "    me = re.match(r\"C\\(ethn_participant.*\\)\\[T\\.(.+)\\]\", term)\n",
        "    if me:\n",
        "        v = me.group(1).strip()\n",
        "        return f\"Ethnicity: {v} (vs White)\"\n",
        "    return term\n",
        "\n",
        "df[\"label\"] = df[\"term\"].apply(nice_label)\n",
        "df[\"label_wrapped\"] = df[\"label\"].apply(lambda s: textwrap.fill(s, width=34))\n",
        "\n",
        "# 排序：HFI → Age → Children → Gender → Ethnicity\n",
        "order = [\"HFI_binary\",\"age_participant\",\"child_numbers\"]\n",
        "order += sorted(df.loc[df.term.str.startswith(\"C(gender_participant\"),\"term\"])\n",
        "order += sorted(df.loc[df.term.str.startswith(\"C(ethn_participant\"),\"term\"])\n",
        "df = df.set_index(\"term\").loc[order].reset_index()\n",
        "\n",
        "# ---------- 3) 绘图 ----------\n",
        "labels = df[\"label_wrapped\"].tolist()\n",
        "b, lo, hi, p = df[\"b\"].to_numpy(), df[\"lo\"].to_numpy(), df[\"hi\"].to_numpy(), df[\"p\"].to_numpy()\n",
        "y = np.arange(len(labels))\n",
        "\n",
        "def pstars(pv): return \"***\" if pv<0.001 else \"**\" if pv<0.01 else \"*\" if pv<0.05 else \"\"\n",
        "\n",
        "fig, ax = plt.subplots(figsize=(8.2, 5.2), dpi=140)\n",
        "\n",
        "# 美化：网格、0线、去除上右脊\n",
        "ax.grid(axis=\"x\", linestyle=\":\", linewidth=0.8, alpha=0.5, zorder=0)\n",
        "ax.axvline(0, linestyle=(0,(3,3)), linewidth=1, color=\"0.45\", zorder=1)\n",
        "ax.spines[\"top\"].set_visible(False)\n",
        "ax.spines[\"right\"].set_visible(False)\n",
        "\n",
        "# 误差线 + 菱形点（更醒目）\n",
        "xerr = np.vstack([b-lo, hi-b])\n",
        "ax.errorbar(b, y, xerr=xerr, fmt=\"D\", ms=6, lw=1.6, capsize=3, zorder=2)\n",
        "\n",
        "# 轴与标题\n",
        "ax.set_yticks(y); ax.set_yticklabels(labels, fontsize=11)\n",
        "ax.set_xlabel(\"Adjusted difference in UPF% (pp)\", fontsize=11)\n",
        "ax.set_title(\"Forest plot — Core-A coefficients (HC3)\", loc=\"left\", fontsize=15, weight=\"bold\", pad=8)\n",
        "\n",
        "# 对称坐标范围\n",
        "pad = 1.15 * max(abs(lo.min()), abs(hi.max()))\n",
        "ax.set_xlim(-pad, pad)\n",
        "\n",
        "# 右侧数值 + 星号\n",
        "xr = ax.get_xlim()[1]\n",
        "for yi, (bi, loi, hii, pi) in enumerate(zip(b, lo, hi, p)):\n",
        "    ax.text(xr, yi, f\"{bi:.2f} [{loi:.2f}, {hii:.2f}] {pstars(pi)}\",\n",
        "            ha=\"right\", va=\"center\", fontsize=10)\n",
        "\n",
        "# 页脚注释\n",
        "fig.text(0.13, 0.02, f\"OLS with HC3 SE; N={len(dat_coreA)}; refs: Male, White, Secure\",\n",
        "         ha=\"left\", va=\"bottom\", fontsize=9)\n",
        "plt.tight_layout(rect=[0.22, 0.06, 0.98, 0.95])\n",
        "plt.show()\n",
        "\n",
        "# （可选）保存为高清图\n",
        "plt.savefig(\"/content/drive/MyDrive/UPF-HFI/Model/output/forest_coreA.png\", dpi=300, bbox_inches=\"tight\")\n"
      ],
      "metadata": {
        "colab": {
          "base_uri": "https://localhost:8080/",
          "height": 718
        },
        "id": "v_pHMlcIBHPA",
        "outputId": "78b8c2ad-7c5a-412e-bdc9-2664923996ef"
      },
      "execution_count": 28,
      "outputs": [
        {
          "output_type": "display_data",
          "data": {
            "text/plain": [
              "<Figure size 1148x728 with 1 Axes>"
            ],
            "image/png": "[encoded data removed]"
          },
          "metadata": {}
        },
        {
          "output_type": "display_data",
          "data": {
            "text/plain": [
              "<Figure size 640x480 with 0 Axes>"
            ]
          },
          "metadata": {}
        }
      ]
    },
    {
      "cell_type": "code",
      "source": [
        "# ==============================================\n",
        "# ===== Figure S1. UPF% means by HFI category ===\n",
        "# ==============================================\n",
        "from pandas.api.types import CategoricalDtype\n",
        "\n",
        "y = \"weighted_upf_percent\"\n",
        "\n",
        "if \"HFI_category\" in df_model.columns:\n",
        "    ord_dtype = CategoricalDtype(\n",
        "        categories=[\"Food secure\",\"Low food security\",\"Very low food security\"], ordered=True\n",
        "    )\n",
        "    df_model[\"HFI_category\"] = df_model[\"HFI_category\"].astype(ord_dtype)\n",
        "\n",
        "    dat_hfi3 = df_model[[y, \"HFI_category\"]].dropna().copy()\n",
        "    g = dat_hfi3.groupby(\"HFI_category\")[y]\n",
        "    stats = g.agg(mean=\"mean\", sd=\"std\", n=\"size\").reset_index()\n",
        "    stats[\"se\"]    = stats[\"sd\"] / np.sqrt(stats[\"n\"])\n",
        "    stats[\"ci_lo\"] = stats[\"mean\"] - _zcrit(0.05) * stats[\"se\"]\n",
        "    stats[\"ci_hi\"] = stats[\"mean\"] + _zcrit(0.05) * stats[\"se\"]\n",
        "\n",
        "    fig, ax = plt.subplots(figsize=(6.2,3.8))\n",
        "    xpos = np.arange(len(stats))\n",
        "    ax.bar(xpos, stats[\"mean\"].values)\n",
        "    yerr = np.vstack([stats[\"mean\"].values - stats[\"ci_lo\"].values,\n",
        "                      stats[\"ci_hi\"].values - stats[\"mean\"].values])\n",
        "    ax.errorbar(xpos, stats[\"mean\"].values, yerr=yerr, fmt='none', capsize=4)\n",
        "    for i,(m,n) in enumerate(zip(stats[\"mean\"].values, stats[\"n\"].values)):\n",
        "        ax.text(i, m, f\"{m:.1f}%\\n(n={n})\", ha=\"center\", va=\"bottom\", fontsize=9)\n",
        "    ax.set_xticks(xpos)\n",
        "    ax.set_xticklabels(stats[\"HFI_category\"].astype(str), rotation=0)\n",
        "    ax.set_ylabel(\"UPF% (mean with 95% CI)\")\n",
        "    ax.set_title(\"UPF% by HFI category\")\n",
        "    plt.tight_layout()\n",
        "    plt.show()\n",
        "else:\n",
        "    print(\"[跳过] 未找到 HFI_category（三分类）列。\")\n"
      ],
      "metadata": {
        "colab": {
          "base_uri": "https://localhost:8080/",
          "height": 442
        },
        "id": "C2-oSY4u3ZgD",
        "outputId": "675f0603-4136-42e1-9f27-d7060f9880c5"
      },
      "execution_count": 33,
      "outputs": [
        {
          "output_type": "stream",
          "name": "stderr",
          "text": [
            "/tmp/ipython-input-1579071975.py:15: FutureWarning: The default of observed=False is deprecated and will be changed to True in a future version of pandas. Pass observed=False to retain current behavior or observed=True to adopt the future default and silence this warning.\n",
            "  g = dat_hfi3.groupby(\"HFI_category\")[y]\n"
          ]
        },
        {
          "output_type": "display_data",
          "data": {
            "text/plain": [
              "<Figure size 620x380 with 1 Axes>"
            ],
            "image/png": "[encoded data removed]"
          },
          "metadata": {}
        }
      ]
    },
    {
      "cell_type": "code",
      "source": [
        "# =========================================================\n",
        "# ===== Figure 2 (refined). HFI effect by ethnicity (n) ===\n",
        "# =========================================================\n",
        "# 需要你之前已经跑过 Core-B 并得到 effects, p_inter, dat_coreB\n",
        "# effects: [(group, est, (lo, hi), p), ...]  groups = [\"White\",\"Asian\",\"All other ethnicities\"]\n",
        "\n",
        "counts = dat_coreB[\"ethn_participant\"].value_counts()\n",
        "labs_n = []\n",
        "ests, los, his = [], [], []\n",
        "for (g, e, ci, p) in effects:\n",
        "    n_g = int(counts.get(g, 0))\n",
        "    labs_n.append(f\"{g} (n={n_g})\")\n",
        "    ests.append(e); los.append(ci[0]); his.append(ci[1])\n",
        "\n",
        "fig2b, ax2b = plt.subplots(figsize=(7.2, 4.0))\n",
        "coefplot(ax2b, labs_n, ests, los, his,\n",
        "         title=f\"Figure 2. HFI effect by ethnicity (p-int={p_inter:.3f})\",\n",
        "         xlabel=\"Adjusted difference in UPF% (pp)\")\n",
        "# 0 线已经在 coefplot 内 ax.axvline(0,'--',1)\n",
        "plt.tight_layout()\n",
        "plt.show()\n"
      ],
      "metadata": {
        "colab": {
          "base_uri": "https://localhost:8080/",
          "height": 407
        },
        "id": "5u4_iTc13hWA",
        "outputId": "0e3cae43-daab-422d-d532-e9c36fe327f5"
      },
      "execution_count": 34,
      "outputs": [
        {
          "output_type": "display_data",
          "data": {
            "text/plain": [
              "<Figure size 720x400 with 1 Axes>"
            ],
            "image/png": "[encoded data removed]"
          },
          "metadata": {}
        }
      ]
    },
    {
      "cell_type": "code",
      "source": [
        "# ======================================================\n",
        "# ===== Figure 3b. Coefficient change Core-A → +SES ====\n",
        "# ======================================================\n",
        "# 需要你之前已得到：b_core, b_ses, ci_core, ci_ses, dat_R\n",
        "delta_pct = 100.0 * (b_ses - b_core) / (abs(b_core) if b_core!=0 else np.nan)  # 相对变化\n",
        "atten_pct = 100.0 * (b_core - b_ses) / (abs(b_core) if b_core!=0 else np.nan)  # 你原来的“衰减”定义\n",
        "label_txt = (f\"attenuation {atten_pct:.1f}%\" # 衰减\n",
        "             if np.sign(b_core)==np.sign(b_ses) and abs(b_ses) < abs(b_core)\n",
        "             else f\"Zoom in/mask {abs(delta_pct):.1f}%\") # 放大/遮蔽\n",
        "\n",
        "xs = np.array([0,1]); names = [\"Core-A\",\"＋SES\"]\n",
        "ys = np.array([b_core, b_ses])\n",
        "yerr = np.vstack([[ys[0]-ci_core[0], ys[1]-ci_ses[0]],\n",
        "                  [ci_core[1]-ys[0], ci_ses[1]-ys[1]]])\n",
        "\n",
        "fig4, ax4 = plt.subplots(figsize=(6.2, 3.6))\n",
        "ax4.plot(xs, ys, marker='o')\n",
        "ax4.errorbar(xs, ys, yerr=yerr, fmt='none', capsize=4)\n",
        "ax4.axhline(0, linestyle='--', linewidth=1)\n",
        "ax4.set_xticks(xs); ax4.set_xticklabels(names)\n",
        "ax4.set_ylabel(\"HFI coefficient on UPF% (pp)\")\n",
        "ax4.set_title(\"Coefficient change: Core-A → +SES (same N)\")\n",
        "# 在两点中间位置标注变化\n",
        "x_mid = 0.5; y_mid = (ys[0]+ys[1])/2\n",
        "ax4.text(x_mid, y_mid, label_txt, ha=\"center\", va=\"bottom\")\n",
        "plt.tight_layout()\n",
        "plt.show()\n"
      ],
      "metadata": {
        "colab": {
          "base_uri": "https://localhost:8080/",
          "height": 455
        },
        "id": "j4JSSVLX3myt",
        "outputId": "793e2a2f-3bb0-4ffd-dbbb-32234039403a"
      },
      "execution_count": 36,
      "outputs": [
        {
          "output_type": "stream",
          "name": "stderr",
          "text": [
            "/tmp/ipython-input-1596099520.py:26: UserWarning: Glyph 65291 (\\N{FULLWIDTH PLUS SIGN}) missing from font(s) DejaVu Sans.\n",
            "  plt.tight_layout()\n",
            "/usr/local/lib/python3.11/dist-packages/IPython/core/pylabtools.py:151: UserWarning: Glyph 65291 (\\N{FULLWIDTH PLUS SIGN}) missing from font(s) DejaVu Sans.\n",
            "  fig.canvas.print_figure(bytes_io, **kw)\n"
          ]
        },
        {
          "output_type": "display_data",
          "data": {
            "text/plain": [
              "<Figure size 620x360 with 1 Axes>"
            ],
            "image/png": "[encoded data removed]"
          },
          "metadata": {}
        }
      ]
    },
    {
      "cell_type": "code",
      "source": [
        "# ======================================================\n",
        "# ===== Table S2. UPF% median (IQR) by HFI grouping ====\n",
        "# ======================================================\n",
        "def median_iqr(s):\n",
        "    q1, q2, q3 = s.quantile([0.25, 0.5, 0.75])\n",
        "    return pd.Series({\"median\": q2, \"IQR\": q3-q1})\n",
        "\n",
        "# 二分类\n",
        "t2 = df_model[[y,\"HFI_binary\"]].dropna().groupby(\"HFI_binary\")[y].apply(median_iqr)\n",
        "print(\"UPF% median (IQR) by HFI_binary:\")\n",
        "display(t2)\n",
        "\n",
        "# 三分类（若有）\n",
        "if \"HFI_category\" in df_model.columns:\n",
        "    t3 = df_model[[y,\"HFI_category\"]].dropna().groupby(\"HFI_category\")[y].apply(median_iqr)\n",
        "    print(\"UPF% median (IQR) by HFI_category:\")\n",
        "    display(t3)\n"
      ],
      "metadata": {
        "colab": {
          "base_uri": "https://localhost:8080/",
          "height": 617
        },
        "id": "KAKAnhCy379Q",
        "outputId": "a3443a18-55ac-4b41-e8dc-30acc748ccc4"
      },
      "execution_count": 37,
      "outputs": [
        {
          "output_type": "stream",
          "name": "stdout",
          "text": [
            "UPF% median (IQR) by HFI_binary:\n"
          ]
        },
        {
          "output_type": "display_data",
          "data": {
            "text/plain": [
              "HFI_binary        \n",
              "0.0         median    69.843906\n",
              "            IQR       15.555596\n",
              "1.0         median    71.512692\n",
              "            IQR       15.858650\n",
              "Name: weighted_upf_percent, dtype: float64"
            ],
            "text/html": [
              "<div>\n",
              "<style scoped>\n",
              "    .dataframe tbody tr th:only-of-type {\n",
              "        vertical-align: middle;\n",
              "    }\n",
              "\n",
              "    .dataframe tbody tr th {\n",
              "        vertical-align: top;\n",
              "    }\n",
              "\n",
              "    .dataframe thead th {\n",
              "        text-align: right;\n",
              "    }\n",
              "</style>\n",
              "<table border=\"1\" class=\"dataframe\">\n",
              "  <thead>\n",
              "    <tr style=\"text-align: right;\">\n",
              "      <th></th>\n",
              "      <th></th>\n",
              "      <th>weighted_upf_percent</th>\n",
              "    </tr>\n",
              "    <tr>\n",
              "      <th>HFI_binary</th>\n",
              "      <th></th>\n",
              "      <th></th>\n",
              "    </tr>\n",
              "  </thead>\n",
              "  <tbody>\n",
              "    <tr>\n",
              "      <th rowspan=\"2\" valign=\"top\">0.0</th>\n",
              "      <th>median</th>\n",
              "      <td>69.843906</td>\n",
              "    </tr>\n",
              "    <tr>\n",
              "      <th>IQR</th>\n",
              "      <td>15.555596</td>\n",
              "    </tr>\n",
              "    <tr>\n",
              "      <th rowspan=\"2\" valign=\"top\">1.0</th>\n",
              "      <th>median</th>\n",
              "      <td>71.512692</td>\n",
              "    </tr>\n",
              "    <tr>\n",
              "      <th>IQR</th>\n",
              "      <td>15.858650</td>\n",
              "    </tr>\n",
              "  </tbody>\n",
              "</table>\n",
              "</div><br><label><b>dtype:</b> float64</label>"
            ]
          },
          "metadata": {}
        },
        {
          "output_type": "stream",
          "name": "stdout",
          "text": [
            "UPF% median (IQR) by HFI_category:\n"
          ]
        },
        {
          "output_type": "stream",
          "name": "stderr",
          "text": [
            "/tmp/ipython-input-2324727808.py:15: FutureWarning: The default of observed=False is deprecated and will be changed to True in a future version of pandas. Pass observed=False to retain current behavior or observed=True to adopt the future default and silence this warning.\n",
            "  t3 = df_model[[y,\"HFI_category\"]].dropna().groupby(\"HFI_category\")[y].apply(median_iqr)\n"
          ]
        },
        {
          "output_type": "display_data",
          "data": {
            "text/plain": [
              "HFI_category                  \n",
              "Food secure             median    69.843906\n",
              "                        IQR       15.555596\n",
              "Low food security       median    70.341385\n",
              "                        IQR       16.555222\n",
              "Very low food security  median    74.802479\n",
              "                        IQR       14.520846\n",
              "Name: weighted_upf_percent, dtype: float64"
            ],
            "text/html": [
              "<div>\n",
              "<style scoped>\n",
              "    .dataframe tbody tr th:only-of-type {\n",
              "        vertical-align: middle;\n",
              "    }\n",
              "\n",
              "    .dataframe tbody tr th {\n",
              "        vertical-align: top;\n",
              "    }\n",
              "\n",
              "    .dataframe thead th {\n",
              "        text-align: right;\n",
              "    }\n",
              "</style>\n",
              "<table border=\"1\" class=\"dataframe\">\n",
              "  <thead>\n",
              "    <tr style=\"text-align: right;\">\n",
              "      <th></th>\n",
              "      <th></th>\n",
              "      <th>weighted_upf_percent</th>\n",
              "    </tr>\n",
              "    <tr>\n",
              "      <th>HFI_category</th>\n",
              "      <th></th>\n",
              "      <th></th>\n",
              "    </tr>\n",
              "  </thead>\n",
              "  <tbody>\n",
              "    <tr>\n",
              "      <th rowspan=\"2\" valign=\"top\">Food secure</th>\n",
              "      <th>median</th>\n",
              "      <td>69.843906</td>\n",
              "    </tr>\n",
              "    <tr>\n",
              "      <th>IQR</th>\n",
              "      <td>15.555596</td>\n",
              "    </tr>\n",
              "    <tr>\n",
              "      <th rowspan=\"2\" valign=\"top\">Low food security</th>\n",
              "      <th>median</th>\n",
              "      <td>70.341385</td>\n",
              "    </tr>\n",
              "    <tr>\n",
              "      <th>IQR</th>\n",
              "      <td>16.555222</td>\n",
              "    </tr>\n",
              "    <tr>\n",
              "      <th rowspan=\"2\" valign=\"top\">Very low food security</th>\n",
              "      <th>median</th>\n",
              "      <td>74.802479</td>\n",
              "    </tr>\n",
              "    <tr>\n",
              "      <th>IQR</th>\n",
              "      <td>14.520846</td>\n",
              "    </tr>\n",
              "  </tbody>\n",
              "</table>\n",
              "</div><br><label><b>dtype:</b> float64</label>"
            ]
          },
          "metadata": {}
        }
      ]
    },
    {
      "cell_type": "code",
      "source": [
        "# ==============================================\n",
        "# ===== Table S1. HFI prevalence by ethnicity ===\n",
        "# ==============================================\n",
        "tab_ethn_hfi = (pd.crosstab(df_model[\"ethn_participant\"], df_model[\"HFI_binary\"])\n",
        "                .assign(total=lambda d: d.sum(axis=1)))\n",
        "tab_ethn_hfi_pct = (tab_ethn_hfi.div(tab_ethn_hfi[\"total\"], axis=0).drop(columns=\"total\")*100).round(1)\n",
        "print(\"HFI prevalence within each ethnicity (%):\")\n",
        "display(tab_ethn_hfi_pct)\n"
      ],
      "metadata": {
        "colab": {
          "base_uri": "https://localhost:8080/",
          "height": 192
        },
        "id": "52KTb--d39ct",
        "outputId": "a6676316-90bf-4d46-e9e4-2e6303ac4b98"
      },
      "execution_count": 38,
      "outputs": [
        {
          "output_type": "stream",
          "name": "stdout",
          "text": [
            "HFI prevalence within each ethnicity (%):\n"
          ]
        },
        {
          "output_type": "display_data",
          "data": {
            "text/plain": [
              "HFI_binary              0.0   1.0\n",
              "ethn_participant                 \n",
              "White                  75.7  24.3\n",
              "Asian                  58.0  42.0\n",
              "All other ethnicities  64.1  35.9"
            ],
            "text/html": [
              "\n",
              "  <div id=\"df-3fadf80a-67a2-4660-8870-571d9dabfff1\" class=\"colab-df-container\">\n",
              "    <div>\n",
              "<style scoped>\n",
              "    .dataframe tbody tr th:only-of-type {\n",
              "        vertical-align: middle;\n",
              "    }\n",
              "\n",
              "    .dataframe tbody tr th {\n",
              "        vertical-align: top;\n",
              "    }\n",
              "\n",
              "    .dataframe thead th {\n",
              "        text-align: right;\n",
              "    }\n",
              "</style>\n",
              "<table border=\"1\" class=\"dataframe\">\n",
              "  <thead>\n",
              "    <tr style=\"text-align: right;\">\n",
              "      <th>HFI_binary</th>\n",
              "      <th>0.0</th>\n",
              "      <th>1.0</th>\n",
              "    </tr>\n",
              "    <tr>\n",
              "      <th>ethn_participant</th>\n",
              "      <th></th>\n",
              "      <th></th>\n",
              "    </tr>\n",
              "  </thead>\n",
              "  <tbody>\n",
              "    <tr>\n",
              "      <th>White</th>\n",
              "      <td>75.7</td>\n",
              "      <td>24.3</td>\n",
              "    </tr>\n",
              "    <tr>\n",
              "      <th>Asian</th>\n",
              "      <td>58.0</td>\n",
              "      <td>42.0</td>\n",
              "    </tr>\n",
              "    <tr>\n",
              "      <th>All other ethnicities</th>\n",
              "      <td>64.1</td>\n",
              "      <td>35.9</td>\n",
              "    </tr>\n",
              "  </tbody>\n",
              "</table>\n",
              "</div>\n",
              "    <div class=\"colab-df-buttons\">\n",
              "\n",
              "  <div class=\"colab-df-container\">\n",
              "    <button class=\"colab-df-convert\" onclick=\"convertToInteractive('df-3fadf80a-67a2-4660-8870-571d9dabfff1')\"\n",
              "            title=\"Convert this dataframe to an interactive table.\"\n",
              "            style=\"display:none;\">\n",
              "\n",
              "  <svg xmlns=\"http://www.w3.org/2000/svg\" height=\"24px\" viewBox=\"0 -960 960 960\">\n",
              "    <path d=\"M120-120v-720h720v720H120Zm60-500h600v-160H180v160Zm220 220h160v-160H400v160Zm0 220h160v-160H400v160ZM180-400h160v-160H180v160Zm440 0h160v-160H620v160ZM180-180h160v-160H180v160Zm440 0h160v-160H620v160Z\"/>\n",
              "  </svg>\n",
              "    </button>\n",
              "\n",
              "  <style>\n",
              "    .colab-df-container {\n",
              "      display:flex;\n",
              "      gap: 12px;\n",
              "    }\n",
              "\n",
              "    .colab-df-convert {\n",
              "      background-color: #E8F0FE;\n",
              "      border: none;\n",
              "      border-radius: 50%;\n",
              "      cursor: pointer;\n",
              "      display: none;\n",
              "      fill: #1967D2;\n",
              "      height: 32px;\n",
              "      padding: 0 0 0 0;\n",
              "      width: 32px;\n",
              "    }\n",
              "\n",
              "    .colab-df-convert:hover {\n",
              "      background-color: #E2EBFA;\n",
              "      box-shadow: 0px 1px 2px rgba(60, 64, 67, 0.3), 0px 1px 3px 1px rgba(60, 64, 67, 0.15);\n",
              "      fill: #174EA6;\n",
              "    }\n",
              "\n",
              "    .colab-df-buttons div {\n",
              "      margin-bottom: 4px;\n",
              "    }\n",
              "\n",
              "    [theme=dark] .colab-df-convert {\n",
              "      background-color: #3B4455;\n",
              "      fill: #D2E3FC;\n",
              "    }\n",
              "\n",
              "    [theme=dark] .colab-df-convert:hover {\n",
              "      background-color: #434B5C;\n",
              "      box-shadow: 0px 1px 3px 1px rgba(0, 0, 0, 0.15);\n",
              "      filter: drop-shadow(0px 1px 2px rgba(0, 0, 0, 0.3));\n",
              "      fill: #FFFFFF;\n",
              "    }\n",
              "  </style>\n",
              "\n",
              "    <script>\n",
              "      const buttonEl =\n",
              "        document.querySelector('#df-3fadf80a-67a2-4660-8870-571d9dabfff1 button.colab-df-convert');\n",
              "      buttonEl.style.display =\n",
              "        google.colab.kernel.accessAllowed ? 'block' : 'none';\n",
              "\n",
              "      async function convertToInteractive(key) {\n",
              "        const element = document.querySelector('#df-3fadf80a-67a2-4660-8870-571d9dabfff1');\n",
              "        const dataTable =\n",
              "          await google.colab.kernel.invokeFunction('convertToInteractive',\n",
              "                                                    [key], {});\n",
              "        if (!dataTable) return;\n",
              "\n",
              "        const docLinkHtml = 'Like what you see? Visit the ' +\n",
              "          '<a target=\"_blank\" href=https://colab.research.google.com/notebooks/data_table.ipynb>data table notebook</a>'\n",
              "          + ' to learn more about interactive tables.';\n",
              "        element.innerHTML = '';\n",
              "        dataTable['output_type'] = 'display_data';\n",
              "        await google.colab.output.renderOutput(dataTable, element);\n",
              "        const docLink = document.createElement('div');\n",
              "        docLink.innerHTML = docLinkHtml;\n",
              "        element.appendChild(docLink);\n",
              "      }\n",
              "    </script>\n",
              "  </div>\n",
              "\n",
              "\n",
              "    <div id=\"df-7a44c799-3153-4b80-aec0-5e55bc425f95\">\n",
              "      <button class=\"colab-df-quickchart\" onclick=\"quickchart('df-7a44c799-3153-4b80-aec0-5e55bc425f95')\"\n",
              "                title=\"Suggest charts\"\n",
              "                style=\"display:none;\">\n",
              "\n",
              "<svg xmlns=\"http://www.w3.org/2000/svg\" height=\"24px\"viewBox=\"0 0 24 24\"\n",
              "     width=\"24px\">\n",
              "    <g>\n",
              "        <path d=\"M19 3H5c-1.1 0-2 .9-2 2v14c0 1.1.9 2 2 2h14c1.1 0 2-.9 2-2V5c0-1.1-.9-2-2-2zM9 17H7v-7h2v7zm4 0h-2V7h2v10zm4 0h-2v-4h2v4z\"/>\n",
              "    </g>\n",
              "</svg>\n",
              "      </button>\n",
              "\n",
              "<style>\n",
              "  .colab-df-quickchart {\n",
              "      --bg-color: #E8F0FE;\n",
              "      --fill-color: #1967D2;\n",
              "      --hover-bg-color: #E2EBFA;\n",
              "      --hover-fill-color: #174EA6;\n",
              "      --disabled-fill-color: #AAA;\n",
              "      --disabled-bg-color: #DDD;\n",
              "  }\n",
              "\n",
              "  [theme=dark] .colab-df-quickchart {\n",
              "      --bg-color: #3B4455;\n",
              "      --fill-color: #D2E3FC;\n",
              "      --hover-bg-color: #434B5C;\n",
              "      --hover-fill-color: #FFFFFF;\n",
              "      --disabled-bg-color: #3B4455;\n",
              "      --disabled-fill-color: #666;\n",
              "  }\n",
              "\n",
              "  .colab-df-quickchart {\n",
              "    background-color: var(--bg-color);\n",
              "    border: none;\n",
              "    border-radius: 50%;\n",
              "    cursor: pointer;\n",
              "    display: none;\n",
              "    fill: var(--fill-color);\n",
              "    height: 32px;\n",
              "    padding: 0;\n",
              "    width: 32px;\n",
              "  }\n",
              "\n",
              "  .colab-df-quickchart:hover {\n",
              "    background-color: var(--hover-bg-color);\n",
              "    box-shadow: 0 1px 2px rgba(60, 64, 67, 0.3), 0 1px 3px 1px rgba(60, 64, 67, 0.15);\n",
              "    fill: var(--button-hover-fill-color);\n",
              "  }\n",
              "\n",
              "  .colab-df-quickchart-complete:disabled,\n",
              "  .colab-df-quickchart-complete:disabled:hover {\n",
              "    background-color: var(--disabled-bg-color);\n",
              "    fill: var(--disabled-fill-color);\n",
              "    box-shadow: none;\n",
              "  }\n",
              "\n",
              "  .colab-df-spinner {\n",
              "    border: 2px solid var(--fill-color);\n",
              "    border-color: transparent;\n",
              "    border-bottom-color: var(--fill-color);\n",
              "    animation:\n",
              "      spin 1s steps(1) infinite;\n",
              "  }\n",
              "\n",
              "  @keyframes spin {\n",
              "    0% {\n",
              "      border-color: transparent;\n",
              "      border-bottom-color: var(--fill-color);\n",
              "      border-left-color: var(--fill-color);\n",
              "    }\n",
              "    20% {\n",
              "      border-color: transparent;\n",
              "      border-left-color: var(--fill-color);\n",
              "      border-top-color: var(--fill-color);\n",
              "    }\n",
              "    30% {\n",
              "      border-color: transparent;\n",
              "      border-left-color: var(--fill-color);\n",
              "      border-top-color: var(--fill-color);\n",
              "      border-right-color: var(--fill-color);\n",
              "    }\n",
              "    40% {\n",
              "      border-color: transparent;\n",
              "      border-right-color: var(--fill-color);\n",
              "      border-top-color: var(--fill-color);\n",
              "    }\n",
              "    60% {\n",
              "      border-color: transparent;\n",
              "      border-right-color: var(--fill-color);\n",
              "    }\n",
              "    80% {\n",
              "      border-color: transparent;\n",
              "      border-right-color: var(--fill-color);\n",
              "      border-bottom-color: var(--fill-color);\n",
              "    }\n",
              "    90% {\n",
              "      border-color: transparent;\n",
              "      border-bottom-color: var(--fill-color);\n",
              "    }\n",
              "  }\n",
              "</style>\n",
              "\n",
              "      <script>\n",
              "        async function quickchart(key) {\n",
              "          const quickchartButtonEl =\n",
              "            document.querySelector('#' + key + ' button');\n",
              "          quickchartButtonEl.disabled = true;  // To prevent multiple clicks.\n",
              "          quickchartButtonEl.classList.add('colab-df-spinner');\n",
              "          try {\n",
              "            const charts = await google.colab.kernel.invokeFunction(\n",
              "                'suggestCharts', [key], {});\n",
              "          } catch (error) {\n",
              "            console.error('Error during call to suggestCharts:', error);\n",
              "          }\n",
              "          quickchartButtonEl.classList.remove('colab-df-spinner');\n",
              "          quickchartButtonEl.classList.add('colab-df-quickchart-complete');\n",
              "        }\n",
              "        (() => {\n",
              "          let quickchartButtonEl =\n",
              "            document.querySelector('#df-7a44c799-3153-4b80-aec0-5e55bc425f95 button');\n",
              "          quickchartButtonEl.style.display =\n",
              "            google.colab.kernel.accessAllowed ? 'block' : 'none';\n",
              "        })();\n",
              "      </script>\n",
              "    </div>\n",
              "\n",
              "  <div id=\"id_4543e194-dad5-40ce-ac9c-ac7b92e3b6e7\">\n",
              "    <style>\n",
              "      .colab-df-generate {\n",
              "        background-color: #E8F0FE;\n",
              "        border: none;\n",
              "        border-radius: 50%;\n",
              "        cursor: pointer;\n",
              "        display: none;\n",
              "        fill: #1967D2;\n",
              "        height: 32px;\n",
              "        padding: 0 0 0 0;\n",
              "        width: 32px;\n",
              "      }\n",
              "\n",
              "      .colab-df-generate:hover {\n",
              "        background-color: #E2EBFA;\n",
              "        box-shadow: 0px 1px 2px rgba(60, 64, 67, 0.3), 0px 1px 3px 1px rgba(60, 64, 67, 0.15);\n",
              "        fill: #174EA6;\n",
              "      }\n",
              "\n",
              "      [theme=dark] .colab-df-generate {\n",
              "        background-color: #3B4455;\n",
              "        fill: #D2E3FC;\n",
              "      }\n",
              "\n",
              "      [theme=dark] .colab-df-generate:hover {\n",
              "        background-color: #434B5C;\n",
              "        box-shadow: 0px 1px 3px 1px rgba(0, 0, 0, 0.15);\n",
              "        filter: drop-shadow(0px 1px 2px rgba(0, 0, 0, 0.3));\n",
              "        fill: #FFFFFF;\n",
              "      }\n",
              "    </style>\n",
              "    <button class=\"colab-df-generate\" onclick=\"generateWithVariable('tab_ethn_hfi_pct')\"\n",
              "            title=\"Generate code using this dataframe.\"\n",
              "            style=\"display:none;\">\n",
              "\n",
              "  <svg xmlns=\"http://www.w3.org/2000/svg\" height=\"24px\"viewBox=\"0 0 24 24\"\n",
              "       width=\"24px\">\n",
              "    <path d=\"M7,19H8.4L18.45,9,17,7.55,7,17.6ZM5,21V16.75L18.45,3.32a2,2,0,0,1,2.83,0l1.4,1.43a1.91,1.91,0,0,1,.58,1.4,1.91,1.91,0,0,1-.58,1.4L9.25,21ZM18.45,9,17,7.55Zm-12,3A5.31,5.31,0,0,0,4.9,8.1,5.31,5.31,0,0,0,1,6.5,5.31,5.31,0,0,0,4.9,4.9,5.31,5.31,0,0,0,6.5,1,5.31,5.31,0,0,0,8.1,4.9,5.31,5.31,0,0,0,12,6.5,5.46,5.46,0,0,0,6.5,12Z\"/>\n",
              "  </svg>\n",
              "    </button>\n",
              "    <script>\n",
              "      (() => {\n",
              "      const buttonEl =\n",
              "        document.querySelector('#id_4543e194-dad5-40ce-ac9c-ac7b92e3b6e7 button.colab-df-generate');\n",
              "      buttonEl.style.display =\n",
              "        google.colab.kernel.accessAllowed ? 'block' : 'none';\n",
              "\n",
              "      buttonEl.onclick = () => {\n",
              "        google.colab.notebook.generateWithVariable('tab_ethn_hfi_pct');\n",
              "      }\n",
              "      })();\n",
              "    </script>\n",
              "  </div>\n",
              "\n",
              "    </div>\n",
              "  </div>\n"
            ],
            "application/vnd.google.colaboratory.intrinsic+json": {
              "type": "dataframe",
              "variable_name": "tab_ethn_hfi_pct",
              "summary": "{\n  \"name\": \"tab_ethn_hfi_pct\",\n  \"rows\": 3,\n  \"fields\": [\n    {\n      \"column\": \"ethn_participant\",\n      \"properties\": {\n        \"dtype\": \"category\",\n        \"num_unique_values\": 3,\n        \"samples\": [\n          \"White\",\n          \"Asian\",\n          \"All other ethnicities\"\n        ],\n        \"semantic_type\": \"\",\n        \"description\": \"\"\n      }\n    },\n    {\n      \"column\": 0.0,\n      \"properties\": {\n        \"dtype\": \"number\",\n        \"std\": 8.991292083640335,\n        \"min\": 58.0,\n        \"max\": 75.7,\n        \"num_unique_values\": 3,\n        \"samples\": [\n          75.7,\n          58.0,\n          64.1\n        ],\n        \"semantic_type\": \"\",\n        \"description\": \"\"\n      }\n    },\n    {\n      \"column\": 1.0,\n      \"properties\": {\n        \"dtype\": \"number\",\n        \"std\": 8.991292083640333,\n        \"min\": 24.3,\n        \"max\": 42.0,\n        \"num_unique_values\": 3,\n        \"samples\": [\n          24.3,\n          42.0,\n          35.9\n        ],\n        \"semantic_type\": \"\",\n        \"description\": \"\"\n      }\n    }\n  ]\n}"
            }
          },
          "metadata": {}
        }
      ]
    },
    {
      "cell_type": "code",
      "source": [
        "# ===================================================\n",
        "# ===== Table S3. USDA 6-item item-level rates  =====\n",
        "# ===================================================\n",
        "cand_cols = [c for c in df_model.columns\n",
        "             if any(k in c.lower() for k in [\"hfi\",\"usda\",\"hfssm\",\"food_insec\"])\n",
        "             and df_model[c].dropna().isin([0,1]).all()]\n",
        "\n",
        "if cand_cols:\n",
        "    item_rates = (df_model[cand_cols].mean()*100).round(1).sort_values(ascending=False)\n",
        "    item_df = pd.DataFrame({\"item\": item_rates.index, \"positive_%\": item_rates.values})\n",
        "    print(\"Item-level positive rates (%):\")\n",
        "    display(item_df)\n",
        "else:\n",
        "    print(\"[提示] 未自动识别到 USDA 6-item 的题目列（0/1）。如需报表，请指定列名列表。\")\n"
      ],
      "metadata": {
        "colab": {
          "base_uri": "https://localhost:8080/",
          "height": 106
        },
        "id": "t4xauFk74Bdq",
        "outputId": "05d9e72b-8250-44fe-ba78-0bfab5aa0417"
      },
      "execution_count": 39,
      "outputs": [
        {
          "output_type": "stream",
          "name": "stdout",
          "text": [
            "Item-level positive rates (%):\n"
          ]
        },
        {
          "output_type": "display_data",
          "data": {
            "text/plain": [
              "         item  positive_%\n",
              "0  HFI_binary        31.5"
            ],
            "text/html": [
              "\n",
              "  <div id=\"df-8c659515-0163-450e-8d14-4c403d8b0c90\" class=\"colab-df-container\">\n",
              "    <div>\n",
              "<style scoped>\n",
              "    .dataframe tbody tr th:only-of-type {\n",
              "        vertical-align: middle;\n",
              "    }\n",
              "\n",
              "    .dataframe tbody tr th {\n",
              "        vertical-align: top;\n",
              "    }\n",
              "\n",
              "    .dataframe thead th {\n",
              "        text-align: right;\n",
              "    }\n",
              "</style>\n",
              "<table border=\"1\" class=\"dataframe\">\n",
              "  <thead>\n",
              "    <tr style=\"text-align: right;\">\n",
              "      <th></th>\n",
              "      <th>item</th>\n",
              "      <th>positive_%</th>\n",
              "    </tr>\n",
              "  </thead>\n",
              "  <tbody>\n",
              "    <tr>\n",
              "      <th>0</th>\n",
              "      <td>HFI_binary</td>\n",
              "      <td>31.5</td>\n",
              "    </tr>\n",
              "  </tbody>\n",
              "</table>\n",
              "</div>\n",
              "    <div class=\"colab-df-buttons\">\n",
              "\n",
              "  <div class=\"colab-df-container\">\n",
              "    <button class=\"colab-df-convert\" onclick=\"convertToInteractive('df-8c659515-0163-450e-8d14-4c403d8b0c90')\"\n",
              "            title=\"Convert this dataframe to an interactive table.\"\n",
              "            style=\"display:none;\">\n",
              "\n",
              "  <svg xmlns=\"http://www.w3.org/2000/svg\" height=\"24px\" viewBox=\"0 -960 960 960\">\n",
              "    <path d=\"M120-120v-720h720v720H120Zm60-500h600v-160H180v160Zm220 220h160v-160H400v160Zm0 220h160v-160H400v160ZM180-400h160v-160H180v160Zm440 0h160v-160H620v160ZM180-180h160v-160H180v160Zm440 0h160v-160H620v160Z\"/>\n",
              "  </svg>\n",
              "    </button>\n",
              "\n",
              "  <style>\n",
              "    .colab-df-container {\n",
              "      display:flex;\n",
              "      gap: 12px;\n",
              "    }\n",
              "\n",
              "    .colab-df-convert {\n",
              "      background-color: #E8F0FE;\n",
              "      border: none;\n",
              "      border-radius: 50%;\n",
              "      cursor: pointer;\n",
              "      display: none;\n",
              "      fill: #1967D2;\n",
              "      height: 32px;\n",
              "      padding: 0 0 0 0;\n",
              "      width: 32px;\n",
              "    }\n",
              "\n",
              "    .colab-df-convert:hover {\n",
              "      background-color: #E2EBFA;\n",
              "      box-shadow: 0px 1px 2px rgba(60, 64, 67, 0.3), 0px 1px 3px 1px rgba(60, 64, 67, 0.15);\n",
              "      fill: #174EA6;\n",
              "    }\n",
              "\n",
              "    .colab-df-buttons div {\n",
              "      margin-bottom: 4px;\n",
              "    }\n",
              "\n",
              "    [theme=dark] .colab-df-convert {\n",
              "      background-color: #3B4455;\n",
              "      fill: #D2E3FC;\n",
              "    }\n",
              "\n",
              "    [theme=dark] .colab-df-convert:hover {\n",
              "      background-color: #434B5C;\n",
              "      box-shadow: 0px 1px 3px 1px rgba(0, 0, 0, 0.15);\n",
              "      filter: drop-shadow(0px 1px 2px rgba(0, 0, 0, 0.3));\n",
              "      fill: #FFFFFF;\n",
              "    }\n",
              "  </style>\n",
              "\n",
              "    <script>\n",
              "      const buttonEl =\n",
              "        document.querySelector('#df-8c659515-0163-450e-8d14-4c403d8b0c90 button.colab-df-convert');\n",
              "      buttonEl.style.display =\n",
              "        google.colab.kernel.accessAllowed ? 'block' : 'none';\n",
              "\n",
              "      async function convertToInteractive(key) {\n",
              "        const element = document.querySelector('#df-8c659515-0163-450e-8d14-4c403d8b0c90');\n",
              "        const dataTable =\n",
              "          await google.colab.kernel.invokeFunction('convertToInteractive',\n",
              "                                                    [key], {});\n",
              "        if (!dataTable) return;\n",
              "\n",
              "        const docLinkHtml = 'Like what you see? Visit the ' +\n",
              "          '<a target=\"_blank\" href=https://colab.research.google.com/notebooks/data_table.ipynb>data table notebook</a>'\n",
              "          + ' to learn more about interactive tables.';\n",
              "        element.innerHTML = '';\n",
              "        dataTable['output_type'] = 'display_data';\n",
              "        await google.colab.output.renderOutput(dataTable, element);\n",
              "        const docLink = document.createElement('div');\n",
              "        docLink.innerHTML = docLinkHtml;\n",
              "        element.appendChild(docLink);\n",
              "      }\n",
              "    </script>\n",
              "  </div>\n",
              "\n",
              "\n",
              "  <div id=\"id_e447fd66-2fbf-40f2-a21e-5850ca32e941\">\n",
              "    <style>\n",
              "      .colab-df-generate {\n",
              "        background-color: #E8F0FE;\n",
              "        border: none;\n",
              "        border-radius: 50%;\n",
              "        cursor: pointer;\n",
              "        display: none;\n",
              "        fill: #1967D2;\n",
              "        height: 32px;\n",
              "        padding: 0 0 0 0;\n",
              "        width: 32px;\n",
              "      }\n",
              "\n",
              "      .colab-df-generate:hover {\n",
              "        background-color: #E2EBFA;\n",
              "        box-shadow: 0px 1px 2px rgba(60, 64, 67, 0.3), 0px 1px 3px 1px rgba(60, 64, 67, 0.15);\n",
              "        fill: #174EA6;\n",
              "      }\n",
              "\n",
              "      [theme=dark] .colab-df-generate {\n",
              "        background-color: #3B4455;\n",
              "        fill: #D2E3FC;\n",
              "      }\n",
              "\n",
              "      [theme=dark] .colab-df-generate:hover {\n",
              "        background-color: #434B5C;\n",
              "        box-shadow: 0px 1px 3px 1px rgba(0, 0, 0, 0.15);\n",
              "        filter: drop-shadow(0px 1px 2px rgba(0, 0, 0, 0.3));\n",
              "        fill: #FFFFFF;\n",
              "      }\n",
              "    </style>\n",
              "    <button class=\"colab-df-generate\" onclick=\"generateWithVariable('item_df')\"\n",
              "            title=\"Generate code using this dataframe.\"\n",
              "            style=\"display:none;\">\n",
              "\n",
              "  <svg xmlns=\"http://www.w3.org/2000/svg\" height=\"24px\"viewBox=\"0 0 24 24\"\n",
              "       width=\"24px\">\n",
              "    <path d=\"M7,19H8.4L18.45,9,17,7.55,7,17.6ZM5,21V16.75L18.45,3.32a2,2,0,0,1,2.83,0l1.4,1.43a1.91,1.91,0,0,1,.58,1.4,1.91,1.91,0,0,1-.58,1.4L9.25,21ZM18.45,9,17,7.55Zm-12,3A5.31,5.31,0,0,0,4.9,8.1,5.31,5.31,0,0,0,1,6.5,5.31,5.31,0,0,0,4.9,4.9,5.31,5.31,0,0,0,6.5,1,5.31,5.31,0,0,0,8.1,4.9,5.31,5.31,0,0,0,12,6.5,5.46,5.46,0,0,0,6.5,12Z\"/>\n",
              "  </svg>\n",
              "    </button>\n",
              "    <script>\n",
              "      (() => {\n",
              "      const buttonEl =\n",
              "        document.querySelector('#id_e447fd66-2fbf-40f2-a21e-5850ca32e941 button.colab-df-generate');\n",
              "      buttonEl.style.display =\n",
              "        google.colab.kernel.accessAllowed ? 'block' : 'none';\n",
              "\n",
              "      buttonEl.onclick = () => {\n",
              "        google.colab.notebook.generateWithVariable('item_df');\n",
              "      }\n",
              "      })();\n",
              "    </script>\n",
              "  </div>\n",
              "\n",
              "    </div>\n",
              "  </div>\n"
            ],
            "application/vnd.google.colaboratory.intrinsic+json": {
              "type": "dataframe",
              "variable_name": "item_df",
              "summary": "{\n  \"name\": \"item_df\",\n  \"rows\": 1,\n  \"fields\": [\n    {\n      \"column\": \"item\",\n      \"properties\": {\n        \"dtype\": \"string\",\n        \"num_unique_values\": 1,\n        \"samples\": [\n          \"HFI_binary\"\n        ],\n        \"semantic_type\": \"\",\n        \"description\": \"\"\n      }\n    },\n    {\n      \"column\": \"positive_%\",\n      \"properties\": {\n        \"dtype\": \"number\",\n        \"std\": null,\n        \"min\": 31.5,\n        \"max\": 31.5,\n        \"num_unique_values\": 1,\n        \"samples\": [\n          31.5\n        ],\n        \"semantic_type\": \"\",\n        \"description\": \"\"\n      }\n    }\n  ]\n}"
            }
          },
          "metadata": {}
        }
      ]
    },
    {
      "cell_type": "code",
      "source": [
        "# ==========================================================\n",
        "# ===== Figure 1 (fixed). UPF% by HFI ordered level ========\n",
        "# ==========================================================\n",
        "from pandas.api.types import CategoricalDtype\n",
        "\n",
        "y = \"weighted_upf_percent\"\n",
        "assert y in df_model.columns, \"未找到 weighted_upf_percent\"\n",
        "\n",
        "# --- 三分类有序因子 ---\n",
        "ord_dtype = CategoricalDtype(\n",
        "    categories=[\"Food secure\",\"Low food security\",\"Very low food security\"],\n",
        "    ordered=True\n",
        ")\n",
        "df_model[\"HFI_category\"] = df_model[\"HFI_category\"].astype(ord_dtype)\n",
        "\n",
        "# --- 组别均值与95%CI（画柱子用原始均值） ---\n",
        "dat_hfi3 = df_model[[y, \"HFI_category\"]].dropna().copy()\n",
        "g = dat_hfi3.groupby(\"HFI_category\")[y]\n",
        "stats = g.agg(mean=\"mean\", sd=\"std\", n=\"size\").reset_index()\n",
        "stats[\"se\"]    = stats[\"sd\"] / np.sqrt(stats[\"n\"])\n",
        "stats[\"ci_lo\"] = stats[\"mean\"] - _zcrit(0.05) * stats[\"se\"]\n",
        "stats[\"ci_hi\"] = stats[\"mean\"] + _zcrit(0.05) * stats[\"se\"]\n",
        "\n",
        "# --- p-trend：把三分类映射为 0/1/2，并与 Core-A 同协变量一起拟合 ---\n",
        "trend_map = {\"Food secure\":0, \"Low food security\":1, \"Very low food security\":2}\n",
        "need_cols = [y, \"HFI_category\", \"age_participant\", \"gender_participant\",\n",
        "             \"ethn_participant\", \"child_numbers\"]\n",
        "dat_tr = df_model[need_cols].dropna().copy()\n",
        "dat_tr[\"HFI_trend\"] = dat_tr[\"HFI_category\"].map(trend_map).astype(float)\n",
        "\n",
        "form_trend = (\n",
        "    f\"{y} ~ HFI_trend\"\n",
        "    \" + age_participant + C(gender_participant)\"\n",
        "    \" + C(ethn_participant, Treatment(reference='White'))\"\n",
        "    \" + child_numbers\"\n",
        ")\n",
        "res_trend = fit_ols(form_trend, dat_tr)\n",
        "trend_coef = coef_ci(res_trend, \"HFI_trend\")\n",
        "p_trend = trend_coef[2] if trend_coef else np.nan\n",
        "\n",
        "# --- 绘图 ---\n",
        "fig, ax = plt.subplots(figsize=(7.2, 4.2))\n",
        "xpos = np.arange(len(stats))\n",
        "ax.bar(xpos, stats[\"mean\"].values)\n",
        "\n",
        "yerr = np.vstack([stats[\"mean\"] - stats[\"ci_lo\"], stats[\"ci_hi\"] - stats[\"mean\"]])\n",
        "ax.errorbar(xpos, stats[\"mean\"], yerr=yerr, fmt='none', capsize=4)\n",
        "\n",
        "for i,(m,n) in enumerate(zip(stats[\"mean\"], stats[\"n\"])):\n",
        "    ax.text(i, m, f\"{m:.1f}%\\n(n={n})\", ha=\"center\", va=\"bottom\", fontsize=9)\n",
        "\n",
        "ax.set_xticks(xpos)\n",
        "ax.set_xticklabels(stats[\"HFI_category\"].astype(str))\n",
        "ax.set_ylabel(\"UPF% (mean with 95% CI)\")\n",
        "ax.set_title(\"Figure 1. UPF% by HFI severity (ordered)\")\n",
        "\n",
        "# 趋势箭头 + p-trend\n",
        "x0, y0 = xpos[0], stats[\"mean\"].iloc[0]\n",
        "x1, y1 = xpos[-1], stats[\"mean\"].iloc[-1]\n",
        "ax.annotate(\"\", xy=(x1, y1*1.02), xytext=(x0, y0*1.02),\n",
        "            arrowprops=dict(arrowstyle=\"->\", lw=1.5))\n",
        "ax.text((x0+x1)/2, max(y0,y1)*1.05,\n",
        "        f\"p-trend = {p_trend:.3f}\", ha=\"center\", va=\"bottom\", fontsize=10)\n",
        "\n",
        "plt.tight_layout(); plt.show()\n"
      ],
      "metadata": {
        "colab": {
          "base_uri": "https://localhost:8080/",
          "height": 481
        },
        "id": "mEEIhwog5Kyt",
        "outputId": "aae5ec60-3069-4cca-9e0d-70c50e44f7c8"
      },
      "execution_count": 41,
      "outputs": [
        {
          "output_type": "stream",
          "name": "stderr",
          "text": [
            "/tmp/ipython-input-2226645711.py:18: FutureWarning: The default of observed=False is deprecated and will be changed to True in a future version of pandas. Pass observed=False to retain current behavior or observed=True to adopt the future default and silence this warning.\n",
            "  g = dat_hfi3.groupby(\"HFI_category\")[y]\n"
          ]
        },
        {
          "output_type": "display_data",
          "data": {
            "text/plain": [
              "<Figure size 720x420 with 1 Axes>"
            ],
            "image/png": "[encoded data removed]"
          },
          "metadata": {}
        }
      ]
    },
    {
      "cell_type": "code",
      "source": [
        "# =====================================================================\n",
        "# ===== Figure 2 (upgraded). Ethnicity-specific effect, bubble size ====\n",
        "# =====================================================================\n",
        "# 若 effects/p_inter/dat_coreB 尚未存在，则现场计算一次\n",
        "try:\n",
        "    _ = effects, p_inter, dat_coreB\n",
        "except NameError:\n",
        "    # 与 Core-B 同样本\n",
        "    need_cols_B = [y,\"HFI_binary\",\"age_participant\",\"gender_participant\",\"ethn_participant\",\"child_numbers\"]\n",
        "    dat_coreB = df_model[need_cols_B].dropna().copy()\n",
        "    form_coreB = (\n",
        "        f\"{y} ~ HFI_binary + age_participant + C(gender_participant)\"\n",
        "        \" + C(ethn_participant, Treatment(reference='White')) + child_numbers\"\n",
        "        \" + HFI_binary:C(ethn_participant, Treatment(reference='White'))\"\n",
        "    )\n",
        "    res_coreB = fit_ols(form_coreB, dat_coreB)\n",
        "    groups = [\"White\",\"Asian\",\"All other ethnicities\"]\n",
        "    effects = []\n",
        "    for g in groups:\n",
        "        if g==\"White\":\n",
        "            combo={\"HFI_binary\":1.0}\n",
        "        else:\n",
        "            combo={\"HFI_binary\":1.0,\n",
        "                   f\"HFI_binary:C(ethn_participant, Treatment(reference='White'))[T.{g}]\":1.0}\n",
        "        e, ci, p = linear_combo(res_coreB, combo)\n",
        "        effects.append((g, e, ci, p))\n",
        "    p_inter = joint_test_interaction(res_coreB, \"HFI_binary:C(ethn_participant, Treatment(reference='White'))\")\n",
        "\n",
        "# 组样本量\n",
        "counts = dat_coreB[\"ethn_participant\"].value_counts()\n",
        "x_labels = [e[0] for e in effects]\n",
        "x = np.arange(len(x_labels))\n",
        "y_eff = np.array([e[1] for e in effects])\n",
        "ci_lo = np.array([e[2][0] for e in effects])\n",
        "ci_hi = np.array([e[2][1] for e in effects])\n",
        "ns = np.array([int(counts.get(lbl,0)) for lbl in x_labels])\n",
        "\n",
        "# 气泡大小（面积 ~ n），做个温和的缩放\n",
        "s = (200 * (ns / ns.max()))**1.0 + 50\n",
        "\n",
        "fig, ax = plt.subplots(figsize=(7.6, 4.4))\n",
        "# 误差线\n",
        "ax.errorbar(x, y_eff, yerr=np.vstack([y_eff-ci_lo, ci_hi-y_eff]), fmt='none', capsize=4)\n",
        "# 气泡\n",
        "ax.scatter(x, y_eff, s=s)\n",
        "\n",
        "# 基线 0\n",
        "ax.axhline(0, linestyle='--', linewidth=1)\n",
        "\n",
        "# 轴 & 标签\n",
        "ax.set_xticks(x)\n",
        "ax.set_xticklabels([f\"{lbl}\\n(n={n})\" for lbl,n in zip(x_labels, ns)])\n",
        "ax.set_ylabel(\"HFI effect on UPF% (pp) with 95% CI\")\n",
        "ax.set_title(f\"Figure 2. Ethnicity-specific HFI effect (p-interaction={p_inter:.3f})\")\n",
        "\n",
        "# 在每个点上标注数值\n",
        "for xi, yi in zip(x, y_eff):\n",
        "    ax.text(xi, yi, f\"{yi:.2f}\", ha=\"center\", va=\"bottom\", fontsize=9)\n",
        "\n",
        "plt.tight_layout()\n",
        "plt.show()\n"
      ],
      "metadata": {
        "colab": {
          "base_uri": "https://localhost:8080/",
          "height": 447
        },
        "id": "eiMZBtYm5u5r",
        "outputId": "e0c12211-f8a4-48a5-9aba-ac9a159b6892"
      },
      "execution_count": 42,
      "outputs": [
        {
          "output_type": "display_data",
          "data": {
            "text/plain": [
              "<Figure size 760x440 with 1 Axes>"
            ],
            "image/png": "[encoded data removed]"
          },
          "metadata": {}
        }
      ]
    },
    {
      "cell_type": "code",
      "source": [
        "# =================================================================\n",
        "# ===== Figure 3 (upgraded). Coefficient path: Core-A → +SES  =====\n",
        "# =================================================================\n",
        "# Plots the HFI coefficient from Core-A and the +SES model (same N),\n",
        "# draws an arrow between them, and annotates the % change.\n",
        "# If b_core/b_ses/etc. are not defined yet, we compute them here.\n",
        "\n",
        "try:\n",
        "    _ = b_core, b_ses, ci_core, ci_ses, dat_R\n",
        "except NameError:\n",
        "    ses_cols = [\n",
        "        \"weighted_upf_percent\", \"HFI_binary\",\n",
        "        \"age_participant\", \"gender_participant\",\n",
        "        \"ethn_participant\", \"child_numbers\",\n",
        "        \"income\", \"employ\"\n",
        "    ]\n",
        "    dat_R = df_model[ses_cols].dropna().copy()\n",
        "\n",
        "    form_coreA = (\n",
        "        \"weighted_upf_percent ~ HFI_binary\"\n",
        "        \" + age_participant\"\n",
        "        \" + C(gender_participant)\"\n",
        "        \" + C(ethn_participant, Treatment(reference='White'))\"\n",
        "        \" + child_numbers\"\n",
        "    )\n",
        "    res_coreA_sameN = fit_ols(form_coreA, dat_R)\n",
        "    res_ses = fit_ols(form_coreA + \" + income + C(employ)\", dat_R)\n",
        "\n",
        "    b_core = get_term(res_coreA_sameN, \"HFI_binary\")\n",
        "    b_ses  = get_term(res_ses,         \"HFI_binary\")\n",
        "\n",
        "    ci_core = coef_ci(res_coreA_sameN, \"HFI_binary\")[1]\n",
        "    ci_ses  = coef_ci(res_ses,         \"HFI_binary\")[1]\n",
        "\n",
        "# % attenuation (your baseline definition); label chooses attenuation vs amplification\n",
        "if b_core != 0 and pd.notna(b_core) and pd.notna(b_ses):\n",
        "    atten = 100.0 * (b_core - b_ses) / abs(b_core)\n",
        "else:\n",
        "    atten = np.nan\n",
        "\n",
        "label_txt = (\n",
        "    f\"attenuation {atten:.1f}%\"\n",
        "    if (pd.notna(atten) and abs(b_ses) < abs(b_core) and np.sign(b_ses)==np.sign(b_core))\n",
        "    else f\"amplification {abs(100.0*(b_ses-b_core)/(abs(b_core) if b_core!=0 else np.nan)):.1f}%\"\n",
        ")\n",
        "\n",
        "# ---- Plot ----\n",
        "fig, ax = plt.subplots(figsize=(7.2, 4.0))\n",
        "xs = np.array([0, 1])\n",
        "ys = np.array([b_core, b_ses])\n",
        "names = [\"Core-A\", \"+SES (same N)\"]\n",
        "\n",
        "# points and 95% CIs\n",
        "ax.plot(xs, ys, marker='o')\n",
        "yerr = np.vstack([\n",
        "    [ys[0]-ci_core[0], ys[1]-ci_ses[0]],\n",
        "    [ci_core[1]-ys[0], ci_ses[1]-ys[1]]\n",
        "])\n",
        "ax.errorbar(xs, ys, yerr=yerr, fmt='none', capsize=4)\n",
        "\n",
        "# zero line\n",
        "ax.axhline(0, linestyle='--', linewidth=1)\n",
        "\n",
        "# arrow + annotation\n",
        "ax.annotate(\"\", xy=(1, ys[1]), xytext=(0, ys[0]),\n",
        "            arrowprops=dict(arrowstyle=\"->\", lw=1.5))\n",
        "x_mid = 0.5\n",
        "y_mid = (ys[0] + ys[1]) / 2\n",
        "ax.text(x_mid, y_mid, label_txt, ha=\"center\", va=\"bottom\", fontsize=10)\n",
        "\n",
        "ax.set_xticks(xs); ax.set_xticklabels(names)\n",
        "ax.set_ylabel(\"HFI coefficient on UPF% (percentage points)\")\n",
        "ax.set_title(\"Figure 3. Coefficient change from Core-A to +SES (same N)\")\n",
        "plt.tight_layout(); plt.show()\n"
      ],
      "metadata": {
        "colab": {
          "base_uri": "https://localhost:8080/",
          "height": 407
        },
        "id": "P-rObmTv52j9",
        "outputId": "d3512146-3423-497f-f934-a263dca45702"
      },
      "execution_count": 45,
      "outputs": [
        {
          "output_type": "display_data",
          "data": {
            "text/plain": [
              "<Figure size 720x400 with 1 Axes>"
            ],
            "image/png": "[encoded data removed]"
          },
          "metadata": {}
        }
      ]
    }
  ]
}