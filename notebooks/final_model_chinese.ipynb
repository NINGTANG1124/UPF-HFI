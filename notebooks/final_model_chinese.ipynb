{
  "nbformat": 4,
  "nbformat_minor": 0,
  "metadata": {
    "colab": {
      "provenance": [],
      "authorship_tag": "ABX9TyO2flJNlhrkxAc19/R7eAUK",
      "include_colab_link": true
    },
    "kernelspec": {
      "name": "python3",
      "display_name": "Python 3"
    },
    "language_info": {
      "name": "python"
    }
  },
  "cells": [
    {
      "cell_type": "markdown",
      "metadata": {
        "id": "view-in-github",
        "colab_type": "text"
      },
      "source": [
        "<a href=\"https://colab.research.google.com/github/NINGTANG1124/UPF-HFI/blob/main/notebooks/final_model_chinese.ipynb\" target=\"_parent\"><img src=\"https://colab.research.google.com/assets/colab-badge.svg\" alt=\"Open In Colab\"/></a>"
      ]
    },
    {
      "cell_type": "code",
      "execution_count": 1,
      "metadata": {
        "colab": {
          "base_uri": "https://localhost:8080/"
        },
        "id": "qbMsdZWD0fg-",
        "outputId": "f22e06e3-7db5-4837-c420-7a2a9cd7c2fe"
      },
      "outputs": [
        {
          "output_type": "stream",
          "name": "stdout",
          "text": [
            "Mounted at /content/drive\n"
          ]
        }
      ],
      "source": [
        "# connect to googledrive\n",
        "from google.colab import drive\n",
        "drive.mount('/content/drive')"
      ]
    },
    {
      "cell_type": "markdown",
      "source": [
        "## 合并 HFI 到建模数据表"
      ],
      "metadata": {
        "id": "KbTbpDQ10l0F"
      }
    },
    {
      "cell_type": "code",
      "source": [
        "import pandas as pd\n",
        "import numpy as np\n",
        "import statsmodels.api as sm\n",
        "import statsmodels.formula.api as smf\n",
        "import matplotlib.pyplot as plt\n",
        "pd.set_option('display.max_columns', 120)\n",
        "\n",
        "# 读取\n",
        "survey_df = pd.read_excel( \"/content/drive/MyDrive/UPF-HFI/Model/outcome/survey_with_HFI.xlsx\")\n",
        "df_upf    = pd.read_excel(\"/content/drive/MyDrive/UPF-HFI/Model/outcome/weighted_upf_percent.xlsx\")"
      ],
      "metadata": {
        "id": "b220Df6e0lSE"
      },
      "execution_count": 2,
      "outputs": []
    },
    {
      "cell_type": "code",
      "source": [
        "# ==== 2. 先检查 ====\n",
        "issues = []\n",
        "\n",
        "# 检查关键列\n",
        "for col in [\"UserID_clean\", \"HFI_binary\", \"HFI_raw_score\"]:\n",
        "    if col not in survey_df.columns:\n",
        "        issues.append(f\"survey 缺少 {col}\")\n",
        "\n",
        "for col in [\"UserID_clean\", \"weighted_upf_percent\"]:\n",
        "    if col not in df_upf.columns:\n",
        "        issues.append(f\"upf 缺少 {col}\")\n",
        "\n",
        "# 检查 ID 是否有缺失/重复\n",
        "for name, df in [(\"survey\", survey_df), (\"upf\", df_upf)]:\n",
        "    n_na = df[\"UserID_clean\"].isna().sum()\n",
        "    n_dup = df[\"UserID_clean\"].duplicated().sum()\n",
        "    if n_na:  issues.append(f\"{name} 的 UserID_clean 有 {n_na} 个缺失\")\n",
        "    if n_dup: issues.append(f\"{name} 的 UserID_clean 有 {n_dup} 个重复\")\n",
        "\n",
        "# 检查 upf_percent 是否数值\n",
        "bad_upf = pd.to_numeric(df_upf[\"weighted_upf_percent\"], errors=\"coerce\").isna().sum()\n",
        "if bad_upf:\n",
        "    issues.append(f\"weighted_upf_percent 有 {bad_upf} 个非数值/缺失\")\n",
        "\n",
        "# 打印检查结果\n",
        "if issues:\n",
        "    print(\"检查发现以下问题：\")\n",
        "    for i, msg in enumerate(issues, 1):\n",
        "        print(f\"{i}. {msg}\")\n",
        "else:\n",
        "    print(\"没有发现问题，可以直接处理\")\n"
      ],
      "metadata": {
        "colab": {
          "base_uri": "https://localhost:8080/"
        },
        "id": "kcnClRzt0pDk",
        "outputId": "fae6d098-a794-47bd-d989-8a08fffaef9b"
      },
      "execution_count": 3,
      "outputs": [
        {
          "output_type": "stream",
          "name": "stdout",
          "text": [
            "没有发现问题，可以直接处理\n"
          ]
        }
      ]
    },
    {
      "cell_type": "code",
      "source": [
        "# ==== 检查关键变量缺失情况 ====\n",
        "check_cols = [\"HFI_binary\", \"weighted_upf_percent\"]\n",
        "missing_info = {}\n",
        "\n",
        "for col in check_cols:\n",
        "    if col not in survey_df.columns and col not in df_upf.columns:\n",
        "        print(f\"数据中找不到列: {col}\")\n",
        "        continue\n",
        "\n",
        "    if col in survey_df.columns:\n",
        "        n_miss = survey_df[col].isna().sum()\n",
        "        missing_info[col] = n_miss\n",
        "        print(f\"{col} 在 survey_df 中缺失 {n_miss} 行\")\n",
        "\n",
        "    if col in df_upf.columns:\n",
        "        n_miss = df_upf[col].isna().sum()\n",
        "        missing_info[col] = n_miss\n",
        "        print(f\"{col} 在 upf_df 中缺失 {n_miss} 行\")\n",
        "\n",
        "# ==== 判断是否需要处理 ====\n",
        "if all(v == 0 for v in missing_info.values()):\n",
        "    print(\"两列都没有缺失，可以直接进入合并/建模\")\n",
        "else:\n",
        "    print(\"存在缺失，需要处理后再合并\")\n"
      ],
      "metadata": {
        "colab": {
          "base_uri": "https://localhost:8080/"
        },
        "id": "UiHsSv6y0q3_",
        "outputId": "3b6a72a2-c454-48d0-a52c-3f67026c36d4"
      },
      "execution_count": 4,
      "outputs": [
        {
          "output_type": "stream",
          "name": "stdout",
          "text": [
            "HFI_binary 在 survey_df 中缺失 18 行\n",
            "weighted_upf_percent 在 upf_df 中缺失 0 行\n",
            "存在缺失，需要处理后再合并\n"
          ]
        }
      ]
    },
    {
      "cell_type": "code",
      "source": [
        "# 1. 合并 survey 和 upf\n",
        "df_model = pd.merge(survey_df, df_upf, on=\"UserID_clean\", how=\"inner\")\n",
        "\n",
        "# 2. 删掉 HFI_binary 缺失的\n",
        "df_model = df_model.dropna(subset=[\"HFI_binary\"])\n",
        "\n",
        "print(\"合并后样本量：\", len(df_model))\n"
      ],
      "metadata": {
        "colab": {
          "base_uri": "https://localhost:8080/"
        },
        "id": "pVgGrl7c0syV",
        "outputId": "6b6a5bc6-d804-4356-d22f-7c299374922f"
      },
      "execution_count": 5,
      "outputs": [
        {
          "output_type": "stream",
          "name": "stdout",
          "text": [
            "合并后样本量： 308\n"
          ]
        }
      ]
    },
    {
      "cell_type": "code",
      "source": [
        "# 导出合并后的数据\n",
        "df_model.to_excel(\"/content/drive/MyDrive/UPF-HFI/Model/outcome/merged_model.xlsx\", index=False)\n",
        "\n",
        "print(\"已导出到 /content/drive/MyDrive/UPF-HFI/Model/outcome/merged_model.xlsx\")\n"
      ],
      "metadata": {
        "colab": {
          "base_uri": "https://localhost:8080/"
        },
        "id": "VmEpluWC2aUe",
        "outputId": "3f04367e-f02e-42f6-fc36-7f3c514a10e8"
      },
      "execution_count": 6,
      "outputs": [
        {
          "output_type": "stream",
          "name": "stdout",
          "text": [
            "已导出到 /content/drive/MyDrive/UPF-HFI/Model/outcome/merged_model.xlsx\n"
          ]
        }
      ]
    },
    {
      "cell_type": "markdown",
      "source": [
        "# 0. 准备：工具函数"
      ],
      "metadata": {
        "id": "RqK9gry95qmY"
      }
    },
    {
      "cell_type": "code",
      "source": [
        "# =============================================\n",
        "# ============  Imports & Settings  ============\n",
        "# =============================================\n",
        "import numpy as np\n",
        "import pandas as pd\n",
        "import statsmodels.formula.api as smf\n",
        "import statsmodels.api as sm\n",
        "import matplotlib.pyplot as plt\n",
        "\n",
        "pd.set_option(\"display.max_columns\", 120)\n",
        "\n",
        "# ------------------------------------------------\n",
        "# ----- 正态分位工具（SciPy优先，内置做后备） -----\n",
        "# ------------------------------------------------\n",
        "try:\n",
        "    from scipy.stats import norm as _norm\n",
        "    def _zcrit(alpha=0.05):   # 双侧 alpha -> z*\n",
        "        return _norm.ppf(1 - alpha/2)\n",
        "    def _cdf(x):\n",
        "        return _norm.cdf(x)\n",
        "except Exception:\n",
        "    from statistics import NormalDist\n",
        "    _nd = NormalDist()\n",
        "    def _zcrit(alpha=0.05):\n",
        "        return _nd.inv_cdf(1 - alpha/2)\n",
        "    def _cdf(x):\n",
        "        return _nd.cdf(x)\n",
        "\n",
        "# --------------------------------\n",
        "# ----- OLS 拟合（稳健方差） -----\n",
        "# --------------------------------\n",
        "def fit_ols(formula, data, cov_type=\"HC3\"):\n",
        "    \"\"\"\n",
        "    OLS 拟合 + 稳健标准误（默认 HC3）\n",
        "    返回：robust 结果对象\n",
        "    \"\"\"\n",
        "    model = smf.ols(formula, data=data).fit()\n",
        "    if cov_type:\n",
        "        model = model.get_robustcov_results(cov_type=cov_type)\n",
        "    return model\n",
        "\n",
        "# ----------------------------------------------------------\n",
        "# ----- 统一结果取值（兼容 ndarray / pandas.Series） -----\n",
        "# ----------------------------------------------------------\n",
        "def _names_params_bse_p(res):\n",
        "    \"\"\"\n",
        "    统一把 params/bse/pvalues 取成 Series，并带上模型列名。\n",
        "    无论 statsmodels 返回 ndarray 还是 Series 都能兼容。\n",
        "    \"\"\"\n",
        "    names   = list(res.model.exog_names)\n",
        "    params  = pd.Series(np.asarray(res.params).ravel(),  index=names)\n",
        "    bse     = pd.Series(np.asarray(res.bse).ravel(),     index=names)\n",
        "    pvalues = pd.Series(np.asarray(res.pvalues).ravel(), index=names)\n",
        "    return names, params, bse, pvalues\n",
        "\n",
        "def get_term(result, term, default=np.nan):\n",
        "    \"\"\"安全获取某个项的系数（不存在则给默认值）。\"\"\"\n",
        "    _, params, _, _ = _names_params_bse_p(result)\n",
        "    return params.get(term, default)\n",
        "\n",
        "# ------------------------------------------------------------\n",
        "# ----- 置信区间 / 线性组合（边际效应）/ 交互整体检验 -----\n",
        "# ------------------------------------------------------------\n",
        "def coef_ci(result, term, alpha=0.05):\n",
        "    \"\"\"\n",
        "    取指定项的点估计、95%CI 和 p 值；若项不存在返回 None\n",
        "    \"\"\"\n",
        "    names, params, bse, pvalues = _names_params_bse_p(result)\n",
        "    if term not in params.index:\n",
        "        return None\n",
        "    est = params[term]\n",
        "    se  = bse[term]\n",
        "    z   = _zcrit(alpha)\n",
        "    ci  = (est - z*se, est + z*se)\n",
        "    return est, ci, pvalues[term]\n",
        "\n",
        "def linear_combo(result, combo):\n",
        "    \"\"\"\n",
        "    线性组合估计（用于交互项下的 HFI 边际效应等）\n",
        "    combo 例子：\n",
        "      {'HFI_binary':1,\n",
        "       \"HFI_binary:C(ethn_participant, Treatment(reference='White'))[T.Asian]\":1}\n",
        "    返回：(点估计, 95%CI, p 值)\n",
        "    \"\"\"\n",
        "    names, params, _, _ = _names_params_bse_p(result)\n",
        "    cov = np.asarray(result.cov_params())\n",
        "    w = np.zeros(len(names))\n",
        "    for k, v in combo.items():\n",
        "        if k in names:\n",
        "            w[names.index(k)] = v\n",
        "    est = float(np.dot(w, params.values))\n",
        "    var = float(np.dot(w, np.dot(cov, w)))\n",
        "    se  = np.sqrt(var)\n",
        "    if se > 0:\n",
        "        zval = est / se\n",
        "        ci   = (est - _zcrit(0.05)*se, est + _zcrit(0.05)*se)\n",
        "        p    = 2 * (1 - _cdf(abs(zval)))\n",
        "    else:\n",
        "        ci, p = (np.nan, np.nan), np.nan\n",
        "    return est, ci, p\n",
        "\n",
        "def joint_test_interaction(result, prefix):\n",
        "    \"\"\"\n",
        "    交互整体检验：检验所有以 prefix 开头的系数为 0\n",
        "    例如 prefix = \"HFI_binary:C(ethn_participant, Treatment(reference='White'))\"\n",
        "    \"\"\"\n",
        "    names, params, _, _ = _names_params_bse_p(result)\n",
        "    terms = [nm for nm in names if nm.startswith(prefix)]\n",
        "    if not terms:\n",
        "        return np.nan\n",
        "    R = np.zeros((len(terms), len(names)))\n",
        "    for i, t in enumerate(terms):\n",
        "        R[i, names.index(t)] = 1.0\n",
        "    ft = result.f_test(R)\n",
        "    return float(np.asarray(ft.pvalue))\n",
        "\n",
        "# -------------------------\n",
        "# ----- 绘图（coefplot） -----\n",
        "# -------------------------\n",
        "def coefplot(ax, labels, est, lo, hi, title, xlabel=\"Coefficient (pp)\"):\n",
        "    \"\"\"\n",
        "    系数图（点 + 95%CI）\n",
        "    labels: y 轴标签列表\n",
        "    est/lo/hi: 对应点估计与置信区间上下界的等长列表\n",
        "    \"\"\"\n",
        "    y = np.arange(len(labels))\n",
        "    ax.errorbar(est, y, xerr=[est-lo, hi-est], fmt='o', capsize=4)\n",
        "    ax.set_yticks(y)\n",
        "    ax.set_yticklabels(labels)\n",
        "    ax.axvline(0, linestyle='--', linewidth=1)\n",
        "    ax.set_xlabel(xlabel)\n",
        "    ax.set_title(title)\n",
        "    ax.invert_yaxis()\n"
      ],
      "metadata": {
        "id": "BsLbysJJ5r1m"
      },
      "execution_count": 13,
      "outputs": []
    },
    {
      "cell_type": "markdown",
      "source": [
        "# 1. 族裔合并"
      ],
      "metadata": {
        "id": "uGbMOddw5xdb"
      }
    },
    {
      "cell_type": "code",
      "source": [
        "assert \"ethn_participant\" in df_model.columns, \"未找到 ethn_participant 列（应为1–9编码）。\"\n",
        "\n",
        "# 备份原始九类编码\n",
        "df_model = df_model.copy()\n",
        "df_model.rename(columns={\"ethn_participant\": \"ethn_participant_raw\"}, inplace=True)\n",
        "\n",
        "# 强制转换为整数编码，兼容缺失\n",
        "codes = pd.to_numeric(df_model[\"ethn_participant_raw\"], errors=\"coerce\").astype(\"Int64\")\n",
        "\n",
        "# 映射到三大类\n",
        "code_to_ethn3 = {\n",
        "    1: \"White\", 2: \"White\",\n",
        "    3: \"Asian\", 4: \"Asian\", 5: \"Asian\", 6: \"Asian\",\n",
        "    7: \"All other ethnicities\", 8: \"All other ethnicities\", 9: \"All other ethnicities\"\n",
        "}\n",
        "df_model[\"ethn_participant\"] = codes.map(code_to_ethn3)\n",
        "\n",
        "# 设定为分类变量并固定顺序（参考组=White）\n",
        "df_model[\"ethn_participant\"] = pd.Categorical(\n",
        "    df_model[\"ethn_participant\"],\n",
        "    categories=[\"White\", \"Asian\", \"All other ethnicities\"],\n",
        "    ordered=False\n",
        ")\n",
        "\n",
        "# 健诊：展示原始九类分布与三类分布\n",
        "print(\"原始九类（1–9）计数：\")\n",
        "print(codes.value_counts(dropna=False).sort_index())\n",
        "print(\"\\n合并后三类计数（含缺失）：\")\n",
        "print(df_model[\"ethn_participant\"].value_counts(dropna=False))\n",
        "\n",
        "# 若存在异常编码（非1–9），提示但不报错\n",
        "invalid = codes[~codes.isin(list(range(1,10))) & codes.notna()].unique()\n",
        "if len(invalid) > 0:\n",
        "    print(f\"\\n[提示] 发现非常规族裔编码：{list(invalid)}；已在合并后记为缺失。\")"
      ],
      "metadata": {
        "colab": {
          "base_uri": "https://localhost:8080/"
        },
        "id": "sGJQurQt5vFt",
        "outputId": "ef4cfb4e-3173-42ec-90b1-4d1355c06329"
      },
      "execution_count": 8,
      "outputs": [
        {
          "output_type": "stream",
          "name": "stdout",
          "text": [
            "原始九类（1–9）计数：\n",
            "ethn_participant_raw\n",
            "1    156\n",
            "2     13\n",
            "3     76\n",
            "4     10\n",
            "5      8\n",
            "6      6\n",
            "7     33\n",
            "8      4\n",
            "9      2\n",
            "Name: count, dtype: Int64\n",
            "\n",
            "合并后三类计数（含缺失）：\n",
            "ethn_participant\n",
            "White                    169\n",
            "Asian                    100\n",
            "All other ethnicities     39\n",
            "Name: count, dtype: int64\n"
          ]
        }
      ]
    },
    {
      "cell_type": "markdown",
      "source": [
        "# 2. Core-A 主模型（不含 SES）"
      ],
      "metadata": {
        "id": "By9VfVzq6c5G"
      }
    },
    {
      "cell_type": "code",
      "source": [
        "y = \"weighted_upf_percent\"\n",
        "coreA_cols = [y, \"HFI_binary\", \"age_participant\", \"gender_participant\", \"ethn_participant\", \"child_numbers\"]\n",
        "\n",
        "dat_coreA = df_model[coreA_cols].dropna().copy()\n",
        "print(f\"\\nCore-A 样本量: {len(dat_coreA)}\")\n",
        "\n",
        "form_coreA = (\n",
        "    f\"{y} ~ HFI_binary\"\n",
        "    \" + age_participant\"\n",
        "    \" + C(gender_participant)\"\n",
        "    \" + C(ethn_participant, Treatment(reference='White'))\"\n",
        "    \" + child_numbers\"\n",
        ")\n",
        "\n",
        "res_coreA = fit_ols(form_coreA, dat_coreA, cov_type=\"HC3\")\n",
        "hfi_core = coef_ci(res_coreA, \"HFI_binary\")\n",
        "if hfi_core:\n",
        "    est, ci, p = hfi_core\n",
        "    print(f\"Core-A: HFI vs secure 的差异 = {est:.2f} pp (95%CI {ci[0]:.2f}, {ci[1]:.2f}), p={p:.3f}\")\n"
      ],
      "metadata": {
        "colab": {
          "base_uri": "https://localhost:8080/"
        },
        "id": "YxyQxiyn6gw5",
        "outputId": "b3702f81-37d9-4761-c00e-1d1bdcb5ab2e"
      },
      "execution_count": 14,
      "outputs": [
        {
          "output_type": "stream",
          "name": "stdout",
          "text": [
            "\n",
            "Core-A 样本量: 304\n",
            "Core-A: HFI vs secure 的差异 = 2.32 pp (95%CI -0.72, 5.37), p=0.136\n"
          ]
        }
      ]
    },
    {
      "cell_type": "code",
      "source": [
        "need_cols = coreA_cols  # 与 Core-A 一致\n",
        "mask_keep = df_model[need_cols].notna().all(axis=1)\n",
        "kept_coreA     = df_model.loc[mask_keep].copy()\n",
        "dropped_coreA  = df_model.loc[~mask_keep].copy()\n",
        "\n",
        "print(f\"Core-A 保留样本: {len(kept_coreA)}\")\n",
        "print(f\"Core-A 剔除样本: {len(dropped_coreA)}\")\n",
        "\n",
        "# 识别一个ID列（若没有就用行号）\n",
        "id_candidates = [\"UserID_clean\",\"UserID\",\"participant_id\",\"id\",\"ID\",\"BiB_ID\"]\n",
        "id_col = next((c for c in id_candidates if c in df_model.columns), None)\n",
        "\n",
        "# 标注每行缺失了哪些变量\n",
        "def _missing_vars(row):\n",
        "    return [c for c in need_cols if pd.isna(row[c])]\n",
        "\n",
        "dropped_coreA[\"missing_vars\"] = dropped_coreA.apply(_missing_vars, axis=1)\n",
        "dropped_coreA[\"missing_vars_str\"] = dropped_coreA[\"missing_vars\"].apply(lambda xs: \", \".join(xs))\n",
        "\n",
        "# ----- 1) 每个变量导致剔除的计数 -----\n",
        "print(\"\\n每个变量的缺失计数（降序）：\")\n",
        "print(df_model[need_cols].isna().sum().sort_values(ascending=False))"
      ],
      "metadata": {
        "colab": {
          "base_uri": "https://localhost:8080/"
        },
        "id": "GpEltl5q76nk",
        "outputId": "dfc3a6e0-fc19-4aa4-8608-94649c410019"
      },
      "execution_count": 18,
      "outputs": [
        {
          "output_type": "stream",
          "name": "stdout",
          "text": [
            "Core-A 保留样本: 304\n",
            "Core-A 剔除样本: 4\n",
            "\n",
            "每个变量的缺失计数（降序）：\n",
            "child_numbers           4\n",
            "weighted_upf_percent    0\n",
            "HFI_binary              0\n",
            "age_participant         0\n",
            "gender_participant      0\n",
            "ethn_participant        0\n",
            "dtype: int64\n"
          ]
        }
      ]
    },
    {
      "cell_type": "code",
      "source": [
        "# Figure 1: Core-A 的 HFI 系数（pp）\n",
        "# -------------------------\n",
        "# ----- 绘图（coefplot） -----\n",
        "# -------------------------\n",
        "def _as_1d_numeric(x):\n",
        "    \"\"\"把标量/列表/Series/ndarray统一成1D float数组\"\"\"\n",
        "    if isinstance(x, (list, tuple, pd.Series, np.ndarray)):\n",
        "        return np.asarray(x, dtype=float).reshape(-1)\n",
        "    return np.asarray([x], dtype=float)\n",
        "\n",
        "def coefplot(ax, labels, est, lo, hi, title, xlabel=\"Coefficient (pp)\"):\n",
        "    est = _as_1d_numeric(est)\n",
        "    lo  = _as_1d_numeric(lo)\n",
        "    hi  = _as_1d_numeric(hi)\n",
        "    assert len(est) == len(lo) == len(hi) == len(labels), \"长度不一致\"\n",
        "\n",
        "    y = np.arange(len(labels))\n",
        "    xerr = np.vstack([est - lo, hi - est])   # 形状(2, n)\n",
        "    ax.errorbar(est, y, xerr=xerr, fmt='o', capsize=4)\n",
        "    ax.set_yticks(y)\n",
        "    ax.set_yticklabels(labels)\n",
        "    ax.axvline(0, linestyle='--', linewidth=1)\n",
        "    ax.set_xlabel(xlabel)\n",
        "    ax.set_title(title)\n",
        "    ax.invert_yaxis()\n",
        "\n",
        "fig, ax = plt.subplots(figsize=(5,3))\n",
        "coefplot(ax, [\"HFI (Core-A)\"], est, ci[0], ci[1],\n",
        "         title=\"Figure 1. Effect of HFI on UPF% (Core-A)\")\n",
        "plt.show()\n",
        "\n"
      ],
      "metadata": {
        "colab": {
          "base_uri": "https://localhost:8080/",
          "height": 333
        },
        "id": "NFyW-7Yb8a32",
        "outputId": "de002fcf-bed2-412b-b796-726edc893447"
      },
      "execution_count": 24,
      "outputs": [
        {
          "output_type": "display_data",
          "data": {
            "text/plain": [
              "<Figure size 500x300 with 1 Axes>"
            ],
            "image/png": "[encoded data removed]"
          },
          "metadata": {}
        }
      ]
    },
    {
      "cell_type": "markdown",
      "source": [
        "# 3. Core-B 交互（HFI × 族裔三类；参考White）"
      ],
      "metadata": {
        "id": "v4u2cjeQ9zLT"
      }
    },
    {
      "cell_type": "code",
      "source": [
        "# # 输出：各族裔下HFI边际效应 + 交互整体检验p值\n",
        "form_coreB = (\n",
        "    f\"{y} ~ HFI_binary\"\n",
        "    \" + age_participant\"\n",
        "    \" + C(gender_participant)\"\n",
        "    \" + C(ethn_participant, Treatment(reference='White'))\"\n",
        "    \" + child_numbers\"\n",
        "    \" + HFI_binary:C(ethn_participant, Treatment(reference='White'))\"\n",
        ")\n",
        "\n",
        "# 为避免样本不同导致的差异，这里用“交互模型所需完整样本”\n",
        "need_cols_B = coreA_cols  # 交互不增加额外主效应列\n",
        "dat_coreB = df_model[need_cols_B].dropna().copy()\n",
        "print(f\"\\nCore-B 样本量: {len(dat_coreB)}\")\n",
        "res_coreB = fit_ols(form_coreB, dat_coreB, cov_type=\"HC3\")\n",
        "\n",
        "# 计算各族裔下 HFI 的边际效应\n",
        "groups = [\"White\", \"Asian\", \"All other ethnicities\"]\n",
        "effects = []\n",
        "for g in groups:\n",
        "    if g == \"White\":\n",
        "        combo = {\"HFI_binary\":1.0}  # 参考组无交互项\n",
        "    else:\n",
        "        combo = {\"HFI_binary\":1.0, f\"HFI_binary:C(ethn_participant, Treatment(reference='White'))[T.{g}]\":1.0}\n",
        "    e, ci_g, p_g = linear_combo(res_coreB, combo)\n",
        "    effects.append((g, e, ci_g, p_g))\n",
        "    print(f\"{g}: ΔUPF = {e:.2f} pp (95%CI {ci_g[0]:.2f}, {ci_g[1]:.2f}), p={p_g:.3f}\")\n",
        "\n",
        "p_inter = joint_test_interaction(res_coreB, \"HFI_binary:C(ethn_participant, Treatment(reference='White'))\")\n",
        "print(f\"交互整体检验 p-value = {p_inter:.3f}\")"
      ],
      "metadata": {
        "colab": {
          "base_uri": "https://localhost:8080/"
        },
        "id": "yFYlVSou93Yo",
        "outputId": "4e748f5c-f70f-4fa2-eef5-d627b0fa590a"
      },
      "execution_count": 25,
      "outputs": [
        {
          "output_type": "stream",
          "name": "stdout",
          "text": [
            "\n",
            "Core-B 样本量: 304\n",
            "White: ΔUPF = 0.99 pp (95%CI -3.23, 5.22), p=0.644\n",
            "Asian: ΔUPF = 2.16 pp (95%CI -2.92, 7.25), p=0.404\n",
            "All other ethnicities: ΔUPF = 7.48 pp (95%CI -0.94, 15.90), p=0.082\n",
            "交互整体检验 p-value = 0.405\n"
          ]
        }
      ]
    },
    {
      "cell_type": "code",
      "source": [
        "# Figure 2: 三族裔并列的边际效应图\n",
        "fig2, ax2 = plt.subplots(figsize=(6,3.5))\n",
        "labs = [g for g,_,_,_ in effects]\n",
        "ests = [e for _,e,_,_ in effects]\n",
        "los  = [ci[0] for _,_,ci,_ in effects]\n",
        "his  = [ci[1] for _,_,ci,_ in effects]\n",
        "coefplot(ax2, labs, ests, los, his, title=f\"Figure 2. HFI effect by ethnicity (p-int={p_inter:.3f})\")\n",
        "plt.show()"
      ],
      "metadata": {
        "colab": {
          "base_uri": "https://localhost:8080/",
          "height": 372
        },
        "id": "G-7pvsCN9_Kx",
        "outputId": "da297e32-8ab1-48fd-8562-d545673907e4"
      },
      "execution_count": 26,
      "outputs": [
        {
          "output_type": "display_data",
          "data": {
            "text/plain": [
              "<Figure size 600x350 with 1 Axes>"
            ],
            "image/png": "[encoded data removed]"
          },
          "metadata": {}
        }
      ]
    },
    {
      "cell_type": "markdown",
      "source": [
        "# 4. Robustness（结构性混杂）：一次性加入 SES（income, employ）"
      ],
      "metadata": {
        "id": "rYscG3p3-CTT"
      }
    },
    {
      "cell_type": "code",
      "source": [
        "# 报告：HFI 系数衰减百分比\n",
        "# 同一样本比较 + 衰减百分比\n",
        "# =========================================\n",
        "ses_cols = coreA_cols + [\"income\", \"employ\"]\n",
        "dat_R = df_model[ses_cols].dropna().copy()\n",
        "print(f\"\\nRobustness(+SES) 样本量（统一样本）: {len(dat_R)}\")\n",
        "\n",
        "res_coreA_sameN = fit_ols(form_coreA, dat_R, cov_type=\"HC3\")\n",
        "res_ses         = fit_ols(form_coreA + \" + income + C(employ)\", dat_R, cov_type=\"HC3\")\n",
        "\n",
        "# --- 关键：用 get_term 取系数，兼容 ndarray/Series ---\n",
        "b_core = get_term(res_coreA_sameN, \"HFI_binary\", np.nan)\n",
        "b_ses  = get_term(res_ses,         \"HFI_binary\", np.nan)\n",
        "\n",
        "ci_core_t = coef_ci(res_coreA_sameN, \"HFI_binary\")\n",
        "ci_ses_t  = coef_ci(res_ses,         \"HFI_binary\")\n",
        "ci_core = ci_core_t[1] if ci_core_t else (np.nan, np.nan)\n",
        "ci_ses  = ci_ses_t[1]  if ci_ses_t  else (np.nan, np.nan)\n",
        "\n",
        "atten = np.nan\n",
        "if pd.notna(b_core) and not np.isclose(b_core, 0.0):\n",
        "    atten = 100.0 * (b_core - b_ses) / abs(b_core)\n",
        "\n",
        "print(f\"HFI 系数：Core-A = {b_core:.2f} pp  →  +SES = {b_ses:.2f} pp；衰减 {atten:.1f}%\")\n"
      ],
      "metadata": {
        "colab": {
          "base_uri": "https://localhost:8080/"
        },
        "id": "Vs0j5Jff-EFT",
        "outputId": "96fb17a7-56ef-4729-bdb8-6042d1feee40"
      },
      "execution_count": 30,
      "outputs": [
        {
          "output_type": "stream",
          "name": "stdout",
          "text": [
            "\n",
            "Robustness(+SES) 样本量（统一样本）: 299\n",
            "HFI 系数：Core-A = 2.75 pp  →  +SES = 3.34 pp；衰减 -21.3%\n"
          ]
        }
      ]
    },
    {
      "cell_type": "code",
      "source": [
        "# ----- 绘图（Figure 3）-----\n",
        "fig3, ax3 = plt.subplots(figsize=(5.5, 3.2))\n",
        "coefplot(\n",
        "    ax3,\n",
        "    [\"Core-A\", \"+SES\"],\n",
        "    [b_core, b_ses],\n",
        "    [ci_core[0], ci_ses[0]],\n",
        "    [ci_core[1], ci_ses[1]],\n",
        "    title=f\"Figure 3. HFI coefficient: Core-A vs +SES (atten={atten:.1f}%)\"\n",
        ")\n",
        "plt.show()"
      ],
      "metadata": {
        "colab": {
          "base_uri": "https://localhost:8080/",
          "height": 349
        },
        "id": "_g_pE27U-rSP",
        "outputId": "726c3150-83bc-4324-8cf8-0ee30235f2c5"
      },
      "execution_count": 31,
      "outputs": [
        {
          "output_type": "display_data",
          "data": {
            "text/plain": [
              "<Figure size 550x320 with 1 Axes>"
            ],
            "image/png": "[encoded data removed]"
          },
          "metadata": {}
        }
      ]
    },
    {
      "cell_type": "markdown",
      "source": [
        "# 5. Sensitivity（关键假设变化）"
      ],
      "metadata": {
        "id": "1ZWmcPBk-zzX"
      }
    },
    {
      "cell_type": "markdown",
      "source": [
        "## 5.1 HFI 三分类(有序) + 趋势检验"
      ],
      "metadata": {
        "id": "1dc9xLPg-11O"
      }
    },
    {
      "cell_type": "code",
      "source": [
        "# 期望已有列：HFI_category ∈ [\"Food secure\",\"Low food security\",\"Very low food security\"]\n",
        "if \"HFI_category\" in df_model.columns:\n",
        "    # 统一类型与顺序\n",
        "    ord_dtype = pd.api.types.CategoricalDtype(\n",
        "        categories=[\"Food secure\",\"Low food security\",\"Very low food security\"], ordered=True\n",
        "    )\n",
        "    df_model[\"HFI_category\"] = df_model[\"HFI_category\"].astype(ord_dtype)\n",
        "\n",
        "    sens_cols = coreA_cols + [\"HFI_category\"]\n",
        "    dat_sens  = df_model[sens_cols].dropna().copy()\n",
        "    print(f\"\\nSensitivity-有序三分类 样本量: {len(dat_sens)}\")\n",
        "\n",
        "    # (a) 类别模型（相对食品安全组）\n",
        "    form_cat = (\n",
        "        f\"{y} ~ C(HFI_category, Treatment(reference='Food secure'))\"\n",
        "        \" + age_participant + C(gender_participant)\"\n",
        "        \" + C(ethn_participant, Treatment(reference='White'))\"\n",
        "        \" + child_numbers\"\n",
        "    )\n",
        "    res_cat = fit_ols(form_cat, dat_sens, cov_type=\"HC3\")\n",
        "    for lev in [\"Low food security\",\"Very low food security\"]:\n",
        "        term = f\"C(HFI_category, Treatment(reference='Food secure'))[T.{lev}]\"\n",
        "        est, ci, p = coef_ci(res_cat, term)\n",
        "        print(f\"{lev}: {est:.2f} pp (95%CI {ci[0]:.2f}, {ci[1]:.2f}), p={p:.3f}\")\n",
        "\n",
        "    # (b) 趋势检验（0,1,2 连续）\n",
        "    tr_map = {\"Food secure\":0, \"Low food security\":1, \"Very low food security\":2}\n",
        "    dat_sens[\"HFI_trend\"] = dat_sens[\"HFI_category\"].map(tr_map).astype(float)\n",
        "    form_trend = (\n",
        "        f\"{y} ~ HFI_trend\"\n",
        "        \" + age_participant + C(gender_participant)\"\n",
        "        \" + C(ethn_participant, Treatment(reference='White'))\"\n",
        "        \" + child_numbers\"\n",
        "    )\n",
        "    res_trend = fit_ols(form_trend, dat_sens, cov_type=\"HC3\")\n",
        "    est, ci, p = coef_ci(res_trend, \"HFI_trend\")\n",
        "    print(f\"p-trend: 每增加一档HFI，UPF% 变化 {est:.2f} pp (95%CI {ci[0]:.2f}, {ci[1]:.2f}), p={p:.3f}\")\n",
        "else:\n",
        "    print(\"\\n[跳过] 未找到 HFI_category（三分类）列，已跳过敏感性-三分类与趋势检验。\")\n"
      ],
      "metadata": {
        "colab": {
          "base_uri": "https://localhost:8080/"
        },
        "id": "3_9p82Xw-0e5",
        "outputId": "1ed27f31-0f9d-44b7-ba15-186077e020b7"
      },
      "execution_count": 32,
      "outputs": [
        {
          "output_type": "stream",
          "name": "stdout",
          "text": [
            "\n",
            "Sensitivity-有序三分类 样本量: 304\n",
            "Low food security: 0.87 pp (95%CI -3.11, 4.85), p=0.668\n",
            "Very low food security: 3.80 pp (95%CI -0.06, 7.65), p=0.055\n",
            "p-trend: 每增加一档HFI，UPF% 变化 1.75 pp (95%CI -0.11, 3.60), p=0.066\n"
          ]
        }
      ]
    },
    {
      "cell_type": "markdown",
      "source": [
        "## 5.2 探索性交互：HFI × I(child_numbers≥3) （附录）"
      ],
      "metadata": {
        "id": "qoVD_os9_Bya"
      }
    },
    {
      "cell_type": "code",
      "source": [
        "df_model[\"many_children\"] = (df_model[\"child_numbers\"] >= 3).astype(\"int\")\n",
        "cols_c3 = coreA_cols + [\"many_children\"]\n",
        "dat_c3  = df_model[cols_c3].dropna().copy()\n",
        "form_c3 = (\n",
        "    f\"{y} ~ HFI_binary + many_children + HFI_binary:many_children\"\n",
        "    \" + age_participant + C(gender_participant)\"\n",
        "    \" + C(ethn_participant, Treatment(reference='White'))\"\n",
        "    \" + child_numbers\"\n",
        ")\n",
        "res_c3 = fit_ols(form_c3, dat_c3, cov_type=\"HC3\")\n",
        "e, ci, p = coef_ci(res_c3, \"HFI_binary:many_children\")\n",
        "print(f\"[探索] HFI×(≥3个孩子) 交互 = {e:.2f} pp (95%CI {ci[0]:.2f}, {ci[1]:.2f}), p={p:.3f}\")\n"
      ],
      "metadata": {
        "colab": {
          "base_uri": "https://localhost:8080/"
        },
        "id": "fIr0BbV9_Diz",
        "outputId": "0388b99d-372e-413c-ea7e-fc8cdf852d9c"
      },
      "execution_count": 33,
      "outputs": [
        {
          "output_type": "stream",
          "name": "stdout",
          "text": [
            "[探索] HFI×(≥3个孩子) 交互 = 0.37 pp (95%CI -6.06, 6.79), p=0.911\n"
          ]
        }
      ]
    },
    {
      "cell_type": "markdown",
      "source": [
        "## 5.3 族裔复核交互方向（附录）"
      ],
      "metadata": {
        "id": "IsSf7-9I_O6D"
      }
    },
    {
      "cell_type": "code",
      "source": [
        "# ============ 附录：族裔交互方向复核（仅三类） ============\n",
        "# 目标：核对各组 HFI 边际效应方向 & 成对比较\n",
        "# ============================================================\n",
        "\n",
        "# ----- 保证与 Core-B 同样本 -----\n",
        "need_cols_B = [y, \"HFI_binary\", \"age_participant\", \"gender_participant\",\n",
        "               \"ethn_participant\", \"child_numbers\"]\n",
        "dat_coreB = df_model[need_cols_B].dropna().copy()\n",
        "print(f\"[Appendix] 样本量（与Core-B一致）: {len(dat_coreB)}\")\n",
        "\n",
        "# ----- 重新拟合交互模型（参考组=White） -----\n",
        "form_coreB = (\n",
        "    f\"{y} ~ HFI_binary\"\n",
        "    \" + age_participant\"\n",
        "    \" + C(gender_participant)\"\n",
        "    \" + C(ethn_participant, Treatment(reference='White'))\"\n",
        "    \" + child_numbers\"\n",
        "    \" + HFI_binary:C(ethn_participant, Treatment(reference='White'))\"\n",
        ")\n",
        "res_coreB = fit_ols(form_coreB, dat_coreB, cov_type=\"HC3\")\n",
        "\n",
        "# ----- 各组 HFI 边际效应（pp） -----\n",
        "groups = [\"White\", \"Asian\", \"All other ethnicities\"]\n",
        "appendix_eff = []\n",
        "for g in groups:\n",
        "    if g == \"White\":\n",
        "        combo = {\"HFI_binary\": 1.0}\n",
        "    else:\n",
        "        combo = {\n",
        "            \"HFI_binary\": 1.0,\n",
        "            f\"HFI_binary:C(ethn_participant, Treatment(reference='White'))[T.{g}]\": 1.0\n",
        "        }\n",
        "    est_g, ci_g, p_g = linear_combo(res_coreB, combo)\n",
        "    appendix_eff.append((g, est_g, ci_g[0], ci_g[1], p_g))\n",
        "\n",
        "print(\"\\n[各族裔组 HFI 边际效应]（pp）\")\n",
        "for g, e, lo, hi, p in appendix_eff:\n",
        "    print(f\"- {g:>22}: {e:.2f}  (95%CI {lo:.2f}, {hi:.2f}), p={p:.3f}\")\n",
        "\n",
        "# ----- 交互整体检验 -----\n",
        "p_inter = joint_test_interaction(res_coreB, \"HFI_binary:C(ethn_participant, Treatment(reference='White'))\")\n",
        "print(f\"\\n[交互整体检验] p-int = {p_inter:.3f}\")\n",
        "\n",
        "# ----- 成对比较：效应差（组A - 组B） -----\n",
        "def pair_diff(result, A, B):\n",
        "    \"\"\"差值 = Effect_A - Effect_B\"\"\"\n",
        "    # White 的效应是 b_HFI；其他组是在此基础上 + 各自交互项\n",
        "    termA = f\"HFI_binary:C(ethn_participant, Treatment(reference='White'))[T.{A}]\"\n",
        "    termB = f\"HFI_binary:C(ethn_participant, Treatment(reference='White'))[T.{B}]\"\n",
        "    combo = {}\n",
        "    if A != \"White\": combo[termA] = 1.0\n",
        "    if B != \"White\": combo[termB] = -1.0\n",
        "    # White 的主效应在差分中抵消，无需显式加入 HFI_binary\n",
        "    # （若 A/B 含 White，则只保留另一个组的交互项）\n",
        "    return linear_combo(result, combo if combo else {\"HFI_binary\":0.0})\n",
        "\n",
        "pairs = [(\"Asian\",\"White\"), (\"All other ethnicities\",\"White\"), (\"Asian\",\"All other ethnicities\")]\n",
        "pair_rows = []\n",
        "print(\"\\n[成对比较：效应差（组A - 组B）]  单位：pp\")\n",
        "for A,B in pairs:\n",
        "    est_d, ci_d, p_d = pair_diff(res_coreB, A, B)\n",
        "    print(f\"- {A:>22}  -  {B:<22}:  {est_d:.2f}  (95%CI {ci_d[0]:.2f}, {ci_d[1]:.2f}), p={p_d:.3f}\")\n",
        "    pair_rows.append((A, B, est_d, ci_d[0], ci_d[1], p_d))"
      ],
      "metadata": {
        "colab": {
          "base_uri": "https://localhost:8080/"
        },
        "id": "2zbfGFiA_UhC",
        "outputId": "0398b0a3-5f04-4a95-bce8-dbc6a4129689"
      },
      "execution_count": 35,
      "outputs": [
        {
          "output_type": "stream",
          "name": "stdout",
          "text": [
            "[Appendix] 样本量（与Core-B一致）: 304\n",
            "\n",
            "[各族裔组 HFI 边际效应]（pp）\n",
            "-                  White: 0.99  (95%CI -3.23, 5.22), p=0.644\n",
            "-                  Asian: 2.16  (95%CI -2.92, 7.25), p=0.404\n",
            "-  All other ethnicities: 7.48  (95%CI -0.94, 15.90), p=0.082\n",
            "\n",
            "[交互整体检验] p-int = 0.405\n",
            "\n",
            "[成对比较：效应差（组A - 组B）]  单位：pp\n",
            "-                  Asian  -  White                 :  1.17  (95%CI -5.33, 7.67), p=0.725\n",
            "-  All other ethnicities  -  White                 :  6.49  (95%CI -2.96, 15.94), p=0.178\n",
            "-                  Asian  -  All other ethnicities :  -5.32  (95%CI -15.22, 4.58), p=0.292\n"
          ]
        }
      ]
    },
    {
      "cell_type": "code",
      "source": [
        "# ----- 附录图：三组边际效应并列 -----\n",
        "labs_e = [r[0] for r in appendix_eff]\n",
        "ests_e = [r[1] for r in appendix_eff]\n",
        "los_e  = [r[2] for r in appendix_eff]\n",
        "his_e  = [r[3] for r in appendix_eff]\n",
        "\n",
        "figA, axA = plt.subplots(figsize=(6.2, 3.6))\n",
        "coefplot(axA, labs_e, ests_e, los_e, his_e,\n",
        "         title=f\"Appendix Figure. HFI effect by ethnicity (p-int={p_inter:.3f})\")\n",
        "plt.show()"
      ],
      "metadata": {
        "colab": {
          "base_uri": "https://localhost:8080/",
          "height": 379
        },
        "id": "rNfh2h0xASJi",
        "outputId": "33d76760-fb61-4a11-9b00-946e04fcff4f"
      },
      "execution_count": 36,
      "outputs": [
        {
          "output_type": "display_data",
          "data": {
            "text/plain": [
              "<Figure size 620x360 with 1 Axes>"
            ],
            "image/png": "[encoded data removed]"
          },
          "metadata": {}
        }
      ]
    },
    {
      "cell_type": "markdown",
      "source": [
        "# 6. Table 1（描述性摘要）"
      ],
      "metadata": {
        "id": "ngQpjr4LA7Bf"
      }
    },
    {
      "cell_type": "code",
      "source": [
        "def table1(df):\n",
        "    out = {}\n",
        "    # 年龄\n",
        "    out[\"Age (years), mean ± SD\"] = f\"{df['age_participant'].mean():.2f} ± {df['age_participant'].std():.2f}\"\n",
        "    # 性别分布\n",
        "    gdist = df[\"gender_participant\"].value_counts(dropna=False, normalize=True).rename(lambda x: f\"Gender: {x}\")\n",
        "    for k, v in gdist.items():\n",
        "        out[k] = f\"{v*100:.1f}%\"\n",
        "    # 族裔三类分布\n",
        "    edist = df[\"ethn_participant\"].value_counts(dropna=False, normalize=True)\n",
        "    for k, v in edist.items():\n",
        "        label = \"Missing\" if pd.isna(k) else k\n",
        "        out[f\"Ethnicity ({label})\"] = f\"{v*100:.1f}%\"\n",
        "    # HFI 流行率\n",
        "    if \"HFI_binary\" in df.columns:\n",
        "        hfi_prev = df[\"HFI_binary\"].mean()*100\n",
        "        out[\"HFI prevalence\"] = f\"{hfi_prev:.1f}%\"\n",
        "    # 各族裔UPF原始均值（简版）\n",
        "    m = df.groupby(\"ethn_participant\")[y].mean().round(2)\n",
        "    for k, v in m.items():\n",
        "        out[f\"UPF% mean - {k}\"] = f\"{v:.2f}\"\n",
        "    # 汇总为一列表\n",
        "    return pd.DataFrame({\"Value\": pd.Series(out)})\n",
        "\n",
        "t1_df = table1(df_model[coreA_cols])\n",
        "print(\"\\nTable 1（主样本，含三类族裔）:\")\n",
        "display(t1_df)"
      ],
      "metadata": {
        "colab": {
          "base_uri": "https://localhost:8080/",
          "height": 454
        },
        "id": "mHty4vuLA7qo",
        "outputId": "13c4cd5b-e88c-4676-f349-c458bcc111d7"
      },
      "execution_count": 37,
      "outputs": [
        {
          "output_type": "stream",
          "name": "stdout",
          "text": [
            "\n",
            "Table 1（主样本，含三类族裔）:\n"
          ]
        },
        {
          "output_type": "stream",
          "name": "stderr",
          "text": [
            "/tmp/ipython-input-1411111733.py:19: FutureWarning: The default of observed=False is deprecated and will be changed to True in a future version of pandas. Pass observed=False to retain current behavior or observed=True to adopt the future default and silence this warning.\n",
            "  m = df.groupby(\"ethn_participant\")[y].mean().round(2)\n"
          ]
        },
        {
          "output_type": "display_data",
          "data": {
            "text/plain": [
              "                                         Value\n",
              "Age (years), mean ± SD             6.90 ± 2.59\n",
              "Gender: 1                                51.0%\n",
              "Gender: 2                                49.0%\n",
              "Ethnicity (White)                        54.9%\n",
              "Ethnicity (Asian)                        32.5%\n",
              "Ethnicity (All other ethnicities)        12.7%\n",
              "HFI prevalence                           31.5%\n",
              "UPF% mean - White                        71.80\n",
              "UPF% mean - Asian                        66.12\n",
              "UPF% mean - All other ethnicities        67.55"
            ],
            "text/html": [
              "\n",
              "  <div id=\"df-b5af40be-4ac1-42cc-b059-3d959145325b\" class=\"colab-df-container\">\n",
              "    <div>\n",
              "<style scoped>\n",
              "    .dataframe tbody tr th:only-of-type {\n",
              "        vertical-align: middle;\n",
              "    }\n",
              "\n",
              "    .dataframe tbody tr th {\n",
              "        vertical-align: top;\n",
              "    }\n",
              "\n",
              "    .dataframe thead th {\n",
              "        text-align: right;\n",
              "    }\n",
              "</style>\n",
              "<table border=\"1\" class=\"dataframe\">\n",
              "  <thead>\n",
              "    <tr style=\"text-align: right;\">\n",
              "      <th></th>\n",
              "      <th>Value</th>\n",
              "    </tr>\n",
              "  </thead>\n",
              "  <tbody>\n",
              "    <tr>\n",
              "      <th>Age (years), mean ± SD</th>\n",
              "      <td>6.90 ± 2.59</td>\n",
              "    </tr>\n",
              "    <tr>\n",
              "      <th>Gender: 1</th>\n",
              "      <td>51.0%</td>\n",
              "    </tr>\n",
              "    <tr>\n",
              "      <th>Gender: 2</th>\n",
              "      <td>49.0%</td>\n",
              "    </tr>\n",
              "    <tr>\n",
              "      <th>Ethnicity (White)</th>\n",
              "      <td>54.9%</td>\n",
              "    </tr>\n",
              "    <tr>\n",
              "      <th>Ethnicity (Asian)</th>\n",
              "      <td>32.5%</td>\n",
              "    </tr>\n",
              "    <tr>\n",
              "      <th>Ethnicity (All other ethnicities)</th>\n",
              "      <td>12.7%</td>\n",
              "    </tr>\n",
              "    <tr>\n",
              "      <th>HFI prevalence</th>\n",
              "      <td>31.5%</td>\n",
              "    </tr>\n",
              "    <tr>\n",
              "      <th>UPF% mean - White</th>\n",
              "      <td>71.80</td>\n",
              "    </tr>\n",
              "    <tr>\n",
              "      <th>UPF% mean - Asian</th>\n",
              "      <td>66.12</td>\n",
              "    </tr>\n",
              "    <tr>\n",
              "      <th>UPF% mean - All other ethnicities</th>\n",
              "      <td>67.55</td>\n",
              "    </tr>\n",
              "  </tbody>\n",
              "</table>\n",
              "</div>\n",
              "    <div class=\"colab-df-buttons\">\n",
              "\n",
              "  <div class=\"colab-df-container\">\n",
              "    <button class=\"colab-df-convert\" onclick=\"convertToInteractive('df-b5af40be-4ac1-42cc-b059-3d959145325b')\"\n",
              "            title=\"Convert this dataframe to an interactive table.\"\n",
              "            style=\"display:none;\">\n",
              "\n",
              "  <svg xmlns=\"http://www.w3.org/2000/svg\" height=\"24px\" viewBox=\"0 -960 960 960\">\n",
              "    <path d=\"M120-120v-720h720v720H120Zm60-500h600v-160H180v160Zm220 220h160v-160H400v160Zm0 220h160v-160H400v160ZM180-400h160v-160H180v160Zm440 0h160v-160H620v160ZM180-180h160v-160H180v160Zm440 0h160v-160H620v160Z\"/>\n",
              "  </svg>\n",
              "    </button>\n",
              "\n",
              "  <style>\n",
              "    .colab-df-container {\n",
              "      display:flex;\n",
              "      gap: 12px;\n",
              "    }\n",
              "\n",
              "    .colab-df-convert {\n",
              "      background-color: #E8F0FE;\n",
              "      border: none;\n",
              "      border-radius: 50%;\n",
              "      cursor: pointer;\n",
              "      display: none;\n",
              "      fill: #1967D2;\n",
              "      height: 32px;\n",
              "      padding: 0 0 0 0;\n",
              "      width: 32px;\n",
              "    }\n",
              "\n",
              "    .colab-df-convert:hover {\n",
              "      background-color: #E2EBFA;\n",
              "      box-shadow: 0px 1px 2px rgba(60, 64, 67, 0.3), 0px 1px 3px 1px rgba(60, 64, 67, 0.15);\n",
              "      fill: #174EA6;\n",
              "    }\n",
              "\n",
              "    .colab-df-buttons div {\n",
              "      margin-bottom: 4px;\n",
              "    }\n",
              "\n",
              "    [theme=dark] .colab-df-convert {\n",
              "      background-color: #3B4455;\n",
              "      fill: #D2E3FC;\n",
              "    }\n",
              "\n",
              "    [theme=dark] .colab-df-convert:hover {\n",
              "      background-color: #434B5C;\n",
              "      box-shadow: 0px 1px 3px 1px rgba(0, 0, 0, 0.15);\n",
              "      filter: drop-shadow(0px 1px 2px rgba(0, 0, 0, 0.3));\n",
              "      fill: #FFFFFF;\n",
              "    }\n",
              "  </style>\n",
              "\n",
              "    <script>\n",
              "      const buttonEl =\n",
              "        document.querySelector('#df-b5af40be-4ac1-42cc-b059-3d959145325b button.colab-df-convert');\n",
              "      buttonEl.style.display =\n",
              "        google.colab.kernel.accessAllowed ? 'block' : 'none';\n",
              "\n",
              "      async function convertToInteractive(key) {\n",
              "        const element = document.querySelector('#df-b5af40be-4ac1-42cc-b059-3d959145325b');\n",
              "        const dataTable =\n",
              "          await google.colab.kernel.invokeFunction('convertToInteractive',\n",
              "                                                    [key], {});\n",
              "        if (!dataTable) return;\n",
              "\n",
              "        const docLinkHtml = 'Like what you see? Visit the ' +\n",
              "          '<a target=\"_blank\" href=https://colab.research.google.com/notebooks/data_table.ipynb>data table notebook</a>'\n",
              "          + ' to learn more about interactive tables.';\n",
              "        element.innerHTML = '';\n",
              "        dataTable['output_type'] = 'display_data';\n",
              "        await google.colab.output.renderOutput(dataTable, element);\n",
              "        const docLink = document.createElement('div');\n",
              "        docLink.innerHTML = docLinkHtml;\n",
              "        element.appendChild(docLink);\n",
              "      }\n",
              "    </script>\n",
              "  </div>\n",
              "\n",
              "\n",
              "    <div id=\"df-f2560847-ceac-4e3d-87c3-7e5b7e693b2b\">\n",
              "      <button class=\"colab-df-quickchart\" onclick=\"quickchart('df-f2560847-ceac-4e3d-87c3-7e5b7e693b2b')\"\n",
              "                title=\"Suggest charts\"\n",
              "                style=\"display:none;\">\n",
              "\n",
              "<svg xmlns=\"http://www.w3.org/2000/svg\" height=\"24px\"viewBox=\"0 0 24 24\"\n",
              "     width=\"24px\">\n",
              "    <g>\n",
              "        <path d=\"M19 3H5c-1.1 0-2 .9-2 2v14c0 1.1.9 2 2 2h14c1.1 0 2-.9 2-2V5c0-1.1-.9-2-2-2zM9 17H7v-7h2v7zm4 0h-2V7h2v10zm4 0h-2v-4h2v4z\"/>\n",
              "    </g>\n",
              "</svg>\n",
              "      </button>\n",
              "\n",
              "<style>\n",
              "  .colab-df-quickchart {\n",
              "      --bg-color: #E8F0FE;\n",
              "      --fill-color: #1967D2;\n",
              "      --hover-bg-color: #E2EBFA;\n",
              "      --hover-fill-color: #174EA6;\n",
              "      --disabled-fill-color: #AAA;\n",
              "      --disabled-bg-color: #DDD;\n",
              "  }\n",
              "\n",
              "  [theme=dark] .colab-df-quickchart {\n",
              "      --bg-color: #3B4455;\n",
              "      --fill-color: #D2E3FC;\n",
              "      --hover-bg-color: #434B5C;\n",
              "      --hover-fill-color: #FFFFFF;\n",
              "      --disabled-bg-color: #3B4455;\n",
              "      --disabled-fill-color: #666;\n",
              "  }\n",
              "\n",
              "  .colab-df-quickchart {\n",
              "    background-color: var(--bg-color);\n",
              "    border: none;\n",
              "    border-radius: 50%;\n",
              "    cursor: pointer;\n",
              "    display: none;\n",
              "    fill: var(--fill-color);\n",
              "    height: 32px;\n",
              "    padding: 0;\n",
              "    width: 32px;\n",
              "  }\n",
              "\n",
              "  .colab-df-quickchart:hover {\n",
              "    background-color: var(--hover-bg-color);\n",
              "    box-shadow: 0 1px 2px rgba(60, 64, 67, 0.3), 0 1px 3px 1px rgba(60, 64, 67, 0.15);\n",
              "    fill: var(--button-hover-fill-color);\n",
              "  }\n",
              "\n",
              "  .colab-df-quickchart-complete:disabled,\n",
              "  .colab-df-quickchart-complete:disabled:hover {\n",
              "    background-color: var(--disabled-bg-color);\n",
              "    fill: var(--disabled-fill-color);\n",
              "    box-shadow: none;\n",
              "  }\n",
              "\n",
              "  .colab-df-spinner {\n",
              "    border: 2px solid var(--fill-color);\n",
              "    border-color: transparent;\n",
              "    border-bottom-color: var(--fill-color);\n",
              "    animation:\n",
              "      spin 1s steps(1) infinite;\n",
              "  }\n",
              "\n",
              "  @keyframes spin {\n",
              "    0% {\n",
              "      border-color: transparent;\n",
              "      border-bottom-color: var(--fill-color);\n",
              "      border-left-color: var(--fill-color);\n",
              "    }\n",
              "    20% {\n",
              "      border-color: transparent;\n",
              "      border-left-color: var(--fill-color);\n",
              "      border-top-color: var(--fill-color);\n",
              "    }\n",
              "    30% {\n",
              "      border-color: transparent;\n",
              "      border-left-color: var(--fill-color);\n",
              "      border-top-color: var(--fill-color);\n",
              "      border-right-color: var(--fill-color);\n",
              "    }\n",
              "    40% {\n",
              "      border-color: transparent;\n",
              "      border-right-color: var(--fill-color);\n",
              "      border-top-color: var(--fill-color);\n",
              "    }\n",
              "    60% {\n",
              "      border-color: transparent;\n",
              "      border-right-color: var(--fill-color);\n",
              "    }\n",
              "    80% {\n",
              "      border-color: transparent;\n",
              "      border-right-color: var(--fill-color);\n",
              "      border-bottom-color: var(--fill-color);\n",
              "    }\n",
              "    90% {\n",
              "      border-color: transparent;\n",
              "      border-bottom-color: var(--fill-color);\n",
              "    }\n",
              "  }\n",
              "</style>\n",
              "\n",
              "      <script>\n",
              "        async function quickchart(key) {\n",
              "          const quickchartButtonEl =\n",
              "            document.querySelector('#' + key + ' button');\n",
              "          quickchartButtonEl.disabled = true;  // To prevent multiple clicks.\n",
              "          quickchartButtonEl.classList.add('colab-df-spinner');\n",
              "          try {\n",
              "            const charts = await google.colab.kernel.invokeFunction(\n",
              "                'suggestCharts', [key], {});\n",
              "          } catch (error) {\n",
              "            console.error('Error during call to suggestCharts:', error);\n",
              "          }\n",
              "          quickchartButtonEl.classList.remove('colab-df-spinner');\n",
              "          quickchartButtonEl.classList.add('colab-df-quickchart-complete');\n",
              "        }\n",
              "        (() => {\n",
              "          let quickchartButtonEl =\n",
              "            document.querySelector('#df-f2560847-ceac-4e3d-87c3-7e5b7e693b2b button');\n",
              "          quickchartButtonEl.style.display =\n",
              "            google.colab.kernel.accessAllowed ? 'block' : 'none';\n",
              "        })();\n",
              "      </script>\n",
              "    </div>\n",
              "\n",
              "  <div id=\"id_778ec2da-2735-4cbb-942e-019dd84613c8\">\n",
              "    <style>\n",
              "      .colab-df-generate {\n",
              "        background-color: #E8F0FE;\n",
              "        border: none;\n",
              "        border-radius: 50%;\n",
              "        cursor: pointer;\n",
              "        display: none;\n",
              "        fill: #1967D2;\n",
              "        height: 32px;\n",
              "        padding: 0 0 0 0;\n",
              "        width: 32px;\n",
              "      }\n",
              "\n",
              "      .colab-df-generate:hover {\n",
              "        background-color: #E2EBFA;\n",
              "        box-shadow: 0px 1px 2px rgba(60, 64, 67, 0.3), 0px 1px 3px 1px rgba(60, 64, 67, 0.15);\n",
              "        fill: #174EA6;\n",
              "      }\n",
              "\n",
              "      [theme=dark] .colab-df-generate {\n",
              "        background-color: #3B4455;\n",
              "        fill: #D2E3FC;\n",
              "      }\n",
              "\n",
              "      [theme=dark] .colab-df-generate:hover {\n",
              "        background-color: #434B5C;\n",
              "        box-shadow: 0px 1px 3px 1px rgba(0, 0, 0, 0.15);\n",
              "        filter: drop-shadow(0px 1px 2px rgba(0, 0, 0, 0.3));\n",
              "        fill: #FFFFFF;\n",
              "      }\n",
              "    </style>\n",
              "    <button class=\"colab-df-generate\" onclick=\"generateWithVariable('t1_df')\"\n",
              "            title=\"Generate code using this dataframe.\"\n",
              "            style=\"display:none;\">\n",
              "\n",
              "  <svg xmlns=\"http://www.w3.org/2000/svg\" height=\"24px\"viewBox=\"0 0 24 24\"\n",
              "       width=\"24px\">\n",
              "    <path d=\"M7,19H8.4L18.45,9,17,7.55,7,17.6ZM5,21V16.75L18.45,3.32a2,2,0,0,1,2.83,0l1.4,1.43a1.91,1.91,0,0,1,.58,1.4,1.91,1.91,0,0,1-.58,1.4L9.25,21ZM18.45,9,17,7.55Zm-12,3A5.31,5.31,0,0,0,4.9,8.1,5.31,5.31,0,0,0,1,6.5,5.31,5.31,0,0,0,4.9,4.9,5.31,5.31,0,0,0,6.5,1,5.31,5.31,0,0,0,8.1,4.9,5.31,5.31,0,0,0,12,6.5,5.46,5.46,0,0,0,6.5,12Z\"/>\n",
              "  </svg>\n",
              "    </button>\n",
              "    <script>\n",
              "      (() => {\n",
              "      const buttonEl =\n",
              "        document.querySelector('#id_778ec2da-2735-4cbb-942e-019dd84613c8 button.colab-df-generate');\n",
              "      buttonEl.style.display =\n",
              "        google.colab.kernel.accessAllowed ? 'block' : 'none';\n",
              "\n",
              "      buttonEl.onclick = () => {\n",
              "        google.colab.notebook.generateWithVariable('t1_df');\n",
              "      }\n",
              "      })();\n",
              "    </script>\n",
              "  </div>\n",
              "\n",
              "    </div>\n",
              "  </div>\n"
            ],
            "application/vnd.google.colaboratory.intrinsic+json": {
              "type": "dataframe",
              "variable_name": "t1_df",
              "summary": "{\n  \"name\": \"t1_df\",\n  \"rows\": 10,\n  \"fields\": [\n    {\n      \"column\": \"Value\",\n      \"properties\": {\n        \"dtype\": \"string\",\n        \"num_unique_values\": 10,\n        \"samples\": [\n          \"66.12\",\n          \"51.0%\",\n          \"12.7%\"\n        ],\n        \"semantic_type\": \"\",\n        \"description\": \"\"\n      }\n    }\n  ]\n}"
            }
          },
          "metadata": {}
        }
      ]
    },
    {
      "cell_type": "markdown",
      "source": [
        "# 7. 导出关键结果"
      ],
      "metadata": {
        "id": "IH4Tj1yCBDrK"
      }
    },
    {
      "cell_type": "code",
      "source": [
        "# =========================================\n",
        "# ===== 论文版·精简关键结果（CSV） =====\n",
        "# =========================================\n",
        "import os, numpy as np, pandas as pd\n",
        "\n",
        "out_dir = \"/content/drive/MyDrive/UPF-HFI/Model/output\"\n",
        "os.makedirs(out_dir, exist_ok=True)\n",
        "\n",
        "rnd_coef = 2   # 系数/CI 保留小数\n",
        "rnd_p    = 3   # p值保留小数\n",
        "\n",
        "# ---- 主表（Table X）：Core-A + 交互整体 + +SES稳健性 ----\n",
        "# Core-A headline\n",
        "hfi_core = coef_ci(res_coreA, \"HFI_binary\")\n",
        "coreA_row = {\n",
        "    \"Section\": \"Core-A (main)\",\n",
        "    \"Outcome\": \"UPF%\",\n",
        "    \"N\": len(dat_coreA),\n",
        "    \"HFI_coef_pp\": round(hfi_core[0], rnd_coef),\n",
        "    \"CI_lo\": round(hfi_core[1][0], rnd_coef),\n",
        "    \"CI_hi\": round(hfi_core[1][1], rnd_coef),\n",
        "    \"p\": round(hfi_core[2], rnd_p)\n",
        "}\n",
        "\n",
        "# 交互整体（p-int）\n",
        "inter_row = {\n",
        "    \"Section\": \"Interaction (Core-B)\",\n",
        "    \"Outcome\": \"UPF%\",\n",
        "    \"N\": len(dat_coreB),\n",
        "    \"HFI_coef_pp\": np.nan,\n",
        "    \"CI_lo\": np.nan,\n",
        "    \"CI_hi\": np.nan,\n",
        "    \"p\": round(p_inter, rnd_p),\n",
        "    \"Note\": \"p-interaction across 3 ethnic groups\"\n",
        "}\n",
        "\n",
        "# +SES 稳健性（同一样本对比 & 衰减）\n",
        "rob_row_core = {\n",
        "    \"Section\": \"Robustness\",\n",
        "    \"Outcome\": \"UPF%\",\n",
        "    \"N\": len(dat_R),\n",
        "    \"Model\": \"Core-A (same N)\",\n",
        "    \"HFI_coef_pp\": round(b_core, rnd_coef),\n",
        "    \"CI_lo\": round(ci_core[0], rnd_coef),\n",
        "    \"CI_hi\": round(ci_core[1], rnd_coef),\n",
        "    \"p\": np.nan\n",
        "}\n",
        "rob_row_ses = {\n",
        "    \"Section\": \"Robustness\",\n",
        "    \"Outcome\": \"UPF%\",\n",
        "    \"N\": len(dat_R),\n",
        "    \"Model\": \"Core-A + SES (income, employment)\",\n",
        "    \"HFI_coef_pp\": round(b_ses, rnd_coef),\n",
        "    \"CI_lo\": round(ci_ses[0], rnd_coef),\n",
        "    \"CI_hi\": round(ci_ses[1], rnd_coef),\n",
        "    \"attenuation_pct\": round(atten, 1),\n",
        "    \"p\": np.nan\n",
        "}\n",
        "\n",
        "paper_main = pd.DataFrame([coreA_row, inter_row, rob_row_core, rob_row_ses])\n",
        "main_path = f\"{out_dir}/paper_table_main.csv\"\n",
        "paper_main.to_csv(main_path, index=False)\n",
        "\n",
        "# ---- 附录表（Appendix）：各族裔组的 HFI 边际效应 ----\n",
        "ethn = [e[0] for e in effects]\n",
        "paper_appx = pd.DataFrame({\n",
        "    \"Ethnicity\": ethn,\n",
        "    \"N_group\": [dat_coreB.query(\"ethn_participant == @g\").shape[0] for g in ethn],\n",
        "    \"HFI_effect_pp\": [round(e[1], rnd_coef) for e in effects],\n",
        "    \"CI_lo\": [round(e[2][0], rnd_coef) for e in effects],\n",
        "    \"CI_hi\": [round(e[2][1], rnd_coef) for e in effects],\n",
        "    \"p\": [round(e[3], rnd_p) for e in effects],\n",
        "    \"p_interaction_overall\": round(p_inter, rnd_p)\n",
        "})\n",
        "appx_path = f\"{out_dir}/paper_table_appendix_ethnicity.csv\"\n",
        "paper_appx.to_csv(appx_path, index=False)\n",
        "\n",
        "print(\"已导出：\")\n",
        "print(\"  -\", main_path)\n",
        "print(\"  -\", appx_path)\n"
      ],
      "metadata": {
        "colab": {
          "base_uri": "https://localhost:8080/"
        },
        "id": "v_pHMlcIBHPA",
        "outputId": "ea233f14-f4f0-4c8b-f760-0c28bfc80f63"
      },
      "execution_count": 44,
      "outputs": [
        {
          "output_type": "stream",
          "name": "stdout",
          "text": [
            "已导出：\n",
            "  - /content/drive/MyDrive/UPF-HFI/Model/output/paper_table_main.csv\n",
            "  - /content/drive/MyDrive/UPF-HFI/Model/output/paper_table_appendix_ethnicity.csv\n"
          ]
        }
      ]
    }
  ]
}