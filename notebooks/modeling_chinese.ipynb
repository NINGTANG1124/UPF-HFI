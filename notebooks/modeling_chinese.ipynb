{
  "nbformat": 4,
  "nbformat_minor": 0,
  "metadata": {
    "colab": {
      "provenance": [],
      "include_colab_link": true
    },
    "kernelspec": {
      "name": "python3",
      "display_name": "Python 3"
    },
    "language_info": {
      "name": "python"
    }
  },
  "cells": [
    {
      "cell_type": "markdown",
      "metadata": {
        "id": "view-in-github",
        "colab_type": "text"
      },
      "source": [
        "<a href=\"https://colab.research.google.com/github/NINGTANG1124/UPF-HFI/blob/main/notebooks/modeling_chinese.ipynb\" target=\"_parent\"><img src=\"https://colab.research.google.com/assets/colab-badge.svg\" alt=\"Open In Colab\"/></a>"
      ]
    },
    {
      "cell_type": "code",
      "execution_count": 1,
      "metadata": {
        "colab": {
          "base_uri": "https://localhost:8080/"
        },
        "id": "-rIlUETZvW7r",
        "outputId": "ebb478e6-9c37-4671-e668-005b9ec778e1"
      },
      "outputs": [
        {
          "output_type": "stream",
          "name": "stdout",
          "text": [
            "Mounted at /content/drive\n"
          ]
        }
      ],
      "source": [
        "# connect to googledrive\n",
        "from google.colab import drive\n",
        "drive.mount('/content/drive')"
      ]
    },
    {
      "cell_type": "markdown",
      "source": [
        "## 合并 HFI 到建模数据表"
      ],
      "metadata": {
        "id": "Beh74pfNxqqE"
      }
    },
    {
      "cell_type": "code",
      "source": [
        "import pandas as pd\n",
        "import numpy as np\n",
        "import statsmodels.api as sm\n",
        "import statsmodels.formula.api as smf\n",
        "import matplotlib.pyplot as plt\n",
        "pd.set_option('display.max_columns', 120)\n",
        "\n",
        "# 读取\n",
        "survey_df = pd.read_excel( \"/content/drive/MyDrive/UPF-HFI/Model/outcome/survey_with_HFI.xlsx\")\n",
        "df_upf    = pd.read_excel(\"/content/drive/MyDrive/UPF-HFI/Model/outcome/weighted_upf_percent.xlsx\")"
      ],
      "metadata": {
        "id": "PYUA_Sgyxrys"
      },
      "execution_count": 2,
      "outputs": []
    },
    {
      "cell_type": "code",
      "source": [
        "# ==== 2. 先检查 ====\n",
        "issues = []\n",
        "\n",
        "# 检查关键列\n",
        "for col in [\"UserID_clean\", \"HFI_binary\", \"HFI_raw_score\"]:\n",
        "    if col not in survey_df.columns:\n",
        "        issues.append(f\"survey 缺少 {col}\")\n",
        "\n",
        "for col in [\"UserID_clean\", \"weighted_upf_percent\"]:\n",
        "    if col not in df_upf.columns:\n",
        "        issues.append(f\"upf 缺少 {col}\")\n",
        "\n",
        "# 检查 ID 是否有缺失/重复\n",
        "for name, df in [(\"survey\", survey_df), (\"upf\", df_upf)]:\n",
        "    n_na = df[\"UserID_clean\"].isna().sum()\n",
        "    n_dup = df[\"UserID_clean\"].duplicated().sum()\n",
        "    if n_na:  issues.append(f\"{name} 的 UserID_clean 有 {n_na} 个缺失\")\n",
        "    if n_dup: issues.append(f\"{name} 的 UserID_clean 有 {n_dup} 个重复\")\n",
        "\n",
        "# 检查 upf_percent 是否数值\n",
        "bad_upf = pd.to_numeric(df_upf[\"weighted_upf_percent\"], errors=\"coerce\").isna().sum()\n",
        "if bad_upf:\n",
        "    issues.append(f\"weighted_upf_percent 有 {bad_upf} 个非数值/缺失\")\n",
        "\n",
        "# 打印检查结果\n",
        "if issues:\n",
        "    print(\"检查发现以下问题：\")\n",
        "    for i, msg in enumerate(issues, 1):\n",
        "        print(f\"{i}. {msg}\")\n",
        "else:\n",
        "    print(\"没有发现问题，可以直接处理\")\n"
      ],
      "metadata": {
        "colab": {
          "base_uri": "https://localhost:8080/"
        },
        "id": "jFCI1EwNGGzj",
        "outputId": "ecb1aba9-2179-4242-b90d-a1a295e3cd38"
      },
      "execution_count": 3,
      "outputs": [
        {
          "output_type": "stream",
          "name": "stdout",
          "text": [
            "没有发现问题，可以直接处理\n"
          ]
        }
      ]
    },
    {
      "cell_type": "code",
      "source": [
        "# ==== 检查关键变量缺失情况 ====\n",
        "check_cols = [\"HFI_binary\", \"weighted_upf_percent\"]\n",
        "missing_info = {}\n",
        "\n",
        "for col in check_cols:\n",
        "    if col not in survey_df.columns and col not in df_upf.columns:\n",
        "        print(f\"数据中找不到列: {col}\")\n",
        "        continue\n",
        "\n",
        "    if col in survey_df.columns:\n",
        "        n_miss = survey_df[col].isna().sum()\n",
        "        missing_info[col] = n_miss\n",
        "        print(f\"{col} 在 survey_df 中缺失 {n_miss} 行\")\n",
        "\n",
        "    if col in df_upf.columns:\n",
        "        n_miss = df_upf[col].isna().sum()\n",
        "        missing_info[col] = n_miss\n",
        "        print(f\"{col} 在 upf_df 中缺失 {n_miss} 行\")\n",
        "\n",
        "# ==== 判断是否需要处理 ====\n",
        "if all(v == 0 for v in missing_info.values()):\n",
        "    print(\"两列都没有缺失，可以直接进入合并/建模\")\n",
        "else:\n",
        "    print(\"存在缺失，需要处理后再合并\")\n"
      ],
      "metadata": {
        "colab": {
          "base_uri": "https://localhost:8080/"
        },
        "id": "nm3Gm5sFdXK7",
        "outputId": "f3244e29-1c02-4557-898b-3e8918be62b8"
      },
      "execution_count": 4,
      "outputs": [
        {
          "output_type": "stream",
          "name": "stdout",
          "text": [
            "HFI_binary 在 survey_df 中缺失 18 行\n",
            "weighted_upf_percent 在 upf_df 中缺失 0 行\n",
            "存在缺失，需要处理后再合并\n"
          ]
        }
      ]
    },
    {
      "cell_type": "code",
      "source": [
        "# 1. 合并 survey 和 upf\n",
        "df_model = pd.merge(survey_df, df_upf, on=\"UserID_clean\", how=\"inner\")\n",
        "\n",
        "# 2. 删掉 HFI_binary 缺失的\n",
        "df_model = df_model.dropna(subset=[\"HFI_binary\"])\n",
        "\n",
        "print(\"合并后样本量：\", len(df_model))\n"
      ],
      "metadata": {
        "colab": {
          "base_uri": "https://localhost:8080/"
        },
        "id": "y-qMkowPd9R1",
        "outputId": "a2f3fcfb-b81f-4c9a-9d5d-19a283b323d6"
      },
      "execution_count": 5,
      "outputs": [
        {
          "output_type": "stream",
          "name": "stdout",
          "text": [
            "合并后样本量： 308\n"
          ]
        }
      ]
    },
    {
      "cell_type": "code",
      "source": [
        "# 导出合并后的数据\n",
        "df_model.to_excel(\"/content/drive/MyDrive/UPF-HFI/Model/outcome/merged_model.xlsx\", index=False)\n",
        "\n",
        "print(\"已导出到 /content/drive/MyDrive/UPF-HFI/Model/outcome/merged_model.xlsx\")\n"
      ],
      "metadata": {
        "colab": {
          "base_uri": "https://localhost:8080/"
        },
        "id": "efX_yQqEZYia",
        "outputId": "bc44731c-4e4e-4784-e541-6a16b436d599"
      },
      "execution_count": 6,
      "outputs": [
        {
          "output_type": "stream",
          "name": "stdout",
          "text": [
            "已导出到 /content/drive/MyDrive/UPF-HFI/Model/outcome/merged_model.xlsx\n"
          ]
        }
      ]
    },
    {
      "cell_type": "markdown",
      "source": [
        "# 建模部分"
      ],
      "metadata": {
        "id": "w15M8JodpAVU"
      }
    },
    {
      "cell_type": "markdown",
      "source": [
        "## 0) 准备与通用小工具"
      ],
      "metadata": {
        "id": "nMQyilUapDwR"
      }
    },
    {
      "cell_type": "code",
      "source": [
        "# 1) 统一主分析变量清单（一次性 dropna）\n",
        "all_vars = [\n",
        "    \"weighted_upf_percent\",\"HFI_binary\",\n",
        "    \"age_participant\",\"gender_participant\",\"ethn_participant\",\n",
        "    \"income\",\"employ\",\n",
        "    \"HFI_category\"\n",
        "]\n",
        "\n",
        "df_all = df_model[all_vars].apply(pd.to_numeric, errors=\"ignore\").dropna().copy()\n",
        "print(\"主分析样本量:\", len(df_all))\n",
        "\n",
        "# 这次是对所有 all_vars 里的变量做 完全案例（complete case）筛选，也就是任何一个变量缺失都会被剔除。因为 income、age_participant 等变量里可能有缺失，所以样本量从 308 → 305。"
      ],
      "metadata": {
        "colab": {
          "base_uri": "https://localhost:8080/"
        },
        "id": "NZifIhgMolGg",
        "outputId": "df2fe1cb-bc64-44cf-b7c2-62db8adbf437"
      },
      "execution_count": 8,
      "outputs": [
        {
          "output_type": "stream",
          "name": "stdout",
          "text": [
            "主分析样本量: 303\n"
          ]
        },
        {
          "output_type": "stream",
          "name": "stderr",
          "text": [
            "/tmp/ipython-input-1321910550.py:9: FutureWarning: errors='ignore' is deprecated and will raise in a future version. Use to_numeric without passing `errors` and catch exceptions explicitly instead\n",
            "  df_all = df_model[all_vars].apply(pd.to_numeric, errors=\"ignore\").dropna().copy()\n"
          ]
        }
      ]
    },
    {
      "cell_type": "code",
      "source": [
        "# 哪些列在 df_model 里缺失了多少？\n",
        "print(\"每列缺失数：\")\n",
        "print(df_model[all_vars].isna().sum())\n",
        "\n",
        "# 标出完全案例掩码\n",
        "mask_complete = df_model[all_vars].notna().all(axis=1)\n",
        "\n",
        "# 被 drop 的行 + 缺失列\n",
        "dropped = df_model.loc[~mask_complete, [\"UserID_clean\"] + all_vars].copy()\n",
        "dropped[\"missing_cols\"] = dropped.apply(\n",
        "    lambda r: [c for c in all_vars if pd.isna(r[c])], axis=1\n",
        ")\n",
        "print(\"\\n被剔除的样本（以及缺失了哪些列）：\")\n",
        "print(dropped[[\"UserID_clean\",\"missing_cols\"]])"
      ],
      "metadata": {
        "colab": {
          "base_uri": "https://localhost:8080/"
        },
        "id": "7XFjT25iyU2s",
        "outputId": "bc771ea3-fe8c-42c7-df2d-be4cca8caa08"
      },
      "execution_count": 9,
      "outputs": [
        {
          "output_type": "stream",
          "name": "stdout",
          "text": [
            "每列缺失数：\n",
            "weighted_upf_percent    0\n",
            "HFI_binary              0\n",
            "age_participant         0\n",
            "gender_participant      0\n",
            "ethn_participant        0\n",
            "income                  3\n",
            "employ                  2\n",
            "HFI_category            0\n",
            "dtype: int64\n",
            "\n",
            "被剔除的样本（以及缺失了哪些列）：\n",
            "    UserID_clean missing_cols\n",
            "21        BFD041     [income]\n",
            "38        BFD061     [employ]\n",
            "115       BFD151     [employ]\n",
            "189       BFD243     [income]\n",
            "230       BFD295     [income]\n"
          ]
        }
      ]
    },
    {
      "cell_type": "code",
      "source": [
        "import pandas as pd\n",
        "import numpy as np\n",
        "import statsmodels.formula.api as smf\n",
        "\n",
        "Y = \"weighted_upf_percent\"         # 结果：UPF% (0–100)\n",
        "X_HFI = \"HFI_binary\"               # 暴露：HFI (0/1)\n",
        "\n",
        "def fit_hc3(formula, data):\n",
        "    \"\"\"OLS + HC3稳健标准误；返回结果对象。\"\"\"\n",
        "    return smf.ols(formula, data=data).fit(cov_type=\"HC3\")\n",
        "\n",
        "def extract_term(res, term):\n",
        "    \"\"\"从模型里提取某个term的β、95%CI、p值。\"\"\"\n",
        "    b = res.params.get(term, np.nan)\n",
        "    ci = res.conf_int().loc[term].tolist() if term in res.params.index else [np.nan, np.nan]\n",
        "    p = res.pvalues.get(term, np.nan)\n",
        "    return b, ci[0], ci[1], p\n",
        "\n",
        "def tidy_row(model_name, res, term, note=\"\"):\n",
        "    b, lo, hi, p = extract_term(res, term)\n",
        "    return {\n",
        "        \"Model\": model_name,\n",
        "        \"Term\": term,\n",
        "        \"Beta\": b,\n",
        "        \"CI_low\": lo,\n",
        "        \"CI_high\": hi,\n",
        "        \"p_value\": p,\n",
        "        \"Note\": note\n",
        "    }\n"
      ],
      "metadata": {
        "id": "Tp_83gRZpj13"
      },
      "execution_count": 9,
      "outputs": []
    },
    {
      "cell_type": "markdown",
      "source": [
        "## 1) 固定样本 + 派生 4 类种族（WB/PK/Mixed/Other）"
      ],
      "metadata": {
        "id": "i2su1QEvc1Cv"
      }
    },
    {
      "cell_type": "code",
      "source": [
        "# 固定样本（统一 complete-case）\n",
        "df_use = df_all.copy()\n",
        "\n",
        "# 4 类种族（用于主分析）\n",
        "ethn_labels = {\n",
        "    1:\"White British\", 2:\"Other white group\", 3:\"Pakistani\", 4:\"Indian\",\n",
        "    5:\"Bangladeshi\", 6:\"Other Asian group\", 7:\"Mixed/multiple ethnicity\",\n",
        "    8:\"Black / Black British / Black Caribbean / Black African\", 9:\"Other ethnic group\"\n",
        "}\n",
        "df_use[\"ethn_label_full\"] = df_use[\"ethn_participant\"].map(ethn_labels)\n",
        "df_use[\"ethn4_alt\"] = pd.Categorical(\n",
        "    df_use[\"ethn_label_full\"].map(\n",
        "        lambda s: \"White British\" if s==\"White British\"\n",
        "        else \"Pakistani\" if s==\"Pakistani\"\n",
        "        else \"Mixed\" if s==\"Mixed/multiple ethnicity\"\n",
        "        else \"Other\"\n",
        "    ),\n",
        "    categories=[\"White British\",\"Pakistani\",\"Mixed\",\"Other\"], ordered=False\n",
        ")\n"
      ],
      "metadata": {
        "id": "O1mN1jRfc3Md"
      },
      "execution_count": 11,
      "outputs": []
    },
    {
      "cell_type": "markdown",
      "source": [
        "## 2) 主分析（仅调年龄、性别、种族；HC3）"
      ],
      "metadata": {
        "id": "mV_odKIrVHOR"
      }
    },
    {
      "cell_type": "code",
      "source": [
        "import statsmodels.formula.api as smf\n",
        "\n",
        "form_main = (\n",
        "    \"weighted_upf_percent ~ HFI_binary + C(gender_participant)\"\n",
        "    \" + C(ethn4_alt, Treatment(reference='White British')) + age_participant\"\n",
        ")\n",
        "res_main = smf.ols(form_main, data=df_use).fit(cov_type=\"HC3\")\n",
        "\n",
        "# 只汇报 HFI 的 β、95%CI、p\n",
        "term = \"HFI_binary\"\n",
        "b = res_main.params[term]\n",
        "lo, hi = res_main.conf_int().loc[term]\n",
        "p = res_main.pvalues[term]\n",
        "print(f\"N={int(res_main.nobs)}; HFI β={b:.3f}, 95%CI [{lo:.3f}, {hi:.3f}], p={p:.3g}\")\n"
      ],
      "metadata": {
        "colab": {
          "base_uri": "https://localhost:8080/"
        },
        "id": "L0MwozIX2AHj",
        "outputId": "062d1299-8bf6-43a0-9105-f8eb42b096bc"
      },
      "execution_count": 12,
      "outputs": [
        {
          "output_type": "stream",
          "name": "stdout",
          "text": [
            "N=303; HFI β=2.770, 95%CI [-0.154, 5.695], p=0.0633\n"
          ]
        }
      ]
    },
    {
      "cell_type": "markdown",
      "source": [
        "点估计：HFI=1 相比 HFI=0，UPF% 高 2.77 个百分点。\n",
        "不确定性：95% CI [-0.15, 5.70] 穿过 0，\n",
        "显著性：p = 0.063（HC3 误差）。按传统 0.05 阈值是未达显著，但方向稳定、边缘显著/提示性的正向关联。\n",
        "可以这样在文中写（中文/英文任选）：\n",
        "中文：\n",
        "“在仅调整年龄、性别与种族的模型中（N=303），HFI 与 UPF% 呈正向关联（β=2.77，95%CI -0.15～5.70，p=0.063）。”"
      ],
      "metadata": {
        "id": "ysUDn684Vhqe"
      }
    },
    {
      "cell_type": "markdown",
      "source": [
        "## 调后均值（adjusted means）"
      ],
      "metadata": {
        "id": "jVQ6kZmEgsgW"
      }
    },
    {
      "cell_type": "code",
      "source": [
        "import numpy as np\n",
        "from scipy import stats\n",
        "\n",
        "# 直接复用拟合过的设计矩阵/列名/系数/协方差（已是HC3）\n",
        "X   = res_main.model.exog\n",
        "col = res_main.model.exog_names\n",
        "b   = res_main.params.values\n",
        "V   = res_main.cov_params().values  # robust (HC3)\n",
        "\n",
        "# 找到 HFI 列\n",
        "ix = col.index(\"HFI_binary\")\n",
        "\n",
        "# 两个情景：把全体样本的 HFI 列改为 1 或 0，其它列不变\n",
        "X1 = X.copy(); X1[:, ix] = 1\n",
        "X0 = X.copy(); X0[:, ix] = 0\n",
        "\n",
        "# “总体平均”= 列均值 · 系数\n",
        "ex1 = X1.mean(axis=0);  mu1 = float(ex1 @ b)\n",
        "ex0 = X0.mean(axis=0);  mu0 = float(ex0 @ b)\n",
        "\n",
        "print(f\"Adjusted mean | HFI=1: {mu1:.2f}\")\n",
        "print(f\"Adjusted mean | HFI=0: {mu0:.2f}\")\n",
        "\n",
        "# 差值及其95%CI（c' β，方差 c' V c）\n",
        "c = ex1 - ex0\n",
        "diff = float(c @ b)\n",
        "se   = float(np.sqrt(c @ V @ c))\n",
        "lo, hi = diff - 1.96*se, diff + 1.96*se\n",
        "t = diff / se\n",
        "p = 2*stats.t.sf(abs(t), df=res_main.df_resid)\n",
        "\n",
        "print(f\"Adjusted difference (1−0): {diff:.2f} pp (95%CI {lo:.2f}, {hi:.2f}), p={p:.3g}\")\n",
        "\n",
        "# 验证：线性无交互时，差值≈回归系数\n",
        "print(\"≈ β_HFI ?\", np.isclose(diff, res_main.params['HFI_binary']))\n"
      ],
      "metadata": {
        "colab": {
          "base_uri": "https://localhost:8080/"
        },
        "id": "_xxlXOSlo-Fs",
        "outputId": "75f2b927-d6f6-45f6-a3f9-ca1f80bd6ea4"
      },
      "execution_count": 18,
      "outputs": [
        {
          "output_type": "stream",
          "name": "stdout",
          "text": [
            "Adjusted mean | HFI=1: 71.34\n",
            "Adjusted mean | HFI=0: 68.57\n",
            "Adjusted difference (1−0): 2.77 pp (95%CI -0.15, 5.69), p=0.0643\n",
            "≈ β_HFI ? True\n"
          ]
        }
      ]
    },
    {
      "cell_type": "markdown",
      "source": [
        "在主模型下的调整后均值显示，HFI=1 的 UPF% 为 71.3%（95%CI …），HFI=0 为 68.6%（95%CI …）；两者差值为 +2.77 个百分点（95%CI −0.15～5.69，p=0.064），与回归系数一致。"
      ],
      "metadata": {
        "id": "5yauuCAUpRy8"
      }
    },
    {
      "cell_type": "markdown",
      "source": [
        "# 敏感性分析（稳健性检验）"
      ],
      "metadata": {
        "id": "HopM5XcOV128"
      }
    },
    {
      "cell_type": "markdown",
      "source": [
        "## ① SES 衰减（+ income + employ）"
      ],
      "metadata": {
        "id": "hAiCVARTWAlv"
      }
    },
    {
      "cell_type": "code",
      "source": [
        "form_ses = form_main + \" + income + C(employ)\"\n",
        "res_ses = smf.ols(form_ses, data=df_use).fit(cov_type=\"HC3\")\n",
        "\n",
        "term = \"HFI_binary\"\n",
        "b0 = res_main.params[term]\n",
        "b1 = res_ses.params[term]\n",
        "lo1, hi1 = res_ses.conf_int().loc[term]\n",
        "p1 = res_ses.pvalues[term]\n",
        "atten = (abs(b0)-abs(b1))/abs(b0)*100\n",
        "\n",
        "print(f\"N={int(res_ses.nobs)}; HFI β={b1:.3f}, 95%CI [{lo1:.3f}, {hi1:.3f}], p={p1:.3g}\")\n",
        "print(f\"|β| 衰减 = {atten:.1f}%（由 {b0:.3f} → {b1:.3f}）\")\n"
      ],
      "metadata": {
        "colab": {
          "base_uri": "https://localhost:8080/"
        },
        "id": "2ToG87yGWBzL",
        "outputId": "2d9502c1-554a-49db-c1b6-6bdf2c1c6a61"
      },
      "execution_count": 13,
      "outputs": [
        {
          "output_type": "stream",
          "name": "stdout",
          "text": [
            "N=303; HFI β=3.158, 95%CI [-0.084, 6.399], p=0.0562\n",
            "|β| 衰减 = -14.0%（由 2.770 → 3.158）\n"
          ]
        }
      ]
    },
    {
      "cell_type": "markdown",
      "source": [
        "SES 衰减\n",
        "主：β=2.77（95%CI −0.15, 5.70; p=0.063）。\n",
        "+SES：β=3.16（95%CI −0.08, 6.40; p=0.056）。\n",
        "** |β| 衰减 = −14%（即+14% 放大）** → 加入收入/就业后，HFI 效应不衰减、反而略增大，说明主结论不由 SES 驱动（更像负向混杂/抑制或纯粹精度变化）。N 始终 303。"
      ],
      "metadata": {
        "id": "pJG-aj1kfqhb"
      }
    },
    {
      "cell_type": "markdown",
      "source": [
        "## ② HFI 三级（分类 & 趋势）"
      ],
      "metadata": {
        "id": "p2sPKGIlWDs5"
      }
    },
    {
      "cell_type": "code",
      "source": [
        "# 分类（基准=Food secure）\n",
        "df_use[\"HFI_category\"] = df_use[\"HFI_category\"].astype(\n",
        "    pd.api.types.CategoricalDtype(\n",
        "        categories=[\"Food secure\",\"Low food security\",\"Very low food security\"], ordered=True\n",
        "    )\n",
        ")\n",
        "form_hfi3 = (\n",
        "    \"weighted_upf_percent ~ C(HFI_category, Treatment(reference='Food secure'))\"\n",
        "    \" + C(gender_participant) + C(ethn4_alt, Treatment(reference='White British'))\"\n",
        "    \" + age_participant\"\n",
        ")\n",
        "res_hfi3 = smf.ols(form_hfi3, data=df_use).fit(cov_type=\"HC3\")\n",
        "\n",
        "for lev in [\"Low food security\",\"Very low food security\"]:\n",
        "    t = f\"C(HFI_category, Treatment(reference='Food secure'))[T.{lev}]\"\n",
        "    b, (lo, hi), p = res_hfi3.params[t], res_hfi3.conf_int().loc[t], res_hfi3.pvalues[t]\n",
        "    print(f\"{lev} vs Secure → β={b:.3f}, 95%CI [{lo:.3f}, {hi:.3f}], p={p:.3g}\")\n",
        "\n",
        "# 趋势（0/1/2）\n",
        "df_use[\"HFI_ordinal\"] = df_use[\"HFI_category\"].cat.codes\n",
        "res_trend = smf.ols(\n",
        "    \"weighted_upf_percent ~ HFI_ordinal + C(gender_participant)\"\n",
        "    \" + C(ethn4_alt, Treatment(reference='White British')) + age_participant\",\n",
        "    data=df_use\n",
        ").fit(cov_type=\"HC3\")\n",
        "b, (lo, hi), p = res_trend.params[\"HFI_ordinal\"], res_trend.conf_int().loc[\"HFI_ordinal\"], res_trend.pvalues[\"HFI_ordinal\"]\n",
        "print(f\"Trend test → β={b:.3f}, 95%CI [{lo:.3f}, {hi:.3f}], p-trend={p:.3g}\")\n"
      ],
      "metadata": {
        "colab": {
          "base_uri": "https://localhost:8080/"
        },
        "id": "w11x68aSWH13",
        "outputId": "a4913251-6594-42ad-a67a-aa8c672abe0a"
      },
      "execution_count": 14,
      "outputs": [
        {
          "output_type": "stream",
          "name": "stdout",
          "text": [
            "Low food security vs Secure → β=0.779, 95%CI [-3.104, 4.661], p=0.694\n",
            "Very low food security vs Secure → β=4.809, 95%CI [1.189, 8.429], p=0.00922\n",
            "Trend test → β=2.158, 95%CI [0.408, 3.908], p-trend=0.0157\n"
          ]
        }
      ]
    },
    {
      "cell_type": "markdown",
      "source": [
        "HFI 三级（N=303）\n",
        "Low vs Secure：β=0.78（95%CI −3.10, 4.66; p=0.694）→ 不显著。\n",
        "Very low vs Secure：β=4.81（95%CI 1.19, 8.43; p=0.009）→ 显著更高。\n",
        "趋势：每升一级 +2.16 个百分点（95%CI 0.41, 3.91; p-trend=0.016）→ 存在剂量-反应梯度。"
      ],
      "metadata": {
        "id": "RX7O23I6fsAA"
      }
    },
    {
      "cell_type": "markdown",
      "source": [
        "## ③ 种族编码方案（WB / Pakistani / Mixed）"
      ],
      "metadata": {
        "id": "ppbJpXAXWKir"
      }
    },
    {
      "cell_type": "code",
      "source": [
        "# 三类标签\n",
        "map3 = {\"White British\":\"White British\",\"Pakistani\":\"Pakistani\",\"Mixed/multiple ethnicity\":\"Mixed\"}\n",
        "df_use[\"ethn3_main\"] = df_use[\"ethn_label_full\"].map(map3)\n",
        "df_use[\"ethn3_main\"] = pd.Categorical(df_use[\"ethn3_main\"],\n",
        "                                      categories=[\"White British\",\"Pakistani\",\"Mixed\"], ordered=False)\n",
        "\n",
        "form_ethn3 = (\n",
        "    \"weighted_upf_percent ~ HFI_binary + C(gender_participant)\"\n",
        "    \" + C(ethn3_main, Treatment(reference='White British')) + age_participant\"\n",
        ")\n",
        "res_ethn3 = smf.ols(form_ethn3, data=df_use).fit(cov_type=\"HC3\")\n",
        "b, (lo, hi), p = res_ethn3.params[\"HFI_binary\"], res_ethn3.conf_int().loc[\"HFI_binary\"], res_ethn3.pvalues[\"HFI_binary\"]\n",
        "print(f\"N={int(res_ethn3.nobs)}; HFI β={b:.3f}, 95%CI [{lo:.3f}, {hi:.3f}], p={p:.3g}（三类种族）\")\n"
      ],
      "metadata": {
        "colab": {
          "base_uri": "https://localhost:8080/"
        },
        "id": "114-JwW6WLwc",
        "outputId": "d70aab24-79b1-4cd5-9d56-fd91c7ff4f1a"
      },
      "execution_count": 15,
      "outputs": [
        {
          "output_type": "stream",
          "name": "stdout",
          "text": [
            "N=261; HFI β=2.295, 95%CI [-0.958, 5.548], p=0.167（三类种族）\n"
          ]
        }
      ]
    },
    {
      "cell_type": "markdown",
      "source": [
        "种族编码（三类 WB/PK/Mixed）\n",
        "N降至 261（因剔除“Other”）。\n",
        "HFI：β=2.30（95%CI −0.96, 5.55; p=0.167）。\n",
        "方向一致、量级相近；CI 变宽主要因 样本减少，提示对编码方案不敏感（但精度下降）。"
      ],
      "metadata": {
        "id": "sIu0es9KfxRR"
      }
    },
    {
      "cell_type": "markdown",
      "source": [
        "# 汇总"
      ],
      "metadata": {
        "id": "ATYwxlIOgBGO"
      }
    },
    {
      "cell_type": "markdown",
      "source": [
        "## 1) 把关键结果汇总成一张表"
      ],
      "metadata": {
        "id": "ObBHQQJhgCe-"
      }
    },
    {
      "cell_type": "code",
      "source": [
        "import pandas as pd\n",
        "\n",
        "rows = []\n",
        "\n",
        "# Main\n",
        "term = \"HFI_binary\"\n",
        "rows.append([\"Main (demog only, ethn4)\", int(res_main.nobs),\n",
        "             res_main.params[term], *res_main.conf_int().loc[term], res_main.pvalues[term], \"Adj: age, gender, ethnicity(4)\"])\n",
        "\n",
        "# + SES\n",
        "rows.append([\"Main + SES\", int(res_ses.nobs),\n",
        "             res_ses.params[term], *res_ses.conf_int().loc[term], res_ses.pvalues[term], \"Adj + income + employ\"])\n",
        "\n",
        "# Ethnicity = 3 levels\n",
        "rows.append([\"Ethnicity=3-level\", int(res_ethn3.nobs),\n",
        "             res_ethn3.params[term], *res_ethn3.conf_int().loc[term], res_ethn3.pvalues[term], \"WB/PK/Mixed\"])\n",
        "\n",
        "# HFI 3-level (categorical)\n",
        "for lev in [\"Low food security\",\"Very low food security\"]:\n",
        "    t = f\"C(HFI_category, Treatment(reference='Food secure'))[T.{lev}]\"\n",
        "    rows.append([f\"HFI 3-level: {lev} vs Secure\", int(res_hfi3.nobs),\n",
        "                 res_hfi3.params[t], *res_hfi3.conf_int().loc[t], res_hfi3.pvalues[t], \"\"])\n",
        "\n",
        "# HFI trend\n",
        "rows.append([\"HFI trend (0/1/2)\", int(res_trend.nobs),\n",
        "             res_trend.params[\"HFI_ordinal\"], *res_trend.conf_int().loc[\"HFI_ordinal\"], res_trend.pvalues[\"HFI_ordinal\"], \"\"])\n",
        "\n",
        "summary = pd.DataFrame(rows, columns=[\"Model\",\"N\",\"Beta\",\"CI_low\",\"CI_high\",\"p_value\",\"Note\"])\n",
        "summary.round(3)\n",
        "# 如需导出： summary.to_excel(\"UPF_HFI_summary.xlsx\", index=False)\n"
      ],
      "metadata": {
        "colab": {
          "base_uri": "https://localhost:8080/",
          "height": 238
        },
        "id": "q2UlnVOegEFS",
        "outputId": "76a533c7-8684-4614-ecc1-6b684b7cd4d4"
      },
      "execution_count": 16,
      "outputs": [
        {
          "output_type": "execute_result",
          "data": {
            "text/plain": [
              "                                           Model    N   Beta  CI_low  CI_high  \\\n",
              "0                       Main (demog only, ethn4)  303  2.770  -0.154    5.695   \n",
              "1                                     Main + SES  303  3.158  -0.084    6.399   \n",
              "2                              Ethnicity=3-level  261  2.295  -0.958    5.548   \n",
              "3       HFI 3-level: Low food security vs Secure  303  0.779  -3.104    4.661   \n",
              "4  HFI 3-level: Very low food security vs Secure  303  4.809   1.189    8.429   \n",
              "5                              HFI trend (0/1/2)  303  2.158   0.408    3.908   \n",
              "\n",
              "   p_value                            Note  \n",
              "0    0.063  Adj: age, gender, ethnicity(4)  \n",
              "1    0.056           Adj + income + employ  \n",
              "2    0.167                     WB/PK/Mixed  \n",
              "3    0.694                                  \n",
              "4    0.009                                  \n",
              "5    0.016                                  "
            ],
            "text/html": [
              "\n",
              "  <div id=\"df-7f70b689-7382-4b12-a16c-8b5a790a8acf\" class=\"colab-df-container\">\n",
              "    <div>\n",
              "<style scoped>\n",
              "    .dataframe tbody tr th:only-of-type {\n",
              "        vertical-align: middle;\n",
              "    }\n",
              "\n",
              "    .dataframe tbody tr th {\n",
              "        vertical-align: top;\n",
              "    }\n",
              "\n",
              "    .dataframe thead th {\n",
              "        text-align: right;\n",
              "    }\n",
              "</style>\n",
              "<table border=\"1\" class=\"dataframe\">\n",
              "  <thead>\n",
              "    <tr style=\"text-align: right;\">\n",
              "      <th></th>\n",
              "      <th>Model</th>\n",
              "      <th>N</th>\n",
              "      <th>Beta</th>\n",
              "      <th>CI_low</th>\n",
              "      <th>CI_high</th>\n",
              "      <th>p_value</th>\n",
              "      <th>Note</th>\n",
              "    </tr>\n",
              "  </thead>\n",
              "  <tbody>\n",
              "    <tr>\n",
              "      <th>0</th>\n",
              "      <td>Main (demog only, ethn4)</td>\n",
              "      <td>303</td>\n",
              "      <td>2.770</td>\n",
              "      <td>-0.154</td>\n",
              "      <td>5.695</td>\n",
              "      <td>0.063</td>\n",
              "      <td>Adj: age, gender, ethnicity(4)</td>\n",
              "    </tr>\n",
              "    <tr>\n",
              "      <th>1</th>\n",
              "      <td>Main + SES</td>\n",
              "      <td>303</td>\n",
              "      <td>3.158</td>\n",
              "      <td>-0.084</td>\n",
              "      <td>6.399</td>\n",
              "      <td>0.056</td>\n",
              "      <td>Adj + income + employ</td>\n",
              "    </tr>\n",
              "    <tr>\n",
              "      <th>2</th>\n",
              "      <td>Ethnicity=3-level</td>\n",
              "      <td>261</td>\n",
              "      <td>2.295</td>\n",
              "      <td>-0.958</td>\n",
              "      <td>5.548</td>\n",
              "      <td>0.167</td>\n",
              "      <td>WB/PK/Mixed</td>\n",
              "    </tr>\n",
              "    <tr>\n",
              "      <th>3</th>\n",
              "      <td>HFI 3-level: Low food security vs Secure</td>\n",
              "      <td>303</td>\n",
              "      <td>0.779</td>\n",
              "      <td>-3.104</td>\n",
              "      <td>4.661</td>\n",
              "      <td>0.694</td>\n",
              "      <td></td>\n",
              "    </tr>\n",
              "    <tr>\n",
              "      <th>4</th>\n",
              "      <td>HFI 3-level: Very low food security vs Secure</td>\n",
              "      <td>303</td>\n",
              "      <td>4.809</td>\n",
              "      <td>1.189</td>\n",
              "      <td>8.429</td>\n",
              "      <td>0.009</td>\n",
              "      <td></td>\n",
              "    </tr>\n",
              "    <tr>\n",
              "      <th>5</th>\n",
              "      <td>HFI trend (0/1/2)</td>\n",
              "      <td>303</td>\n",
              "      <td>2.158</td>\n",
              "      <td>0.408</td>\n",
              "      <td>3.908</td>\n",
              "      <td>0.016</td>\n",
              "      <td></td>\n",
              "    </tr>\n",
              "  </tbody>\n",
              "</table>\n",
              "</div>\n",
              "    <div class=\"colab-df-buttons\">\n",
              "\n",
              "  <div class=\"colab-df-container\">\n",
              "    <button class=\"colab-df-convert\" onclick=\"convertToInteractive('df-7f70b689-7382-4b12-a16c-8b5a790a8acf')\"\n",
              "            title=\"Convert this dataframe to an interactive table.\"\n",
              "            style=\"display:none;\">\n",
              "\n",
              "  <svg xmlns=\"http://www.w3.org/2000/svg\" height=\"24px\" viewBox=\"0 -960 960 960\">\n",
              "    <path d=\"M120-120v-720h720v720H120Zm60-500h600v-160H180v160Zm220 220h160v-160H400v160Zm0 220h160v-160H400v160ZM180-400h160v-160H180v160Zm440 0h160v-160H620v160ZM180-180h160v-160H180v160Zm440 0h160v-160H620v160Z\"/>\n",
              "  </svg>\n",
              "    </button>\n",
              "\n",
              "  <style>\n",
              "    .colab-df-container {\n",
              "      display:flex;\n",
              "      gap: 12px;\n",
              "    }\n",
              "\n",
              "    .colab-df-convert {\n",
              "      background-color: #E8F0FE;\n",
              "      border: none;\n",
              "      border-radius: 50%;\n",
              "      cursor: pointer;\n",
              "      display: none;\n",
              "      fill: #1967D2;\n",
              "      height: 32px;\n",
              "      padding: 0 0 0 0;\n",
              "      width: 32px;\n",
              "    }\n",
              "\n",
              "    .colab-df-convert:hover {\n",
              "      background-color: #E2EBFA;\n",
              "      box-shadow: 0px 1px 2px rgba(60, 64, 67, 0.3), 0px 1px 3px 1px rgba(60, 64, 67, 0.15);\n",
              "      fill: #174EA6;\n",
              "    }\n",
              "\n",
              "    .colab-df-buttons div {\n",
              "      margin-bottom: 4px;\n",
              "    }\n",
              "\n",
              "    [theme=dark] .colab-df-convert {\n",
              "      background-color: #3B4455;\n",
              "      fill: #D2E3FC;\n",
              "    }\n",
              "\n",
              "    [theme=dark] .colab-df-convert:hover {\n",
              "      background-color: #434B5C;\n",
              "      box-shadow: 0px 1px 3px 1px rgba(0, 0, 0, 0.15);\n",
              "      filter: drop-shadow(0px 1px 2px rgba(0, 0, 0, 0.3));\n",
              "      fill: #FFFFFF;\n",
              "    }\n",
              "  </style>\n",
              "\n",
              "    <script>\n",
              "      const buttonEl =\n",
              "        document.querySelector('#df-7f70b689-7382-4b12-a16c-8b5a790a8acf button.colab-df-convert');\n",
              "      buttonEl.style.display =\n",
              "        google.colab.kernel.accessAllowed ? 'block' : 'none';\n",
              "\n",
              "      async function convertToInteractive(key) {\n",
              "        const element = document.querySelector('#df-7f70b689-7382-4b12-a16c-8b5a790a8acf');\n",
              "        const dataTable =\n",
              "          await google.colab.kernel.invokeFunction('convertToInteractive',\n",
              "                                                    [key], {});\n",
              "        if (!dataTable) return;\n",
              "\n",
              "        const docLinkHtml = 'Like what you see? Visit the ' +\n",
              "          '<a target=\"_blank\" href=https://colab.research.google.com/notebooks/data_table.ipynb>data table notebook</a>'\n",
              "          + ' to learn more about interactive tables.';\n",
              "        element.innerHTML = '';\n",
              "        dataTable['output_type'] = 'display_data';\n",
              "        await google.colab.output.renderOutput(dataTable, element);\n",
              "        const docLink = document.createElement('div');\n",
              "        docLink.innerHTML = docLinkHtml;\n",
              "        element.appendChild(docLink);\n",
              "      }\n",
              "    </script>\n",
              "  </div>\n",
              "\n",
              "\n",
              "    <div id=\"df-b8227a0b-4957-4eb8-b1b0-311329e8f39a\">\n",
              "      <button class=\"colab-df-quickchart\" onclick=\"quickchart('df-b8227a0b-4957-4eb8-b1b0-311329e8f39a')\"\n",
              "                title=\"Suggest charts\"\n",
              "                style=\"display:none;\">\n",
              "\n",
              "<svg xmlns=\"http://www.w3.org/2000/svg\" height=\"24px\"viewBox=\"0 0 24 24\"\n",
              "     width=\"24px\">\n",
              "    <g>\n",
              "        <path d=\"M19 3H5c-1.1 0-2 .9-2 2v14c0 1.1.9 2 2 2h14c1.1 0 2-.9 2-2V5c0-1.1-.9-2-2-2zM9 17H7v-7h2v7zm4 0h-2V7h2v10zm4 0h-2v-4h2v4z\"/>\n",
              "    </g>\n",
              "</svg>\n",
              "      </button>\n",
              "\n",
              "<style>\n",
              "  .colab-df-quickchart {\n",
              "      --bg-color: #E8F0FE;\n",
              "      --fill-color: #1967D2;\n",
              "      --hover-bg-color: #E2EBFA;\n",
              "      --hover-fill-color: #174EA6;\n",
              "      --disabled-fill-color: #AAA;\n",
              "      --disabled-bg-color: #DDD;\n",
              "  }\n",
              "\n",
              "  [theme=dark] .colab-df-quickchart {\n",
              "      --bg-color: #3B4455;\n",
              "      --fill-color: #D2E3FC;\n",
              "      --hover-bg-color: #434B5C;\n",
              "      --hover-fill-color: #FFFFFF;\n",
              "      --disabled-bg-color: #3B4455;\n",
              "      --disabled-fill-color: #666;\n",
              "  }\n",
              "\n",
              "  .colab-df-quickchart {\n",
              "    background-color: var(--bg-color);\n",
              "    border: none;\n",
              "    border-radius: 50%;\n",
              "    cursor: pointer;\n",
              "    display: none;\n",
              "    fill: var(--fill-color);\n",
              "    height: 32px;\n",
              "    padding: 0;\n",
              "    width: 32px;\n",
              "  }\n",
              "\n",
              "  .colab-df-quickchart:hover {\n",
              "    background-color: var(--hover-bg-color);\n",
              "    box-shadow: 0 1px 2px rgba(60, 64, 67, 0.3), 0 1px 3px 1px rgba(60, 64, 67, 0.15);\n",
              "    fill: var(--button-hover-fill-color);\n",
              "  }\n",
              "\n",
              "  .colab-df-quickchart-complete:disabled,\n",
              "  .colab-df-quickchart-complete:disabled:hover {\n",
              "    background-color: var(--disabled-bg-color);\n",
              "    fill: var(--disabled-fill-color);\n",
              "    box-shadow: none;\n",
              "  }\n",
              "\n",
              "  .colab-df-spinner {\n",
              "    border: 2px solid var(--fill-color);\n",
              "    border-color: transparent;\n",
              "    border-bottom-color: var(--fill-color);\n",
              "    animation:\n",
              "      spin 1s steps(1) infinite;\n",
              "  }\n",
              "\n",
              "  @keyframes spin {\n",
              "    0% {\n",
              "      border-color: transparent;\n",
              "      border-bottom-color: var(--fill-color);\n",
              "      border-left-color: var(--fill-color);\n",
              "    }\n",
              "    20% {\n",
              "      border-color: transparent;\n",
              "      border-left-color: var(--fill-color);\n",
              "      border-top-color: var(--fill-color);\n",
              "    }\n",
              "    30% {\n",
              "      border-color: transparent;\n",
              "      border-left-color: var(--fill-color);\n",
              "      border-top-color: var(--fill-color);\n",
              "      border-right-color: var(--fill-color);\n",
              "    }\n",
              "    40% {\n",
              "      border-color: transparent;\n",
              "      border-right-color: var(--fill-color);\n",
              "      border-top-color: var(--fill-color);\n",
              "    }\n",
              "    60% {\n",
              "      border-color: transparent;\n",
              "      border-right-color: var(--fill-color);\n",
              "    }\n",
              "    80% {\n",
              "      border-color: transparent;\n",
              "      border-right-color: var(--fill-color);\n",
              "      border-bottom-color: var(--fill-color);\n",
              "    }\n",
              "    90% {\n",
              "      border-color: transparent;\n",
              "      border-bottom-color: var(--fill-color);\n",
              "    }\n",
              "  }\n",
              "</style>\n",
              "\n",
              "      <script>\n",
              "        async function quickchart(key) {\n",
              "          const quickchartButtonEl =\n",
              "            document.querySelector('#' + key + ' button');\n",
              "          quickchartButtonEl.disabled = true;  // To prevent multiple clicks.\n",
              "          quickchartButtonEl.classList.add('colab-df-spinner');\n",
              "          try {\n",
              "            const charts = await google.colab.kernel.invokeFunction(\n",
              "                'suggestCharts', [key], {});\n",
              "          } catch (error) {\n",
              "            console.error('Error during call to suggestCharts:', error);\n",
              "          }\n",
              "          quickchartButtonEl.classList.remove('colab-df-spinner');\n",
              "          quickchartButtonEl.classList.add('colab-df-quickchart-complete');\n",
              "        }\n",
              "        (() => {\n",
              "          let quickchartButtonEl =\n",
              "            document.querySelector('#df-b8227a0b-4957-4eb8-b1b0-311329e8f39a button');\n",
              "          quickchartButtonEl.style.display =\n",
              "            google.colab.kernel.accessAllowed ? 'block' : 'none';\n",
              "        })();\n",
              "      </script>\n",
              "    </div>\n",
              "\n",
              "    </div>\n",
              "  </div>\n"
            ],
            "application/vnd.google.colaboratory.intrinsic+json": {
              "type": "dataframe",
              "summary": "{\n  \"name\": \"# \\u5982\\u9700\\u5bfc\\u51fa\\uff1a summary\",\n  \"rows\": 6,\n  \"fields\": [\n    {\n      \"column\": \"Model\",\n      \"properties\": {\n        \"dtype\": \"string\",\n        \"num_unique_values\": 6,\n        \"samples\": [\n          \"Main (demog only, ethn4)\",\n          \"Main + SES\",\n          \"HFI trend (0/1/2)\"\n        ],\n        \"semantic_type\": \"\",\n        \"description\": \"\"\n      }\n    },\n    {\n      \"column\": \"N\",\n      \"properties\": {\n        \"dtype\": \"number\",\n        \"std\": 17,\n        \"min\": 261,\n        \"max\": 303,\n        \"num_unique_values\": 2,\n        \"samples\": [\n          261,\n          303\n        ],\n        \"semantic_type\": \"\",\n        \"description\": \"\"\n      }\n    },\n    {\n      \"column\": \"Beta\",\n      \"properties\": {\n        \"dtype\": \"number\",\n        \"std\": 1.3267766579194857,\n        \"min\": 0.779,\n        \"max\": 4.809,\n        \"num_unique_values\": 6,\n        \"samples\": [\n          2.77,\n          3.158\n        ],\n        \"semantic_type\": \"\",\n        \"description\": \"\"\n      }\n    },\n    {\n      \"column\": \"CI_low\",\n      \"properties\": {\n        \"dtype\": \"number\",\n        \"std\": 1.4795834211020344,\n        \"min\": -3.104,\n        \"max\": 1.189,\n        \"num_unique_values\": 6,\n        \"samples\": [\n          -0.154,\n          -0.084\n        ],\n        \"semantic_type\": \"\",\n        \"description\": \"\"\n      }\n    },\n    {\n      \"column\": \"CI_high\",\n      \"properties\": {\n        \"dtype\": \"number\",\n        \"std\": 1.563181968507399,\n        \"min\": 3.908,\n        \"max\": 8.429,\n        \"num_unique_values\": 6,\n        \"samples\": [\n          5.695,\n          6.399\n        ],\n        \"semantic_type\": \"\",\n        \"description\": \"\"\n      }\n    },\n    {\n      \"column\": \"p_value\",\n      \"properties\": {\n        \"dtype\": \"number\",\n        \"std\": 0.2640566227156592,\n        \"min\": 0.009,\n        \"max\": 0.694,\n        \"num_unique_values\": 6,\n        \"samples\": [\n          0.063,\n          0.056\n        ],\n        \"semantic_type\": \"\",\n        \"description\": \"\"\n      }\n    },\n    {\n      \"column\": \"Note\",\n      \"properties\": {\n        \"dtype\": \"string\",\n        \"num_unique_values\": 4,\n        \"samples\": [\n          \"Adj + income + employ\",\n          \"\"\n        ],\n        \"semantic_type\": \"\",\n        \"description\": \"\"\n      }\n    }\n  ]\n}"
            }
          },
          "metadata": {},
          "execution_count": 16
        }
      ]
    },
    {
      "cell_type": "markdown",
      "source": [
        "## 2) 画一张“HFI效应的森林图”（主模型 / +SES / 种族三类）"
      ],
      "metadata": {
        "id": "pWMspQzYgKhj"
      }
    },
    {
      "cell_type": "code",
      "source": [
        "import matplotlib.pyplot as plt\n",
        "import numpy as np\n",
        "\n",
        "models = [\n",
        "    (\"Main\", res_main.params[term], *res_main.conf_int().loc[term]),\n",
        "    (\"Main + SES\", res_ses.params[term], *res_ses.conf_int().loc[term]),\n",
        "    (\"Ethn=3-level\", res_ethn3.params[term], *res_ethn3.conf_int().loc[term]),\n",
        "]\n",
        "labels = [m[0] for m in models]\n",
        "betas = np.array([m[1] for m in models])\n",
        "los = np.array([m[2] for m in models])\n",
        "his = np.array([m[3] for m in models])\n",
        "y = np.arange(len(models))\n",
        "\n",
        "plt.figure(figsize=(6,3.6))\n",
        "plt.hlines(y, los, his)\n",
        "plt.plot(betas, y, \"o\")\n",
        "plt.axvline(0, linestyle=\"--\")\n",
        "plt.yticks(y, labels)\n",
        "plt.xlabel(\"HFI effect on UPF% (β, 95% CI)\")\n",
        "plt.title(\"HFI → UPF% across models (HC3)\")\n",
        "plt.tight_layout()\n",
        "plt.show()\n"
      ],
      "metadata": {
        "colab": {
          "base_uri": "https://localhost:8080/",
          "height": 367
        },
        "id": "GtQBrbmSgKOo",
        "outputId": "8cde50b2-1c68-49ac-af6f-23333a1c2257"
      },
      "execution_count": 17,
      "outputs": [
        {
          "output_type": "display_data",
          "data": {
            "text/plain": [
              "<Figure size 600x360 with 1 Axes>"
            ],
            "image/png": "[encoded data removed]"
          },
          "metadata": {}
        }
      ]
    }
  ]
}