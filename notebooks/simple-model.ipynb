{
  "nbformat": 4,
  "nbformat_minor": 0,
  "metadata": {
    "colab": {
      "provenance": [],
      "authorship_tag": "ABX9TyNYL3IzG9/UaIPjSbaCfZXA",
      "include_colab_link": true
    },
    "kernelspec": {
      "name": "python3",
      "display_name": "Python 3"
    },
    "language_info": {
      "name": "python"
    }
  },
  "cells": [
    {
      "cell_type": "markdown",
      "metadata": {
        "id": "view-in-github",
        "colab_type": "text"
      },
      "source": [
        "<a href=\"https://colab.research.google.com/github/NINGTANG1124/UPF-HFI/blob/main/notebooks/simple-model.ipynb\" target=\"_parent\"><img src=\"https://colab.research.google.com/assets/colab-badge.svg\" alt=\"Open In Colab\"/></a>"
      ]
    },
    {
      "cell_type": "code",
      "execution_count": 1,
      "metadata": {
        "colab": {
          "base_uri": "https://localhost:8080/"
        },
        "id": "Oy63dum1TTHS",
        "outputId": "83040af6-7ab9-468a-b25f-6bc5d6a80d50"
      },
      "outputs": [
        {
          "output_type": "stream",
          "name": "stdout",
          "text": [
            "Mounted at /content/drive\n"
          ]
        }
      ],
      "source": [
        "# connect to googledrive\n",
        "from google.colab import drive\n",
        "drive.mount('/content/drive')"
      ]
    },
    {
      "cell_type": "code",
      "source": [
        "# --- 0. 导入库 ---\n",
        "import pandas as pd\n",
        "import numpy as np\n",
        "import statsmodels.api as sm\n",
        "import statsmodels.formula.api as smf\n",
        "import matplotlib.pyplot as plt\n",
        "import seaborn as sns\n",
        "\n",
        "# 用于倾向评分估计 & 平衡表\n",
        "from sklearn.linear_model import LogisticRegression\n",
        "from sklearn.preprocessing import StandardScaler\n",
        "from sklearn.metrics import pairwise_distances\n"
      ],
      "metadata": {
        "id": "S2-PGWB7Thrr"
      },
      "execution_count": 2,
      "outputs": []
    },
    {
      "cell_type": "code",
      "source": [
        "# 读取\n",
        "survey_df = pd.read_excel( \"/content/drive/MyDrive/UPF-HFI/Model/outcome/survey_with_HFI.xlsx\")\n",
        "df_upf    = pd.read_excel(\"/content/drive/MyDrive/UPF-HFI/Model/outcome/weighted_upf_percent.xlsx\")"
      ],
      "metadata": {
        "id": "9-EORYj5TlxH"
      },
      "execution_count": 3,
      "outputs": []
    },
    {
      "cell_type": "code",
      "source": [
        "# ==== 先检查 ====\n",
        "issues = []\n",
        "\n",
        "# 检查关键列\n",
        "for col in [\"UserID_clean\", \"HFI_binary\", \"HFI_raw_score\"]:\n",
        "    if col not in survey_df.columns:\n",
        "        issues.append(f\"survey 缺少 {col}\")\n",
        "\n",
        "for col in [\"UserID_clean\", \"weighted_upf_percent\"]:\n",
        "    if col not in df_upf.columns:\n",
        "        issues.append(f\"upf 缺少 {col}\")\n",
        "\n",
        "# 检查 ID 是否有缺失/重复\n",
        "for name, df in [(\"survey\", survey_df), (\"upf\", df_upf)]:\n",
        "    n_na = df[\"UserID_clean\"].isna().sum()\n",
        "    n_dup = df[\"UserID_clean\"].duplicated().sum()\n",
        "    if n_na:  issues.append(f\"{name} 的 UserID_clean 有 {n_na} 个缺失\")\n",
        "    if n_dup: issues.append(f\"{name} 的 UserID_clean 有 {n_dup} 个重复\")\n",
        "\n",
        "# 检查 upf_percent 是否数值\n",
        "bad_upf = pd.to_numeric(df_upf[\"weighted_upf_percent\"], errors=\"coerce\").isna().sum()\n",
        "if bad_upf:\n",
        "    issues.append(f\"weighted_upf_percent 有 {bad_upf} 个非数值/缺失\")\n",
        "\n",
        "# 打印检查结果\n",
        "if issues:\n",
        "    print(\"检查发现以下问题：\")\n",
        "    for i, msg in enumerate(issues, 1):\n",
        "        print(f\"{i}. {msg}\")\n",
        "else:\n",
        "    print(\"没有发现问题，可以直接处理\")\n"
      ],
      "metadata": {
        "colab": {
          "base_uri": "https://localhost:8080/"
        },
        "id": "CQulhvddTuki",
        "outputId": "075c172d-bb7b-4e88-bc7d-e21052801dac"
      },
      "execution_count": 4,
      "outputs": [
        {
          "output_type": "stream",
          "name": "stdout",
          "text": [
            "没有发现问题，可以直接处理\n"
          ]
        }
      ]
    },
    {
      "cell_type": "code",
      "source": [
        "# ==== 检查关键变量缺失情况 ====\n",
        "check_cols = [\"HFI_binary\", \"weighted_upf_percent\"]\n",
        "missing_info = {}\n",
        "\n",
        "for col in check_cols:\n",
        "    if col not in survey_df.columns and col not in df_upf.columns:\n",
        "        print(f\"数据中找不到列: {col}\")\n",
        "        continue\n",
        "\n",
        "    if col in survey_df.columns:\n",
        "        n_miss = survey_df[col].isna().sum()\n",
        "        missing_info[col] = n_miss\n",
        "        print(f\"{col} 在 survey_df 中缺失 {n_miss} 行\")\n",
        "\n",
        "    if col in df_upf.columns:\n",
        "        n_miss = df_upf[col].isna().sum()\n",
        "        missing_info[col] = n_miss\n",
        "        print(f\"{col} 在 upf_df 中缺失 {n_miss} 行\")\n",
        "\n",
        "# ==== 判断是否需要处理 ====\n",
        "if all(v == 0 for v in missing_info.values()):\n",
        "    print(\"两列都没有缺失，可以直接进入合并/建模\")\n",
        "else:\n",
        "    print(\"存在缺失，需要处理后再合并\")\n"
      ],
      "metadata": {
        "colab": {
          "base_uri": "https://localhost:8080/"
        },
        "id": "YLZhCcx5TyFB",
        "outputId": "50109183-e3b2-466a-cba6-599b05e7b122"
      },
      "execution_count": 5,
      "outputs": [
        {
          "output_type": "stream",
          "name": "stdout",
          "text": [
            "HFI_binary 在 survey_df 中缺失 18 行\n",
            "weighted_upf_percent 在 upf_df 中缺失 0 行\n",
            "存在缺失，需要处理后再合并\n"
          ]
        }
      ]
    },
    {
      "cell_type": "code",
      "source": [
        "# 1. 合并 survey 和 upf\n",
        "df_model = pd.merge(survey_df, df_upf, on=\"UserID_clean\", how=\"inner\")\n",
        "\n",
        "# 2. 删掉 HFI_binary 缺失的\n",
        "df_model = df_model.dropna(subset=[\"HFI_binary\"])\n",
        "\n",
        "print(\"合并后样本量：\", len(df_model))\n"
      ],
      "metadata": {
        "colab": {
          "base_uri": "https://localhost:8080/"
        },
        "id": "4GyAoQQ3T2Sm",
        "outputId": "861e4993-69e3-445d-a2b6-8a118b6a5594"
      },
      "execution_count": 6,
      "outputs": [
        {
          "output_type": "stream",
          "name": "stdout",
          "text": [
            "合并后样本量： 308\n"
          ]
        }
      ]
    },
    {
      "cell_type": "code",
      "source": [
        "# 查看族裔变量的原始分布\n",
        "df_model[\"ethn_participant\"].value_counts(dropna=False)\n"
      ],
      "metadata": {
        "colab": {
          "base_uri": "https://localhost:8080/",
          "height": 398
        },
        "id": "iL4dQk8QT4Yi",
        "outputId": "701158f2-37f3-4846-918d-2892e5e7941a"
      },
      "execution_count": 8,
      "outputs": [
        {
          "output_type": "execute_result",
          "data": {
            "text/plain": [
              "ethn_participant\n",
              "1    156\n",
              "3     76\n",
              "7     33\n",
              "2     13\n",
              "4     10\n",
              "5      8\n",
              "6      6\n",
              "8      4\n",
              "9      2\n",
              "Name: count, dtype: int64"
            ],
            "text/html": [
              "<div>\n",
              "<style scoped>\n",
              "    .dataframe tbody tr th:only-of-type {\n",
              "        vertical-align: middle;\n",
              "    }\n",
              "\n",
              "    .dataframe tbody tr th {\n",
              "        vertical-align: top;\n",
              "    }\n",
              "\n",
              "    .dataframe thead th {\n",
              "        text-align: right;\n",
              "    }\n",
              "</style>\n",
              "<table border=\"1\" class=\"dataframe\">\n",
              "  <thead>\n",
              "    <tr style=\"text-align: right;\">\n",
              "      <th></th>\n",
              "      <th>count</th>\n",
              "    </tr>\n",
              "    <tr>\n",
              "      <th>ethn_participant</th>\n",
              "      <th></th>\n",
              "    </tr>\n",
              "  </thead>\n",
              "  <tbody>\n",
              "    <tr>\n",
              "      <th>1</th>\n",
              "      <td>156</td>\n",
              "    </tr>\n",
              "    <tr>\n",
              "      <th>3</th>\n",
              "      <td>76</td>\n",
              "    </tr>\n",
              "    <tr>\n",
              "      <th>7</th>\n",
              "      <td>33</td>\n",
              "    </tr>\n",
              "    <tr>\n",
              "      <th>2</th>\n",
              "      <td>13</td>\n",
              "    </tr>\n",
              "    <tr>\n",
              "      <th>4</th>\n",
              "      <td>10</td>\n",
              "    </tr>\n",
              "    <tr>\n",
              "      <th>5</th>\n",
              "      <td>8</td>\n",
              "    </tr>\n",
              "    <tr>\n",
              "      <th>6</th>\n",
              "      <td>6</td>\n",
              "    </tr>\n",
              "    <tr>\n",
              "      <th>8</th>\n",
              "      <td>4</td>\n",
              "    </tr>\n",
              "    <tr>\n",
              "      <th>9</th>\n",
              "      <td>2</td>\n",
              "    </tr>\n",
              "  </tbody>\n",
              "</table>\n",
              "</div><br><label><b>dtype:</b> int64</label>"
            ]
          },
          "metadata": {},
          "execution_count": 8
        }
      ]
    },
    {
      "cell_type": "code",
      "source": [
        "# 根据 BiB 文献做的三类\n",
        "df_model[\"ethnicity3\"] = df_model[\"ethn_participant\"].replace({\n",
        "    1: \"White British\",\n",
        "    3: \"Pakistani\"\n",
        "})\n",
        "df_model[\"ethnicity3\"] = df_model[\"ethnicity3\"].where(\n",
        "    df_model[\"ethnicity3\"].isin([\"White British\", \"Pakistani\"]), \"Other\"\n",
        ")\n",
        "\n",
        "df_model[\"ethnicity3\"].value_counts()\n"
      ],
      "metadata": {
        "colab": {
          "base_uri": "https://localhost:8080/",
          "height": 210
        },
        "id": "k04pcbTeUZZV",
        "outputId": "050d1f80-b3e7-4e9a-9d75-47f3b19fe0db"
      },
      "execution_count": 9,
      "outputs": [
        {
          "output_type": "execute_result",
          "data": {
            "text/plain": [
              "ethnicity3\n",
              "White British    156\n",
              "Other             76\n",
              "Pakistani         76\n",
              "Name: count, dtype: int64"
            ],
            "text/html": [
              "<div>\n",
              "<style scoped>\n",
              "    .dataframe tbody tr th:only-of-type {\n",
              "        vertical-align: middle;\n",
              "    }\n",
              "\n",
              "    .dataframe tbody tr th {\n",
              "        vertical-align: top;\n",
              "    }\n",
              "\n",
              "    .dataframe thead th {\n",
              "        text-align: right;\n",
              "    }\n",
              "</style>\n",
              "<table border=\"1\" class=\"dataframe\">\n",
              "  <thead>\n",
              "    <tr style=\"text-align: right;\">\n",
              "      <th></th>\n",
              "      <th>count</th>\n",
              "    </tr>\n",
              "    <tr>\n",
              "      <th>ethnicity3</th>\n",
              "      <th></th>\n",
              "    </tr>\n",
              "  </thead>\n",
              "  <tbody>\n",
              "    <tr>\n",
              "      <th>White British</th>\n",
              "      <td>156</td>\n",
              "    </tr>\n",
              "    <tr>\n",
              "      <th>Other</th>\n",
              "      <td>76</td>\n",
              "    </tr>\n",
              "    <tr>\n",
              "      <th>Pakistani</th>\n",
              "      <td>76</td>\n",
              "    </tr>\n",
              "  </tbody>\n",
              "</table>\n",
              "</div><br><label><b>dtype:</b> int64</label>"
            ]
          },
          "metadata": {},
          "execution_count": 9
        }
      ]
    },
    {
      "cell_type": "code",
      "source": [
        "# 检查主要分析变量缺失\n",
        "main_vars = [\n",
        "    \"HFI_binary\", \"weighted_upf_percent\",\n",
        "    \"gender_participant\", \"age_participant\", \"ethnicity3\"\n",
        "]\n",
        "\n",
        "missing_info = {}\n",
        "for col in main_vars:\n",
        "    n_miss = df_model[col].isna().sum()\n",
        "    missing_info[col] = n_miss\n",
        "\n",
        "df_main = df_model[main_vars].dropna().copy()\n",
        "print(\"主分析样本量:\", len(df_main))"
      ],
      "metadata": {
        "colab": {
          "base_uri": "https://localhost:8080/"
        },
        "id": "De2jBZUlUh0-",
        "outputId": "1135abee-1d1e-4a5f-a53f-5992f99992d8"
      },
      "execution_count": 11,
      "outputs": [
        {
          "output_type": "stream",
          "name": "stdout",
          "text": [
            "主分析样本量: 308\n"
          ]
        }
      ]
    },
    {
      "cell_type": "markdown",
      "source": [
        "# 建模"
      ],
      "metadata": {
        "id": "KW9P9x9tc7eY"
      }
    },
    {
      "cell_type": "markdown",
      "source": [
        "# 普通 OLS"
      ],
      "metadata": {
        "id": "74Hd8TjzWXAX"
      }
    },
    {
      "cell_type": "markdown",
      "source": [
        "## 1. 普通 OLS（含人口学混杂）"
      ],
      "metadata": {
        "id": "E1z2PLZHWYMN"
      }
    },
    {
      "cell_type": "code",
      "source": [
        "# OLS 模型：HFI + 年龄 + 性别 + 族群\n",
        "model_ols = smf.ols(\n",
        "    \"weighted_upf_percent ~ HFI_binary + age_participant + C(gender_participant) + C(ethnicity3)\",\n",
        "    data=df_main\n",
        ").fit(cov_type=\"HC3\")\n",
        "\n",
        "delta_ols = model_ols.params[\"HFI_binary\"]\n",
        "ci_ols = model_ols.conf_int().loc[\"HFI_binary\"]\n",
        "\n",
        "print(f\"[OLS] Δ = {delta_ols:.2f} pp (95% CI {ci_ols[0]:.2f}, {ci_ols[1]:.2f})\")\n"
      ],
      "metadata": {
        "colab": {
          "base_uri": "https://localhost:8080/"
        },
        "id": "plHlnRQrWahp",
        "outputId": "90c58453-8e44-4b62-e6be-2bea6eb28fb9"
      },
      "execution_count": 15,
      "outputs": [
        {
          "output_type": "stream",
          "name": "stdout",
          "text": [
            "[OLS] Δ = 2.30 pp (95% CI -0.62, 5.22)\n"
          ]
        }
      ]
    },
    {
      "cell_type": "markdown",
      "source": [
        "# PSW 倾向评分加权 + Core-A 主模型"
      ],
      "metadata": {
        "id": "oxVV_BgwVrjC"
      }
    },
    {
      "cell_type": "markdown",
      "source": [
        "## 1. 倾向评分计算（人口学三类）"
      ],
      "metadata": {
        "id": "-RQxn8HiVxZx"
      }
    },
    {
      "cell_type": "code",
      "source": [
        "from sklearn.linear_model import LogisticRegression\n",
        "\n",
        "# 哑变量编码\n",
        "X = pd.get_dummies(df_main[[\"age_participant\", \"gender_participant\", \"ethnicity3\"]], drop_first=True)\n",
        "y = df_main[\"HFI_binary\"]\n",
        "\n",
        "# 拟合PS模型\n",
        "ps_model = LogisticRegression(max_iter=1000)\n",
        "ps_model.fit(X, y)\n",
        "ps = ps_model.predict_proba(X)[:, 1]\n",
        "\n",
        "# 稳定化权重\n",
        "p_treat = y.mean()\n",
        "df_main[\"sw_demo\"] = np.where(y == 1, p_treat / ps, (1 - p_treat) / (1 - ps))\n"
      ],
      "metadata": {
        "id": "S43XcifvVsl0"
      },
      "execution_count": 12,
      "outputs": []
    },
    {
      "cell_type": "markdown",
      "source": [
        "# 2. PSW + WLS（Core-A）"
      ],
      "metadata": {
        "id": "b-xK5izWWf1T"
      }
    },
    {
      "cell_type": "code",
      "source": [
        "# 倾向评分\n",
        "X = pd.get_dummies(df_main[[\"age_participant\", \"gender_participant\", \"ethnicity3\"]], drop_first=True)\n",
        "y = df_main[\"HFI_binary\"]\n",
        "\n",
        "ps_model = LogisticRegression(max_iter=1000)\n",
        "ps_model.fit(X, y)\n",
        "ps = ps_model.predict_proba(X)[:, 1]\n",
        "\n",
        "# 稳定化权重\n",
        "p_treat = y.mean()\n",
        "df_main[\"sw_demo\"] = np.where(y == 1, p_treat / ps, (1 - p_treat) / (1 - ps))\n",
        "\n",
        "# 加权模型\n",
        "model_psw = smf.wls(\n",
        "    \"weighted_upf_percent ~ HFI_binary\",\n",
        "    data=df_main,\n",
        "    weights=df_main[\"sw_demo\"]\n",
        ").fit(cov_type=\"HC3\")\n",
        "\n",
        "delta_psw = model_psw.params[\"HFI_binary\"]\n",
        "ci_psw = model_psw.conf_int().loc[\"HFI_binary\"]\n",
        "\n",
        "print(f\"[PSW] Δ = {delta_psw:.2f} pp (95% CI {ci_psw[0]:.2f}, {ci_psw[1]:.2f})\")\n"
      ],
      "metadata": {
        "colab": {
          "base_uri": "https://localhost:8080/"
        },
        "id": "IxjiYWgPWisX",
        "outputId": "3a2dcdd0-1d72-4836-e7d6-b50ccc72c1db"
      },
      "execution_count": 16,
      "outputs": [
        {
          "output_type": "stream",
          "name": "stdout",
          "text": [
            "[PSW] Δ = 2.30 pp (95% CI -0.66, 5.25)\n"
          ]
        }
      ]
    },
    {
      "cell_type": "markdown",
      "source": [
        "## 3. 并排输出对比"
      ],
      "metadata": {
        "id": "d9oYYtq7WoXV"
      }
    },
    {
      "cell_type": "code",
      "source": [
        "import pandas as pd\n",
        "\n",
        "results_df = pd.DataFrame({\n",
        "    \"Model\": [\"OLS (adj. demographics)\", \"PSW (adj. demographics)\"],\n",
        "    \"Δ (pp)\": [delta_ols, delta_psw],\n",
        "    \"95% CI lower\": [ci_ols[0], ci_psw[0]],\n",
        "    \"95% CI upper\": [ci_ols[1], ci_psw[1]]\n",
        "})\n",
        "\n",
        "print(results_df)\n"
      ],
      "metadata": {
        "colab": {
          "base_uri": "https://localhost:8080/"
        },
        "id": "J3EZN-AdWmlC",
        "outputId": "c97b23e6-e1a0-45d4-d21f-d75de2b36384"
      },
      "execution_count": 17,
      "outputs": [
        {
          "output_type": "stream",
          "name": "stdout",
          "text": [
            "                     Model    Δ (pp)  95% CI lower  95% CI upper\n",
            "0  OLS (adj. demographics)  2.301790     -0.616808      5.220389\n",
            "1  PSW (adj. demographics)  2.296099     -0.658365      5.250563\n"
          ]
        }
      ]
    },
    {
      "cell_type": "markdown",
      "source": [
        "## 2. Core-A 主模型（HC3 稳健 SE）"
      ],
      "metadata": {
        "id": "D3ycst9AVy83"
      }
    },
    {
      "cell_type": "code",
      "source": [
        "import statsmodels.formula.api as smf\n",
        "\n",
        "model_coreA = smf.wls(\n",
        "    \"weighted_upf_percent ~ HFI_binary\",\n",
        "    data=df_main,\n",
        "    weights=df_main[\"sw_demo\"]\n",
        ").fit(cov_type=\"HC3\")\n",
        "\n",
        "delta = model_coreA.params[\"HFI_binary\"]\n",
        "ci = model_coreA.conf_int().loc[\"HFI_binary\"]\n",
        "\n",
        "print(f\"Δ = {delta:.2f} pp (95% CI {ci[0]:.2f}, {ci[1]:.2f})\")\n"
      ],
      "metadata": {
        "colab": {
          "base_uri": "https://localhost:8080/"
        },
        "id": "N8QzoE7_V1Xw",
        "outputId": "3a0a8f6a-8389-4c26-8147-062bbf530411"
      },
      "execution_count": 13,
      "outputs": [
        {
          "output_type": "stream",
          "name": "stdout",
          "text": [
            "Δ = 2.30 pp (95% CI -0.66, 5.25)\n"
          ]
        }
      ]
    },
    {
      "cell_type": "markdown",
      "source": [
        "## 3. 主效应图"
      ],
      "metadata": {
        "id": "wVXULRj8V4Qc"
      }
    },
    {
      "cell_type": "code",
      "source": [
        "means = df_main.groupby(\"HFI_binary\").apply(\n",
        "    lambda g: np.average(g[\"weighted_upf_percent\"], weights=g[\"sw_demo\"])\n",
        ")\n",
        "plt.bar([\"HFI=0\", \"HFI=1\"], means)\n",
        "plt.ylabel(\"Adjusted UPF%\")\n",
        "plt.title(f\"Δ = {delta:.2f} pp (95% CI {ci[0]:.2f}, {ci[1]:.2f})\")\n",
        "plt.show()\n"
      ],
      "metadata": {
        "colab": {
          "base_uri": "https://localhost:8080/",
          "height": 508
        },
        "id": "JgYU0dt8V5Hv",
        "outputId": "aeaba135-34a2-4f2c-c216-4b4e158d07e6"
      },
      "execution_count": 14,
      "outputs": [
        {
          "output_type": "stream",
          "name": "stderr",
          "text": [
            "/tmp/ipython-input-674676650.py:1: DeprecationWarning: DataFrameGroupBy.apply operated on the grouping columns. This behavior is deprecated, and in a future version of pandas the grouping columns will be excluded from the operation. Either pass `include_groups=False` to exclude the groupings or explicitly select the grouping columns after groupby to silence this warning.\n",
            "  means = df_main.groupby(\"HFI_binary\").apply(\n"
          ]
        },
        {
          "output_type": "display_data",
          "data": {
            "text/plain": [
              "<Figure size 640x480 with 1 Axes>"
            ],
            "image/png": "[encoded data removed]"
          },
          "metadata": {}
        }
      ]
    },
    {
      "cell_type": "markdown",
      "source": [
        "# Core-B（HFI × Ethnicity3 交互）"
      ],
      "metadata": {
        "id": "vTKVRgikXZtL"
      }
    },
    {
      "cell_type": "code",
      "source": [
        "# 0) 统一把 ethn_participant==7 映射成 Mixed，再生成 3 组 ethnicity3\n",
        "df3 = df_model.copy()\n",
        "df3[\"ethnicity3\"] = df3[\"ethn_participant\"].map({\n",
        "    1: \"White British\",\n",
        "    3: \"Pakistani\",\n",
        "    7: \"Mixed\"\n",
        "}).fillna(\"Other\")\n",
        "\n",
        "# 1) 只保留三组；此处不要用你之前的 df_wbpk（那是 WB/PK-only）\n",
        "keep = [\"White British\", \"Pakistani\", \"Mixed\"]\n",
        "core_vars = [\"HFI_binary\",\"weighted_upf_percent\",\"age_participant\",\"gender_participant\",\"ethnicity3\"]\n",
        "df3_core = df3.loc[df3[\"ethnicity3\"].isin(keep), core_vars].dropna().copy()\n",
        "\n",
        "print(\"分组计数：\\n\", df3_core[\"ethnicity3\"].value_counts())\n",
        "assert set(df3_core[\"ethnicity3\"].unique()) == set(keep), \"三组没有齐，检查映射或过滤！\"\n",
        "\n",
        "# 2) 在三组数据上估 PS（人口学）并计算稳定化权重\n",
        "import pandas as pd, numpy as np\n",
        "from sklearn.linear_model import LogisticRegression\n",
        "import statsmodels.formula.api as smf\n",
        "\n",
        "X = pd.get_dummies(df3_core[[\"age_participant\",\"gender_participant\",\"ethnicity3\"]], drop_first=True)\n",
        "y = df3_core[\"HFI_binary\"].astype(int)\n",
        "\n",
        "ps = LogisticRegression(max_iter=1000).fit(X, y).predict_proba(X)[:,1]\n",
        "p1 = y.mean()\n",
        "df3_core[\"sw_demo\"] = np.where(y==1, p1/ps, (1-p1)/(1-ps))\n",
        "\n",
        "# 3) Core-B：交互模型（三组）\n",
        "m_coreB3 = smf.wls(\"weighted_upf_percent ~ HFI_binary * C(ethnicity3)\",\n",
        "                   data=df3_core, weights=df3_core[\"sw_demo\"]).fit(cov_type=\"HC3\")\n",
        "print(m_coreB3.summary().tables[1])\n",
        "\n",
        "# 4) 提取每组 Δ（pp）+ 95%CI\n",
        "rows = []\n",
        "for g in keep:\n",
        "    sub = df3_core[df3_core[\"ethnicity3\"]==g]\n",
        "    mm = smf.wls(\"weighted_upf_percent ~ HFI_binary\", data=sub, weights=sub[\"sw_demo\"]).fit(cov_type=\"HC3\")\n",
        "    ci = mm.conf_int().loc[\"HFI_binary\"].tolist()\n",
        "    rows.append([g, mm.params[\"HFI_binary\"], ci[0], ci[1]])\n",
        "\n",
        "out3 = pd.DataFrame(rows, columns=[\"Ethnicity\",\"Δ (pp)\",\"95% CI lower\",\"95% CI upper\"]).round(2)\n",
        "print(out3)\n",
        "\n",
        "# 5) 画三组分层点图\n",
        "import matplotlib.pyplot as plt\n",
        "fig, ax = plt.subplots(figsize=(5,4))\n",
        "ax.errorbar(out3[\"Δ (pp)\"], out3[\"Ethnicity\"],\n",
        "            xerr=[out3[\"Δ (pp)\"]-out3[\"95% CI lower\"], out3[\"95% CI upper\"]-out3[\"Δ (pp)\"]],\n",
        "            fmt='o', capsize=4)\n",
        "ax.axvline(0, linestyle='--', lw=0.8)\n",
        "ax.set_xlabel(\"HFI effect on UPF% (pp)\")\n",
        "ax.set_title(\"Core-B: HFI × Ethnicity (WB/PK/Mixed, PSW-adjusted)\")\n",
        "plt.tight_layout(); plt.show()\n"
      ],
      "metadata": {
        "colab": {
          "base_uri": "https://localhost:8080/",
          "height": 764
        },
        "id": "HuLx1G8gePGv",
        "outputId": "76df95f8-1501-4ea7-bbd9-9ace334eff66"
      },
      "execution_count": 38,
      "outputs": [
        {
          "output_type": "stream",
          "name": "stdout",
          "text": [
            "分组计数：\n",
            " ethnicity3\n",
            "White British    156\n",
            "Pakistani         76\n",
            "Mixed             33\n",
            "Name: count, dtype: int64\n",
            "=============================================================================================================\n",
            "                                                coef    std err          z      P>|z|      [0.025      0.975]\n",
            "-------------------------------------------------------------------------------------------------------------\n",
            "Intercept                                    66.1332      2.944     22.466      0.000      60.364      71.903\n",
            "C(ethnicity3)[T.Pakistani]                   -1.3195      3.502     -0.377      0.706      -8.184       5.545\n",
            "C(ethnicity3)[T.White British]                5.7143      3.138      1.821      0.069      -0.436      11.864\n",
            "HFI_binary                                    8.2725      4.933      1.677      0.094      -1.396      17.941\n",
            "HFI_binary:C(ethnicity3)[T.Pakistani]        -6.9849      5.687     -1.228      0.219     -18.132       4.162\n",
            "HFI_binary:C(ethnicity3)[T.White British]    -7.5063      5.408     -1.388      0.165     -18.106       3.094\n",
            "=============================================================================================================\n",
            "       Ethnicity  Δ (pp)  95% CI lower  95% CI upper\n",
            "0  White British    0.77         -3.58          5.11\n",
            "1      Pakistani    1.29         -4.26          6.84\n",
            "2          Mixed    8.27         -1.40         17.94\n"
          ]
        },
        {
          "output_type": "display_data",
          "data": {
            "text/plain": [
              "<Figure size 500x400 with 1 Axes>"
            ],
            "image/png": "[encoded data removed]"
          },
          "metadata": {}
        }
      ]
    },
    {
      "cell_type": "markdown",
      "source": [
        "# Sens-SES 代码"
      ],
      "metadata": {
        "id": "6M27XhRmX6pH"
      }
    },
    {
      "cell_type": "code",
      "source": [
        "# ==== Sens-SES：把收入、就业加入PS模型 ====\n",
        "\n",
        "# 确认 income / employ 列名\n",
        "cands_income = [c for c in df_model.columns if \"income\" in c.lower()]\n",
        "cands_employ = [c for c in df_model.columns if \"employ\" in c.lower() or \"employment\" in c.lower()]\n",
        "\n",
        "print(\"候选 income 列：\", cands_income)\n",
        "print(\"候选 employ 列：\", cands_employ)\n",
        "\n",
        "income_col = cands_income[0]\n",
        "employ_col = cands_employ[0]\n",
        "\n",
        "# 构建 Sens-SES 数据集（人口学 + SES）\n",
        "ses_vars_all = [\"age_participant\", \"gender_participant\", \"ethnicity3\", income_col, employ_col,\n",
        "                \"HFI_binary\", \"weighted_upf_percent\"]\n",
        "\n",
        "df_ses = df_model[ses_vars_all].dropna().copy()\n",
        "print(\"Sens-SES 样本量：\", len(df_ses))\n",
        "\n",
        "# 如果收入是连续型，做五分位\n",
        "if np.issubdtype(df_ses[income_col].dtype, np.number):\n",
        "    df_ses[\"income_q\"] = pd.qcut(df_ses[income_col], q=5, duplicates=\"drop\")\n",
        "    income_use = \"income_q\"\n",
        "else:\n",
        "    income_use = income_col\n",
        "\n",
        "# 倾向评分模型（人口学+SES）\n",
        "X_ses = pd.get_dummies(\n",
        "    df_ses[[\"age_participant\", \"gender_participant\", \"ethnicity3\", income_use, employ_col]],\n",
        "    drop_first=True\n",
        ")\n",
        "y_ses = df_ses[\"HFI_binary\"]\n",
        "\n",
        "ps_model_ses = LogisticRegression(max_iter=1000)\n",
        "ps_model_ses.fit(X_ses, y_ses)\n",
        "ps_ses = ps_model_ses.predict_proba(X_ses)[:, 1]\n",
        "\n",
        "# 稳定化权重\n",
        "p_treat_ses = y_ses.mean()\n",
        "df_ses[\"sw_ses\"] = np.where(y_ses == 1, p_treat_ses / ps_ses, (1 - p_treat_ses) / (1 - ps_ses))\n",
        "\n",
        "# 加权模型\n",
        "model_ses = smf.wls(\n",
        "    \"weighted_upf_percent ~ HFI_binary\",\n",
        "    data=df_ses,\n",
        "    weights=df_ses[\"sw_ses\"]\n",
        ").fit(cov_type=\"HC3\")\n",
        "\n",
        "delta_ses = model_ses.params[\"HFI_binary\"]\n",
        "ci_ses = model_ses.conf_int().loc[\"HFI_binary\"]\n",
        "\n",
        "# 计算衰减\n",
        "delta_coreA = model_psw.params[\"HFI_binary\"]\n",
        "attenuation = (delta_coreA - delta_ses) / delta_coreA * 100\n",
        "\n",
        "print(f\"[SES-adjusted PSW] Δ = {delta_ses:.2f} pp (95% CI {ci_ses[0]:.2f}, {ci_ses[1]:.2f})\")\n",
        "print(f\"衰减幅度: {attenuation:.1f}%  (Core-A: {delta_coreA:.2f} pp → SES: {delta_ses:.2f} pp)\")\n"
      ],
      "metadata": {
        "colab": {
          "base_uri": "https://localhost:8080/"
        },
        "id": "pRTtah4uX8BM",
        "outputId": "746c2a0a-2572-4740-930a-0688149888df"
      },
      "execution_count": 21,
      "outputs": [
        {
          "output_type": "stream",
          "name": "stdout",
          "text": [
            "候选 income 列： ['income']\n",
            "候选 employ 列： ['employ']\n",
            "Sens-SES 样本量： 303\n",
            "[SES-adjusted PSW] Δ = 2.52 pp (95% CI -0.86, 5.89)\n",
            "衰减幅度: -9.6%  (Core-A: 2.30 pp → SES: 2.52 pp)\n"
          ]
        }
      ]
    },
    {
      "cell_type": "markdown",
      "source": [
        "# 把 Core-A / Core-B / Sens-SES 汇总成一个干净的 Table 2"
      ],
      "metadata": {
        "id": "wbluPJurYiNU"
      }
    },
    {
      "cell_type": "code",
      "source": [
        "# Core-A 主效应\n",
        "delta_coreA = model_psw.params[\"HFI_binary\"]\n",
        "ci_coreA = model_psw.conf_int().loc[\"HFI_binary\"]\n",
        "\n",
        "# Core-B 族群分层（直接用之前 df_group）\n",
        "# 为了保持顺序：WB → Pakistani → Other\n",
        "eth_order = [\"White British\", \"Pakistani\", \"Other\"]\n",
        "df_group_sorted = df_group.set_index(\"Ethnicity\").loc[eth_order].reset_index()\n",
        "\n",
        "# Sens-SES\n",
        "delta_ses = model_ses.params[\"HFI_binary\"]\n",
        "ci_ses = model_ses.conf_int().loc[\"HFI_binary\"]\n",
        "\n",
        "# 拼接总表\n",
        "table2 = pd.DataFrame([\n",
        "    [\"Core-A: Main effect (PSW, adj. demographics)\", delta_coreA, ci_coreA[0], ci_coreA[1]],\n",
        "    [\"Core-B: White British\", df_group_sorted.loc[df_group_sorted[\"Ethnicity\"]==\"White British\", \"Δ (pp)\"].values[0],\n",
        "     df_group_sorted.loc[df_group_sorted[\"Ethnicity\"]==\"White British\", \"95% CI lower\"].values[0],\n",
        "     df_group_sorted.loc[df_group_sorted[\"Ethnicity\"]==\"White British\", \"95% CI upper\"].values[0]],\n",
        "    [\"Core-B: Pakistani\", df_group_sorted.loc[df_group_sorted[\"Ethnicity\"]==\"Pakistani\", \"Δ (pp)\"].values[0],\n",
        "     df_group_sorted.loc[df_group_sorted[\"Ethnicity\"]==\"Pakistani\", \"95% CI lower\"].values[0],\n",
        "     df_group_sorted.loc[df_group_sorted[\"Ethnicity\"]==\"Pakistani\", \"95% CI upper\"].values[0]],\n",
        "    [\"Core-B: Other\", df_group_sorted.loc[df_group_sorted[\"Ethnicity\"]==\"Other\", \"Δ (pp)\"].values[0],\n",
        "     df_group_sorted.loc[df_group_sorted[\"Ethnicity\"]==\"Other\", \"95% CI lower\"].values[0],\n",
        "     df_group_sorted.loc[df_group_sorted[\"Ethnicity\"]==\"Other\", \"95% CI upper\"].values[0]],\n",
        "    [\"Sens-SES: PSW + SES (income, employment)\", delta_ses, ci_ses[0], ci_ses[1]]\n",
        "], columns=[\"Model\", \"Δ (pp)\", \"95% CI lower\", \"95% CI upper\"])\n",
        "\n",
        "# 美化小数位\n",
        "table2[[\"Δ (pp)\", \"95% CI lower\", \"95% CI upper\"]] = table2[[\"Δ (pp)\", \"95% CI lower\", \"95% CI upper\"]].round(2)\n",
        "\n",
        "# 创建一个 Δ (pp) [95% CI] 列\n",
        "table2_pretty = table2.copy()\n",
        "table2_pretty[\"Δ (pp) [95% CI]\"] = table2_pretty.apply(\n",
        "    lambda row: f\"{row['Δ (pp)']:.2f} ({row['95% CI lower']:.2f}, {row['95% CI upper']:.2f})\",\n",
        "    axis=1\n",
        ")\n",
        "\n",
        "# 只保留 Model 和合并列\n",
        "table2_pretty = table2_pretty[[\"Model\", \"Δ (pp) [95% CI]\"]]\n",
        "\n",
        "# 重命名列头\n",
        "table2_pretty.columns = [\"Model\", \"Effect size (pp) [95% CI]\"]\n",
        "\n",
        "# 打印\n",
        "print(table2_pretty.to_string(index=False))\n"
      ],
      "metadata": {
        "colab": {
          "base_uri": "https://localhost:8080/"
        },
        "id": "vR0u_oytYfS9",
        "outputId": "eca1e9f9-83ee-434a-ea30-09c802c6de32"
      },
      "execution_count": 23,
      "outputs": [
        {
          "output_type": "stream",
          "name": "stdout",
          "text": [
            "                                       Model Effect size (pp) [95% CI]\n",
            "Core-A: Main effect (PSW, adj. demographics)        2.30 (-0.66, 5.25)\n",
            "                       Core-B: White British        0.76 (-3.60, 5.12)\n",
            "                           Core-B: Pakistani        1.27 (-4.27, 6.81)\n",
            "                               Core-B: Other        6.54 (1.09, 11.98)\n",
            "    Sens-SES: PSW + SES (income, employment)        2.52 (-0.86, 5.89)\n"
          ]
        }
      ]
    },
    {
      "cell_type": "markdown",
      "source": [
        "# 可视化配图"
      ],
      "metadata": {
        "id": "Na02GU6GZZT5"
      }
    },
    {
      "cell_type": "code",
      "source": [
        "import matplotlib.pyplot as plt\n",
        "from matplotlib.patches import FancyBboxPatch, FancyArrowPatch\n",
        "\n",
        "def box(ax, xy, text, fc='#FFFFFF', ec='#333333'):\n",
        "    x, y = xy\n",
        "    w, h = 3.0, 1.0\n",
        "    rect = FancyBboxPatch((x, y), w, h, boxstyle=\"round,pad=0.02,rounding_size=0.05\",\n",
        "                          ec=ec, fc=fc, lw=1)\n",
        "    ax.add_patch(rect)\n",
        "    ax.text(x + w/2, y + h/2, text, ha='center', va='center', fontsize=9)\n",
        "\n",
        "def arrow(ax, p, q):\n",
        "    ax.add_patch(FancyArrowPatch(p, q, arrowstyle='->', lw=1))\n",
        "\n",
        "fig, ax = plt.subplots(figsize=(12, 6))\n",
        "ax.axis('off')\n",
        "ax.set_xlim(0, 14)\n",
        "ax.set_ylim(0, 8)\n",
        "\n",
        "# y positions\n",
        "y3, y2, y1 = 6.8, 4.2, 1.6\n",
        "\n",
        "# Data preparation\n",
        "box(ax, (0.5, y3), 'Merge data\\n+ Ethnicity mapping\\n(WB/PK/Mixed)')\n",
        "box(ax, (4.0, y3), 'df_core (demographics)\\n→ Core-A/B')\n",
        "box(ax, (4.0, y2), 'df_ses (+ income/employ)\\n→ Sens-SES')\n",
        "arrow(ax, (3.3, y3 + 0.45), (4.0, y3 + 0.45))\n",
        "arrow(ax, (3.3, y3 + 0.10), (4.0, y2 + 0.45))\n",
        "\n",
        "# PSW (demographics)\n",
        "box(ax, (7.0, y3), 'PS: HFI ~ Age + Gender + Ethnicity\\nStabilized weight SW')\n",
        "arrow(ax, (6.8, y3 + 0.45), (7.0, y3 + 0.45))\n",
        "\n",
        "# Models\n",
        "box(ax, (10.2, y3), 'Core-A: WLS(+HC3)\\nUPF% ~ HFI (weight=SW)')\n",
        "box(ax, (10.2, y2), 'Core-B: HFI × Ethnicity\\n(weight=SW)')\n",
        "box(ax, (10.2, y1), 'Sens-SES: WLS(+HC3)\\n(weight=SW[SES])')\n",
        "arrow(ax, (9.8, y3 + 0.45), (10.2, y3 + 0.45))\n",
        "arrow(ax, (9.8, y3 + 0.10), (10.2, y2 + 0.45))\n",
        "arrow(ax, (6.8, y2 + 0.45), (10.2, y1 + 0.45))\n",
        "\n",
        "# Outputs\n",
        "box(ax, (12.8, y3), 'Fig1: Core-A\\nBar plot + Δpp(95%CI)')\n",
        "box(ax, (12.8, y2), 'Fig2: Core-B\\nWB/PK/Mixed point plot')\n",
        "box(ax, (12.8, y1), 'Table2: Main results\\nCore-A/B + SES')\n",
        "arrow(ax, (12.0, y3 + 0.45), (12.8, y3 + 0.45))\n",
        "arrow(ax, (12.0, y2 + 0.45), (12.8, y2 + 0.45))\n",
        "arrow(ax, (12.0, y1 + 0.45), (12.8, y1 + 0.45))\n",
        "\n",
        "plt.tight_layout()\n",
        "plt.show()\n"
      ],
      "metadata": {
        "colab": {
          "base_uri": "https://localhost:8080/",
          "height": 607
        },
        "id": "mHJ0iw-KfU-z",
        "outputId": "d8ea47c5-9df3-4318-d506-1c8595e3b1f6"
      },
      "execution_count": 40,
      "outputs": [
        {
          "output_type": "display_data",
          "data": {
            "text/plain": [
              "<Figure size 1200x600 with 1 Axes>"
            ],
            "image/png": "[encoded data removed]"
          },
          "metadata": {}
        }
      ]
    }
  ]
}