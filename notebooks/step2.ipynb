{
  "nbformat": 4,
  "nbformat_minor": 0,
  "metadata": {
    "colab": {
      "provenance": [],
      "authorship_tag": "ABX9TyPZMGlFvdQIcj/uBV6BsFA8",
      "include_colab_link": true
    },
    "kernelspec": {
      "name": "python3",
      "display_name": "Python 3"
    },
    "language_info": {
      "name": "python"
    }
  },
  "cells": [
    {
      "cell_type": "markdown",
      "metadata": {
        "id": "view-in-github",
        "colab_type": "text"
      },
      "source": [
        "<a href=\"https://colab.research.google.com/github/NINGTANG1124/UPF-HFI/blob/main/step2.ipynb\" target=\"_parent\"><img src=\"https://colab.research.google.com/assets/colab-badge.svg\" alt=\"Open In Colab\"/></a>"
      ]
    },
    {
      "cell_type": "markdown",
      "source": [
        "🔹 Step 2: TF-IDF 高阈值匹配（>0.99）【数据源：VKesaite】\n",
        "Intake 描述 vs FoodName 字段\n",
        "特点：英国 NDNS 数据，语义贴合度高\n",
        "匹配后字段：\n",
        "Matched_NOVA\n",
        "Source = 'tfidf_vk_099'\n",
        "Similarity_score"
      ],
      "metadata": {
        "id": "4uOOmeJhM1sy"
      }
    },
    {
      "cell_type": "code",
      "source": [],
      "metadata": {
        "id": "0kJrohWVNHy1"
      },
      "execution_count": null,
      "outputs": []
    },
    {
      "cell_type": "markdown",
      "source": [
        "🔹 Step 3: TF-IDF 中阈值匹配（>0.85）【数据源：Giulia FNDDS】\n",
        "Intake 描述 vs FoodName/Description 字段（视结构而定）\n",
        "特点：匹配面广但风格偏美式\n",
        "可作为第二权重匹配源补充空值\n",
        "匹配后：\n",
        "Source = 'tfidf_giulia_085'"
      ],
      "metadata": {
        "id": "Ye_qRpvBM8Hc"
      }
    },
    {
      "cell_type": "markdown",
      "source": [
        "🔹 Step 4: TF-IDF 或 SBERT 语义匹配（>0.85）【数据源：OFF】\n",
        "两种方式都可用：\n",
        "TF-IDF 匹配 product_name 字段\n",
        "SBERT 匹配描述（推荐 MiniLM ）\n",
        "用于最后补充空值，提高 recall（召回率）\n",
        "匹配后：\n",
        "Source = 'tfidf_off' 或 'sbert_off'"
      ],
      "metadata": {
        "id": "hFAdBXJBM-Wa"
      }
    },
    {
      "cell_type": "markdown",
      "source": [
        "🔹 Step 5: 整合 + 人工补全 + Final 输出"
      ],
      "metadata": {
        "id": "VIeZFoDUNBxZ"
      }
    },
    {
      "cell_type": "code",
      "execution_count": null,
      "metadata": {
        "id": "vGXdnNBAMxHW"
      },
      "outputs": [],
      "source": []
    }
  ]
}