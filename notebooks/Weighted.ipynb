{
  "nbformat": 4,
  "nbformat_minor": 0,
  "metadata": {
    "colab": {
      "provenance": [],
      "authorship_tag": "ABX9TyMDqczrq/T6YS0UGmPMBfsz",
      "include_colab_link": true
    },
    "kernelspec": {
      "name": "python3",
      "display_name": "Python 3"
    },
    "language_info": {
      "name": "python"
    }
  },
  "cells": [
    {
      "cell_type": "markdown",
      "metadata": {
        "id": "view-in-github",
        "colab_type": "text"
      },
      "source": [
        "<a href=\"https://colab.research.google.com/github/NINGTANG1124/UPF-HFI/blob/main/notebooks/Weighted.ipynb\" target=\"_parent\"><img src=\"https://colab.research.google.com/assets/colab-badge.svg\" alt=\"Open In Colab\"/></a>"
      ]
    },
    {
      "cell_type": "code",
      "execution_count": 2,
      "metadata": {
        "id": "ZZbxpHsG6yDv",
        "colab": {
          "base_uri": "https://localhost:8080/"
        },
        "outputId": "ba37715c-fcbd-4ef4-9982-cfdea39bf67a"
      },
      "outputs": [
        {
          "output_type": "stream",
          "name": "stdout",
          "text": [
            "Mounted at /content/drive\n"
          ]
        }
      ],
      "source": [
        "# connect googledrive\n",
        "from google.colab import drive\n",
        "drive.mount('/content/drive')"
      ]
    },
    {
      "cell_type": "code",
      "source": [
        "import pandas as pd\n",
        "import numpy as np\n",
        "import re\n",
        "\n",
        "# intake24\n",
        "file_path = '/content/drive/MyDrive/UPF-HFI/NOVA classification/outcome/intake24_with_nova.xlsx'\n",
        "df = pd.read_excel(file_path)\n",
        "\n",
        "# Create a helper function: return the day of the week based on the content of DAYCHANGE\n",
        "def extract_weekday(value):\n",
        "    if pd.isna(value):\n",
        "        return np.nan\n",
        "    # Numbers (Excel dates)\n",
        "    if isinstance(value, (int, float)):\n",
        "        try:\n",
        "            date = pd.to_datetime('1899-12-30') + pd.to_timedelta(value, unit='D')\n",
        "            return date.day_name()# Return Monday to Sunday\n",
        "        except:\n",
        "            return np.nan\n",
        "    # string (try to extract the day of the week)\n",
        "    elif isinstance(value, str):\n",
        "        match = re.search(r'(Monday|Tuesday|Wednesday|Thursday|Friday|Saturday|Sunday)', value)\n",
        "        if match:\n",
        "            return match.group(1)\n",
        "    return np.nan\n",
        "\n",
        "df['Actual_Weekday'] = df['DAYCHANGE'].apply(extract_weekday)\n",
        "\n",
        "# If Actual_Weekday is empty (indicating no DAYCHANGE information), use DAY to complete it.\n",
        "df['DAY_clean'] = df['DAY'].astype(str).str.extract(r'(Monday|Tuesday|Wednesday|Thursday|Friday|Saturday|Sunday)', expand=False)\n",
        "df['Actual_Weekday'] = df['Actual_Weekday'].fillna(df['DAY_clean'])\n",
        "\n",
        "# Revised_WeekdayType\n",
        "df['Revised_WeekdayType'] = df['Actual_Weekday'].apply(\n",
        "    lambda x: 'Weekend' if x in ['Saturday', 'Sunday'] else ('Weekday' if pd.notna(x) else np.nan)\n",
        ")\n"
      ],
      "metadata": {
        "id": "fNqoEs0yDTsy"
      },
      "execution_count": 3,
      "outputs": []
    },
    {
      "cell_type": "code",
      "source": [
        "# Filter out key columns for manual inspection\n",
        "cols_to_check = [\n",
        "    'UserID_clean',\n",
        "    'DAYCHANGE',\n",
        "    'DAY',\n",
        "    'Actual_Weekday',\n",
        "    'Revised_WeekdayType'\n",
        "]\n",
        "\n",
        "check_df = df[cols_to_check].copy()\n",
        "\n",
        "# save\n",
        "check_df.to_excel(\n",
        "    '/content/drive/MyDrive/UPF-HFI/Model/outcome/check/check_weekdaytype.xlsx',\n",
        "    index=False\n",
        ")\n",
        "\n",
        "print(\"Exported to intake24_check_weekdaytype.xlsx\")\n"
      ],
      "metadata": {
        "id": "fSCPHeKYOTm3",
        "outputId": "b02ad84d-47b1-48db-de58-4fd5c472ab9f",
        "colab": {
          "base_uri": "https://localhost:8080/"
        }
      },
      "execution_count": 4,
      "outputs": [
        {
          "output_type": "stream",
          "name": "stdout",
          "text": [
            "Exported to intake24_check_weekdaytype.xlsx\n"
          ]
        }
      ]
    },
    {
      "cell_type": "code",
      "source": [
        "# Export the complete intake24 table\n",
        "df.to_excel(\n",
        "    '/content/drive/MyDrive/UPF-HFI/Model/outcome/intake24_cleaned_with_weekdaytype.xlsx',\n",
        "    index=False\n",
        ")\n",
        "\n",
        "print(\"The entire table intake24_cleaned_with_weekdaytype.xlsx has been exported successfully\")\n"
      ],
      "metadata": {
        "id": "zp4sKewfKlRJ",
        "outputId": "d628dd6b-73eb-42b7-8b2c-3e23792a8606",
        "colab": {
          "base_uri": "https://localhost:8080/"
        }
      },
      "execution_count": 6,
      "outputs": [
        {
          "output_type": "stream",
          "name": "stdout",
          "text": [
            "The entire table intake24_cleaned_with_weekdaytype.xlsx has been exported successfully\n"
          ]
        }
      ]
    },
    {
      "cell_type": "markdown",
      "source": [
        "# Weighted_upf_percent"
      ],
      "metadata": {
        "id": "tXe-J2mZN32F"
      }
    },
    {
      "cell_type": "code",
      "source": [
        "import pandas as pd\n",
        "\n",
        "# read\n",
        "file_path = \"/content/drive/MyDrive/UPF-HFI/Model/outcome/intake24_cleaned_with_weekdaytype.xlsx\"\n",
        "df = pd.read_excel(file_path)\n",
        "\n",
        "# === Step 1: Type Conversion ===\n",
        "df['Revised_WeekdayType'] = df['Revised_WeekdayType'].astype(str)\n",
        "df['Energykcal'] = pd.to_numeric(df['Energykcal'], errors='coerce')\n",
        "df['NOVA'] = pd.to_numeric(df['NOVA'], errors='coerce')\n",
        "\n",
        "# === Step 2: Calculate the total energy of weekday/weekend ===\n",
        "total_kcal = df.groupby(['UserID_clean', 'Revised_WeekdayType'])['Energykcal'].sum().unstack(fill_value=0).reset_index()\n",
        "total_kcal.rename(columns={'Weekday': 'weekday_kcal', 'Weekend': 'weekend_kcal'}, inplace=True)\n",
        "\n",
        "# === Step 3: Calculate the total UPF energy of weekday/weekend (NOVA=4) ===\n",
        "upf_df = df[df['NOVA'] == 4]\n",
        "upf_kcal = upf_df.groupby(['UserID_clean', 'Revised_WeekdayType'])['Energykcal'].sum().unstack(fill_value=0).reset_index()\n",
        "upf_kcal.rename(columns={'Weekday': 'weekday_upf_kcal', 'Weekend': 'weekend_upf_kcal'}, inplace=True)\n",
        "\n",
        "# === Step 4: Merge Data ===\n",
        "merged = pd.merge(total_kcal, upf_kcal, on='UserID_clean', how='outer').fillna(0)\n",
        "\n",
        "# === Step 5: Calculate weighted total energy and weighted UPF ===\n",
        "merged['weighted_kcal'] = 5/7 * merged['weekday_kcal'] + 2/7 * merged['weekend_kcal']\n",
        "merged['weighted_upf_kcal'] = 5/7 * merged['weekday_upf_kcal'] + 2/7 * merged['weekend_upf_kcal']\n",
        "\n",
        "# === Step 6: Calculate UPF percentage ===\n",
        "merged['weighted_upf_percent'] = (merged['weighted_upf_kcal'] / merged['weighted_kcal']) * 100\n",
        "\n",
        "# === Step 7: Export ===\n",
        "merged.to_excel(\"/content/drive/MyDrive/UPF-HFI/Model/outcome/weighted_upf_percent.xlsx\", index=False)\n",
        "print(\"weighted_upf_percent exported successfully!\")\n"
      ],
      "metadata": {
        "colab": {
          "base_uri": "https://localhost:8080/"
        },
        "id": "Y1fB7MT6LVnE",
        "outputId": "419a2759-5f5c-4236-9efa-809063a40149"
      },
      "execution_count": 7,
      "outputs": [
        {
          "output_type": "stream",
          "name": "stdout",
          "text": [
            "weighted_upf_percent exported successfully!\n"
          ]
        }
      ]
    },
    {
      "cell_type": "code",
      "source": [
        "# Merge into intake24\n",
        "df = pd.merge(df, merged[['UserID_clean', 'weighted_upf_percent']], on='UserID_clean', how='left')\n",
        "df.to_excel(\"/content/drive/MyDrive/UPF-HFI/Model/outcome/intake24_cleaned_with_weighted_upf_percent.xlsx\", index=False)\n",
        "print(\"intake24_upf_percent exported successfully\")"
      ],
      "metadata": {
        "id": "SsYoN7IHCgq0",
        "outputId": "ea8687f1-2af5-4439-bcd3-6f72e8c9e69e",
        "colab": {
          "base_uri": "https://localhost:8080/"
        }
      },
      "execution_count": 8,
      "outputs": [
        {
          "output_type": "stream",
          "name": "stdout",
          "text": [
            "intake24_upf_percent exported successfully\n"
          ]
        }
      ]
    },
    {
      "cell_type": "markdown",
      "source": [
        "# weighted_score"
      ],
      "metadata": {
        "id": "OLBg3TW0N10G"
      }
    },
    {
      "cell_type": "code",
      "source": [
        "import pandas as pd\n",
        "\n",
        "# === Step 0: Import intake24 data ===\n",
        "file_path = \"/content/drive/MyDrive/UPF-HFI/Model/outcome/intake24_cleaned_with_weekdaytype.xlsx\"\n",
        "intake_df = pd.read_excel(file_path)\n",
        "\n",
        "# Convert related columns to numerical values to prevent non-numerical values from interfering with calculations\n",
        "intake_df[\"Energykcal\"] = pd.to_numeric(intake_df[\"Energykcal\"], errors=\"coerce\")\n",
        "intake_df[\"NOVA\"] = pd.to_numeric(intake_df[\"NOVA\"], errors=\"coerce\")\n",
        "\n",
        "# === Step 1: Mark NOVA weights ===\n",
        "nova_weights = {1: 1, 2: 2, 3: 3, 4: 4}\n",
        "intake_df[\"UPF_weight\"] = intake_df[\"NOVA\"].map(nova_weights)\n",
        "\n",
        "# === Step 2: Calculate the weighted score for each record ===\n",
        "intake_df[\"weighted_score\"] = intake_df[\"Energykcal\"] * intake_df[\"UPF_weight\"]\n",
        "\n",
        "# === Step 3: Group by UserID_clean and Revised_WeekdayType, calculate total energy and score ===\n",
        "agg_df = (\n",
        "    intake_df\n",
        "    .groupby([\"UserID_clean\", \"Revised_WeekdayType\"])\n",
        "    .agg(\n",
        "        total_kcal=(\"Energykcal\", \"sum\"),\n",
        "        weighted_kcal=(\"weighted_score\", \"sum\")\n",
        "    )\n",
        "    .reset_index()\n",
        ")\n",
        "\n",
        "# === Step 4: Calculate the weighted score ratio for each group ===\n",
        "agg_df[\"score_ratio\"] = agg_df[\"weighted_kcal\"] / agg_df[\"total_kcal\"]\n",
        "\n",
        "# === Step 5: Split into weekday and weekend and take weighted average ===\n",
        "weekday = agg_df[agg_df[\"Revised_WeekdayType\"] == \"Weekday\"][[\"UserID_clean\", \"score_ratio\"]].rename(columns={\"score_ratio\": \"weekday_score\"})\n",
        "weekend = agg_df[agg_df[\"Revised_WeekdayType\"] == \"Weekend\"][[\"UserID_clean\", \"score_ratio\"]].rename(columns={\"score_ratio\": \"weekend_score\"})\n",
        "\n",
        "# Merge two subtables and fill missing values with 0\n",
        "merged = pd.merge(weekday, weekend, on=\"UserID_clean\", how=\"outer\").fillna(0)\n",
        "\n",
        "# === Step 6: Weighted average synthesis of the final score (5:2 weighting) ===\n",
        "merged[\"weighted_upf_score\"] = merged[\"weekday_score\"] * 5/7 + merged[\"weekend_score\"] * 2/7\n",
        "\n",
        "# === Step 7: Export results ===\n",
        "output_path = \"/content/drive/MyDrive/UPF-HFI/Model/outcome/weighted_upf_score.xlsx\"\n",
        "merged.to_excel(output_path, index=False)\n",
        "\n",
        "print(\"Successfully exported weighted_upf_score.xlsx\")\n"
      ],
      "metadata": {
        "colab": {
          "base_uri": "https://localhost:8080/"
        },
        "id": "PGBk4RION9Pw",
        "outputId": "8961e652-92e3-4863-c03b-712c09c6c265"
      },
      "execution_count": 9,
      "outputs": [
        {
          "output_type": "stream",
          "name": "stdout",
          "text": [
            "Successfully exported weighted_upf_score.xlsx\n"
          ]
        }
      ]
    },
    {
      "cell_type": "code",
      "source": [
        "# Merge into intake24\n",
        "df = pd.merge(df, merged[['UserID_clean', 'weighted_upf_score']], on='UserID_clean', how='left')\n",
        "df.to_excel(\"/content/drive/MyDrive/UPF-HFI/Model/outcome/intake24_cleaned_with_weighted_upf_score.xlsx\", index=False)\n",
        "print(\"intake24_weighted_score successfully exported\")"
      ],
      "metadata": {
        "id": "IC0VaC5aDE0h",
        "outputId": "c892ef7e-5af7-45a7-e785-95d6d1bbff84",
        "colab": {
          "base_uri": "https://localhost:8080/"
        }
      },
      "execution_count": 11,
      "outputs": [
        {
          "output_type": "stream",
          "name": "stdout",
          "text": [
            "intake24_weighted_score successfully exported\n"
          ]
        }
      ]
    },
    {
      "cell_type": "markdown",
      "source": [
        "# Select a dependent variable that is sensitive to HFI"
      ],
      "metadata": {
        "id": "TE47wN-3QjsV"
      }
    },
    {
      "cell_type": "code",
      "source": [
        "# survey\n",
        "survey_path = \"/content/drive/MyDrive/UPF-HFI/Bradford_original data/4. SurveyMasterfile_clean.xlsx\"\n",
        "survey_df = pd.read_excel(survey_path)\n",
        "\n",
        "hfi_columns = ['insecurity1', 'insecurity2', 'insecurity3', 'insecurity3a', 'insecurity4', 'insecurity5']\n",
        "\n",
        "# Scoring function: 1, 2 => 1 point, the rest (3, 4) are 0 points\n",
        "def score_response(x):\n",
        "    return 1 if x in [1, 2] else 0\n",
        "\n",
        "# Create HFI total score\n",
        "survey_df['HFI_score'] = survey_df[hfi_columns].applymap(score_response).sum(axis=1)\n",
        "\n",
        "# Create a binary variable (score >= 2 for food insecurity)\n",
        "survey_df['HFI_binary'] = survey_df['HFI_score'].apply(lambda x: 1 if x >= 2 else 0)\n",
        "\n",
        "# Keep useful columns\n",
        "hfi_df = survey_df[['UserID_clean', 'HFI_score', 'HFI_binary']]"
      ],
      "metadata": {
        "colab": {
          "base_uri": "https://localhost:8080/"
        },
        "id": "novSCacgTp8X",
        "outputId": "31d42922-ef95-4b40-a774-3e1d4fafe5c1"
      },
      "execution_count": 12,
      "outputs": [
        {
          "output_type": "stream",
          "name": "stderr",
          "text": [
            "/tmp/ipython-input-3057564186.py:12: FutureWarning: DataFrame.applymap has been deprecated. Use DataFrame.map instead.\n",
            "  survey_df['HFI_score'] = survey_df[hfi_columns].applymap(score_response).sum(axis=1)\n"
          ]
        }
      ]
    },
    {
      "cell_type": "code",
      "source": [
        "# UPF\n",
        "upf_percent = pd.read_excel(\"/content/drive/MyDrive/UPF-HFI/Model/outcome/weighted_upf_percent.xlsx\")\n",
        "upf_score = pd.read_excel(\"/content/drive/MyDrive/UPF-HFI/Model/outcome/weighted_upf_score.xlsx\")\n",
        "\n",
        "# Merge two UPF metrics\n",
        "upf = pd.merge(upf_percent, upf_score, on=\"UserID_clean\", how=\"inner\")\n",
        "\n",
        "# Merge HFI indicator\n",
        "merged = pd.merge(upf, hfi_df, on=\"UserID_clean\", how=\"inner\")\n"
      ],
      "metadata": {
        "id": "ZuO9V8wh72hJ"
      },
      "execution_count": 13,
      "outputs": []
    },
    {
      "cell_type": "code",
      "source": [
        "import matplotlib.pyplot as plt\n",
        "import seaborn as sns\n",
        "\n",
        "sns.set(style=\"whitegrid\")\n",
        "fig, axes = plt.subplots(1, 2, figsize=(12, 6))\n",
        "\n",
        "# Percentage box plot\n",
        "sns.boxplot(data=merged, x=\"HFI_binary\", y=\"weighted_upf_percent\", ax=axes[0])\n",
        "axes[0].set_title(\"UPF Percent vs HFI\")\n",
        "\n",
        "# Intensity score box plot\n",
        "sns.boxplot(data=merged, x=\"HFI_binary\", y=\"weighted_upf_score\", ax=axes[1])\n",
        "axes[1].set_title(\"UPF Score vs HFI\")\n",
        "\n",
        "plt.tight_layout()\n",
        "plt.show()\n"
      ],
      "metadata": {
        "colab": {
          "base_uri": "https://localhost:8080/",
          "height": 601
        },
        "id": "qjhyna5e74mg",
        "outputId": "7b20b266-cf33-47d1-a4e2-56d0f90821f7"
      },
      "execution_count": 14,
      "outputs": [
        {
          "output_type": "display_data",
          "data": {
            "text/plain": [
              "<Figure size 1200x600 with 2 Axes>"
            ],
            "image/png": "[encoded data removed]"
          },
          "metadata": {}
        }
      ]
    },
    {
      "cell_type": "markdown",
      "source": [
        "# Mann-Whitney"
      ],
      "metadata": {
        "id": "BtrzmvmX79w0"
      }
    },
    {
      "cell_type": "code",
      "source": [
        "from scipy.stats import mannwhitneyu\n",
        "\n",
        "# Group by HFI\n",
        "group0 = merged[merged['HFI_binary'] == 0]\n",
        "group1 = merged[merged['HFI_binary'] == 1]\n",
        "\n",
        "# Statistical tests\n",
        "p_percent = mannwhitneyu(group0['weighted_upf_percent'], group1['weighted_upf_percent']).pvalue\n",
        "p_score = mannwhitneyu(group0['weighted_upf_score'], group1['weighted_upf_score']).pvalue\n",
        "\n",
        "print(f\"UPF percentage p-value: {p_percent:.4f}\")\n",
        "print(f\"UPF strength score p-value: {p_score:.4f}\")"
      ],
      "metadata": {
        "colab": {
          "base_uri": "https://localhost:8080/"
        },
        "id": "YunBtR6m7-FA",
        "outputId": "eb60b1c9-e9aa-42d9-8fc0-c216cac41aaa"
      },
      "execution_count": 15,
      "outputs": [
        {
          "output_type": "stream",
          "name": "stdout",
          "text": [
            "UPF percentage p-value: 0.2695\n",
            "UPF strength score p-value: 0.6463\n"
          ]
        }
      ]
    }
  ]
}