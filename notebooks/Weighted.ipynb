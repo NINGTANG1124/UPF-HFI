{
  "nbformat": 4,
  "nbformat_minor": 0,
  "metadata": {
    "colab": {
      "provenance": [],
      "authorship_tag": "ABX9TyMAK0Z9Gtfbe11N80BWCU9B",
      "include_colab_link": true
    },
    "kernelspec": {
      "name": "python3",
      "display_name": "Python 3"
    },
    "language_info": {
      "name": "python"
    }
  },
  "cells": [
    {
      "cell_type": "markdown",
      "metadata": {
        "id": "view-in-github",
        "colab_type": "text"
      },
      "source": [
        "<a href=\"https://colab.research.google.com/github/NINGTANG1124/UPF-HFI/blob/main/notebooks/Weighted.ipynb\" target=\"_parent\"><img src=\"https://colab.research.google.com/assets/colab-badge.svg\" alt=\"Open In Colab\"/></a>"
      ]
    },
    {
      "cell_type": "code",
      "execution_count": 1,
      "metadata": {
        "id": "ZZbxpHsG6yDv",
        "colab": {
          "base_uri": "https://localhost:8080/"
        },
        "outputId": "0b6a1402-4c74-44e1-cb7c-7d16f67eb41f"
      },
      "outputs": [
        {
          "output_type": "stream",
          "name": "stdout",
          "text": [
            "Drive already mounted at /content/drive; to attempt to forcibly remount, call drive.mount(\"/content/drive\", force_remount=True).\n"
          ]
        }
      ],
      "source": [
        "# connect googledrive\n",
        "from google.colab import drive\n",
        "drive.mount('/content/drive')"
      ]
    },
    {
      "cell_type": "code",
      "source": [
        "import pandas as pd\n",
        "\n",
        "# 读取 intake24 数据\n",
        "file_path = \"/content/drive/MyDrive/UPF-HFI/NOVA classification/outcome/intake24_with_nova.xlsx\"\n",
        "intake_df = pd.read_excel(file_path)\n"
      ],
      "metadata": {
        "id": "laKOTobBdHtm"
      },
      "execution_count": 2,
      "outputs": []
    },
    {
      "cell_type": "markdown",
      "source": [
        "## 检测饮食回忆是否跨日"
      ],
      "metadata": {
        "id": "TA8pfsn7iF_h"
      }
    },
    {
      "cell_type": "markdown",
      "source": [
        "```\n",
        "cross_day_records['Starttime_Weekday'] = cross_day_records['Starttime'].dt.weekday\n",
        "cross_day_records['True_WeekdayType'] = cross_day_records['Starttime_Weekday'].apply(\n",
        "    lambda x: 'Weekend' if x >= 5 else 'Weekday'\n",
        ")\n",
        "```\n",
        "这段代码并没有依赖 DAY 或 Submissiontime，而是只依赖 Starttime（饮食真正发生的时间）\n",
        "它的原理就是：\n",
        "\n",
        ".dt.weekday → 取出 0~6 的星期索引（Monday=0, Sunday=6）\n",
        "判断 >= 5 → 属于周六/周日 → Weekend\n",
        "所以你能得到基于真实饮食日的 weekday/weekend 分类\n",
        "\n"
      ],
      "metadata": {
        "id": "xGxKANk96PFh"
      }
    },
    {
      "cell_type": "code",
      "source": [
        "# === 1. 处理时间字段并判断是否跨日 ===\n",
        "intake_df['Submissiontime'] = pd.to_datetime(intake_df['Submissiontime'], errors='coerce', utc=True)\n",
        "intake_df['Starttime'] = pd.to_datetime(intake_df['Starttime'], errors='coerce', utc=True)\n",
        "\n",
        "intake_df['IsPriorDayRecall'] = (\n",
        "    intake_df['Submissiontime'].dt.normalize() - intake_df['Starttime'].dt.normalize()\n",
        ").dt.days == 1\n",
        "\n",
        "# === 2. 导出跨日记录供人工检查 weekday/weekend 判断 ===\n",
        "cross_day_records = intake_df[intake_df['IsPriorDayRecall'] == True].copy()\n",
        "cross_day_records['Starttime_Weekday'] = cross_day_records['Starttime'].dt.weekday\n",
        "cross_day_records['True_WeekdayType'] = cross_day_records['Starttime_Weekday'].apply(\n",
        "    lambda x: 'Weekend' if x >= 5 else 'Weekday'\n",
        ")\n",
        "\n",
        "# 简化导出字段供你检查（可调整）\n",
        "cols_to_export = [\n",
        "    'UserID_clean', 'DAY', 'Submissiontime', 'Starttime',\n",
        "    'IsPriorDayRecall', 'True_WeekdayType',\n",
        "    'Descriptionen', 'Foodgroupen'\n",
        "]\n",
        "cross_day_records_export = cross_day_records[cols_to_export].copy()\n",
        "\n",
        "# 去除时区，避免 Excel 报错\n",
        "for col in ['Submissiontime', 'Starttime']:\n",
        "    cross_day_records_export[col] = cross_day_records_export[col].dt.tz_localize(None)\n",
        "\n",
        "# 保存人工检查文件（你可在这里核对 True_WeekdayType）\n",
        "cross_day_records_export.to_excel(\n",
        "    \"/content/drive/MyDrive/UPF-HFI/Model/outcome/cross_day_recall_records_for_check.xlsx\",\n",
        "    index=False\n",
        ")\n",
        "print(\"跨日记录已导出，人工检查 True_WeekdayType 是否正确\")\n"
      ],
      "metadata": {
        "colab": {
          "base_uri": "https://localhost:8080/"
        },
        "id": "HP2NWLaS3JSA",
        "outputId": "c6ba54dd-1001-479d-ff0b-9a6a10c0a4f0"
      },
      "execution_count": 3,
      "outputs": [
        {
          "output_type": "stream",
          "name": "stdout",
          "text": [
            "跨日记录已导出，人工检查 True_WeekdayType 是否正确\n"
          ]
        }
      ]
    },
    {
      "cell_type": "code",
      "source": [
        "# === 4. 人工检查后，创建修正字段 Revised_DAY 和 Revised_WeekdayType ===\n",
        "intake_df['Revised_DAY'] = intake_df.apply(\n",
        "    lambda row: row['Starttime'].strftime('%A') if row['IsPriorDayRecall'] else row['DAY'],\n",
        "    axis=1\n",
        ")\n",
        "intake_df['Revised_WeekdayType'] = intake_df['Revised_DAY'].apply(\n",
        "    lambda x: 'Weekend' if x in ['Saturday', 'Sunday'] else 'Weekday'\n",
        ")\n",
        "print(\"✅ 已完成 Revised_DAY 与 Revised_WeekdayType 创建，可用于加权\")\n",
        "\n",
        "# === 5. 导出用于加权的完整 intake_df 表 ===\n",
        "\n",
        "# 去除所有 datetime 类型中的 timezone\n",
        "for col in intake_df.select_dtypes(include='datetimetz').columns:\n",
        "    intake_df[col] = intake_df[col].dt.tz_localize(None)\n",
        "\n",
        "# 导出含修正后的字段，保留完整列（推荐直接输出整表便于加权）\n",
        "intake_df.to_excel(\n",
        "    \"/content/drive/MyDrive/UPF-HFI/Model/outcome/intake24_with_revised_weekdaytype.xlsx\",\n",
        "    index=False\n",
        ")\n",
        "print(\"已导出 intake24 总表，含修正 weekday，可直接加权计算\")"
      ],
      "metadata": {
        "colab": {
          "base_uri": "https://localhost:8080/"
        },
        "id": "mtkx2x1S_-KL",
        "outputId": "889dfe02-ecea-4da1-a9f6-e59ba73c139f"
      },
      "execution_count": 5,
      "outputs": [
        {
          "output_type": "stream",
          "name": "stdout",
          "text": [
            "✅ 已完成 Revised_DAY 与 Revised_WeekdayType 创建，可用于加权\n",
            "已导出 intake24 总表，含修正 weekday，可直接加权计算\n"
          ]
        }
      ]
    },
    {
      "cell_type": "markdown",
      "source": [
        "# Weighted average"
      ],
      "metadata": {
        "id": "tXe-J2mZN32F"
      }
    },
    {
      "cell_type": "code",
      "source": [
        "import pandas as pd\n",
        "\n",
        "# === Step 0: 读取数据 ===\n",
        "file_path = \"/content/drive/MyDrive/UPF-HFI/Model/outcome/intake24_with_revised_weekdaytype.xlsx\"\n",
        "df = pd.read_excel(file_path)\n",
        "\n",
        "# === Step 1: 类型转换 ===\n",
        "df['Revised_WeekdayType'] = df['Revised_WeekdayType'].astype(str)\n",
        "df['Energykcal'] = pd.to_numeric(df['Energykcal'], errors='coerce')\n",
        "df['NOVA'] = pd.to_numeric(df['NOVA'], errors='coerce')\n",
        "\n",
        "# === Step 2: 计算 weekday/weekend 的总能量 ===\n",
        "total_kcal = df.groupby(['UserID_clean', 'Revised_WeekdayType'])['Energykcal'].sum().unstack(fill_value=0).reset_index()\n",
        "total_kcal.rename(columns={'Weekday': 'weekday_kcal', 'Weekend': 'weekend_kcal'}, inplace=True)\n",
        "\n",
        "# === Step 3: 计算 weekday/weekend 的 UPF 总能量 (NOVA=4) ===\n",
        "upf_df = df[df['NOVA'] == 4]\n",
        "upf_kcal = upf_df.groupby(['UserID_clean', 'Revised_WeekdayType'])['Energykcal'].sum().unstack(fill_value=0).reset_index()\n",
        "upf_kcal.rename(columns={'Weekday': 'weekday_upf_kcal', 'Weekend': 'weekend_upf_kcal'}, inplace=True)\n",
        "\n",
        "# === Step 4: 合并数据 ===\n",
        "merged = pd.merge(total_kcal, upf_kcal, on='UserID_clean', how='outer').fillna(0)\n",
        "\n",
        "# === Step 5: 计算加权总能量和加权 UPF ===\n",
        "merged['weighted_kcal'] = 5/7 * merged['weekday_kcal'] + 2/7 * merged['weekend_kcal']\n",
        "merged['weighted_upf_kcal'] = 5/7 * merged['weekday_upf_kcal'] + 2/7 * merged['weekend_upf_kcal']\n",
        "\n",
        "# === Step 6: 计算 UPF 百分比 ===\n",
        "merged['weighted_upf_percent'] = (merged['weighted_upf_kcal'] / merged['weighted_kcal']) * 100\n",
        "\n",
        "# === Step 7: 导出 ===\n",
        "merged.to_excel(\"/content/drive/MyDrive/UPF-HFI/Model/outcome/weighted_upf_percent.xlsx\", index=False)\n",
        "print(\"weighted_upf_percent 已成功导出！\")\n"
      ],
      "metadata": {
        "colab": {
          "base_uri": "https://localhost:8080/"
        },
        "id": "Y1fB7MT6LVnE",
        "outputId": "f9995b9f-9612-443a-922c-523ae405a850"
      },
      "execution_count": 29,
      "outputs": [
        {
          "output_type": "stream",
          "name": "stdout",
          "text": [
            "weighted_upf_percent 已成功导出！\n"
          ]
        }
      ]
    },
    {
      "cell_type": "markdown",
      "source": [
        "# 计算每位儿童的 weighted UPF intensity score（加权UPF强度得分）"
      ],
      "metadata": {
        "id": "OLBg3TW0N10G"
      }
    },
    {
      "cell_type": "code",
      "source": [
        "import pandas as pd\n",
        "\n",
        "# === Step 0: 导入 intake24 数据 ===\n",
        "file_path = \"/content/drive/MyDrive/UPF-HFI/Model/outcome/intake24_with_revised_weekdaytype.xlsx\"\n",
        "intake_df = pd.read_excel(file_path)\n",
        "\n",
        "# 强制转换相关列为数值，防止非数值干扰计算\n",
        "intake_df[\"Energykcal\"] = pd.to_numeric(intake_df[\"Energykcal\"], errors=\"coerce\")\n",
        "intake_df[\"NOVA\"] = pd.to_numeric(intake_df[\"NOVA\"], errors=\"coerce\")\n",
        "\n",
        "# === Step 1: 标记 NOVA 权重 ===\n",
        "# 你也可以设为 {1:1, 2:2, 3:3, 4:5} 如果要强调UPF（可调节）\n",
        "nova_weights = {1: 1, 2: 2, 3: 3, 4: 4}\n",
        "intake_df[\"UPF_weight\"] = intake_df[\"NOVA\"].map(nova_weights)\n",
        "\n",
        "# === Step 2: 计算每条记录的加权得分 ===\n",
        "# 如果 Energykcal 或 NOVA 缺失，结果会是 NaN\n",
        "intake_df[\"weighted_score\"] = intake_df[\"Energykcal\"] * intake_df[\"UPF_weight\"]\n",
        "\n",
        "# === Step 3: 按 UserID_clean 和 Revised_WeekdayType 分组，计算总能量和得分 ===\n",
        "agg_df = (\n",
        "    intake_df\n",
        "    .groupby([\"UserID_clean\", \"Revised_WeekdayType\"])\n",
        "    .agg(\n",
        "        total_kcal=(\"Energykcal\", \"sum\"),\n",
        "        weighted_kcal=(\"weighted_score\", \"sum\")\n",
        "    )\n",
        "    .reset_index()\n",
        ")\n",
        "\n",
        "# === Step 4: 计算每组的 weighted 得分比例 ===\n",
        "agg_df[\"score_ratio\"] = agg_df[\"weighted_kcal\"] / agg_df[\"total_kcal\"]\n",
        "\n",
        "# === Step 5: 拆成 weekday 和 weekend 并加权平均 ===\n",
        "weekday = agg_df[agg_df[\"Revised_WeekdayType\"] == \"Weekday\"][[\"UserID_clean\", \"score_ratio\"]].rename(columns={\"score_ratio\": \"weekday_score\"})\n",
        "weekend = agg_df[agg_df[\"Revised_WeekdayType\"] == \"Weekend\"][[\"UserID_clean\", \"score_ratio\"]].rename(columns={\"score_ratio\": \"weekend_score\"})\n",
        "\n",
        "# 合并两个子表，填补缺失值为 0\n",
        "merged = pd.merge(weekday, weekend, on=\"UserID_clean\", how=\"outer\").fillna(0)\n",
        "\n",
        "# === Step 6: 加权平均合成最终得分（按 5:2 权重）===\n",
        "merged[\"weighted_upf_score\"] = merged[\"weekday_score\"] * 5/7 + merged[\"weekend_score\"] * 2/7\n",
        "\n",
        "# === Step 7: 导出结果 ===\n",
        "output_path = \"/content/drive/MyDrive/UPF-HFI/Model/outcome/weighted_upf_score.xlsx\"\n",
        "merged.to_excel(output_path, index=False)\n",
        "\n",
        "print(\"✅ 成功导出 weighted_upf_score.xlsx\")\n"
      ],
      "metadata": {
        "colab": {
          "base_uri": "https://localhost:8080/"
        },
        "id": "PGBk4RION9Pw",
        "outputId": "3bb46dc4-0b6a-448e-d72b-81454be2d988"
      },
      "execution_count": 27,
      "outputs": [
        {
          "output_type": "stream",
          "name": "stdout",
          "text": [
            "✅ 成功导出 weighted_upf_score.xlsx\n"
          ]
        }
      ]
    },
    {
      "cell_type": "markdown",
      "source": [
        "# 选出一个对 HFI 敏感、区分度高、解释力强的因变量"
      ],
      "metadata": {
        "id": "TE47wN-3QjsV"
      }
    },
    {
      "cell_type": "code",
      "source": [
        "# 读取 survey 数据\n",
        "survey_path = \"/content/drive/MyDrive/UPF-HFI/Bradford_original data/4. SurveyMasterfile_clean.xlsx\"\n",
        "survey_df = pd.read_excel(survey_path)\n",
        "\n",
        "# 定义 HFI 列（根据你截图确认的变量名）\n",
        "hfi_columns = ['insecurity1', 'insecurity2', 'insecurity3', 'insecurity3a', 'insecurity4', 'insecurity5']\n",
        "\n",
        "# 打分函数：1, 2 => 记为 1 分，其余（3, 4）为 0 分\n",
        "def score_response(x):\n",
        "    return 1 if x in [1, 2] else 0\n",
        "\n",
        "# 创建 HFI 总得分\n",
        "survey_df['HFI_score'] = survey_df[hfi_columns].applymap(score_response).sum(axis=1)\n",
        "\n",
        "# 创建二分类变量（得分 >= 2 为食物不安全）\n",
        "survey_df['HFI_binary'] = survey_df['HFI_score'].apply(lambda x: 1 if x >= 2 else 0)\n",
        "\n",
        "# 保留有用列\n",
        "hfi_df = survey_df[['UserID_clean', 'HFI_score', 'HFI_binary']]"
      ],
      "metadata": {
        "colab": {
          "base_uri": "https://localhost:8080/"
        },
        "id": "novSCacgTp8X",
        "outputId": "8a254e38-fbf3-4c95-a476-dd1fb7189171"
      },
      "execution_count": 37,
      "outputs": [
        {
          "output_type": "stream",
          "name": "stderr",
          "text": [
            "/tmp/ipython-input-432153045.py:13: FutureWarning: DataFrame.applymap has been deprecated. Use DataFrame.map instead.\n",
            "  survey_df['HFI_score'] = survey_df[hfi_columns].applymap(score_response).sum(axis=1)\n"
          ]
        }
      ]
    },
    {
      "cell_type": "code",
      "source": [
        "# 读取 UPF 数据\n",
        "upf_percent = pd.read_excel(\"/content/drive/MyDrive/UPF-HFI/Model/outcome/weighted_upf_percent.xlsx\")\n",
        "upf_score = pd.read_excel(\"/content/drive/MyDrive/UPF-HFI/Model/outcome/weighted_upf_score.xlsx\")\n",
        "\n",
        "# 合并两个 UPF 指标\n",
        "upf = pd.merge(upf_percent, upf_score, on=\"UserID_clean\", how=\"inner\")\n",
        "\n",
        "# 合并 HFI 指标\n",
        "merged = pd.merge(upf, hfi_df, on=\"UserID_clean\", how=\"inner\")\n"
      ],
      "metadata": {
        "id": "ZuO9V8wh72hJ"
      },
      "execution_count": 38,
      "outputs": []
    },
    {
      "cell_type": "code",
      "source": [
        "import matplotlib.pyplot as plt\n",
        "import seaborn as sns\n",
        "\n",
        "sns.set(style=\"whitegrid\")\n",
        "fig, axes = plt.subplots(1, 2, figsize=(12, 6))\n",
        "\n",
        "# 百分比箱线图\n",
        "sns.boxplot(data=merged, x=\"HFI_binary\", y=\"weighted_upf_percent\", ax=axes[0])\n",
        "axes[0].set_title(\"UPF Percent vs HFI\")\n",
        "\n",
        "# 强度得分箱线图\n",
        "sns.boxplot(data=merged, x=\"HFI_binary\", y=\"weighted_upf_score\", ax=axes[1])\n",
        "axes[1].set_title(\"UPF Score vs HFI\")\n",
        "\n",
        "plt.tight_layout()\n",
        "plt.show()\n"
      ],
      "metadata": {
        "colab": {
          "base_uri": "https://localhost:8080/",
          "height": 601
        },
        "id": "qjhyna5e74mg",
        "outputId": "00eb1134-ec1c-4fa8-cd8b-26bb37663fe5"
      },
      "execution_count": 39,
      "outputs": [
        {
          "output_type": "display_data",
          "data": {
            "text/plain": [
              "<Figure size 1200x600 with 2 Axes>"
            ],
            "image/png": "[encoded data removed]"
          },
          "metadata": {}
        }
      ]
    },
    {
      "cell_type": "markdown",
      "source": [
        "### 可视化结果对比（Boxplot）\n",
        "\n",
        "我们绘制了 `weighted_upf_percent` 和 `weighted_upf_score` 两个指标在 HFI 二分类变量（HFI_binary）下的分布箱线图，以观察不同食物不安全状况下的 UPF 摄入差异。\n",
        "\n",
        "- 从图中可以看出，**`weighted_upf_percent` 在 HFI=1 组的中位数明显高于 HFI=0 组**，分布范围也更广，显示出一定的区分能力。\n",
        "- 而 `weighted_upf_score` 两组之间的中位数差异较小，箱体重叠较多，说明其区分能力相对较弱。\n",
        "- 这表明：**UPF 能量占比（percent）在不同 HFI 状况下表现出更明显的分布差异，具有更强的可视化解释力。**\n"
      ],
      "metadata": {
        "id": "WsCUoXJH-Ohe"
      }
    },
    {
      "cell_type": "markdown",
      "source": [
        "# Mann-Whitney 检验"
      ],
      "metadata": {
        "id": "BtrzmvmX79w0"
      }
    },
    {
      "cell_type": "code",
      "source": [
        "from scipy.stats import mannwhitneyu\n",
        "\n",
        "# 按 HFI 分组\n",
        "group0 = merged[merged['HFI_binary'] == 0]\n",
        "group1 = merged[merged['HFI_binary'] == 1]\n",
        "\n",
        "# 统计检验\n",
        "p_percent = mannwhitneyu(group0['weighted_upf_percent'], group1['weighted_upf_percent']).pvalue\n",
        "p_score = mannwhitneyu(group0['weighted_upf_score'], group1['weighted_upf_score']).pvalue\n",
        "\n",
        "print(f\"UPF 百分比 p值: {p_percent:.4f}\")\n",
        "print(f\"UPF 强度得分 p值: {p_score:.4f}\")\n"
      ],
      "metadata": {
        "colab": {
          "base_uri": "https://localhost:8080/"
        },
        "id": "YunBtR6m7-FA",
        "outputId": "41eef863-c13a-49a5-e78d-bb594667deb4"
      },
      "execution_count": 40,
      "outputs": [
        {
          "output_type": "stream",
          "name": "stdout",
          "text": [
            "UPF 百分比 p值: 0.2695\n",
            "UPF 强度得分 p值: 0.6525\n"
          ]
        }
      ]
    },
    {
      "cell_type": "markdown",
      "source": [
        "### Mann-Whitney 检验结果\n",
        "\n",
        "为了定量比较两个 UPF 指标的区分能力，我们使用 Mann-Whitney U 检验比较了 HFI=0 和 HFI=1 两组在每个指标上的差异。结果如下：\n",
        "\n",
        "- `weighted_upf_percent` 的 p 值为 **0.2695**\n",
        "- `weighted_upf_score` 的 p 值为 **0.6525**\n",
        "\n",
        "虽然两个指标在统计上均未达到显著性水平（p > 0.05），但 **`weighted_upf_percent` 的 p 值更低**，说明其在当前样本中对 HFI 具有相对更高的敏感性。\n",
        "\n",
        "因此，综合可视化和检验结果，我们倾向于选择 **UPF 能量占比（`weighted_upf_percent`）作为主要因变量**，用于后续分析建模。\n"
      ],
      "metadata": {
        "id": "FisI2mTg-QsE"
      }
    }
  ]
}