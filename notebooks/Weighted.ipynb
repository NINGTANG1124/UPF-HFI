{
  "nbformat": 4,
  "nbformat_minor": 0,
  "metadata": {
    "colab": {
      "provenance": [],
      "authorship_tag": "ABX9TyN6a2zIriJcbZ+mPEUMZxUc",
      "include_colab_link": true
    },
    "kernelspec": {
      "name": "python3",
      "display_name": "Python 3"
    },
    "language_info": {
      "name": "python"
    }
  },
  "cells": [
    {
      "cell_type": "markdown",
      "metadata": {
        "id": "view-in-github",
        "colab_type": "text"
      },
      "source": [
        "<a href=\"https://colab.research.google.com/github/NINGTANG1124/UPF-HFI/blob/main/notebooks/Weighted.ipynb\" target=\"_parent\"><img src=\"https://colab.research.google.com/assets/colab-badge.svg\" alt=\"Open In Colab\"/></a>"
      ]
    },
    {
      "cell_type": "code",
      "execution_count": 1,
      "metadata": {
        "id": "ZZbxpHsG6yDv",
        "colab": {
          "base_uri": "https://localhost:8080/"
        },
        "outputId": "678b39ea-c084-45b4-d9fe-0b5106153eb3"
      },
      "outputs": [
        {
          "output_type": "stream",
          "name": "stdout",
          "text": [
            "Drive already mounted at /content/drive; to attempt to forcibly remount, call drive.mount(\"/content/drive\", force_remount=True).\n"
          ]
        }
      ],
      "source": [
        "# connect googledrive\n",
        "from google.colab import drive\n",
        "drive.mount('/content/drive')"
      ]
    },
    {
      "cell_type": "markdown",
      "source": [
        "# Weighted average"
      ],
      "metadata": {
        "id": "tXe-J2mZN32F"
      }
    },
    {
      "cell_type": "code",
      "source": [
        "import pandas as pd\n",
        "\n",
        "# 读取 intake24 数据\n",
        "file_path = \"/content/drive/MyDrive/UPF-HFI/NOVA classification/outcome/intake24_with_nova.xlsx\"\n",
        "intake_df = pd.read_excel(file_path)\n",
        "\n",
        "# Step 0: 清洗 NOVA 字段为字符串，确保无空格\n",
        "intake_df['NOVA'] = intake_df['NOVA'].astype(str).str.strip()\n",
        "\n",
        "# Step 1: 创建是否为 UPF 的布尔变量（必须与字符串比较）\n",
        "intake_df['is_upf'] = (intake_df['NOVA'] == '4').astype(int)\n",
        "\n",
        "# Step 2: 乘以能量获得 upf_energy（单位 kcal）\n",
        "intake_df['upf_energy'] = intake_df['is_upf'] * intake_df['Energykcal']\n",
        "\n",
        "# Step 3: 打 weekday/weekend 标签\n",
        "intake_df['day_type'] = intake_df['DAY'].str.lower().map(lambda x: 'weekend' if x in ['saturday', 'sunday'] else 'weekday')\n",
        "\n",
        "# Step 4: 按 UserID + day_type 聚合总能量 和 upf 能量\n",
        "agg_df = intake_df.groupby(['UserID_clean', 'day_type']).agg({\n",
        "    'Energykcal': 'sum',\n",
        "    'upf_energy': 'sum'\n",
        "}).reset_index()\n",
        "\n",
        "# Step 5: 透视表\n",
        "pivot_df = agg_df.pivot(index='UserID_clean', columns='day_type', values=['Energykcal', 'upf_energy']).fillna(0)\n",
        "pivot_df.columns = ['total_energy_weekday', 'total_energy_weekend', 'upf_energy_weekday', 'upf_energy_weekend']\n",
        "\n",
        "# Step 6: 加权平均计算\n",
        "pivot_df['weighted_total_energy'] = (pivot_df['total_energy_weekday'] * 5 + pivot_df['total_energy_weekend'] * 2) / 7\n",
        "pivot_df['weighted_upf_energy'] = (pivot_df['upf_energy_weekday'] * 5 + pivot_df['upf_energy_weekend'] * 2) / 7\n",
        "pivot_df['weighted_upf_pct'] = pivot_df['weighted_upf_energy'] / pivot_df['weighted_total_energy']\n",
        "\n",
        "# Step 7: 保存\n",
        "pivot_df.reset_index().to_excel(\"/content/drive/MyDrive/UPF-HFI/Model/outcome/weighted_upf_summary.xlsx\", index=False)\n"
      ],
      "metadata": {
        "id": "Y1fB7MT6LVnE"
      },
      "execution_count": 8,
      "outputs": []
    },
    {
      "cell_type": "markdown",
      "source": [
        "# 计算每位儿童的 weighted UPF intensity score（加权UPF强度得分）"
      ],
      "metadata": {
        "id": "OLBg3TW0N10G"
      }
    },
    {
      "cell_type": "code",
      "source": [
        "import pandas as pd\n",
        "\n",
        "# 读取 intake24 含 NOVA 分类的数据（你之前的路径）\n",
        "file_path = \"/content/drive/MyDrive/UPF-HFI/NOVA classification/outcome/intake24_with_nova.xlsx\"\n",
        "intake_df = pd.read_excel(file_path)\n",
        "\n",
        "# Step 1：清洗 NOVA 字段（保证是字符串，去空格）\n",
        "intake_df['NOVA'] = intake_df['NOVA'].astype(str).str.strip()\n",
        "\n",
        "# Step 2：构建 is_upf（加工强度评分）：NOVA1→0，NOVA2→1，NOVA3→2，NOVA4→3\n",
        "nova_weight_map = {'1': 0, '2': 1, '3': 2, '4': 3}\n",
        "intake_df['is_upf'] = intake_df['NOVA'].map(nova_weight_map).fillna(0)\n",
        "\n",
        "# Step 3：乘以能量值，得到加工强度加权后的能量\n",
        "intake_df['upf_energy'] = intake_df['is_upf'] * intake_df['Energykcal']\n",
        "\n",
        "# Step 4：打 weekday/weekend 标签\n",
        "intake_df['day_type'] = intake_df['DAY'].str.lower().map(lambda x: 'weekend' if x in ['saturday', 'sunday'] else 'weekday')\n",
        "\n",
        "# Step 5：聚合能量\n",
        "agg_df = intake_df.groupby(['UserID_clean', 'day_type']).agg({\n",
        "    'Energykcal': 'sum',\n",
        "    'upf_energy': 'sum'\n",
        "}).reset_index()\n",
        "\n",
        "# Step 6：透视成宽表\n",
        "pivot_df = agg_df.pivot(index='UserID_clean', columns='day_type', values=['Energykcal', 'upf_energy']).fillna(0)\n",
        "pivot_df.columns = ['total_energy_weekday', 'total_energy_weekend', 'upf_energy_weekday', 'upf_energy_weekend']\n",
        "pivot_df = pivot_df.reset_index()\n",
        "\n",
        "# Step 7：计算 weekday/weekend 加权平均\n",
        "pivot_df['weighted_total_energy'] = (pivot_df['total_energy_weekday'] * 5 + pivot_df['total_energy_weekend'] * 2) / 7\n",
        "pivot_df['weighted_upf_energy'] = (pivot_df['upf_energy_weekday'] * 5 + pivot_df['upf_energy_weekend'] * 2) / 7\n",
        "\n",
        "# Step 8：最终得分 = weighted_upf_energy / weighted_total_energy\n",
        "pivot_df['weighted_upf_score'] = pivot_df['weighted_upf_energy'] / pivot_df['weighted_total_energy']\n",
        "\n",
        "# Step 9：保存输出（记得自己改文件路径）\n",
        "pivot_df.to_excel(\"/content/drive/MyDrive/UPF-HFI/Model/outcome/weighted_upf_score.xlsx\", index=False)\n"
      ],
      "metadata": {
        "id": "PGBk4RION9Pw"
      },
      "execution_count": 9,
      "outputs": []
    },
    {
      "cell_type": "markdown",
      "source": [
        "# 选出一个对 HFI 敏感、区分度高、解释力强的因变量"
      ],
      "metadata": {
        "id": "TE47wN-3QjsV"
      }
    },
    {
      "cell_type": "code",
      "source": [
        "#  第一步：读取 survey 表并创建 HFI 变量\n",
        "import pandas as pd\n",
        "\n",
        "# 读取 Survey 表（请改成你自己的路径）\n",
        "survey_path = \"/content/drive/MyDrive/UPF-HFI/Bradford_original data/4. SurveyMasterfile_clean.xlsx\"\n",
        "survey_df = pd.read_excel(survey_path)\n",
        "\n",
        "# 创建 HFI 总分和是否不安全的标志变量\n",
        "insecurity_cols = ['insecurity1', 'insecurity2', 'insecurity3','insecurity3a', 'insecurity4', 'insecurity5']\n",
        "survey_df['HFI_score'] = survey_df[insecurity_cols].sum(axis=1)\n",
        "survey_df['HFI'] = (survey_df['HFI_score'] >= 1).astype(int)\n",
        "\n",
        "# 保留关键列\n",
        "survey_df = survey_df[['UserID_clean', 'HFI']]\n"
      ],
      "metadata": {
        "id": "411lTQEsR_85"
      },
      "execution_count": 12,
      "outputs": []
    },
    {
      "cell_type": "code",
      "source": [
        "# 第二步：合并 UPF 表和 HFI 表\n",
        "# 读取 UPF 表\n",
        "upf_path = \"/content/drive/MyDrive/UPF-HFI/Model/outcome/weighted_upf_summary.xlsx\"\n",
        "upf_df = pd.read_excel(upf_path)\n",
        "\n",
        "# 合并（确保 UserID_clean 的格式一致）\n",
        "df = upf_df.merge(survey_df, on='UserID_clean', how='left')\n"
      ],
      "metadata": {
        "id": "SyzvCK6BSpFk"
      },
      "execution_count": 13,
      "outputs": []
    },
    {
      "cell_type": "code",
      "source": [
        "print(pivot_df.columns)\n",
        "print(df.columns)\n"
      ],
      "metadata": {
        "colab": {
          "base_uri": "https://localhost:8080/"
        },
        "id": "1qNAUuayXVcZ",
        "outputId": "9e2bc3cd-b360-4783-dbab-1c3f4ed89aab"
      },
      "execution_count": 17,
      "outputs": [
        {
          "output_type": "stream",
          "name": "stdout",
          "text": [
            "Index(['UserID_clean', 'total_energy_weekday', 'total_energy_weekend',\n",
            "       'upf_energy_weekday', 'upf_energy_weekend', 'weighted_total_energy',\n",
            "       'weighted_upf_energy', 'weighted_upf_score'],\n",
            "      dtype='object')\n",
            "Index(['UserID_clean', 'total_energy_weekday', 'total_energy_weekend',\n",
            "       'upf_energy_weekday', 'upf_energy_weekend', 'weighted_total_energy',\n",
            "       'weighted_upf_energy', 'weighted_upf_pct', 'HFI'],\n",
            "      dtype='object')\n"
          ]
        }
      ]
    },
    {
      "cell_type": "code",
      "source": [
        "df['weighted_upf_score'] = pivot_df['weighted_upf_score']"
      ],
      "metadata": {
        "id": "zt0cGdA4YW5S"
      },
      "execution_count": 19,
      "outputs": []
    },
    {
      "cell_type": "code",
      "source": [
        "# 第三步：可视化对比 weighted_upf_pct 和 weighted_upf_score\n",
        "import seaborn as sns\n",
        "import matplotlib.pyplot as plt\n",
        "\n",
        "# 比较 weighted_upf_pct\n",
        "sns.boxplot(data=df, x='HFI', y='weighted_upf_pct')\n",
        "plt.title('UPF Percent vs HFI')\n",
        "plt.xlabel('HFI (0 = Secure, 1 = Insecure)')\n",
        "plt.ylabel('Weighted UPF Percentage')\n",
        "plt.show()\n",
        "\n",
        "\n",
        "# 比较 weighted_upf_score\n",
        "sns.boxplot(data=df, x='HFI', y='weighted_upf_score')\n",
        "plt.title('UPF Score vs HFI')\n",
        "plt.xlabel('HFI (0 = Secure, 1 = Insecure)')\n",
        "plt.ylabel('Weighted UPF Score')\n",
        "plt.show()\n"
      ],
      "metadata": {
        "colab": {
          "base_uri": "https://localhost:8080/",
          "height": 927
        },
        "id": "rrG4AU43SuG7",
        "outputId": "3e5f3f3c-cd90-449d-d326-22e3392bd597"
      },
      "execution_count": 20,
      "outputs": [
        {
          "output_type": "display_data",
          "data": {
            "text/plain": [
              "<Figure size 640x480 with 1 Axes>"
            ],
            "image/png": "[encoded data removed]"
          },
          "metadata": {}
        },
        {
          "output_type": "display_data",
          "data": {
            "text/plain": [
              "<Figure size 640x480 with 1 Axes>"
            ],
            "image/png": "[encoded data removed]"
          },
          "metadata": {}
        }
      ]
    },
    {
      "cell_type": "markdown",
      "source": [
        "# 使用 t 检验比较两个指标在 HFI 组间的显著性差异"
      ],
      "metadata": {
        "id": "Cf5B5k4QY9DQ"
      }
    },
    {
      "cell_type": "code",
      "source": [
        "from scipy.stats import ttest_ind\n",
        "\n",
        "# 拆分两组\n",
        "secure = df[df['HFI'] == 0]\n",
        "insecure = df[df['HFI'] == 1]\n",
        "\n",
        "# 比较 weighted_upf_pct\n",
        "t_stat_pct, p_val_pct = ttest _ind(secure['weighted_upf_pct'], insecure['weighted_upf_pct'], nan_policy='omit')\n",
        "print(f\"UPF Percentage: t={t_stat_pct:.3f}, p={p_val_pct:.4f}\")\n",
        "\n",
        "# 比较 weighted_upf_score\n",
        "t_stat_score, p_val_score = ttest_ind(secure['weighted_upf_score'], insecure['weighted_upf_score'], nan_policy='omit')\n",
        "print(f\"UPF Score: t={t_stat_score:.3f}, p={p_val_score:.4f}\")\n"
      ],
      "metadata": {
        "colab": {
          "base_uri": "https://localhost:8080/"
        },
        "id": "2FHbtdG-Y_mw",
        "outputId": "5828fb64-693e-44cb-d98f-e78f9c0a8305"
      },
      "execution_count": 21,
      "outputs": [
        {
          "output_type": "stream",
          "name": "stdout",
          "text": [
            "UPF Percentage: t=-0.372, p=0.7098\n",
            "UPF Score: t=-0.386, p=0.6995\n"
          ]
        }
      ]
    },
    {
      "cell_type": "markdown",
      "source": [
        "看哪个 p-value 更小，说明哪个指标在组间的差异更显著。"
      ],
      "metadata": {
        "id": "etocPxQoZK_b"
      }
    },
    {
      "cell_type": "markdown",
      "source": [
        "# 计算 R² 看解释力更强的那个"
      ],
      "metadata": {
        "id": "Mnd01t_fZvEz"
      }
    },
    {
      "cell_type": "code",
      "source": [
        "import statsmodels.api as sm\n",
        "\n",
        "# HFI → weighted_upf_pct\n",
        "X1 = df[['HFI']]\n",
        "y1 = df['weighted_upf_pct']\n",
        "X1 = sm.add_constant(X1)\n",
        "model1 = sm.OLS(y1, X1).fit()\n",
        "print(\"UPF % R² =\", model1.rsquared)\n",
        "\n",
        "# HFI → weighted_upf_score\n",
        "X2 = df[['HFI']]\n",
        "y2 = df['weighted_upf_score']\n",
        "X2 = sm.add_constant(X2)\n",
        "model2 = sm.OLS(y2, X2).fit()\n",
        "print(\"UPF Score R² =\", model2.rsquared)\n"
      ],
      "metadata": {
        "colab": {
          "base_uri": "https://localhost:8080/"
        },
        "id": "hBS7CIinZwNp",
        "outputId": "cbb646a1-b60d-492c-c188-cae2ccf1a3f4"
      },
      "execution_count": 22,
      "outputs": [
        {
          "output_type": "stream",
          "name": "stdout",
          "text": [
            "UPF % R² = 0.00042804550511121864\n",
            "UPF Score R² = 0.0004604738305203915\n"
          ]
        }
      ]
    },
    {
      "cell_type": "markdown",
      "source": [
        "哪个 R² 更高，说明哪个指标更能解释 HFI 的变异，作为回归模型的因变量更合适。"
      ],
      "metadata": {
        "id": "QasvRuCSZ1uS"
      }
    }
  ]
}