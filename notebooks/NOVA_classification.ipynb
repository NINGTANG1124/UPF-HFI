{
  "nbformat": 4,
  "nbformat_minor": 0,
  "metadata": {
    "colab": {
      "provenance": [],
      "authorship_tag": "ABX9TyPsS5c9yXSTxxE8vfESA/Aw",
      "include_colab_link": true
    },
    "kernelspec": {
      "name": "python3",
      "display_name": "Python 3"
    },
    "language_info": {
      "name": "python"
    }
  },
  "cells": [
    {
      "cell_type": "markdown",
      "metadata": {
        "id": "view-in-github",
        "colab_type": "text"
      },
      "source": [
        "<a href=\"https://colab.research.google.com/github/NINGTANG1124/UPF-HFI/blob/main/notebooks/NOVA_classification.ipynb\" target=\"_parent\"><img src=\"https://colab.research.google.com/assets/colab-badge.svg\" alt=\"Open In Colab\"/></a>"
      ]
    },
    {
      "cell_type": "code",
      "execution_count": null,
      "metadata": {
        "colab": {
          "base_uri": "https://localhost:8080/"
        },
        "id": "arXPCyFPh7Xb",
        "outputId": "a5f4cc3e-bba5-434b-ed93-a5bf6c1bc9a9"
      },
      "outputs": [
        {
          "output_type": "stream",
          "name": "stdout",
          "text": [
            "Drive already mounted at /content/drive; to attempt to forcibly remount, call drive.mount(\"/content/drive\", force_remount=True).\n"
          ]
        }
      ],
      "source": [
        "# connect googledrive\n",
        "from google.colab import drive\n",
        "drive.mount('/content/drive')"
      ]
    },
    {
      "cell_type": "code",
      "source": [
        "# Read intake data (including Descriptionen and FoodGroupen)\n",
        "import pandas as pd\n",
        "import re\n",
        "\n",
        "file_path = \"/content/drive/MyDrive/UPF-HFI/Bradford_original data/1. Dietmasterfile_foodlevel_clean.xls\"\n",
        "intake_df = pd.read_excel(file_path)\n",
        "\n",
        "# Define text cleaning function\n",
        "def clean_text(col):\n",
        "    return col.astype(str).str.lower().str.strip().str.replace(r\"\\s+\", \" \", regex=True)\n",
        "\n",
        "# Apply to key fields\n",
        "intake_df[\"Foodgroupen_clean\"] = clean_text(intake_df[\"Foodgroupen\"])\n",
        "intake_df[\"Descriptionen_clean\"] = clean_text(intake_df[\"Descriptionen\"])\n",
        "\n",
        "# Add a cleaning column for Subgroupcode\n",
        "intake_df[\"Subgroupcode_clean\"] = clean_text(intake_df[\"Subgroupcode\"])\n"
      ],
      "metadata": {
        "id": "c9iXPj7LiLXP"
      },
      "execution_count": null,
      "outputs": []
    },
    {
      "cell_type": "markdown",
      "source": [
        "# Match foodgroups that already have NOVA1-6"
      ],
      "metadata": {
        "id": "ays-U6_riVd0"
      }
    },
    {
      "cell_type": "code",
      "source": [
        "# att3\n",
        "att3_path = \"/content/drive/MyDrive/UPF-HFI/nova matching files/att3-excel.xlsx\"\n",
        "\n",
        "# read\n",
        "att3 = pd.read_excel(att3_path)\n",
        "\n",
        "# Cleaning group code\n",
        "att3['code_clean'] = att3['Subsidiary food group code'].astype(str).str.upper().str.strip()\n",
        "\n",
        "# Create a dictionary (including *)\n",
        "group_to_nova = dict(zip(att3['code_clean'], att3['NOVA food group']))\n",
        "\n",
        "# Clean the Subgroupcode column of the intake data\n",
        "intake_df['Subgroupcode_clean'] = intake_df['Subgroupcode'].astype(str).str.upper().str.strip()\n"
      ],
      "metadata": {
        "id": "CYJEGYzfiOnW"
      },
      "execution_count": null,
      "outputs": []
    },
    {
      "cell_type": "code",
      "source": [
        "# Map group code to NOVA_step1\n",
        "intake_df['NOVA_step1'] = intake_df['Subgroupcode_clean'].map(group_to_nova)\n",
        "\n",
        "# Add matching description column\n",
        "intake_df['match_reason_step1'] = intake_df['NOVA_step1'].apply(\n",
        "    lambda x: 'group code match' if str(x).isdigit() else None\n",
        ")\n",
        "\n",
        "# Matching Preview\n",
        "intake_df['NOVA_step1'].value_counts(dropna=False)\n"
      ],
      "metadata": {
        "colab": {
          "base_uri": "https://localhost:8080/",
          "height": 335
        },
        "id": "uMJXQhfoiQtL",
        "outputId": "b5d68c4a-b06f-4a6b-cde0-2e6737e8e2a8"
      },
      "execution_count": null,
      "outputs": [
        {
          "output_type": "execute_result",
          "data": {
            "text/plain": [
              "NOVA_step1\n",
              "4      8626\n",
              "*      7643\n",
              "1      4360\n",
              "3       483\n",
              "**      414\n",
              "NaN     356\n",
              "2       335\n",
              "Name: count, dtype: int64"
            ],
            "text/html": [
              "<div>\n",
              "<style scoped>\n",
              "    .dataframe tbody tr th:only-of-type {\n",
              "        vertical-align: middle;\n",
              "    }\n",
              "\n",
              "    .dataframe tbody tr th {\n",
              "        vertical-align: top;\n",
              "    }\n",
              "\n",
              "    .dataframe thead th {\n",
              "        text-align: right;\n",
              "    }\n",
              "</style>\n",
              "<table border=\"1\" class=\"dataframe\">\n",
              "  <thead>\n",
              "    <tr style=\"text-align: right;\">\n",
              "      <th></th>\n",
              "      <th>count</th>\n",
              "    </tr>\n",
              "    <tr>\n",
              "      <th>NOVA_step1</th>\n",
              "      <th></th>\n",
              "    </tr>\n",
              "  </thead>\n",
              "  <tbody>\n",
              "    <tr>\n",
              "      <th>4</th>\n",
              "      <td>8626</td>\n",
              "    </tr>\n",
              "    <tr>\n",
              "      <th>*</th>\n",
              "      <td>7643</td>\n",
              "    </tr>\n",
              "    <tr>\n",
              "      <th>1</th>\n",
              "      <td>4360</td>\n",
              "    </tr>\n",
              "    <tr>\n",
              "      <th>3</th>\n",
              "      <td>483</td>\n",
              "    </tr>\n",
              "    <tr>\n",
              "      <th>**</th>\n",
              "      <td>414</td>\n",
              "    </tr>\n",
              "    <tr>\n",
              "      <th>NaN</th>\n",
              "      <td>356</td>\n",
              "    </tr>\n",
              "    <tr>\n",
              "      <th>2</th>\n",
              "      <td>335</td>\n",
              "    </tr>\n",
              "  </tbody>\n",
              "</table>\n",
              "</div><br><label><b>dtype:</b> int64</label>"
            ]
          },
          "metadata": {},
          "execution_count": 4
        }
      ]
    },
    {
      "cell_type": "code",
      "source": [
        "# Keep key columns to export check files\n",
        "cols_to_export = [\n",
        "    'Descriptionen', 'Foodgroupen',\n",
        "    'Subgroupcode', 'Subgroupcode_clean',\n",
        "    'NOVA_step1', 'match_reason_step1'\n",
        "]\n",
        "\n",
        "check_df = intake_df[cols_to_export].copy()\n",
        "check_df.to_excel(\"/content/drive/MyDrive/UPF-HFI/NOVA classification/outcome/step1.xlsx\", index=False)\n"
      ],
      "metadata": {
        "id": "cyB8AkFyiTqg"
      },
      "execution_count": null,
      "outputs": []
    },
    {
      "cell_type": "markdown",
      "source": [
        "Step 2: Manual Processing\n",
        "Processing Logic: Manual processing according to Dicken rule documentation - Lisa verification - Approval"
      ],
      "metadata": {
        "id": "9NncLjVbAPc1"
      }
    },
    {
      "cell_type": "code",
      "source": [
        "# Read the table from step 2\n",
        "step2_path = \"/content/drive/MyDrive/UPF-HFI/NOVA classification/outcome/step2.xlsx\"\n",
        "step2_df = pd.read_excel(step2_path)\n"
      ],
      "metadata": {
        "id": "n_JDrHFCAeIo"
      },
      "execution_count": null,
      "outputs": []
    },
    {
      "cell_type": "code",
      "source": [
        "# Create a dictionary to extract the Descriptionen -> NOVA_step2 mapping from step2_df\n",
        "desc_to_nova2 = step2_df.set_index(\"Descriptionen\")[\"NOVA_step2\"].to_dict()\n",
        "desc_to_reason2 = step2_df.set_index(\"Descriptionen\")[\"match_reason_step2\"].to_dict()\n",
        "\n",
        "# Map directly into intake_df\n",
        "intake_df[\"NOVA_step2\"] = intake_df[\"Descriptionen\"].map(desc_to_nova2)\n",
        "intake_df[\"match_reason_step2\"] = intake_df[\"Descriptionen\"].map(desc_to_reason2)\n"
      ],
      "metadata": {
        "id": "cx5RHTk5AzTu"
      },
      "execution_count": null,
      "outputs": []
    },
    {
      "cell_type": "code",
      "source": [
        "# Make an intake24 dataset including NOVA\n",
        "intake_df['NOVA'] = intake_df['NOVA_step2'].combine_first(intake_df['NOVA_step1'])\n"
      ],
      "metadata": {
        "id": "QUBkOR7yEoFQ"
      },
      "execution_count": null,
      "outputs": []
    },
    {
      "cell_type": "markdown",
      "source": [
        "# Check"
      ],
      "metadata": {
        "id": "Dssi5UlJLBhA"
      }
    },
    {
      "cell_type": "code",
      "source": [
        "intake_df['NOVA'].value_counts(dropna=False)\n"
      ],
      "metadata": {
        "colab": {
          "base_uri": "https://localhost:8080/",
          "height": 272
        },
        "id": "W0nxK7TKLC3s",
        "outputId": "6939ea5e-f440-4358-e451-e1f12af8b67f"
      },
      "execution_count": null,
      "outputs": [
        {
          "output_type": "execute_result",
          "data": {
            "text/plain": [
              "NOVA\n",
              "4     10660\n",
              "1      9186\n",
              "3       997\n",
              "2       960\n",
              "NC      414\n",
              "Name: count, dtype: int64"
            ],
            "text/html": [
              "<div>\n",
              "<style scoped>\n",
              "    .dataframe tbody tr th:only-of-type {\n",
              "        vertical-align: middle;\n",
              "    }\n",
              "\n",
              "    .dataframe tbody tr th {\n",
              "        vertical-align: top;\n",
              "    }\n",
              "\n",
              "    .dataframe thead th {\n",
              "        text-align: right;\n",
              "    }\n",
              "</style>\n",
              "<table border=\"1\" class=\"dataframe\">\n",
              "  <thead>\n",
              "    <tr style=\"text-align: right;\">\n",
              "      <th></th>\n",
              "      <th>count</th>\n",
              "    </tr>\n",
              "    <tr>\n",
              "      <th>NOVA</th>\n",
              "      <th></th>\n",
              "    </tr>\n",
              "  </thead>\n",
              "  <tbody>\n",
              "    <tr>\n",
              "      <th>4</th>\n",
              "      <td>10660</td>\n",
              "    </tr>\n",
              "    <tr>\n",
              "      <th>1</th>\n",
              "      <td>9186</td>\n",
              "    </tr>\n",
              "    <tr>\n",
              "      <th>3</th>\n",
              "      <td>997</td>\n",
              "    </tr>\n",
              "    <tr>\n",
              "      <th>2</th>\n",
              "      <td>960</td>\n",
              "    </tr>\n",
              "    <tr>\n",
              "      <th>NC</th>\n",
              "      <td>414</td>\n",
              "    </tr>\n",
              "  </tbody>\n",
              "</table>\n",
              "</div><br><label><b>dtype:</b> int64</label>"
            ]
          },
          "metadata": {},
          "execution_count": 9
        }
      ]
    },
    {
      "cell_type": "code",
      "source": [
        "# Export the entire intake table\n",
        "intake_df.to_excel(\n",
        "    \"/content/drive/MyDrive/UPF-HFI/NOVA classification/outcome/intake24_with_nova.xlsx\",\n",
        "    index=False\n",
        ")\n"
      ],
      "metadata": {
        "id": "JtH-x9h5MoYr"
      },
      "execution_count": null,
      "outputs": []
    }
  ]
}